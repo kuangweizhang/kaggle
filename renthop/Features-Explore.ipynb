{
 "cells": [
  {
   "cell_type": "code",
   "execution_count": 1,
   "metadata": {
    "collapsed": false
   },
   "outputs": [
    {
     "name": "stderr",
     "output_type": "stream",
     "text": [
      "/home/kevin/anaconda3/lib/python3.5/site-packages/sklearn/cross_validation.py:44: DeprecationWarning: This module was deprecated in version 0.18 in favor of the model_selection module into which all the refactored classes and functions are moved. Also note that the interface of the new CV iterators are different from that of this module. This module will be removed in 0.20.\n",
      "  \"This module will be removed in 0.20.\", DeprecationWarning)\n"
     ]
    }
   ],
   "source": [
    "import xgboost as xgb\n",
    "import matplotlib\n",
    "import matplotlib.pyplot as plt\n",
    "import numpy as np\n",
    "import pandas as pd"
   ]
  },
  {
   "cell_type": "code",
   "execution_count": 2,
   "metadata": {
    "collapsed": true
   },
   "outputs": [],
   "source": [
    "train = pd.read_json('./input/train.json')\n",
    "test = pd.read_json(\"./input/test.json\")"
   ]
  },
  {
   "cell_type": "code",
   "execution_count": 3,
   "metadata": {
    "collapsed": false
   },
   "outputs": [],
   "source": [
    "combined = pd.concat([train, test])"
   ]
  },
  {
   "cell_type": "code",
   "execution_count": 4,
   "metadata": {
    "collapsed": false
   },
   "outputs": [
    {
     "data": {
      "text/plain": [
       "array([[],\n",
       "       ['Doorman', 'Elevator', 'Fitness Center', 'Cats Allowed', 'Dogs Allowed'],\n",
       "       ['Laundry In Building', 'Dishwasher', 'Hardwood Floors', 'Pets Allowed Case by Case'],\n",
       "       ...,\n",
       "       ['Doorman', 'Elevator', 'Pre-War', 'Laundry in Building', 'Laundry in Unit', 'Hardwood Floors'],\n",
       "       ['Cats Allowed', 'Dogs Allowed', 'Reduced Fee'],\n",
       "       ['Elevator', 'Dogs Allowed', 'Cats Allowed']], dtype=object)"
      ]
     },
     "execution_count": 4,
     "metadata": {},
     "output_type": "execute_result"
    }
   ],
   "source": [
    "combined.features.values"
   ]
  },
  {
   "cell_type": "code",
   "execution_count": 5,
   "metadata": {
    "collapsed": false,
    "scrolled": true
   },
   "outputs": [
    {
     "data": {
      "text/plain": [
       "10         0\n",
       "10000      5\n",
       "100004     4\n",
       "100007     2\n",
       "100013     1\n",
       "100014     0\n",
       "100016     8\n",
       "100020     8\n",
       "100026     4\n",
       "100027     2\n",
       "100030     0\n",
       "10004      7\n",
       "100044     4\n",
       "100048     6\n",
       "10005      5\n",
       "100051     5\n",
       "100052     1\n",
       "100053     5\n",
       "100055     3\n",
       "100058     2\n",
       "100062     4\n",
       "100063     9\n",
       "100065     2\n",
       "100066    10\n",
       "10007     12\n",
       "100071    12\n",
       "100075     3\n",
       "100076     8\n",
       "100079     0\n",
       "100081     8\n",
       "          ..\n",
       "99957     15\n",
       "99958      7\n",
       "99959      0\n",
       "9996       4\n",
       "99962     10\n",
       "99963     10\n",
       "99967     10\n",
       "99968      4\n",
       "99969      2\n",
       "9997       3\n",
       "99970      9\n",
       "99971      3\n",
       "99972      7\n",
       "99973      4\n",
       "99974      4\n",
       "99975      5\n",
       "99976      2\n",
       "99977      6\n",
       "99978      1\n",
       "9998       9\n",
       "99981      3\n",
       "99983      6\n",
       "99985     10\n",
       "99989      1\n",
       "99990      2\n",
       "99995      3\n",
       "99996      0\n",
       "99997      6\n",
       "99998      3\n",
       "99999      3\n",
       "Name: features, dtype: int64"
      ]
     },
     "execution_count": 5,
     "metadata": {},
     "output_type": "execute_result"
    }
   ],
   "source": [
    "combined.features.apply(lambda x: len(x))"
   ]
  },
  {
   "cell_type": "code",
   "execution_count": 13,
   "metadata": {
    "collapsed": false
   },
   "outputs": [
    {
     "data": {
      "text/plain": [
       "array([[],\n",
       "       ['Doorman', 'Elevator', 'Fitness Center', 'Cats Allowed', 'Dogs Allowed'],\n",
       "       ['Laundry In Building', 'Dishwasher', 'Hardwood Floors', 'Pets Allowed Case by Case'],\n",
       "       ...,\n",
       "       ['Doorman', 'Elevator', 'Pre-War', 'Laundry in Building', 'Laundry in Unit', 'Hardwood Floors'],\n",
       "       ['Cats Allowed', 'Dogs Allowed', 'Reduced Fee'],\n",
       "       ['Elevator', 'Dogs Allowed', 'Cats Allowed']], dtype=object)"
      ]
     },
     "execution_count": 13,
     "metadata": {},
     "output_type": "execute_result"
    }
   ],
   "source": [
    "np.ravel(combined.features.values)"
   ]
  },
  {
   "cell_type": "code",
   "execution_count": 14,
   "metadata": {
    "collapsed": true
   },
   "outputs": [],
   "source": [
    "x = np.array([[1, 2, 3], [4, 5, 6]])"
   ]
  },
  {
   "cell_type": "code",
   "execution_count": 15,
   "metadata": {
    "collapsed": false
   },
   "outputs": [
    {
     "data": {
      "text/plain": [
       "array([[1, 2, 3],\n",
       "       [4, 5, 6]])"
      ]
     },
     "execution_count": 15,
     "metadata": {},
     "output_type": "execute_result"
    }
   ],
   "source": [
    "x"
   ]
  }
 ],
 "metadata": {
  "anaconda-cloud": {},
  "kernelspec": {
   "display_name": "Python [Root]",
   "language": "python",
   "name": "Python [Root]"
  },
  "language_info": {
   "codemirror_mode": {
    "name": "ipython",
    "version": 3
   },
   "file_extension": ".py",
   "mimetype": "text/x-python",
   "name": "python",
   "nbconvert_exporter": "python",
   "pygments_lexer": "ipython3",
   "version": "3.5.2"
  }
 },
 "nbformat": 4,
 "nbformat_minor": 0
}
