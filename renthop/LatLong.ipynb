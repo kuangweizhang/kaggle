{
 "cells": [
  {
   "cell_type": "code",
   "execution_count": 2,
   "metadata": {
    "collapsed": false
   },
   "outputs": [
    {
     "name": "stderr",
     "output_type": "stream",
     "text": [
      "/home/kevin/anaconda3/lib/python3.5/site-packages/sklearn/cross_validation.py:44: DeprecationWarning: This module was deprecated in version 0.18 in favor of the model_selection module into which all the refactored classes and functions are moved. Also note that the interface of the new CV iterators are different from that of this module. This module will be removed in 0.20.\n",
      "  \"This module will be removed in 0.20.\", DeprecationWarning)\n"
     ]
    }
   ],
   "source": [
    "import xgboost as xgb\n",
    "import matplotlib\n",
    "import matplotlib.pyplot as plt\n",
    "import numpy as np\n",
    "import pandas as pd"
   ]
  },
  {
   "cell_type": "code",
   "execution_count": 3,
   "metadata": {
    "collapsed": false
   },
   "outputs": [],
   "source": [
    "train = pd.read_json('./input/train.json')\n",
    "test = pd.read_json(\"./input/test.json\")\n",
    "combined = pd.concat([train, test])"
   ]
  },
  {
   "cell_type": "code",
   "execution_count": 10,
   "metadata": {
    "collapsed": false,
    "scrolled": true
   },
   "outputs": [],
   "source": [
    "combined.loc[combined.latitude > 41, 'latitude'] = np.nan\n",
    "combined.loc[combined.latitude < 40.5, 'latitude'] = np.nan\n",
    "combined['lat_scale'] = (combined.latitude - 40.5) * 10000\n",
    "combined.lat_scale.fillna(-1, inplace=True)\n",
    "\n",
    "combined.lat_scale.describe()"
   ]
  },
  {
   "cell_type": "code",
   "execution_count": 22,
   "metadata": {
    "collapsed": false
   },
   "outputs": [],
   "source": [
    "combined.loc[combined.longitude > -73.74, 'longitude'] = np.nan\n",
    "combined.loc[combined.longitude < -74.04, 'longitude'] = np.nan\n",
    "combined['long_scale'] = (combined.longitude + 74.04) * 10000\n",
    "combined.long_scale.fillna(-1, inplace=True)\n",
    "\n",
    "combined.long_scale.describe()"
   ]
  },
  {
   "cell_type": "code",
   "execution_count": 34,
   "metadata": {
    "collapsed": false
   },
   "outputs": [],
   "source": [
    "train = combined[~pd.isnull(combined.interest_level)]\n",
    "test = combined[pd.isnull(combined.interest_level)]"
   ]
  },
  {
   "cell_type": "code",
   "execution_count": 36,
   "metadata": {
    "collapsed": true
   },
   "outputs": [],
   "source": [
    "from sklearn.model_selection import train_test_split\n",
    "X_train, X_validate, y_train, y_validate = train_test_split(\\\n",
    "    train[['bathrooms', 'bedrooms','price','lat_scale','long_scale']], \\\n",
    "    train[['interest_level']].values, \\\n",
    "    test_size=0.33, random_state=42)"
   ]
  },
  {
   "cell_type": "code",
   "execution_count": 37,
   "metadata": {
    "collapsed": true
   },
   "outputs": [],
   "source": [
    "from sklearn import preprocessing\n",
    "le = preprocessing.LabelEncoder()\n",
    "le.fit(y_train[:,0])\n",
    "y_train_encoded = le.transform(y_train[:,0])\n",
    "y_validate_encoded = le.transform(y_validate[:,0])"
   ]
  },
  {
   "cell_type": "code",
   "execution_count": 38,
   "metadata": {
    "collapsed": true
   },
   "outputs": [],
   "source": [
    "dtrain = xgb.DMatrix(X_train, label=y_train_encoded)\n",
    "dvalidate = xgb.DMatrix(X_validate, label=y_validate_encoded)\n",
    "evallist  = [(dvalidate,'eval'), (dtrain,'train')]"
   ]
  },
  {
   "cell_type": "code",
   "execution_count": 39,
   "metadata": {
    "collapsed": false,
    "scrolled": true
   },
   "outputs": [
    {
     "name": "stdout",
     "output_type": "stream",
     "text": [
      "[0]\teval-merror:0.301652\ttrain-merror:0.289853\n",
      "[1]\teval-merror:0.29895\ttrain-merror:0.286194\n",
      "[2]\teval-merror:0.298704\ttrain-merror:0.285438\n",
      "[3]\teval-merror:0.297538\ttrain-merror:0.284954\n",
      "[4]\teval-merror:0.29809\ttrain-merror:0.284893\n",
      "[5]\teval-merror:0.298152\ttrain-merror:0.284591\n",
      "[6]\teval-merror:0.296187\ttrain-merror:0.283472\n",
      "[7]\teval-merror:0.295512\ttrain-merror:0.282111\n",
      "[8]\teval-merror:0.295328\ttrain-merror:0.281688\n",
      "[9]\teval-merror:0.295082\ttrain-merror:0.280417\n",
      "[10]\teval-merror:0.294898\ttrain-merror:0.279238\n",
      "[11]\teval-merror:0.294161\ttrain-merror:0.277968\n",
      "[12]\teval-merror:0.294161\ttrain-merror:0.277272\n",
      "[13]\teval-merror:0.294038\ttrain-merror:0.276728\n",
      "[14]\teval-merror:0.292503\ttrain-merror:0.275125\n",
      "[15]\teval-merror:0.292442\ttrain-merror:0.274883\n",
      "[16]\teval-merror:0.292196\ttrain-merror:0.274792\n",
      "[17]\teval-merror:0.292319\ttrain-merror:0.273703\n",
      "[18]\teval-merror:0.292442\ttrain-merror:0.272252\n",
      "[19]\teval-merror:0.291889\ttrain-merror:0.2721\n",
      "[20]\teval-merror:0.291766\ttrain-merror:0.271405\n",
      "[21]\teval-merror:0.291828\ttrain-merror:0.270679\n",
      "[22]\teval-merror:0.291766\ttrain-merror:0.270044\n",
      "[23]\teval-merror:0.291398\ttrain-merror:0.269258\n",
      "[24]\teval-merror:0.291705\ttrain-merror:0.26838\n",
      "[25]\teval-merror:0.291644\ttrain-merror:0.267685\n",
      "[26]\teval-merror:0.291828\ttrain-merror:0.266566\n",
      "[27]\teval-merror:0.291828\ttrain-merror:0.265447\n",
      "[28]\teval-merror:0.291582\ttrain-merror:0.26454\n",
      "[29]\teval-merror:0.290477\ttrain-merror:0.263662\n",
      "[30]\teval-merror:0.290109\ttrain-merror:0.26339\n",
      "[31]\teval-merror:0.290231\ttrain-merror:0.263058\n",
      "[32]\teval-merror:0.290661\ttrain-merror:0.26206\n",
      "[33]\teval-merror:0.290784\ttrain-merror:0.261818\n",
      "[34]\teval-merror:0.290109\ttrain-merror:0.261213\n",
      "[35]\teval-merror:0.28974\ttrain-merror:0.260487\n",
      "[36]\teval-merror:0.289249\ttrain-merror:0.259943\n",
      "[37]\teval-merror:0.289188\ttrain-merror:0.259459\n",
      "[38]\teval-merror:0.289003\ttrain-merror:0.259065\n",
      "[39]\teval-merror:0.289126\ttrain-merror:0.258763\n",
      "[40]\teval-merror:0.289372\ttrain-merror:0.257856\n",
      "[41]\teval-merror:0.289065\ttrain-merror:0.25713\n",
      "[42]\teval-merror:0.289556\ttrain-merror:0.256162\n",
      "[43]\teval-merror:0.289679\ttrain-merror:0.256041\n",
      "[44]\teval-merror:0.289863\ttrain-merror:0.255043\n",
      "[45]\teval-merror:0.290723\ttrain-merror:0.254559\n",
      "[46]\teval-merror:0.290477\ttrain-merror:0.253985\n",
      "[47]\teval-merror:0.29017\ttrain-merror:0.253864\n",
      "[48]\teval-merror:0.289986\ttrain-merror:0.253561\n",
      "[49]\teval-merror:0.289802\ttrain-merror:0.25341\n",
      "[50]\teval-merror:0.289679\ttrain-merror:0.252896\n",
      "[51]\teval-merror:0.289433\ttrain-merror:0.25214\n",
      "[52]\teval-merror:0.289617\ttrain-merror:0.251626\n",
      "[53]\teval-merror:0.289556\ttrain-merror:0.250537\n",
      "[54]\teval-merror:0.28931\ttrain-merror:0.250446\n",
      "[55]\teval-merror:0.289003\ttrain-merror:0.250295\n",
      "[56]\teval-merror:0.289188\ttrain-merror:0.249599\n",
      "[57]\teval-merror:0.289003\ttrain-merror:0.249539\n",
      "[58]\teval-merror:0.289003\ttrain-merror:0.248722\n",
      "[59]\teval-merror:0.289249\ttrain-merror:0.248178\n",
      "[60]\teval-merror:0.289003\ttrain-merror:0.247845\n",
      "[61]\teval-merror:0.289249\ttrain-merror:0.247392\n",
      "[62]\teval-merror:0.288942\ttrain-merror:0.246877\n",
      "[63]\teval-merror:0.289003\ttrain-merror:0.246666\n",
      "[64]\teval-merror:0.289126\ttrain-merror:0.246\n",
      "[65]\teval-merror:0.288819\ttrain-merror:0.245395\n",
      "[66]\teval-merror:0.288819\ttrain-merror:0.245184\n",
      "[67]\teval-merror:0.288635\ttrain-merror:0.245184\n",
      "[68]\teval-merror:0.288881\ttrain-merror:0.2447\n",
      "[69]\teval-merror:0.289003\ttrain-merror:0.244065\n"
     ]
    }
   ],
   "source": [
    "param = {'bst:max_depth':6, \\\n",
    "         'bst:eta':0.3, \\\n",
    "         'silent':1,\n",
    "         'objective':'multi:softprob',\n",
    "         'num_class':3}\n",
    "\n",
    "num_round = 70\n",
    "bst = xgb.train(param, dtrain, num_round, evallist )"
   ]
  },
  {
   "cell_type": "code",
   "execution_count": 41,
   "metadata": {
    "collapsed": false
   },
   "outputs": [
    {
     "name": "stdout",
     "output_type": "stream",
     "text": [
      "0.65868458429\n"
     ]
    }
   ],
   "source": [
    "predict_validate = bst.predict(dvalidate)\n",
    "from sklearn.metrics import log_loss\n",
    "print(log_loss(y_validate, predict_validate))\n",
    "\n",
    "# No better than base line"
   ]
  },
  {
   "cell_type": "code",
   "execution_count": null,
   "metadata": {
    "collapsed": true
   },
   "outputs": [],
   "source": [
    "dtest = xgb.DMatrix(test[['bathrooms', 'bedrooms','price','latitude','longitude']])\n",
    "test_predict = bst.predict(dtest)\n",
    "test_predict"
   ]
  },
  {
   "cell_type": "code",
   "execution_count": null,
   "metadata": {
    "collapsed": true
   },
   "outputs": [],
   "source": [
    "result_frame = pd.DataFrame(test_predict)\n",
    "result_frame.columns = le.classes_\n",
    "result_frame['listing_id'] = test.listing_id.reset_index().listing_id\n",
    "result_frame"
   ]
  },
  {
   "cell_type": "code",
   "execution_count": null,
   "metadata": {
    "collapsed": true
   },
   "outputs": [],
   "source": [
    "# Not submitted\n",
    "result_frame[['listing_id','high','medium','low']].to_csv('XGB-result.csv', \\\n",
    "                                                          index = False)"
   ]
  }
 ],
 "metadata": {
  "kernelspec": {
   "display_name": "Python [Root]",
   "language": "python",
   "name": "Python [Root]"
  },
  "language_info": {
   "codemirror_mode": {
    "name": "ipython",
    "version": 3
   },
   "file_extension": ".py",
   "mimetype": "text/x-python",
   "name": "python",
   "nbconvert_exporter": "python",
   "pygments_lexer": "ipython3",
   "version": "3.5.2"
  }
 },
 "nbformat": 4,
 "nbformat_minor": 0
}
