{
 "cells": [
  {
   "cell_type": "code",
   "execution_count": 1,
   "metadata": {
    "collapsed": false
   },
   "outputs": [
    {
     "name": "stderr",
     "output_type": "stream",
     "text": [
      "/home/kevin/anaconda3/lib/python3.5/site-packages/sklearn/cross_validation.py:44: DeprecationWarning: This module was deprecated in version 0.18 in favor of the model_selection module into which all the refactored classes and functions are moved. Also note that the interface of the new CV iterators are different from that of this module. This module will be removed in 0.20.\n",
      "  \"This module will be removed in 0.20.\", DeprecationWarning)\n"
     ]
    }
   ],
   "source": [
    "import xgboost as xgb\n",
    "import matplotlib\n",
    "import matplotlib.pyplot as plt\n",
    "import numpy as np\n",
    "import pandas as pd"
   ]
  },
  {
   "cell_type": "code",
   "execution_count": 2,
   "metadata": {
    "collapsed": true
   },
   "outputs": [],
   "source": [
    "train = pd.read_json('./input/train.json')\n",
    "test = pd.read_json(\"./input/test.json\")"
   ]
  },
  {
   "cell_type": "code",
   "execution_count": 3,
   "metadata": {
    "collapsed": false
   },
   "outputs": [],
   "source": [
    "combined = pd.concat([train, test])"
   ]
  },
  {
   "cell_type": "code",
   "execution_count": 5,
   "metadata": {
    "collapsed": false
   },
   "outputs": [
    {
     "data": {
      "text/plain": [
       "array([ ['https://photos.renthop.com/2/7211212_1ed4542ec81621d70d1061aa833e669c.jpg', 'https://photos.renthop.com/2/7211212_7dfc41dced69245065df83d08eed4a00.jpg', 'https://photos.renthop.com/2/7211212_c17853c4b869af6f53af08b0f5820b4c.jpg', 'https://photos.renthop.com/2/7211212_787ad8ea0c089792e7453e2121f8ac89.jpg', 'https://photos.renthop.com/2/7211212_2e88b0d293ee333c804c2f00536eee49.jpg'],\n",
       "       ['https://photos.renthop.com/2/7150865_be3306c5d89c6bfa755c6e89c9ed64d5.jpg', 'https://photos.renthop.com/2/7150865_655f861a1d5da70050010611016ae2ad.jpg', 'https://photos.renthop.com/2/7150865_5b8cc459f3abd38bc81cbf329dab3220.jpg', 'https://photos.renthop.com/2/7150865_2f59c34ca4ea98c26d559109a467ef84.jpg', 'https://photos.renthop.com/2/7150865_2258d2eb5b5fb4bc0eb6534929cdee15.jpg', 'https://photos.renthop.com/2/7150865_af28a5075bd321e694791645423dcdde.jpg', 'https://photos.renthop.com/2/7150865_714a3d63488162ebe4a22896dd5138f7.jpg', 'https://photos.renthop.com/2/7150865_8dda0ecbe4c6015d3e8dffe16808aa0b.jpg', 'https://photos.renthop.com/2/7150865_c4aabf346e295afda87d13c16f6f5659.jpg', 'https://photos.renthop.com/2/7150865_2de68908ea943dd96c925490c7f98297.jpg', 'https://photos.renthop.com/2/7150865_fc18c2e84683b567c9568ed7597f1ba8.jpg'],\n",
       "       ['https://photos.renthop.com/2/6887163_de85c427363a2e6d736a5df96d8d5541.jpg', 'https://photos.renthop.com/2/6887163_b9cf6db6df611bc53f75be3214a43807.jpg', 'https://photos.renthop.com/2/6887163_cd3f2246cfd25691f33ed12b251d0230.jpg', 'https://photos.renthop.com/2/6887163_54c402cf0d681f6ea4796b9d177786bb.jpg', 'https://photos.renthop.com/2/6887163_7745da2a3693fe627154794ab0ebca29.jpg', 'https://photos.renthop.com/2/6887163_95c93e4af27182f8ac55c749fc74a041.jpg', 'https://photos.renthop.com/2/6887163_4b50a743b760e23b8d6f6f586a704da7.jpg', 'https://photos.renthop.com/2/6887163_6133523d6d5a0fba36bb25e3616848c8.jpg'],\n",
       "       ...,\n",
       "       ['https://photos.renthop.com/2/6882352_07fba7ea805ea97331435ef8d9c28009.jpg', 'https://photos.renthop.com/2/6882352_dd926e1e0d2160f7dbbbe08786999759.jpg'],\n",
       "       ['https://photos.renthop.com/2/6884758_f6ebb90d5fc0640a46289d371a490631.jpg', 'https://photos.renthop.com/2/6884758_976211c8ede9f8c960e3f27715e94375.jpg', 'https://photos.renthop.com/2/6884758_42c313be4697b5ecc53f4143c5125ef8.jpg'],\n",
       "       ['https://photos.renthop.com/2/6924212_3a4e171111122500ba96c2847268ea7e.jpg', 'https://photos.renthop.com/2/6924212_4e4d0a3cb50b548e49d0d8ee1c3f4d38.jpg']], dtype=object)"
      ]
     },
     "execution_count": 5,
     "metadata": {},
     "output_type": "execute_result"
    }
   ],
   "source": [
    "combined.photos.values"
   ]
  },
  {
   "cell_type": "code",
   "execution_count": 25,
   "metadata": {
    "collapsed": false,
    "scrolled": true
   },
   "outputs": [
    {
     "data": {
      "text/plain": [
       "10         5\n",
       "10000     11\n",
       "100004     8\n",
       "100007     3\n",
       "100013     3\n",
       "100014     5\n",
       "100016    10\n",
       "100020     5\n",
       "100026     5\n",
       "100027     9\n",
       "100030     1\n",
       "10004      5\n",
       "100044     4\n",
       "100048     6\n",
       "10005      6\n",
       "100051     2\n",
       "100052     5\n",
       "100053     8\n",
       "100055     0\n",
       "100058    32\n",
       "100062     6\n",
       "100063     5\n",
       "100065     0\n",
       "100066     4\n",
       "10007      6\n",
       "100071     7\n",
       "100075     6\n",
       "100076     6\n",
       "100079     1\n",
       "100081     1\n",
       "          ..\n",
       "99957      9\n",
       "99958      5\n",
       "99959      5\n",
       "9996       1\n",
       "99962      6\n",
       "99963      1\n",
       "99967      6\n",
       "99968      4\n",
       "99969      4\n",
       "9997      10\n",
       "99970      6\n",
       "99971     21\n",
       "99972      5\n",
       "99973      7\n",
       "99974      5\n",
       "99975      4\n",
       "99976      3\n",
       "99977      5\n",
       "99978      6\n",
       "9998       5\n",
       "99981      3\n",
       "99983      3\n",
       "99985      7\n",
       "99989      9\n",
       "99990      0\n",
       "99995      0\n",
       "99996      0\n",
       "99997      2\n",
       "99998      3\n",
       "99999      2\n",
       "Name: photos, dtype: int64"
      ]
     },
     "execution_count": 25,
     "metadata": {},
     "output_type": "execute_result"
    }
   ],
   "source": [
    "combined.photos.apply(lambda x: len(x))"
   ]
  },
  {
   "cell_type": "code",
   "execution_count": 26,
   "metadata": {
    "collapsed": false
   },
   "outputs": [
    {
     "data": {
      "text/plain": [
       "count    124011.000000\n",
       "mean          5.614921\n",
       "std           3.637755\n",
       "min           0.000000\n",
       "25%           4.000000\n",
       "50%           5.000000\n",
       "75%           7.000000\n",
       "max          68.000000\n",
       "Name: photos, dtype: float64"
      ]
     },
     "execution_count": 26,
     "metadata": {},
     "output_type": "execute_result"
    }
   ],
   "source": [
    "combined.photos.apply(lambda x: len(x)).describe()"
   ]
  }
 ],
 "metadata": {
  "anaconda-cloud": {},
  "kernelspec": {
   "display_name": "Python [Root]",
   "language": "python",
   "name": "Python [Root]"
  },
  "language_info": {
   "codemirror_mode": {
    "name": "ipython",
    "version": 3
   },
   "file_extension": ".py",
   "mimetype": "text/x-python",
   "name": "python",
   "nbconvert_exporter": "python",
   "pygments_lexer": "ipython3",
   "version": "3.5.2"
  }
 },
 "nbformat": 4,
 "nbformat_minor": 0
}
