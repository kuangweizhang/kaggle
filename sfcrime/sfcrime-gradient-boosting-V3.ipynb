{
 "cells": [
  {
   "cell_type": "code",
   "execution_count": 1,
   "metadata": {
    "collapsed": true
   },
   "outputs": [],
   "source": [
    "import numpy as np\n",
    "import pandas as pd\n",
    "train_set = pd.read_csv('train.csv', parse_dates=['Dates'])\n",
    "test_set = pd.read_csv('test.csv', parse_dates=['Dates'])"
   ]
  },
  {
   "cell_type": "code",
   "execution_count": 2,
   "metadata": {
    "collapsed": false
   },
   "outputs": [],
   "source": [
    "from sklearn import preprocessing\n",
    "le_category = preprocessing.LabelEncoder()\n",
    "category = le_category.fit_transform(train_set.Category)"
   ]
  },
  {
   "cell_type": "code",
   "execution_count": 3,
   "metadata": {
    "collapsed": false,
    "scrolled": true
   },
   "outputs": [
    {
     "name": "stdout",
     "output_type": "stream",
     "text": [
      "Friday       268437\n",
      "Wednesday    259610\n",
      "Saturday     253848\n",
      "Tuesday      251905\n",
      "Thursday     251579\n",
      "Monday       243810\n",
      "Sunday       233122\n",
      "Name: DayOfWeek, dtype: int64\n"
     ]
    },
    {
     "data": {
      "text/plain": [
       "3    268437\n",
       "1    259610\n",
       "4    253848\n",
       "7    251905\n",
       "2    251579\n",
       "6    243810\n",
       "5    233122\n",
       "Name: DayOfWeekValue, dtype: int64"
      ]
     },
     "execution_count": 3,
     "metadata": {},
     "output_type": "execute_result"
    }
   ],
   "source": [
    "total_set = pd.concat([train_set, test_set])\n",
    "total_set['DayOfWeekValue'] = 0\n",
    "total_set.loc[total_set.DayOfWeek == 'Wednesday', 'DayOfWeekValue'] = 1\n",
    "total_set.loc[total_set.DayOfWeek == 'Thursday', 'DayOfWeekValue'] = 2\n",
    "total_set.loc[total_set.DayOfWeek == 'Friday', 'DayOfWeekValue'] = 3\n",
    "total_set.loc[total_set.DayOfWeek == 'Saturday', 'DayOfWeekValue'] = 4\n",
    "total_set.loc[total_set.DayOfWeek == 'Sunday', 'DayOfWeekValue'] = 5\n",
    "total_set.loc[total_set.DayOfWeek == 'Monday', 'DayOfWeekValue'] = 6\n",
    "total_set.loc[total_set.DayOfWeek == 'Tuesday', 'DayOfWeekValue'] = 7\n",
    "print(total_set.DayOfWeek.value_counts())\n",
    "total_set.DayOfWeekValue.value_counts()"
   ]
  },
  {
   "cell_type": "code",
   "execution_count": 4,
   "metadata": {
    "collapsed": false
   },
   "outputs": [],
   "source": [
    "total_set['HourValue'] = total_set.Dates.dt.hour\n",
    "total_set['MonthValue'] = total_set.Dates.dt.month\n",
    "total_set['DayValue'] = total_set.Dates.dt.day\n",
    "total_set['YearValue'] = total_set.Dates.dt.year"
   ]
  },
  {
   "cell_type": "code",
   "execution_count": 5,
   "metadata": {
    "collapsed": false
   },
   "outputs": [],
   "source": [
    "le_address = preprocessing.LabelEncoder()\n",
    "total_set['AddressValue'] = le_address.fit_transform(total_set.Address)"
   ]
  },
  {
   "cell_type": "code",
   "execution_count": 6,
   "metadata": {
    "collapsed": false
   },
   "outputs": [],
   "source": [
    "district = pd.get_dummies(total_set.PdDistrict)\n",
    "total_set = pd.concat([total_set, district], axis=1)"
   ]
  },
  {
   "cell_type": "code",
   "execution_count": 7,
   "metadata": {
    "collapsed": false
   },
   "outputs": [],
   "source": [
    "from sklearn import cross_validation\n",
    "test_data = total_set[~np.isnan(total_set.Id)]\n",
    "train_data, validation_data = cross_validation.train_test_split(\n",
    "        total_set[np.isnan(total_set.Id)],\n",
    "        train_size = 0.7,\n",
    "        random_state = 3)"
   ]
  },
  {
   "cell_type": "markdown",
   "metadata": {},
   "source": [
    "# Using Gradient Boosting"
   ]
  },
  {
   "cell_type": "code",
   "execution_count": 8,
   "metadata": {
    "collapsed": false
   },
   "outputs": [],
   "source": [
    "features = [\n",
    "    'DayOfWeekValue', \n",
    "    'HourValue', \n",
    "    'MonthValue', \n",
    "    'DayValue', \n",
    "    'YearValue',\n",
    "    'AddressValue',\n",
    "    'X',\n",
    "    'Y']\n",
    "features+=district.columns.tolist()"
   ]
  },
  {
   "cell_type": "code",
   "execution_count": 9,
   "metadata": {
    "collapsed": false
   },
   "outputs": [
    {
     "data": {
      "text/plain": [
       "['gradient-boosting-max-depth-4.pkl',\n",
       " 'gradient-boosting-max-depth-4.pkl_01.npy',\n",
       " 'gradient-boosting-max-depth-4.pkl_02.npy',\n",
       " 'gradient-boosting-max-depth-4.pkl_03.npy',\n",
       " 'gradient-boosting-max-depth-4.pkl_04.npy']"
      ]
     },
     "execution_count": 9,
     "metadata": {},
     "output_type": "execute_result"
    }
   ],
   "source": [
    "from sklearn.ensemble import GradientBoostingClassifier\n",
    "from sklearn.metrics import log_loss\n",
    "from sklearn.externals import joblib\n",
    "clf = GradientBoostingClassifier(max_depth=4)\n",
    "clf.fit(train_data[features], train_data['Category'])\n",
    "predicted = np.array(clf.predict_proba(validation_data[features]))\n",
    "log_loss(validation_data['Category'], predicted)\n",
    "joblib.dump(clf, 'gradient-boosting-max-depth-4.pkl')"
   ]
  },
  {
   "cell_type": "code",
   "execution_count": 10,
   "metadata": {
    "collapsed": false
   },
   "outputs": [
    {
     "data": {
      "text/plain": [
       "['gradient-boosting-max-depth-2.pkl',\n",
       " 'gradient-boosting-max-depth-2.pkl_01.npy',\n",
       " 'gradient-boosting-max-depth-2.pkl_02.npy',\n",
       " 'gradient-boosting-max-depth-2.pkl_03.npy',\n",
       " 'gradient-boosting-max-depth-2.pkl_04.npy']"
      ]
     },
     "execution_count": 10,
     "metadata": {},
     "output_type": "execute_result"
    }
   ],
   "source": [
    "from sklearn.ensemble import GradientBoostingClassifier\n",
    "from sklearn.metrics import log_loss\n",
    "from sklearn.externals import joblib\n",
    "clf = GradientBoostingClassifier(max_depth=2)\n",
    "clf.fit(train_data[features], train_data['Category'])\n",
    "predicted = np.array(clf.predict_proba(validation_data[features]))\n",
    "log_loss(validation_data['Category'], predicted)\n",
    "joblib.dump(clf, 'gradient-boosting-max-depth-2.pkl')"
   ]
  },
  {
   "cell_type": "code",
   "execution_count": 11,
   "metadata": {
    "collapsed": false
   },
   "outputs": [
    {
     "data": {
      "text/plain": [
       "['gradient-boosting-max-depth-1.pkl',\n",
       " 'gradient-boosting-max-depth-1.pkl_01.npy',\n",
       " 'gradient-boosting-max-depth-1.pkl_02.npy',\n",
       " 'gradient-boosting-max-depth-1.pkl_03.npy',\n",
       " 'gradient-boosting-max-depth-1.pkl_04.npy']"
      ]
     },
     "execution_count": 11,
     "metadata": {},
     "output_type": "execute_result"
    }
   ],
   "source": [
    "from sklearn.ensemble import GradientBoostingClassifier\n",
    "from sklearn.metrics import log_loss\n",
    "from sklearn.externals import joblib\n",
    "clf = GradientBoostingClassifier(max_depth=1)\n",
    "clf.fit(train_data[features], train_data['Category'])\n",
    "predicted = np.array(clf.predict_proba(validation_data[features]))\n",
    "log_loss(validation_data['Category'], predicted)\n",
    "joblib.dump(clf, 'gradient-boosting-max-depth-1.pkl')"
   ]
  },
  {
   "cell_type": "code",
   "execution_count": 12,
   "metadata": {
    "collapsed": false,
    "scrolled": true
   },
   "outputs": [
    {
     "data": {
      "text/plain": [
       "['gradient-boosting-max-depth-5.pkl',\n",
       " 'gradient-boosting-max-depth-5.pkl_01.npy',\n",
       " 'gradient-boosting-max-depth-5.pkl_02.npy',\n",
       " 'gradient-boosting-max-depth-5.pkl_03.npy',\n",
       " 'gradient-boosting-max-depth-5.pkl_04.npy']"
      ]
     },
     "execution_count": 12,
     "metadata": {},
     "output_type": "execute_result"
    }
   ],
   "source": [
    "from sklearn.ensemble import GradientBoostingClassifier\n",
    "from sklearn.metrics import log_loss\n",
    "from sklearn.externals import joblib\n",
    "clf = GradientBoostingClassifier(max_depth=5)\n",
    "clf.fit(train_data[features], train_data['Category'])\n",
    "predicted = np.array(clf.predict_proba(validation_data[features]))\n",
    "log_loss(validation_data['Category'], predicted)\n",
    "joblib.dump(clf, 'gradient-boosting-max-depth-5.pkl')"
   ]
  },
  {
   "cell_type": "code",
   "execution_count": 14,
   "metadata": {
    "collapsed": false
   },
   "outputs": [
    {
     "name": "stdout",
     "output_type": "stream",
     "text": [
      "2.51761806714\n",
      "2.46019434585\n",
      "2.4261260487\n",
      "2.44142320188\n"
     ]
    }
   ],
   "source": [
    "clf = joblib.load('gradient-boosting-max-depth-1.pkl')\n",
    "predicted = np.array(clf.predict_proba(validation_data[features]))\n",
    "print(log_loss(validation_data['Category'], predicted))\n",
    "clf = joblib.load('gradient-boosting-max-depth-2.pkl')\n",
    "predicted = np.array(clf.predict_proba(validation_data[features]))\n",
    "print(log_loss(validation_data['Category'], predicted))\n",
    "clf = joblib.load('gradient-boosting-max-depth-4.pkl')\n",
    "predicted = np.array(clf.predict_proba(validation_data[features]))\n",
    "print(log_loss(validation_data['Category'], predicted))\n",
    "clf = joblib.load('gradient-boosting-max-depth-5.pkl')\n",
    "predicted = np.array(clf.predict_proba(validation_data[features]))\n",
    "print(log_loss(validation_data['Category'], predicted))"
   ]
  },
  {
   "cell_type": "code",
   "execution_count": 15,
   "metadata": {
    "collapsed": false
   },
   "outputs": [
    {
     "name": "stdout",
     "output_type": "stream",
     "text": [
      "2.47766810308\n"
     ]
    },
    {
     "data": {
      "text/plain": [
       "['gradient-boosting-max-depth-6.pkl',\n",
       " 'gradient-boosting-max-depth-6.pkl_01.npy',\n",
       " 'gradient-boosting-max-depth-6.pkl_02.npy',\n",
       " 'gradient-boosting-max-depth-6.pkl_03.npy',\n",
       " 'gradient-boosting-max-depth-6.pkl_04.npy']"
      ]
     },
     "execution_count": 15,
     "metadata": {},
     "output_type": "execute_result"
    }
   ],
   "source": [
    "from sklearn.ensemble import GradientBoostingClassifier\n",
    "from sklearn.metrics import log_loss\n",
    "from sklearn.externals import joblib\n",
    "clf = GradientBoostingClassifier(max_depth=6)\n",
    "clf.fit(train_data[features], train_data['Category'])\n",
    "predicted = np.array(clf.predict_proba(validation_data[features]))\n",
    "print(log_loss(validation_data['Category'], predicted))\n",
    "joblib.dump(clf, 'gradient-boosting-max-depth-6.pkl')"
   ]
  },
  {
   "cell_type": "code",
   "execution_count": 16,
   "metadata": {
    "collapsed": false
   },
   "outputs": [
    {
     "name": "stdout",
     "output_type": "stream",
     "text": [
      "2.48136943297\n"
     ]
    },
    {
     "data": {
      "text/plain": [
       "['gradient-boosting-max-depth-7.pkl',\n",
       " 'gradient-boosting-max-depth-7.pkl_01.npy',\n",
       " 'gradient-boosting-max-depth-7.pkl_02.npy',\n",
       " 'gradient-boosting-max-depth-7.pkl_03.npy',\n",
       " 'gradient-boosting-max-depth-7.pkl_04.npy']"
      ]
     },
     "execution_count": 16,
     "metadata": {},
     "output_type": "execute_result"
    }
   ],
   "source": [
    "from sklearn.ensemble import GradientBoostingClassifier\n",
    "from sklearn.metrics import log_loss\n",
    "from sklearn.externals import joblib\n",
    "clf = GradientBoostingClassifier(max_depth=7)\n",
    "clf.fit(train_data[features], train_data['Category'])\n",
    "predicted = np.array(clf.predict_proba(validation_data[features]))\n",
    "print(log_loss(validation_data['Category'], predicted))\n",
    "joblib.dump(clf, 'gradient-boosting-max-depth-7.pkl')"
   ]
  },
  {
   "cell_type": "code",
   "execution_count": null,
   "metadata": {
    "collapsed": false
   },
   "outputs": [
    {
     "name": "stdout",
     "output_type": "stream",
     "text": [
      "2.53703437513\n"
     ]
    },
    {
     "data": {
      "text/plain": [
       "['gradient-boosting-max-depth-8.pkl',\n",
       " 'gradient-boosting-max-depth-8.pkl_01.npy',\n",
       " 'gradient-boosting-max-depth-8.pkl_02.npy',\n",
       " 'gradient-boosting-max-depth-8.pkl_03.npy',\n",
       " 'gradient-boosting-max-depth-8.pkl_04.npy']"
      ]
     },
     "execution_count": 17,
     "metadata": {},
     "output_type": "execute_result"
    }
   ],
   "source": [
    "from sklearn.ensemble import GradientBoostingClassifier\n",
    "from sklearn.metrics import log_loss\n",
    "from sklearn.externals import joblib\n",
    "clf = GradientBoostingClassifier(max_depth=8)\n",
    "clf.fit(train_data[features], train_data['Category'])\n",
    "predicted = np.array(clf.predict_proba(validation_data[features]))\n",
    "print(log_loss(validation_data['Category'], predicted))\n",
    "joblib.dump(clf, 'gradient-boosting-max-depth-8.pkl')"
   ]
  },
  {
   "cell_type": "code",
   "execution_count": null,
   "metadata": {
    "collapsed": true
   },
   "outputs": [],
   "source": [
    "from sklearn.ensemble import GradientBoostingClassifier\n",
    "from sklearn.metrics import log_loss\n",
    "from sklearn.externals import joblib\n",
    "clf = GradientBoostingClassifier(max_depth=9)\n",
    "clf.fit(train_data[features], train_data['Category'])\n",
    "predicted = np.array(clf.predict_proba(validation_data[features]))\n",
    "print(log_loss(validation_data['Category'], predicted))\n",
    "joblib.dump(clf, 'gradient-boosting-max-depth-9.pkl')"
   ]
  }
 ],
 "metadata": {
  "kernelspec": {
   "display_name": "Python 3",
   "language": "python",
   "name": "python3"
  },
  "language_info": {
   "codemirror_mode": {
    "name": "ipython",
    "version": 3
   },
   "file_extension": ".py",
   "mimetype": "text/x-python",
   "name": "python",
   "nbconvert_exporter": "python",
   "pygments_lexer": "ipython3",
   "version": "3.5.1"
  }
 },
 "nbformat": 4,
 "nbformat_minor": 0
}
