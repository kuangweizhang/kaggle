{
 "cells": [
  {
   "cell_type": "code",
   "execution_count": 1,
   "metadata": {
    "collapsed": true
   },
   "outputs": [],
   "source": [
    "import numpy as np\n",
    "import pandas as pd\n",
    "train_set = pd.read_csv('train.csv', parse_dates=['Dates'])\n",
    "test_set = pd.read_csv('test.csv', parse_dates=['Dates'])"
   ]
  },
  {
   "cell_type": "code",
   "execution_count": 2,
   "metadata": {
    "collapsed": false
   },
   "outputs": [],
   "source": [
    "from sklearn import preprocessing\n",
    "le_category = preprocessing.LabelEncoder()\n",
    "category = le_category.fit_transform(train_set.Category)"
   ]
  },
  {
   "cell_type": "code",
   "execution_count": 3,
   "metadata": {
    "collapsed": false,
    "scrolled": false
   },
   "outputs": [
    {
     "name": "stdout",
     "output_type": "stream",
     "text": [
      "Friday       268437\n",
      "Wednesday    259610\n",
      "Saturday     253848\n",
      "Tuesday      251905\n",
      "Thursday     251579\n",
      "Monday       243810\n",
      "Sunday       233122\n",
      "Name: DayOfWeek, dtype: int64\n"
     ]
    },
    {
     "data": {
      "text/plain": [
       "3    268437\n",
       "1    259610\n",
       "4    253848\n",
       "7    251905\n",
       "2    251579\n",
       "6    243810\n",
       "5    233122\n",
       "Name: DayOfWeekValue, dtype: int64"
      ]
     },
     "execution_count": 3,
     "metadata": {},
     "output_type": "execute_result"
    }
   ],
   "source": [
    "total_set = pd.concat([train_set, test_set])\n",
    "total_set['DayOfWeekValue'] = 0\n",
    "total_set.loc[total_set.DayOfWeek == 'Wednesday', 'DayOfWeekValue'] = 1\n",
    "total_set.loc[total_set.DayOfWeek == 'Thursday', 'DayOfWeekValue'] = 2\n",
    "total_set.loc[total_set.DayOfWeek == 'Friday', 'DayOfWeekValue'] = 3\n",
    "total_set.loc[total_set.DayOfWeek == 'Saturday', 'DayOfWeekValue'] = 4\n",
    "total_set.loc[total_set.DayOfWeek == 'Sunday', 'DayOfWeekValue'] = 5\n",
    "total_set.loc[total_set.DayOfWeek == 'Monday', 'DayOfWeekValue'] = 6\n",
    "total_set.loc[total_set.DayOfWeek == 'Tuesday', 'DayOfWeekValue'] = 7\n",
    "print(total_set.DayOfWeek.value_counts())\n",
    "total_set.DayOfWeekValue.value_counts()"
   ]
  },
  {
   "cell_type": "code",
   "execution_count": 4,
   "metadata": {
    "collapsed": false
   },
   "outputs": [],
   "source": [
    "total_set['HourValue'] = total_set.Dates.dt.hour\n",
    "total_set['MonthValue'] = total_set.Dates.dt.month\n",
    "total_set['DayValue'] = total_set.Dates.dt.day\n",
    "total_set['YearValue'] = total_set.Dates.dt.year\n",
    "total_set['DayOfYearValue'] = total_set.Dates.dt.dayofyear"
   ]
  },
  {
   "cell_type": "code",
   "execution_count": 5,
   "metadata": {
    "collapsed": false
   },
   "outputs": [],
   "source": [
    "from pandas.tseries.holiday import Holiday, USMemorialDay, USLaborDay, \\\n",
    "USColumbusDay, USThanksgivingDay, USMartinLutherKingJr, USPresidentsDay, \\\n",
    "GoodFriday, EasterMonday, nearest_workday, AbstractHolidayCalendar\n",
    "total_set['Holiday'] = 0\n",
    "\n",
    "holiday = Holiday('New Years Day', month=1, day=1)\n",
    "class Calendar(AbstractHolidayCalendar):\n",
    "    rules=[holiday]\n",
    "index = Calendar().holidays(start='2003-01-01', end='2015-05-14')\n",
    "total_set.loc[total_set.Dates.dt.date.isin(index.date), 'Holiday'] = 1\n",
    "\n",
    "class Calendar(AbstractHolidayCalendar):\n",
    "    rules=[USMartinLutherKingJr]\n",
    "index = Calendar().holidays(start='2003-01-01', end='2015-05-14')\n",
    "total_set.loc[total_set.Dates.dt.date.isin(index.date), 'Holiday'] = 2\n",
    "\n",
    "class Calendar(AbstractHolidayCalendar):\n",
    "    rules=[USPresidentsDay]\n",
    "index = Calendar().holidays(start='2003-01-01', end='2015-05-14')\n",
    "total_set.loc[total_set.Dates.dt.date.isin(index.date), 'Holiday'] = 3\n",
    "\n",
    "class Calendar(AbstractHolidayCalendar):\n",
    "    rules=[USMemorialDay]\n",
    "index = Calendar().holidays(start='2003-01-01', end='2015-05-14')\n",
    "total_set.loc[total_set.Dates.dt.date.isin(index.date), 'Holiday'] = 4\n",
    "\n",
    "holiday = Holiday('July 4th', month=7, day=4)\n",
    "class Calendar(AbstractHolidayCalendar):\n",
    "    rules=[holiday]\n",
    "index = Calendar().holidays(start='2003-01-01', end='2015-05-14')\n",
    "total_set.loc[total_set.Dates.dt.date.isin(index.date), 'Holiday'] = 5\n",
    "\n",
    "class Calendar(AbstractHolidayCalendar):\n",
    "    rules=[USLaborDay]\n",
    "index = Calendar().holidays(start='2003-01-01', end='2015-05-14')\n",
    "total_set.loc[total_set.Dates.dt.date.isin(index.date), 'Holiday'] = 6\n",
    "\n",
    "class Calendar(AbstractHolidayCalendar):\n",
    "    rules=[USColumbusDay]\n",
    "index = Calendar().holidays(start='2003-01-01', end='2015-05-14')\n",
    "total_set.loc[total_set.Dates.dt.date.isin(index.date), 'Holiday'] = 7\n",
    "\n",
    "holiday = Holiday('Veterans Day', month=11, day=11)\n",
    "class Calendar(AbstractHolidayCalendar):\n",
    "    rules=[holiday]\n",
    "index = Calendar().holidays(start='2003-01-01', end='2015-05-14')\n",
    "total_set.loc[total_set.Dates.dt.date.isin(index.date), 'Holiday'] = 8\n",
    "\n",
    "class Calendar(AbstractHolidayCalendar):\n",
    "    rules=[USThanksgivingDay]\n",
    "index = Calendar().holidays(start='2003-01-01', end='2015-05-14')\n",
    "total_set.loc[total_set.Dates.dt.date.isin(index.date), 'Holiday'] = 9\n",
    "\n",
    "holiday = Holiday('Christmas', month=12, day=25)\n",
    "class Calendar(AbstractHolidayCalendar):\n",
    "    rules=[holiday]\n",
    "index = Calendar().holidays(start='2003-01-01', end='2015-05-14')\n",
    "total_set.loc[total_set.Dates.dt.date.isin(index.date), 'Holiday'] = 10"
   ]
  },
  {
   "cell_type": "code",
   "execution_count": 6,
   "metadata": {
    "collapsed": true
   },
   "outputs": [],
   "source": [
    "total_set['RainingRank'] = 0\n",
    "total_set.loc[total_set.Dates.dt.month == 7, 'Raining'] = 1\n",
    "total_set.loc[total_set.Dates.dt.month == 8, 'Raining'] = 2\n",
    "total_set.loc[total_set.Dates.dt.month == 6, 'Raining'] = 3\n",
    "total_set.loc[total_set.Dates.dt.month == 9, 'Raining'] = 4\n",
    "total_set.loc[total_set.Dates.dt.month == 5, 'Raining'] = 5\n",
    "total_set.loc[total_set.Dates.dt.month == 10, 'Raining'] = 6\n",
    "total_set.loc[total_set.Dates.dt.month == 4, 'Raining'] = 7\n",
    "total_set.loc[total_set.Dates.dt.month == 11, 'Raining'] = 8\n",
    "total_set.loc[total_set.Dates.dt.month == 3, 'Raining'] = 9\n",
    "total_set.loc[total_set.Dates.dt.month == 2, 'Raining'] = 10\n",
    "total_set.loc[total_set.Dates.dt.month == 1, 'Raining'] = 11\n",
    "total_set.loc[total_set.Dates.dt.month == 12, 'Raining'] = 12\n",
    "\n",
    "total_set['Sunshine'] = 0\n",
    "total_set.loc[total_set.Dates.dt.month == 12, 'Sunshine'] = 1\n",
    "total_set.loc[total_set.Dates.dt.month == 11, 'Sunshine'] = 2\n",
    "total_set.loc[total_set.Dates.dt.month == 1, 'Sunshine'] = 3\n",
    "total_set.loc[total_set.Dates.dt.month == 2, 'Sunshine'] = 4\n",
    "total_set.loc[total_set.Dates.dt.month == 10, 'Sunshine'] = 5\n",
    "total_set.loc[total_set.Dates.dt.month == 3, 'Sunshine'] = 6\n",
    "total_set.loc[total_set.Dates.dt.month == 9, 'Sunshine'] = 7\n",
    "total_set.loc[total_set.Dates.dt.month == 8, 'Sunshine'] = 8\n",
    "total_set.loc[total_set.Dates.dt.month == 4, 'Sunshine'] = 9\n",
    "total_set.loc[total_set.Dates.dt.month == 6, 'Sunshine'] = 10\n",
    "total_set.loc[total_set.Dates.dt.month == 7, 'Sunshine'] = 11\n",
    "total_set.loc[total_set.Dates.dt.month == 5, 'Sunshine'] = 12\n",
    "\n",
    "total_set['Temp'] = 0\n",
    "total_set.loc[total_set.Dates.dt.month == 1, 'Temp'] = 1\n",
    "total_set.loc[total_set.Dates.dt.month == 12, 'Temp'] = 2\n",
    "total_set.loc[total_set.Dates.dt.month == 2, 'Temp'] = 3\n",
    "total_set.loc[total_set.Dates.dt.month == 3, 'Temp'] = 4\n",
    "total_set.loc[total_set.Dates.dt.month == 4, 'Temp'] = 5\n",
    "total_set.loc[total_set.Dates.dt.month == 11, 'Temp'] = 6\n",
    "total_set.loc[total_set.Dates.dt.month == 5, 'Temp'] = 7\n",
    "total_set.loc[total_set.Dates.dt.month == 6, 'Temp'] = 8\n",
    "total_set.loc[total_set.Dates.dt.month == 7, 'Temp'] = 9\n",
    "total_set.loc[total_set.Dates.dt.month == 10, 'Temp'] = 10\n",
    "total_set.loc[total_set.Dates.dt.month == 8, 'Temp'] = 11\n",
    "total_set.loc[total_set.Dates.dt.month == 9, 'Temp'] = 12"
   ]
  },
  {
   "cell_type": "code",
   "execution_count": 7,
   "metadata": {
    "collapsed": false
   },
   "outputs": [],
   "source": [
    "le_address = preprocessing.LabelEncoder()\n",
    "total_set['AddressValue'] = le_address.fit_transform(total_set.Address)"
   ]
  },
  {
   "cell_type": "code",
   "execution_count": 8,
   "metadata": {
    "collapsed": false
   },
   "outputs": [],
   "source": [
    "district = pd.get_dummies(total_set.PdDistrict)\n",
    "total_set = pd.concat([total_set, district], axis=1)"
   ]
  },
  {
   "cell_type": "code",
   "execution_count": 9,
   "metadata": {
    "collapsed": false
   },
   "outputs": [],
   "source": [
    "from sklearn import cross_validation\n",
    "test_data = total_set[~np.isnan(total_set.Id)]\n",
    "train_data, validation_data = cross_validation.train_test_split(\n",
    "        total_set[np.isnan(total_set.Id)],\n",
    "        train_size = 0.7,\n",
    "        random_state = 3)"
   ]
  },
  {
   "cell_type": "markdown",
   "metadata": {},
   "source": [
    "# Using Gradient Boosting"
   ]
  },
  {
   "cell_type": "code",
   "execution_count": 10,
   "metadata": {
    "collapsed": false
   },
   "outputs": [],
   "source": [
    "features = [\n",
    "    'DayOfWeekValue', \n",
    "    'HourValue', \n",
    "    'MonthValue', \n",
    "    'DayValue', \n",
    "    'YearValue',\n",
    "    'DayOfYearValue',\n",
    "    'AddressValue',\n",
    "    'X',\n",
    "    'Y',\n",
    "    'RainingRank',\n",
    "    'Sunshine',\n",
    "    'Temp',\n",
    "    'Holiday']\n",
    "features+=district.columns.tolist()"
   ]
  },
  {
   "cell_type": "code",
   "execution_count": 11,
   "metadata": {
    "collapsed": false,
    "scrolled": true
   },
   "outputs": [
    {
     "name": "stdout",
     "output_type": "stream",
     "text": [
      "2016-04-26 09:16:11.407372\n",
      "3.55787233031\n",
      "2016-04-26 14:19:23.015644\n"
     ]
    }
   ],
   "source": [
    "from sklearn.ensemble import GradientBoostingClassifier\n",
    "from sklearn.metrics import log_loss\n",
    "from datetime import datetime\n",
    "from sklearn.externals import joblib\n",
    "print(datetime.now())\n",
    "clf = GradientBoostingClassifier(n_estimators=150)\n",
    "clf.fit(train_data[features], train_data['Category'])\n",
    "joblib.dump(clf, 'gradient-boosting-v4-n-estimators-150.pkl')\n",
    "predicted = np.array(clf.predict_proba(validation_data[features]))\n",
    "print(log_loss(validation_data['Category'], predicted))\n",
    "print(datetime.now())"
   ]
  },
  {
   "cell_type": "code",
   "execution_count": 12,
   "metadata": {
    "collapsed": false
   },
   "outputs": [
    {
     "name": "stdout",
     "output_type": "stream",
     "text": [
      "2016-04-26 14:19:23.036659\n",
      "3.67085214794\n",
      "2016-04-26 20:04:54.625735\n"
     ]
    }
   ],
   "source": [
    "from sklearn.ensemble import GradientBoostingClassifier\n",
    "from sklearn.metrics import log_loss\n",
    "from datetime import datetime\n",
    "from sklearn.externals import joblib\n",
    "print(datetime.now())\n",
    "clf = GradientBoostingClassifier(n_estimators=200)\n",
    "clf.fit(train_data[features], train_data['Category'])\n",
    "joblib.dump(clf, 'gradient-boosting-v4-n-estimators-200.pkl')\n",
    "predicted = np.array(clf.predict_proba(validation_data[features]))\n",
    "print(log_loss(validation_data['Category'], predicted))\n",
    "print(datetime.now())"
   ]
  },
  {
   "cell_type": "code",
   "execution_count": 13,
   "metadata": {
    "collapsed": false
   },
   "outputs": [
    {
     "name": "stdout",
     "output_type": "stream",
     "text": [
      "2016-04-26 20:04:54.638245\n",
      "8.03068067051\n",
      "2016-04-27 04:02:16.637021\n"
     ]
    }
   ],
   "source": [
    "from sklearn.ensemble import GradientBoostingClassifier\n",
    "from sklearn.metrics import log_loss\n",
    "from datetime import datetime\n",
    "from sklearn.externals import joblib\n",
    "print(datetime.now())\n",
    "clf = GradientBoostingClassifier(n_estimators=250)\n",
    "clf.fit(train_data[features], train_data['Category'])\n",
    "joblib.dump(clf, 'gradient-boosting-v4-n-estimators-250.pkl')\n",
    "predicted = np.array(clf.predict_proba(validation_data[features]))\n",
    "print(log_loss(validation_data['Category'], predicted))\n",
    "print(datetime.now())"
   ]
  },
  {
   "cell_type": "code",
   "execution_count": 14,
   "metadata": {
    "collapsed": false
   },
   "outputs": [
    {
     "name": "stdout",
     "output_type": "stream",
     "text": [
      "2016-04-27 04:02:16.648549\n",
      "3.6827105333\n",
      "2016-04-27 12:49:33.800527\n"
     ]
    }
   ],
   "source": [
    "from sklearn.ensemble import GradientBoostingClassifier\n",
    "from sklearn.metrics import log_loss\n",
    "from datetime import datetime\n",
    "from sklearn.externals import joblib\n",
    "print(datetime.now())\n",
    "clf = GradientBoostingClassifier(n_estimators=300)\n",
    "clf.fit(train_data[features], train_data['Category'])\n",
    "joblib.dump(clf, 'gradient-boosting-v4-n-estimators-300.pkl')\n",
    "predicted = np.array(clf.predict_proba(validation_data[features]))\n",
    "print(log_loss(validation_data['Category'], predicted))\n",
    "print(datetime.now())"
   ]
  },
  {
   "cell_type": "code",
   "execution_count": 15,
   "metadata": {
    "collapsed": true
   },
   "outputs": [],
   "source": [
    "#predicted = clf.predict_proba(test_data[features])\n",
    "#result=pd.DataFrame(predicted, columns=le_category.classes_)\n",
    "#result.to_csv('sfcrime-gradient-boosting-result-v4.csv', index = True, index_label = 'Id' )"
   ]
  }
 ],
 "metadata": {
  "kernelspec": {
   "display_name": "Python 3",
   "language": "python",
   "name": "python3"
  },
  "language_info": {
   "codemirror_mode": {
    "name": "ipython",
    "version": 3
   },
   "file_extension": ".py",
   "mimetype": "text/x-python",
   "name": "python",
   "nbconvert_exporter": "python",
   "pygments_lexer": "ipython3",
   "version": "3.5.1"
  }
 },
 "nbformat": 4,
 "nbformat_minor": 0
}
