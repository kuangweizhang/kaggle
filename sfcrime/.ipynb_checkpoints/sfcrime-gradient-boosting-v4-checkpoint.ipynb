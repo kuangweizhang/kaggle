{
 "cells": [
  {
   "cell_type": "code",
   "execution_count": 49,
   "metadata": {
    "collapsed": true
   },
   "outputs": [],
   "source": [
    "import numpy as np\n",
    "import pandas as pd\n",
    "train_set = pd.read_csv('train.csv', parse_dates=['Dates'])\n",
    "test_set = pd.read_csv('test.csv', parse_dates=['Dates'])"
   ]
  },
  {
   "cell_type": "code",
   "execution_count": 50,
   "metadata": {
    "collapsed": false
   },
   "outputs": [],
   "source": [
    "from sklearn import preprocessing\n",
    "le_category = preprocessing.LabelEncoder()\n",
    "category = le_category.fit_transform(train_set.Category)"
   ]
  },
  {
   "cell_type": "code",
   "execution_count": 51,
   "metadata": {
    "collapsed": false,
    "scrolled": false
   },
   "outputs": [
    {
     "name": "stdout",
     "output_type": "stream",
     "text": [
      "Friday       268437\n",
      "Wednesday    259610\n",
      "Saturday     253848\n",
      "Tuesday      251905\n",
      "Thursday     251579\n",
      "Monday       243810\n",
      "Sunday       233122\n",
      "Name: DayOfWeek, dtype: int64\n"
     ]
    },
    {
     "data": {
      "text/plain": [
       "3    268437\n",
       "1    259610\n",
       "4    253848\n",
       "7    251905\n",
       "2    251579\n",
       "6    243810\n",
       "5    233122\n",
       "Name: DayOfWeekValue, dtype: int64"
      ]
     },
     "execution_count": 51,
     "metadata": {},
     "output_type": "execute_result"
    }
   ],
   "source": [
    "total_set = pd.concat([train_set, test_set])\n",
    "total_set['DayOfWeekValue'] = 0\n",
    "total_set.loc[total_set.DayOfWeek == 'Wednesday', 'DayOfWeekValue'] = 1\n",
    "total_set.loc[total_set.DayOfWeek == 'Thursday', 'DayOfWeekValue'] = 2\n",
    "total_set.loc[total_set.DayOfWeek == 'Friday', 'DayOfWeekValue'] = 3\n",
    "total_set.loc[total_set.DayOfWeek == 'Saturday', 'DayOfWeekValue'] = 4\n",
    "total_set.loc[total_set.DayOfWeek == 'Sunday', 'DayOfWeekValue'] = 5\n",
    "total_set.loc[total_set.DayOfWeek == 'Monday', 'DayOfWeekValue'] = 6\n",
    "total_set.loc[total_set.DayOfWeek == 'Tuesday', 'DayOfWeekValue'] = 7\n",
    "print(total_set.DayOfWeek.value_counts())\n",
    "total_set.DayOfWeekValue.value_counts()"
   ]
  },
  {
   "cell_type": "code",
   "execution_count": 52,
   "metadata": {
    "collapsed": false
   },
   "outputs": [],
   "source": [
    "total_set['HourValue'] = total_set.Dates.dt.hour\n",
    "total_set['MonthValue'] = total_set.Dates.dt.month\n",
    "total_set['DayValue'] = total_set.Dates.dt.day\n",
    "total_set['YearValue'] = total_set.Dates.dt.year\n",
    "total_set['DayOfYearValue'] = total_set.Dates.dt.dayofyear"
   ]
  },
  {
   "cell_type": "code",
   "execution_count": 53,
   "metadata": {
    "collapsed": false
   },
   "outputs": [],
   "source": [
    "from pandas.tseries.holiday import Holiday, USMemorialDay, USLaborDay, \\\n",
    "USColumbusDay, USThanksgivingDay, USMartinLutherKingJr, USPresidentsDay, \\\n",
    "GoodFriday, EasterMonday, nearest_workday, AbstractHolidayCalendar\n",
    "total_set['Holiday'] = 0\n",
    "\n",
    "holiday = Holiday('New Years Day', month=1, day=1)\n",
    "class TheCalendar(AbstractHolidayCalendar):\n",
    "    rules=[holiday]\n",
    "index = TheCalendar().holidays(start='2003-01-01', end='2015-05-14')\n",
    "\n",
    "total_set.loc[total_set.Dates.dt.date.isin(index.date), 'Holiday'] = 1"
   ]
  },
  {
   "cell_type": "code",
   "execution_count": 57,
   "metadata": {
    "collapsed": false,
    "scrolled": true
   },
   "outputs": [
    {
     "data": {
      "text/html": [
       "<div>\n",
       "<table border=\"1\" class=\"dataframe\">\n",
       "  <thead>\n",
       "    <tr style=\"text-align: right;\">\n",
       "      <th></th>\n",
       "      <th>Address</th>\n",
       "      <th>Category</th>\n",
       "      <th>Dates</th>\n",
       "      <th>DayOfWeek</th>\n",
       "      <th>Descript</th>\n",
       "      <th>Id</th>\n",
       "      <th>PdDistrict</th>\n",
       "      <th>Resolution</th>\n",
       "      <th>X</th>\n",
       "      <th>Y</th>\n",
       "      <th>DayOfWeekValue</th>\n",
       "      <th>HourValue</th>\n",
       "      <th>MonthValue</th>\n",
       "      <th>DayValue</th>\n",
       "      <th>YearValue</th>\n",
       "      <th>DayOfYearValue</th>\n",
       "      <th>Holiday</th>\n",
       "    </tr>\n",
       "  </thead>\n",
       "  <tbody>\n",
       "  </tbody>\n",
       "</table>\n",
       "</div>"
      ],
      "text/plain": [
       "Empty DataFrame\n",
       "Columns: [Address, Category, Dates, DayOfWeek, Descript, Id, PdDistrict, Resolution, X, Y, DayOfWeekValue, HourValue, MonthValue, DayValue, YearValue, DayOfYearValue, Holiday]\n",
       "Index: []"
      ]
     },
     "execution_count": 57,
     "metadata": {},
     "output_type": "execute_result"
    }
   ],
   "source": []
  },
  {
   "cell_type": "code",
   "execution_count": 16,
   "metadata": {
    "collapsed": true
   },
   "outputs": [],
   "source": [
    "\n",
    "\n",
    "total_set['Holiday'] = 0\n",
    "total_set.loc[isNY(total_set.Dates.dt) , 'Holiday'] = 1\n",
    "total_set.loc[isMLK(total_set.Dates.dt) , 'Holiday'] = 1\n",
    "total_set.loc[isP(total_set.Dates.dt) , 'Holiday'] = 1\n",
    "total_set.loc[isMemo(total_set.Dates.dt) , 'Holiday'] = 1\n",
    "total_set.loc[isJ4(total_set.Dates.dt) , 'Holiday'] = 1\n",
    "total_set.loc[isLB(total_set.Dates.dt) , 'Holiday'] = 1\n",
    "total_set.loc[isCL(total_set.Dates.dt) , 'Holiday'] = 1\n",
    "total_set.loc[isVT(total_set.Dates.dt) , 'Holiday'] = 1\n",
    "total_set.loc[isTG(total_set.Dates.dt) , 'Holiday'] = 1\n",
    "total_set.loc[isChr(total_set.Dates.dt) , 'Holiday'] = 1\n",
    "\n",
    "\n",
    "\n",
    "date_rage = pd.date_rage(start='', end='')\n",
    "\n",
    "def isNY(date)\n",
    "{\n",
    "    calendar = Holiday('New Years Day', month=1, day=1, observance=nearest_workday)\n",
    "    holidays = calendar.holidays(start='2003-01-06', end='2015-05-13')\n",
    "    return holidays.\n",
    "}"
   ]
  },
  {
   "cell_type": "code",
   "execution_count": 17,
   "metadata": {
    "collapsed": true
   },
   "outputs": [],
   "source": [
    "total_set['RainingRank'] = 0\n",
    "total_set.loc[total_set.Dates.dt.month == 7, 'Raining'] = 1\n",
    "total_set.loc[total_set.Dates.dt.month == 8, 'Raining'] = 2\n",
    "total_set.loc[total_set.Dates.dt.month == 6, 'Raining'] = 3\n",
    "total_set.loc[total_set.Dates.dt.month == 9, 'Raining'] = 4\n",
    "total_set.loc[total_set.Dates.dt.month == 5, 'Raining'] = 5\n",
    "total_set.loc[total_set.Dates.dt.month == 10, 'Raining'] = 6\n",
    "total_set.loc[total_set.Dates.dt.month == 4, 'Raining'] = 7\n",
    "total_set.loc[total_set.Dates.dt.month == 11, 'Raining'] = 8\n",
    "total_set.loc[total_set.Dates.dt.month == 3, 'Raining'] = 9\n",
    "total_set.loc[total_set.Dates.dt.month == 2, 'Raining'] = 10\n",
    "total_set.loc[total_set.Dates.dt.month == 1, 'Raining'] = 11\n",
    "total_set.loc[total_set.Dates.dt.month == 12, 'Raining'] = 12\n",
    "\n",
    "total_set['Sunshine'] = 0\n",
    "total_set.loc[total_set.Dates.dt.month == 12, 'Sunshine'] = 1\n",
    "total_set.loc[total_set.Dates.dt.month == 11, 'Sunshine'] = 2\n",
    "total_set.loc[total_set.Dates.dt.month == 1, 'Sunshine'] = 3\n",
    "total_set.loc[total_set.Dates.dt.month == 2, 'Sunshine'] = 4\n",
    "total_set.loc[total_set.Dates.dt.month == 10, 'Sunshine'] = 5\n",
    "total_set.loc[total_set.Dates.dt.month == 3, 'Sunshine'] = 6\n",
    "total_set.loc[total_set.Dates.dt.month == 9, 'Sunshine'] = 7\n",
    "total_set.loc[total_set.Dates.dt.month == 8, 'Sunshine'] = 8\n",
    "total_set.loc[total_set.Dates.dt.month == 4, 'Sunshine'] = 9\n",
    "total_set.loc[total_set.Dates.dt.month == 6, 'Sunshine'] = 10\n",
    "total_set.loc[total_set.Dates.dt.month == 7, 'Sunshine'] = 11\n",
    "total_set.loc[total_set.Dates.dt.month == 5, 'Sunshine'] = 12\n",
    "\n",
    "total_set['Temp'] = 0\n",
    "total_set.loc[total_set.Dates.dt.month == 1, 'Temp'] = 1\n",
    "total_set.loc[total_set.Dates.dt.month == 12, 'Temp'] = 2\n",
    "total_set.loc[total_set.Dates.dt.month == 2, 'Temp'] = 3\n",
    "total_set.loc[total_set.Dates.dt.month == 3, 'Temp'] = 4\n",
    "total_set.loc[total_set.Dates.dt.month == 4, 'Temp'] = 5\n",
    "total_set.loc[total_set.Dates.dt.month == 11, 'Temp'] = 6\n",
    "total_set.loc[total_set.Dates.dt.month == 5, 'Temp'] = 7\n",
    "total_set.loc[total_set.Dates.dt.month == 6, 'Temp'] = 8\n",
    "total_set.loc[total_set.Dates.dt.month == 7, 'Temp'] = 9\n",
    "total_set.loc[total_set.Dates.dt.month == 10, 'Temp'] = 10\n",
    "total_set.loc[total_set.Dates.dt.month == 8, 'Temp'] = 11\n",
    "total_set.loc[total_set.Dates.dt.month == 9, 'Temp'] = 12"
   ]
  },
  {
   "cell_type": "code",
   "execution_count": 18,
   "metadata": {
    "collapsed": false
   },
   "outputs": [],
   "source": [
    "le_address = preprocessing.LabelEncoder()\n",
    "total_set['AddressValue'] = le_address.fit_transform(total_set.Address)"
   ]
  },
  {
   "cell_type": "code",
   "execution_count": 19,
   "metadata": {
    "collapsed": false
   },
   "outputs": [],
   "source": [
    "district = pd.get_dummies(total_set.PdDistrict)\n",
    "total_set = pd.concat([total_set, district], axis=1)"
   ]
  },
  {
   "cell_type": "code",
   "execution_count": 20,
   "metadata": {
    "collapsed": false
   },
   "outputs": [],
   "source": [
    "from sklearn import cross_validation\n",
    "test_data = total_set[~np.isnan(total_set.Id)]\n",
    "train_data, validation_data = cross_validation.train_test_split(\n",
    "        total_set[np.isnan(total_set.Id)],\n",
    "        train_size = 0.7,\n",
    "        random_state = 3)"
   ]
  },
  {
   "cell_type": "markdown",
   "metadata": {},
   "source": [
    "# Using Gradient Boosting"
   ]
  },
  {
   "cell_type": "code",
   "execution_count": 21,
   "metadata": {
    "collapsed": false
   },
   "outputs": [],
   "source": [
    "features = [\n",
    "    'DayOfWeekValue', \n",
    "    'HourValue', \n",
    "    'MonthValue', \n",
    "    'DayValue', \n",
    "    'YearValue',\n",
    "    'DayOfYearValue',\n",
    "    'AddressValue',\n",
    "    'X',\n",
    "    'Y',\n",
    "    'RainingRank',\n",
    "    'Sunshine',\n",
    "    'Temp']\n",
    "features+=district.columns.tolist()"
   ]
  },
  {
   "cell_type": "code",
   "execution_count": 22,
   "metadata": {
    "collapsed": false,
    "scrolled": true
   },
   "outputs": [
    {
     "name": "stdout",
     "output_type": "stream",
     "text": [
      "2016-04-14 22:42:05.239231\n",
      "2.81029064319\n",
      "2016-04-15 02:35:31.207326\n"
     ]
    }
   ],
   "source": [
    "from sklearn.ensemble import GradientBoostingClassifier\n",
    "from sklearn.metrics import log_loss\n",
    "from datetime import datetime\n",
    "print(datetime.now())\n",
    "clf = GradientBoostingClassifier()\n",
    "clf.fit(train_data[features], train_data['Category'])\n",
    "predicted = np.array(clf.predict_proba(validation_data[features]))\n",
    "print(log_loss(validation_data['Category'], predicted))\n",
    "print(datetime.now())"
   ]
  },
  {
   "cell_type": "code",
   "execution_count": 23,
   "metadata": {
    "collapsed": true
   },
   "outputs": [],
   "source": [
    "#predicted = clf.predict_proba(test_data[features])\n",
    "#result=pd.DataFrame(predicted, columns=le_category.classes_)\n",
    "#result.to_csv('sfcrime-gradient-boosting-result-v4.csv', index = True, index_label = 'Id' )"
   ]
  }
 ],
 "metadata": {
  "kernelspec": {
   "display_name": "Python 3",
   "language": "python",
   "name": "python3"
  },
  "language_info": {
   "codemirror_mode": {
    "name": "ipython",
    "version": 3
   },
   "file_extension": ".py",
   "mimetype": "text/x-python",
   "name": "python",
   "nbconvert_exporter": "python",
   "pygments_lexer": "ipython3",
   "version": "3.5.1"
  }
 },
 "nbformat": 4,
 "nbformat_minor": 0
}
