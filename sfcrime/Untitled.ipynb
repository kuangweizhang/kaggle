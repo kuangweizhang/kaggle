{
 "cells": [
  {
   "cell_type": "code",
   "execution_count": 3,
   "metadata": {
    "collapsed": true
   },
   "outputs": [],
   "source": [
    "import numpy as np\n",
    "import pandas as pd\n",
    "train_set = pd.read_csv('train.csv', parse_dates=['Dates'])\n",
    "test_set = pd.read_csv('test.csv', parse_dates=['Dates'])"
   ]
  },
  {
   "cell_type": "code",
   "execution_count": 4,
   "metadata": {
    "collapsed": true
   },
   "outputs": [],
   "source": [
    "from sklearn import preprocessing\n",
    "le_category = preprocessing.LabelEncoder()\n",
    "category = le_category.fit_transform(train_set.Category)"
   ]
  },
  {
   "cell_type": "code",
   "execution_count": 5,
   "metadata": {
    "collapsed": true
   },
   "outputs": [],
   "source": [
    "total_set = pd.concat([train_set, test_set])\n",
    "total_set['DayOfWeekValue'] = 0\n",
    "total_set.loc[total_set.DayOfWeek == 'Wednesday', 'DayOfWeekValue'] = 1\n",
    "total_set.loc[total_set.DayOfWeek == 'Thursday', 'DayOfWeekValue'] = 2\n",
    "total_set.loc[total_set.DayOfWeek == 'Friday', 'DayOfWeekValue'] = 3\n",
    "total_set.loc[total_set.DayOfWeek == 'Saturday', 'DayOfWeekValue'] = 4\n",
    "total_set.loc[total_set.DayOfWeek == 'Sunday', 'DayOfWeekValue'] = 5\n",
    "total_set.loc[total_set.DayOfWeek == 'Monday', 'DayOfWeekValue'] = 6\n",
    "total_set.loc[total_set.DayOfWeek == 'Tuesday', 'DayOfWeekValue'] = 7"
   ]
  },
  {
   "cell_type": "code",
   "execution_count": 6,
   "metadata": {
    "collapsed": true
   },
   "outputs": [],
   "source": [
    "total_set['HourValue'] = total_set.Dates.dt.hour\n",
    "total_set['MonthValue'] = total_set.Dates.dt.month\n",
    "total_set['DayValue'] = total_set.Dates.dt.day\n",
    "total_set['YearValue'] = total_set.Dates.dt.year\n",
    "total_set['DayOfYearValue'] = total_set.Dates.dt.dayofyear"
   ]
  },
  {
   "cell_type": "code",
   "execution_count": 7,
   "metadata": {
    "collapsed": true
   },
   "outputs": [],
   "source": [
    "from pandas.tseries.holiday import Holiday, USMemorialDay, USLaborDay, \\\n",
    "USColumbusDay, USThanksgivingDay, USMartinLutherKingJr, USPresidentsDay, \\\n",
    "GoodFriday, EasterMonday, nearest_workday, AbstractHolidayCalendar\n",
    "total_set['Holiday'] = 0\n",
    "\n",
    "holiday = Holiday('New Years Day', month=1, day=1)\n",
    "class Calendar(AbstractHolidayCalendar):\n",
    "    rules=[holiday]\n",
    "index = Calendar().holidays(start='2003-01-01', end='2015-05-14')\n",
    "total_set.loc[total_set.Dates.dt.date.isin(index.date), 'Holiday'] = 1\n",
    "\n",
    "class Calendar(AbstractHolidayCalendar):\n",
    "    rules=[USMartinLutherKingJr]\n",
    "index = Calendar().holidays(start='2003-01-01', end='2015-05-14')\n",
    "total_set.loc[total_set.Dates.dt.date.isin(index.date), 'Holiday'] = 2\n",
    "\n",
    "class Calendar(AbstractHolidayCalendar):\n",
    "    rules=[USPresidentsDay]\n",
    "index = Calendar().holidays(start='2003-01-01', end='2015-05-14')\n",
    "total_set.loc[total_set.Dates.dt.date.isin(index.date), 'Holiday'] = 3\n",
    "\n",
    "class Calendar(AbstractHolidayCalendar):\n",
    "    rules=[USMemorialDay]\n",
    "index = Calendar().holidays(start='2003-01-01', end='2015-05-14')\n",
    "total_set.loc[total_set.Dates.dt.date.isin(index.date), 'Holiday'] = 4\n",
    "\n",
    "holiday = Holiday('July 4th', month=7, day=4)\n",
    "class Calendar(AbstractHolidayCalendar):\n",
    "    rules=[holiday]\n",
    "index = Calendar().holidays(start='2003-01-01', end='2015-05-14')\n",
    "total_set.loc[total_set.Dates.dt.date.isin(index.date), 'Holiday'] = 5\n",
    "\n",
    "class Calendar(AbstractHolidayCalendar):\n",
    "    rules=[USLaborDay]\n",
    "index = Calendar().holidays(start='2003-01-01', end='2015-05-14')\n",
    "total_set.loc[total_set.Dates.dt.date.isin(index.date), 'Holiday'] = 6\n",
    "\n",
    "class Calendar(AbstractHolidayCalendar):\n",
    "    rules=[USColumbusDay]\n",
    "index = Calendar().holidays(start='2003-01-01', end='2015-05-14')\n",
    "total_set.loc[total_set.Dates.dt.date.isin(index.date), 'Holiday'] = 7\n",
    "\n",
    "holiday = Holiday('Veterans Day', month=11, day=11)\n",
    "class Calendar(AbstractHolidayCalendar):\n",
    "    rules=[holiday]\n",
    "index = Calendar().holidays(start='2003-01-01', end='2015-05-14')\n",
    "total_set.loc[total_set.Dates.dt.date.isin(index.date), 'Holiday'] = 8\n",
    "\n",
    "class Calendar(AbstractHolidayCalendar):\n",
    "    rules=[USThanksgivingDay]\n",
    "index = Calendar().holidays(start='2003-01-01', end='2015-05-14')\n",
    "total_set.loc[total_set.Dates.dt.date.isin(index.date), 'Holiday'] = 9\n",
    "\n",
    "holiday = Holiday('Christmas', month=12, day=25)\n",
    "class Calendar(AbstractHolidayCalendar):\n",
    "    rules=[holiday]\n",
    "index = Calendar().holidays(start='2003-01-01', end='2015-05-14')\n",
    "total_set.loc[total_set.Dates.dt.date.isin(index.date), 'Holiday'] = 10"
   ]
  },
  {
   "cell_type": "code",
   "execution_count": 8,
   "metadata": {
    "collapsed": true
   },
   "outputs": [],
   "source": [
    "total_set['RainingRank'] = 0\n",
    "total_set.loc[total_set.Dates.dt.month == 7, 'Raining'] = 1\n",
    "total_set.loc[total_set.Dates.dt.month == 8, 'Raining'] = 2\n",
    "total_set.loc[total_set.Dates.dt.month == 6, 'Raining'] = 3\n",
    "total_set.loc[total_set.Dates.dt.month == 9, 'Raining'] = 4\n",
    "total_set.loc[total_set.Dates.dt.month == 5, 'Raining'] = 5\n",
    "total_set.loc[total_set.Dates.dt.month == 10, 'Raining'] = 6\n",
    "total_set.loc[total_set.Dates.dt.month == 4, 'Raining'] = 7\n",
    "total_set.loc[total_set.Dates.dt.month == 11, 'Raining'] = 8\n",
    "total_set.loc[total_set.Dates.dt.month == 3, 'Raining'] = 9\n",
    "total_set.loc[total_set.Dates.dt.month == 2, 'Raining'] = 10\n",
    "total_set.loc[total_set.Dates.dt.month == 1, 'Raining'] = 11\n",
    "total_set.loc[total_set.Dates.dt.month == 12, 'Raining'] = 12\n",
    "\n",
    "total_set['Sunshine'] = 0\n",
    "total_set.loc[total_set.Dates.dt.month == 12, 'Sunshine'] = 1\n",
    "total_set.loc[total_set.Dates.dt.month == 11, 'Sunshine'] = 2\n",
    "total_set.loc[total_set.Dates.dt.month == 1, 'Sunshine'] = 3\n",
    "total_set.loc[total_set.Dates.dt.month == 2, 'Sunshine'] = 4\n",
    "total_set.loc[total_set.Dates.dt.month == 10, 'Sunshine'] = 5\n",
    "total_set.loc[total_set.Dates.dt.month == 3, 'Sunshine'] = 6\n",
    "total_set.loc[total_set.Dates.dt.month == 9, 'Sunshine'] = 7\n",
    "total_set.loc[total_set.Dates.dt.month == 8, 'Sunshine'] = 8\n",
    "total_set.loc[total_set.Dates.dt.month == 4, 'Sunshine'] = 9\n",
    "total_set.loc[total_set.Dates.dt.month == 6, 'Sunshine'] = 10\n",
    "total_set.loc[total_set.Dates.dt.month == 7, 'Sunshine'] = 11\n",
    "total_set.loc[total_set.Dates.dt.month == 5, 'Sunshine'] = 12\n",
    "\n",
    "total_set['Temp'] = 0\n",
    "total_set.loc[total_set.Dates.dt.month == 1, 'Temp'] = 1\n",
    "total_set.loc[total_set.Dates.dt.month == 12, 'Temp'] = 2\n",
    "total_set.loc[total_set.Dates.dt.month == 2, 'Temp'] = 3\n",
    "total_set.loc[total_set.Dates.dt.month == 3, 'Temp'] = 4\n",
    "total_set.loc[total_set.Dates.dt.month == 4, 'Temp'] = 5\n",
    "total_set.loc[total_set.Dates.dt.month == 11, 'Temp'] = 6\n",
    "total_set.loc[total_set.Dates.dt.month == 5, 'Temp'] = 7\n",
    "total_set.loc[total_set.Dates.dt.month == 6, 'Temp'] = 8\n",
    "total_set.loc[total_set.Dates.dt.month == 7, 'Temp'] = 9\n",
    "total_set.loc[total_set.Dates.dt.month == 10, 'Temp'] = 10\n",
    "total_set.loc[total_set.Dates.dt.month == 8, 'Temp'] = 11\n",
    "total_set.loc[total_set.Dates.dt.month == 9, 'Temp'] = 12"
   ]
  },
  {
   "cell_type": "code",
   "execution_count": 9,
   "metadata": {
    "collapsed": true
   },
   "outputs": [],
   "source": [
    "le_address = preprocessing.LabelEncoder()\n",
    "total_set['AddressValue'] = le_address.fit_transform(total_set.Address)"
   ]
  },
  {
   "cell_type": "code",
   "execution_count": 10,
   "metadata": {
    "collapsed": true
   },
   "outputs": [],
   "source": [
    "total_set['isTwoStreet'] = 0\n",
    "total_set.loc[total_set.Address.str.match('.*\\/.*'), 'isTwoStreet'] = 1"
   ]
  },
  {
   "cell_type": "code",
   "execution_count": 11,
   "metadata": {
    "collapsed": true
   },
   "outputs": [],
   "source": [
    "district = pd.get_dummies(total_set.PdDistrict)\n",
    "total_set = pd.concat([total_set, district], axis=1)"
   ]
  },
  {
   "cell_type": "code",
   "execution_count": 12,
   "metadata": {
    "collapsed": true
   },
   "outputs": [],
   "source": [
    "total_set.loc[(total_set.Y == 90)&(total_set.X == -120.5), 'X'] = -122.422763\n",
    "total_set.loc[(total_set.Y == 90)&(total_set.X == -120.5), 'Y'] = 37.767035\n",
    "from sklearn.decomposition import PCA\n",
    "pca = PCA(n_components=2)\n",
    "result = pca.fit_transform(total_set[['X','Y']])"
   ]
  },
  {
   "cell_type": "code",
   "execution_count": 13,
   "metadata": {
    "collapsed": true
   },
   "outputs": [],
   "source": [
    "gpsDf = pd.DataFrame(result)\n",
    "gpsDf.columns = ['R_x', 'R_y'] \n",
    "total_set['R_x'] = gpsDf['R_x']\n",
    "total_set['R_y'] = gpsDf['R_y']"
   ]
  },
  {
   "cell_type": "code",
   "execution_count": 14,
   "metadata": {
    "collapsed": true
   },
   "outputs": [],
   "source": [
    "from sklearn import cross_validation\n",
    "test_data = total_set[~np.isnan(total_set.Id)]\n",
    "train_data, validation_data = cross_validation.train_test_split(\n",
    "        total_set[np.isnan(total_set.Id)],\n",
    "        train_size = 0.7,\n",
    "        random_state = 3)"
   ]
  },
  {
   "cell_type": "code",
   "execution_count": 15,
   "metadata": {
    "collapsed": true
   },
   "outputs": [],
   "source": [
    "features = [\n",
    "    'DayOfWeekValue', \n",
    "    'HourValue', \n",
    "    'MonthValue', \n",
    "    'DayValue', \n",
    "    'YearValue',\n",
    "    'DayOfYearValue',\n",
    "    'AddressValue',\n",
    "    'R_x',\n",
    "    'R_y',\n",
    "    'RainingRank',\n",
    "    'Sunshine',\n",
    "    'Temp',\n",
    "    'Holiday',\n",
    "    'isTwoStreet']\n",
    "features+=district.columns.tolist()"
   ]
  },
  {
   "cell_type": "code",
   "execution_count": 22,
   "metadata": {
    "collapsed": false,
    "scrolled": true
   },
   "outputs": [
    {
     "data": {
      "text/plain": [
       "2.4281439490064787"
      ]
     },
     "execution_count": 22,
     "metadata": {},
     "output_type": "execute_result"
    }
   ],
   "source": [
    "from sklearn.externals import joblib\n",
    "from sklearn.metrics import log_loss\n",
    "clf = joblib.load('gradient-boosting-v6-ne-100-md-3.pkl')\n",
    "validate_predict = np.array(clf.predict_proba(validation_data[features]))\n",
    "log_loss(validation_data['Category'], validate_predict)"
   ]
  },
  {
   "cell_type": "code",
   "execution_count": 24,
   "metadata": {
    "collapsed": false
   },
   "outputs": [
    {
     "data": {
      "text/plain": [
       "2.3972667553042784"
      ]
     },
     "execution_count": 24,
     "metadata": {},
     "output_type": "execute_result"
    }
   ],
   "source": [
    "train_predicted = np.array(clf.predict_proba(train_data[features]))\n",
    "log_loss(train_data['Category'], train_predicted)"
   ]
  },
  {
   "cell_type": "code",
   "execution_count": 45,
   "metadata": {
    "collapsed": false
   },
   "outputs": [
    {
     "name": "stdout",
     "output_type": "stream",
     "text": [
      "0.0207612962539\n",
      "DayOfWeekValue\n",
      "\n",
      "\n",
      "0.118486482434\n",
      "HourValue\n",
      "\n",
      "\n",
      "0.00306721395384\n",
      "MonthValue\n",
      "\n",
      "\n",
      "0.0297911086206\n",
      "DayValue\n",
      "\n",
      "\n",
      "0.0613555767105\n",
      "YearValue\n",
      "\n",
      "\n",
      "0.0381143559872\n",
      "DayOfYearValue\n",
      "\n",
      "\n",
      "0.133898001723\n",
      "AddressValue\n",
      "\n",
      "\n",
      "0.256097478559\n",
      "R_x\n",
      "\n",
      "\n",
      "0.21224024518\n",
      "R_y\n",
      "\n",
      "\n",
      "0.0\n",
      "RainingRank\n",
      "\n",
      "\n",
      "0.00825592168061\n",
      "Sunshine\n",
      "\n",
      "\n",
      "0.0116608287684\n",
      "Temp\n",
      "\n",
      "\n",
      "0.00796015489591\n",
      "Holiday\n",
      "\n",
      "\n",
      "0.0359193594137\n",
      "isTwoStreet\n",
      "\n",
      "\n",
      "0.00455268110311\n",
      "BAYVIEW\n",
      "\n",
      "\n",
      "0.00146869774463\n",
      "CENTRAL\n",
      "\n",
      "\n",
      "0.00317217640006\n",
      "INGLESIDE\n",
      "\n",
      "\n",
      "0.0105374303385\n",
      "MISSION\n",
      "\n",
      "\n",
      "0.00388736445142\n",
      "NORTHERN\n",
      "\n",
      "\n",
      "0.00357552327207\n",
      "PARK\n",
      "\n",
      "\n",
      "0.00362440282435\n",
      "RICHMOND\n",
      "\n",
      "\n",
      "0.00697236855399\n",
      "SOUTHERN\n",
      "\n",
      "\n",
      "0.001388766968\n",
      "TARAVAL\n",
      "\n",
      "\n",
      "0.0232125641641\n",
      "TENDERLOIN\n",
      "\n",
      "\n"
     ]
    }
   ],
   "source": [
    "for i in range(0,len(features)):\n",
    "    print(clf.feature_importances_[i])\n",
    "    print(features[i])\n",
    "    print(\"\\n\")"
   ]
  },
  {
   "cell_type": "code",
   "execution_count": 47,
   "metadata": {
    "collapsed": false,
    "scrolled": true
   },
   "outputs": [
    {
     "data": {
      "text/plain": [
       "array([  2.02299590e+006,   1.92622598e+006,   1.85660065e+006,\n",
       "         1.80250986e+006,   1.76087629e+006,   1.72630498e+006,\n",
       "         1.69751687e+006,   1.67381503e+006,   1.65333333e+006,\n",
       "         1.63612415e+006,   1.62099826e+006,   1.60799341e+006,\n",
       "         1.59663534e+006,   1.58658146e+006,   1.57793282e+006,\n",
       "         1.57012298e+006,   1.56316761e+006,   1.55682229e+006,\n",
       "         1.55134738e+006,   1.54611086e+006,   1.54166890e+006,\n",
       "         1.53765459e+006,   1.53386360e+006,   1.53052565e+006,\n",
       "         1.52733130e+006,   1.52466886e+006,   1.52174573e+006,\n",
       "         1.51953686e+006,   1.51753342e+006,   1.51560703e+006,\n",
       "         1.51358925e+006,   1.51169979e+006,   1.51024952e+006,\n",
       "         1.50874408e+006,   1.50745454e+006,   1.50607740e+006,\n",
       "         1.50892223e+006,   1.50758900e+006,   1.50653371e+006,\n",
       "         1.50734912e+006,   1.50644663e+006,   1.50645096e+006,\n",
       "         1.50556423e+006,   1.50490934e+006,   1.50414862e+006,\n",
       "         2.49012261e+006,   2.48925732e+006,   2.48865077e+006,\n",
       "         2.48753996e+006,   2.48693083e+006,   2.48633341e+006,\n",
       "         2.48569242e+006,   4.55002981e+007,   4.54996077e+007,\n",
       "         4.54992999e+007,   4.54985507e+007,   4.54981539e+007,\n",
       "         4.55065484e+007,   4.55059504e+007,   7.22433934e+008,\n",
       "         7.22433518e+008,   7.22433574e+008,   9.04595414e+008,\n",
       "         9.04594860e+008,   9.04595687e+008,   9.13342187e+008,\n",
       "         9.13342587e+008,   3.45809226e+271,   3.45809226e+271,\n",
       "         3.45809226e+271,   3.45809226e+271,   3.45809226e+271,\n",
       "         3.45809226e+271,   3.45809226e+271,   3.45809226e+271,\n",
       "         3.45809226e+271,   3.45809226e+271,   3.45809226e+271,\n",
       "         3.45809226e+271,   3.45809226e+271,   3.45809226e+271,\n",
       "         3.45809226e+271,   3.45809226e+271,   3.45809226e+271,\n",
       "         3.45809226e+271,   3.45809226e+271,   3.45809226e+271,\n",
       "         3.45809226e+271,   3.45809226e+271,   3.45809226e+271,\n",
       "         3.45809226e+271,   3.45809226e+271,   3.45809226e+271,\n",
       "         3.45809226e+271,   3.45809226e+271,   3.45809226e+271,\n",
       "         3.45809226e+271,   3.45809226e+271,   3.45809226e+271,\n",
       "         3.45809226e+271])"
      ]
     },
     "execution_count": 47,
     "metadata": {},
     "output_type": "execute_result"
    }
   ],
   "source": [
    "clf.train_score_ "
   ]
  },
  {
   "cell_type": "code",
   "execution_count": 59,
   "metadata": {
    "collapsed": false
   },
   "outputs": [
    {
     "ename": "TypeError",
     "evalue": "update_terminal_regions() missing 7 required positional arguments: 'tree', 'X', 'y', 'residual', 'y_pred', 'sample_weight', and 'sample_mask'",
     "output_type": "error",
     "traceback": [
      "\u001b[1;31m---------------------------------------------------------------------------\u001b[0m",
      "\u001b[1;31mTypeError\u001b[0m                                 Traceback (most recent call last)",
      "\u001b[1;32m<ipython-input-59-87c887382792>\u001b[0m in \u001b[0;36m<module>\u001b[1;34m()\u001b[0m\n\u001b[1;32m----> 1\u001b[1;33m \u001b[0mclf\u001b[0m\u001b[1;33m.\u001b[0m\u001b[0mloss_\u001b[0m\u001b[1;33m.\u001b[0m\u001b[0mupdate_terminal_regions\u001b[0m\u001b[1;33m(\u001b[0m\u001b[1;33m)\u001b[0m\u001b[1;33m\u001b[0m\u001b[0m\n\u001b[0m",
      "\u001b[1;31mTypeError\u001b[0m: update_terminal_regions() missing 7 required positional arguments: 'tree', 'X', 'y', 'residual', 'y_pred', 'sample_weight', and 'sample_mask'"
     ]
    }
   ],
   "source": []
  },
  {
   "cell_type": "code",
   "execution_count": 50,
   "metadata": {
    "collapsed": false,
    "scrolled": true
   },
   "outputs": [
    {
     "data": {
      "text/plain": [
       "{'init': None,\n",
       " 'learning_rate': 0.1,\n",
       " 'loss': 'deviance',\n",
       " 'max_depth': 3,\n",
       " 'max_features': None,\n",
       " 'max_leaf_nodes': None,\n",
       " 'min_samples_leaf': 1,\n",
       " 'min_samples_split': 2,\n",
       " 'min_weight_fraction_leaf': 0.0,\n",
       " 'n_estimators': 100,\n",
       " 'presort': 'auto',\n",
       " 'random_state': None,\n",
       " 'subsample': 1.0,\n",
       " 'verbose': 0,\n",
       " 'warm_start': False}"
      ]
     },
     "execution_count": 50,
     "metadata": {},
     "output_type": "execute_result"
    }
   ],
   "source": [
    "clf.get_params(deep=True)"
   ]
  },
  {
   "cell_type": "code",
   "execution_count": 51,
   "metadata": {
    "collapsed": false
   },
   "outputs": [
    {
     "data": {
      "text/plain": [
       "<bound method GradientBoostingClassifier.decision_function of GradientBoostingClassifier(init=None, learning_rate=0.1, loss='deviance',\n",
       "              max_depth=3, max_features=None, max_leaf_nodes=None,\n",
       "              min_samples_leaf=1, min_samples_split=2,\n",
       "              min_weight_fraction_leaf=0.0, n_estimators=100,\n",
       "              presort='auto', random_state=None, subsample=1.0, verbose=0,\n",
       "              warm_start=False)>"
      ]
     },
     "execution_count": 51,
     "metadata": {},
     "output_type": "execute_result"
    }
   ],
   "source": [
    "clf.decision_function"
   ]
  },
  {
   "cell_type": "code",
   "execution_count": 27,
   "metadata": {
    "collapsed": false,
    "scrolled": true
   },
   "outputs": [
    {
     "data": {
      "text/plain": [
       "2.4283567922564457"
      ]
     },
     "execution_count": 27,
     "metadata": {},
     "output_type": "execute_result"
    }
   ],
   "source": [
    "clf2 = joblib.load('gradient-boosting-v6-ne-120-md-5.pkl')\n",
    "validate_predict = np.array(clf2.predict_proba(validation_data[features]))\n",
    "log_loss(validation_data['Category'], validate_predict)"
   ]
  },
  {
   "cell_type": "code",
   "execution_count": 28,
   "metadata": {
    "collapsed": false
   },
   "outputs": [
    {
     "data": {
      "text/plain": [
       "2.3972667553042784"
      ]
     },
     "execution_count": 28,
     "metadata": {},
     "output_type": "execute_result"
    }
   ],
   "source": [
    "train_predicted = np.array(clf2.predict_proba(train_data[features]))\n",
    "log_loss(train_data['Category'], train_predicted)"
   ]
  },
  {
   "cell_type": "code",
   "execution_count": 40,
   "metadata": {
    "collapsed": false
   },
   "outputs": [
    {
     "data": {
      "text/plain": [
       "array(['ARSON', 'ASSAULT', 'BAD CHECKS', 'BRIBERY', 'BURGLARY',\n",
       "       'DISORDERLY CONDUCT', 'DRIVING UNDER THE INFLUENCE',\n",
       "       'DRUG/NARCOTIC', 'DRUNKENNESS', 'EMBEZZLEMENT', 'EXTORTION',\n",
       "       'FAMILY OFFENSES', 'FORGERY/COUNTERFEITING', 'FRAUD', 'GAMBLING',\n",
       "       'KIDNAPPING', 'LARCENY/THEFT', 'LIQUOR LAWS', 'LOITERING',\n",
       "       'MISSING PERSON', 'NON-CRIMINAL', 'OTHER OFFENSES',\n",
       "       'PORNOGRAPHY/OBSCENE MAT', 'PROSTITUTION', 'RECOVERED VEHICLE',\n",
       "       'ROBBERY', 'RUNAWAY', 'SECONDARY CODES', 'SEX OFFENSES FORCIBLE',\n",
       "       'SEX OFFENSES NON FORCIBLE', 'STOLEN PROPERTY', 'SUICIDE',\n",
       "       'SUSPICIOUS OCC', 'TREA', 'TRESPASS', 'VANDALISM', 'VEHICLE THEFT',\n",
       "       'WARRANTS', 'WEAPON LAWS'], dtype=object)"
      ]
     },
     "execution_count": 40,
     "metadata": {},
     "output_type": "execute_result"
    }
   ],
   "source": [
    "le_category.classes_"
   ]
  },
  {
   "cell_type": "code",
   "execution_count": 30,
   "metadata": {
    "collapsed": false,
    "scrolled": true
   },
   "outputs": [
    {
     "data": {
      "text/plain": [
       "array([  1.36875842e-03,   9.36988845e-02,   1.53367475e-04,\n",
       "         2.94439688e-04,   5.53745015e-02,   2.18362850e-03,\n",
       "         1.96571464e-03,   2.40778175e-02,   5.89876997e-03,\n",
       "         7.89378230e-04,   1.01200385e-04,   2.81541420e-04,\n",
       "         4.45251523e-03,   2.16963261e-02,   4.74724359e-05,\n",
       "         3.69960641e-03,   2.75659108e-01,   1.20007790e-03,\n",
       "         2.55969229e-04,   2.00145359e-02,   1.36137605e-01,\n",
       "         9.02390601e-02,   1.21909566e-05,   1.28904116e-03,\n",
       "         3.73272192e-04,   2.18220842e-02,   7.82140456e-04,\n",
       "         1.47274887e-02,   5.19766218e-03,   1.58369068e-04,\n",
       "         8.07206306e-03,   4.69500974e-04,   3.51942725e-02,\n",
       "         2.69211498e-06,   6.50247801e-03,   5.83417971e-02,\n",
       "         6.43856971e-02,   3.50599614e-02,   8.01901085e-03])"
      ]
     },
     "execution_count": 30,
     "metadata": {},
     "output_type": "execute_result"
    }
   ],
   "source": [
    "train_predicted[0]"
   ]
  },
  {
   "cell_type": "code",
   "execution_count": 39,
   "metadata": {
    "collapsed": false
   },
   "outputs": [
    {
     "data": {
      "text/plain": [
       "427548              NON-CRIMINAL\n",
       "13730             OTHER OFFENSES\n",
       "738576             VEHICLE THEFT\n",
       "668421             VEHICLE THEFT\n",
       "345682                  BURGLARY\n",
       "647634                  BURGLARY\n",
       "571031            OTHER OFFENSES\n",
       "235172                 VANDALISM\n",
       "133978              NON-CRIMINAL\n",
       "516235            OTHER OFFENSES\n",
       "241708            OTHER OFFENSES\n",
       "512866             LARCENY/THEFT\n",
       "378479             LARCENY/THEFT\n",
       "588201            OTHER OFFENSES\n",
       "749802             LARCENY/THEFT\n",
       "449095                BAD CHECKS\n",
       "254827             DRUG/NARCOTIC\n",
       "400872             LARCENY/THEFT\n",
       "487489                   ROBBERY\n",
       "288248            OTHER OFFENSES\n",
       "716766             LARCENY/THEFT\n",
       "176600                 VANDALISM\n",
       "257817              NON-CRIMINAL\n",
       "800694             DRUG/NARCOTIC\n",
       "33310                      ARSON\n",
       "335683                  WARRANTS\n",
       "683468             DRUG/NARCOTIC\n",
       "565070             LARCENY/THEFT\n",
       "280563             LARCENY/THEFT\n",
       "604633             LARCENY/THEFT\n",
       "                   ...          \n",
       "656915             LARCENY/THEFT\n",
       "271108              NON-CRIMINAL\n",
       "188783                   ASSAULT\n",
       "393130                 VANDALISM\n",
       "654252              NON-CRIMINAL\n",
       "298777            OTHER OFFENSES\n",
       "656796             LARCENY/THEFT\n",
       "717042             VEHICLE THEFT\n",
       "79180            SECONDARY CODES\n",
       "207700            SUSPICIOUS OCC\n",
       "569578                   RUNAWAY\n",
       "600054             LARCENY/THEFT\n",
       "741469             VEHICLE THEFT\n",
       "188127             VEHICLE THEFT\n",
       "184654            OTHER OFFENSES\n",
       "348681                   ASSAULT\n",
       "761525             VEHICLE THEFT\n",
       "119078              NON-CRIMINAL\n",
       "25303                  VANDALISM\n",
       "31048             OTHER OFFENSES\n",
       "795290                   ASSAULT\n",
       "812191                   ROBBERY\n",
       "104355              NON-CRIMINAL\n",
       "437283                   ROBBERY\n",
       "760513             LARCENY/THEFT\n",
       "243340                  WARRANTS\n",
       "517883                   ASSAULT\n",
       "706214    FORGERY/COUNTERFEITING\n",
       "15204               NON-CRIMINAL\n",
       "452402             LARCENY/THEFT\n",
       "Name: Category, dtype: object"
      ]
     },
     "execution_count": 39,
     "metadata": {},
     "output_type": "execute_result"
    }
   ],
   "source": [
    "validation_data"
   ]
  }
 ],
 "metadata": {
  "kernelspec": {
   "display_name": "Python 3",
   "language": "python",
   "name": "python3"
  },
  "language_info": {
   "codemirror_mode": {
    "name": "ipython",
    "version": 3
   },
   "file_extension": ".py",
   "mimetype": "text/x-python",
   "name": "python",
   "nbconvert_exporter": "python",
   "pygments_lexer": "ipython3",
   "version": "3.5.1"
  }
 },
 "nbformat": 4,
 "nbformat_minor": 0
}
