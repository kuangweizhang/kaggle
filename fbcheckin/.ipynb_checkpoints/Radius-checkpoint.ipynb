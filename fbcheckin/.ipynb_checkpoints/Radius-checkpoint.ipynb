{
 "cells": [
  {
   "cell_type": "code",
   "execution_count": 41,
   "metadata": {
    "collapsed": true
   },
   "outputs": [],
   "source": [
    "%matplotlib inline\n",
    "\n",
    "import matplotlib\n",
    "import matplotlib.pyplot as plt\n",
    "import numpy as np\n",
    "import pandas as pd\n",
    "from datetime import datetime"
   ]
  },
  {
   "cell_type": "code",
   "execution_count": 2,
   "metadata": {
    "collapsed": true
   },
   "outputs": [],
   "source": [
    "train_set = pd.read_csv('train.csv')\n",
    "test_set = pd.read_csv('test.csv')"
   ]
  },
  {
   "cell_type": "code",
   "execution_count": 46,
   "metadata": {
    "collapsed": false,
    "scrolled": false
   },
   "outputs": [],
   "source": [
    "for i in range(0,24):\n",
    "    test_set['placeId' + str(i)] = np.nan\n",
    "    test_set['score' + str(i)] = np.nan"
   ]
  },
  {
   "cell_type": "code",
   "execution_count": null,
   "metadata": {
    "collapsed": false,
    "scrolled": true
   },
   "outputs": [],
   "source": [
    "counter = 0;\n",
    "for row in test_set.itertuples():\n",
    "    neighbors = train_set[(train_set.y > row.y - 0.01) & \\\n",
    "                          (train_set.y < row.y + 0.01) & \\\n",
    "                          (train_set.x > row.x - 0.02) & \\\n",
    "                          (train_set.x < row.x + 0.02)]\n",
    "    counts = neighbors.place_id.value_counts()\n",
    "    i = 0\n",
    "    for index in counts.index:\n",
    "        test_set.set_value(row.Index, 'placeId' + str(i), index) \n",
    "        test_set.set_value(row.Index, 'score' + str(i), counts[index])\n",
    "        i = i + 1\n",
    "        if(i == 25):\n",
    "            break\n",
    "    counter += 1\n",
    "    if(counter % 1000 == 0):\n",
    "        print(str(counter) + ' ' + str(datetime.now()), flush = True)\n",
    "    "
   ]
  }
 ],
 "metadata": {
  "kernelspec": {
   "display_name": "Python 3",
   "language": "python",
   "name": "python3"
  },
  "language_info": {
   "codemirror_mode": {
    "name": "ipython",
    "version": 3
   },
   "file_extension": ".py",
   "mimetype": "text/x-python",
   "name": "python",
   "nbconvert_exporter": "python",
   "pygments_lexer": "ipython3",
   "version": "3.5.1"
  }
 },
 "nbformat": 4,
 "nbformat_minor": 0
}
