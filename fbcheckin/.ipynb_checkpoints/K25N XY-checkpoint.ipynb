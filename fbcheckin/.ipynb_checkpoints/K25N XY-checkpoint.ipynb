{
 "cells": [
  {
   "cell_type": "code",
   "execution_count": 2,
   "metadata": {
    "collapsed": true
   },
   "outputs": [],
   "source": [
    "%matplotlib inline"
   ]
  },
  {
   "cell_type": "code",
   "execution_count": 3,
   "metadata": {
    "collapsed": true
   },
   "outputs": [],
   "source": [
    "import matplotlib\n",
    "import matplotlib.pyplot as plt\n",
    "import numpy as np\n",
    "import pandas as pd\n",
    "train_set = pd.read_csv('train.csv')\n",
    "test_set = pd.read_csv('test.csv')"
   ]
  },
  {
   "cell_type": "code",
   "execution_count": 31,
   "metadata": {
    "collapsed": false
   },
   "outputs": [],
   "source": [
    "from sklearn import cross_validation\n",
    "train_data, validation_data = cross_validation.train_test_split(\n",
    "        train_set,\n",
    "        train_size = 0.8, \n",
    "        random_state  = 0)\n",
    "train_data.index = np.arange(0,len(train_data.index))\n",
    "validation_data.index = np.arange(0,len(validation_data.index))"
   ]
  },
  {
   "cell_type": "code",
   "execution_count": 33,
   "metadata": {
    "collapsed": false,
    "scrolled": true
   },
   "outputs": [
    {
     "data": {
      "text/plain": [
       "KNeighborsClassifier(algorithm='auto', leaf_size=30, metric='minkowski',\n",
       "           metric_params=None, n_jobs=5, n_neighbors=25, p=2,\n",
       "           weights='uniform')"
      ]
     },
     "execution_count": 33,
     "metadata": {},
     "output_type": "execute_result"
    }
   ],
   "source": [
    "from sklearn.neighbors import KNeighborsClassifier\n",
    "clf = KNeighborsClassifier(n_neighbors=25, n_jobs=5)\n",
    "clf.fit(train_data[['x','y']], train_data.place_id) "
   ]
  },
  {
   "cell_type": "code",
   "execution_count": 34,
   "metadata": {
    "collapsed": false,
    "scrolled": true
   },
   "outputs": [],
   "source": [
    "neighbors = clf.kneighbors(validation_data[['x','y']])"
   ]
  },
  {
   "cell_type": "code",
   "execution_count": 46,
   "metadata": {
    "collapsed": true
   },
   "outputs": [],
   "source": [
    "validation_prediction = pd.DataFrame(validation_data.row_id)\n",
    "validation_prediction['place_id'] = ''"
   ]
  },
  {
   "cell_type": "code",
   "execution_count": 63,
   "metadata": {
    "collapsed": false
   },
   "outputs": [],
   "source": [
    "neighborsdf = pd.DataFrame(neighbors[1])"
   ]
  },
  {
   "cell_type": "code",
   "execution_count": 66,
   "metadata": {
    "collapsed": false,
    "scrolled": false
   },
   "outputs": [
    {
     "data": {
      "text/html": [
       "<div>\n",
       "<table border=\"1\" class=\"dataframe\">\n",
       "  <thead>\n",
       "    <tr style=\"text-align: right;\">\n",
       "      <th></th>\n",
       "      <th>0</th>\n",
       "      <th>1</th>\n",
       "      <th>2</th>\n",
       "      <th>3</th>\n",
       "      <th>4</th>\n",
       "      <th>5</th>\n",
       "      <th>6</th>\n",
       "      <th>7</th>\n",
       "      <th>8</th>\n",
       "      <th>9</th>\n",
       "      <th>...</th>\n",
       "      <th>15</th>\n",
       "      <th>16</th>\n",
       "      <th>17</th>\n",
       "      <th>18</th>\n",
       "      <th>19</th>\n",
       "      <th>20</th>\n",
       "      <th>21</th>\n",
       "      <th>22</th>\n",
       "      <th>23</th>\n",
       "      <th>24</th>\n",
       "    </tr>\n",
       "  </thead>\n",
       "  <tbody>\n",
       "    <tr>\n",
       "      <th>0</th>\n",
       "      <td>12622259</td>\n",
       "      <td>3004377</td>\n",
       "      <td>21221593</td>\n",
       "      <td>22350190</td>\n",
       "      <td>16486461</td>\n",
       "      <td>18309455</td>\n",
       "      <td>9460356</td>\n",
       "      <td>19571</td>\n",
       "      <td>10810295</td>\n",
       "      <td>9739973</td>\n",
       "      <td>...</td>\n",
       "      <td>4520747</td>\n",
       "      <td>20783887</td>\n",
       "      <td>13534406</td>\n",
       "      <td>17058773</td>\n",
       "      <td>980840</td>\n",
       "      <td>19102243</td>\n",
       "      <td>12544974</td>\n",
       "      <td>9550525</td>\n",
       "      <td>12606175</td>\n",
       "      <td>15570110</td>\n",
       "    </tr>\n",
       "    <tr>\n",
       "      <th>1</th>\n",
       "      <td>18669727</td>\n",
       "      <td>12568605</td>\n",
       "      <td>11811558</td>\n",
       "      <td>498004</td>\n",
       "      <td>9306679</td>\n",
       "      <td>17544658</td>\n",
       "      <td>19953536</td>\n",
       "      <td>16690181</td>\n",
       "      <td>3950112</td>\n",
       "      <td>3112688</td>\n",
       "      <td>...</td>\n",
       "      <td>13236445</td>\n",
       "      <td>11170928</td>\n",
       "      <td>3092527</td>\n",
       "      <td>979948</td>\n",
       "      <td>8997278</td>\n",
       "      <td>20968932</td>\n",
       "      <td>20268348</td>\n",
       "      <td>4084849</td>\n",
       "      <td>20331712</td>\n",
       "      <td>14439506</td>\n",
       "    </tr>\n",
       "    <tr>\n",
       "      <th>2</th>\n",
       "      <td>22365157</td>\n",
       "      <td>537459</td>\n",
       "      <td>8207126</td>\n",
       "      <td>9420933</td>\n",
       "      <td>15928222</td>\n",
       "      <td>14529463</td>\n",
       "      <td>9224900</td>\n",
       "      <td>15546193</td>\n",
       "      <td>21769676</td>\n",
       "      <td>17331511</td>\n",
       "      <td>...</td>\n",
       "      <td>16773448</td>\n",
       "      <td>3002705</td>\n",
       "      <td>9643401</td>\n",
       "      <td>16004518</td>\n",
       "      <td>1411243</td>\n",
       "      <td>10822823</td>\n",
       "      <td>8314541</td>\n",
       "      <td>16480328</td>\n",
       "      <td>8175485</td>\n",
       "      <td>14746437</td>\n",
       "    </tr>\n",
       "    <tr>\n",
       "      <th>3</th>\n",
       "      <td>9634669</td>\n",
       "      <td>17668195</td>\n",
       "      <td>1349151</td>\n",
       "      <td>11039372</td>\n",
       "      <td>2298315</td>\n",
       "      <td>8226067</td>\n",
       "      <td>9792662</td>\n",
       "      <td>4830871</td>\n",
       "      <td>4452056</td>\n",
       "      <td>18795723</td>\n",
       "      <td>...</td>\n",
       "      <td>2700290</td>\n",
       "      <td>307109</td>\n",
       "      <td>5327047</td>\n",
       "      <td>14908809</td>\n",
       "      <td>1029638</td>\n",
       "      <td>8069049</td>\n",
       "      <td>1204151</td>\n",
       "      <td>16403597</td>\n",
       "      <td>801940</td>\n",
       "      <td>18187494</td>\n",
       "    </tr>\n",
       "    <tr>\n",
       "      <th>4</th>\n",
       "      <td>1004932</td>\n",
       "      <td>7484416</td>\n",
       "      <td>20599253</td>\n",
       "      <td>11207867</td>\n",
       "      <td>1740764</td>\n",
       "      <td>8108637</td>\n",
       "      <td>4301271</td>\n",
       "      <td>17741044</td>\n",
       "      <td>2336448</td>\n",
       "      <td>2768219</td>\n",
       "      <td>...</td>\n",
       "      <td>11476730</td>\n",
       "      <td>5158578</td>\n",
       "      <td>21884737</td>\n",
       "      <td>20051222</td>\n",
       "      <td>8066187</td>\n",
       "      <td>11146269</td>\n",
       "      <td>22028565</td>\n",
       "      <td>16900030</td>\n",
       "      <td>15258341</td>\n",
       "      <td>311946</td>\n",
       "    </tr>\n",
       "  </tbody>\n",
       "</table>\n",
       "<p>5 rows × 25 columns</p>\n",
       "</div>"
      ],
      "text/plain": [
       "         0         1         2         3         4         5         6   \\\n",
       "0  12622259   3004377  21221593  22350190  16486461  18309455   9460356   \n",
       "1  18669727  12568605  11811558    498004   9306679  17544658  19953536   \n",
       "2  22365157    537459   8207126   9420933  15928222  14529463   9224900   \n",
       "3   9634669  17668195   1349151  11039372   2298315   8226067   9792662   \n",
       "4   1004932   7484416  20599253  11207867   1740764   8108637   4301271   \n",
       "\n",
       "         7         8         9     ...           15        16        17  \\\n",
       "0     19571  10810295   9739973    ...      4520747  20783887  13534406   \n",
       "1  16690181   3950112   3112688    ...     13236445  11170928   3092527   \n",
       "2  15546193  21769676  17331511    ...     16773448   3002705   9643401   \n",
       "3   4830871   4452056  18795723    ...      2700290    307109   5327047   \n",
       "4  17741044   2336448   2768219    ...     11476730   5158578  21884737   \n",
       "\n",
       "         18       19        20        21        22        23        24  \n",
       "0  17058773   980840  19102243  12544974   9550525  12606175  15570110  \n",
       "1    979948  8997278  20968932  20268348   4084849  20331712  14439506  \n",
       "2  16004518  1411243  10822823   8314541  16480328   8175485  14746437  \n",
       "3  14908809  1029638   8069049   1204151  16403597    801940  18187494  \n",
       "4  20051222  8066187  11146269  22028565  16900030  15258341    311946  \n",
       "\n",
       "[5 rows x 25 columns]"
      ]
     },
     "execution_count": 66,
     "metadata": {},
     "output_type": "execute_result"
    }
   ],
   "source": [
    "neighborsdf.head()"
   ]
  },
  {
   "cell_type": "code",
   "execution_count": 86,
   "metadata": {
    "collapsed": false
   },
   "outputs": [],
   "source": [
    "place_id_array = ['place_id'] * len(neighborsdf[0].index)\n",
    "for i in np.arange(0,25):\n",
    "    lookup_result = train_data.lookup(neighborsdf[i], place_id_array)\n",
    "    new_label = 'p' + i.astype(str)\n",
    "    neighborsdf[new_label] = lookup_result"
   ]
  },
  {
   "cell_type": "code",
   "execution_count": 91,
   "metadata": {
    "collapsed": false
   },
   "outputs": [],
   "source": [
    "for i in np.arange(0,25):\n",
    "    del neighborsdf[i]"
   ]
  },
  {
   "cell_type": "code",
   "execution_count": 92,
   "metadata": {
    "collapsed": false,
    "scrolled": true
   },
   "outputs": [
    {
     "data": {
      "text/html": [
       "<div>\n",
       "<table border=\"1\" class=\"dataframe\">\n",
       "  <thead>\n",
       "    <tr style=\"text-align: right;\">\n",
       "      <th></th>\n",
       "      <th>p0</th>\n",
       "      <th>p1</th>\n",
       "      <th>p2</th>\n",
       "      <th>p3</th>\n",
       "      <th>p4</th>\n",
       "      <th>p5</th>\n",
       "      <th>p6</th>\n",
       "      <th>p7</th>\n",
       "      <th>p8</th>\n",
       "      <th>p9</th>\n",
       "      <th>...</th>\n",
       "      <th>p15</th>\n",
       "      <th>p16</th>\n",
       "      <th>p17</th>\n",
       "      <th>p18</th>\n",
       "      <th>p19</th>\n",
       "      <th>p20</th>\n",
       "      <th>p21</th>\n",
       "      <th>p22</th>\n",
       "      <th>p23</th>\n",
       "      <th>p24</th>\n",
       "    </tr>\n",
       "  </thead>\n",
       "  <tbody>\n",
       "    <tr>\n",
       "      <th>0</th>\n",
       "      <td>8698978483</td>\n",
       "      <td>4870129041</td>\n",
       "      <td>8698978483</td>\n",
       "      <td>1480179729</td>\n",
       "      <td>3560133457</td>\n",
       "      <td>7328335720</td>\n",
       "      <td>8698978483</td>\n",
       "      <td>1480179729</td>\n",
       "      <td>2521332476</td>\n",
       "      <td>1480179729</td>\n",
       "      <td>...</td>\n",
       "      <td>8698978483</td>\n",
       "      <td>7328335720</td>\n",
       "      <td>1480179729</td>\n",
       "      <td>7328335720</td>\n",
       "      <td>1480179729</td>\n",
       "      <td>8698978483</td>\n",
       "      <td>9951984946</td>\n",
       "      <td>2521332476</td>\n",
       "      <td>4870129041</td>\n",
       "      <td>8698978483</td>\n",
       "    </tr>\n",
       "    <tr>\n",
       "      <th>1</th>\n",
       "      <td>4642326904</td>\n",
       "      <td>4642326904</td>\n",
       "      <td>7045447773</td>\n",
       "      <td>4642326904</td>\n",
       "      <td>4642326904</td>\n",
       "      <td>3683524998</td>\n",
       "      <td>4642326904</td>\n",
       "      <td>3965589824</td>\n",
       "      <td>9213926120</td>\n",
       "      <td>5193185323</td>\n",
       "      <td>...</td>\n",
       "      <td>6542798770</td>\n",
       "      <td>4642326904</td>\n",
       "      <td>4802499567</td>\n",
       "      <td>4802499567</td>\n",
       "      <td>5193185323</td>\n",
       "      <td>7639314209</td>\n",
       "      <td>4642326904</td>\n",
       "      <td>4642326904</td>\n",
       "      <td>6542798770</td>\n",
       "      <td>4642326904</td>\n",
       "    </tr>\n",
       "    <tr>\n",
       "      <th>2</th>\n",
       "      <td>2562148330</td>\n",
       "      <td>5103363855</td>\n",
       "      <td>4201331222</td>\n",
       "      <td>2562148330</td>\n",
       "      <td>2562148330</td>\n",
       "      <td>2809692309</td>\n",
       "      <td>8017436759</td>\n",
       "      <td>2562148330</td>\n",
       "      <td>7497331127</td>\n",
       "      <td>7874646502</td>\n",
       "      <td>...</td>\n",
       "      <td>2562148330</td>\n",
       "      <td>2562148330</td>\n",
       "      <td>4422962999</td>\n",
       "      <td>2562148330</td>\n",
       "      <td>5103363855</td>\n",
       "      <td>2562148330</td>\n",
       "      <td>5103363855</td>\n",
       "      <td>8392124776</td>\n",
       "      <td>1005481397</td>\n",
       "      <td>2562148330</td>\n",
       "    </tr>\n",
       "    <tr>\n",
       "      <th>3</th>\n",
       "      <td>1385081482</td>\n",
       "      <td>1385081482</td>\n",
       "      <td>5172648263</td>\n",
       "      <td>2398604745</td>\n",
       "      <td>1656828008</td>\n",
       "      <td>9353445626</td>\n",
       "      <td>9353445626</td>\n",
       "      <td>9353445626</td>\n",
       "      <td>8277962573</td>\n",
       "      <td>1662809061</td>\n",
       "      <td>...</td>\n",
       "      <td>4225455186</td>\n",
       "      <td>7896404869</td>\n",
       "      <td>8018960669</td>\n",
       "      <td>3517644736</td>\n",
       "      <td>1662809061</td>\n",
       "      <td>7087122536</td>\n",
       "      <td>1662809061</td>\n",
       "      <td>5426545951</td>\n",
       "      <td>1656828008</td>\n",
       "      <td>6874503774</td>\n",
       "    </tr>\n",
       "    <tr>\n",
       "      <th>4</th>\n",
       "      <td>3944068460</td>\n",
       "      <td>5077523021</td>\n",
       "      <td>1295487215</td>\n",
       "      <td>7595705627</td>\n",
       "      <td>1295487215</td>\n",
       "      <td>1295487215</td>\n",
       "      <td>2884561324</td>\n",
       "      <td>1295487215</td>\n",
       "      <td>7266645604</td>\n",
       "      <td>7266645604</td>\n",
       "      <td>...</td>\n",
       "      <td>2884561324</td>\n",
       "      <td>1976396737</td>\n",
       "      <td>1295487215</td>\n",
       "      <td>9183417071</td>\n",
       "      <td>7266645604</td>\n",
       "      <td>2853949249</td>\n",
       "      <td>9652985100</td>\n",
       "      <td>3944357875</td>\n",
       "      <td>7266645604</td>\n",
       "      <td>2884561324</td>\n",
       "    </tr>\n",
       "  </tbody>\n",
       "</table>\n",
       "<p>5 rows × 25 columns</p>\n",
       "</div>"
      ],
      "text/plain": [
       "           p0          p1          p2          p3          p4          p5  \\\n",
       "0  8698978483  4870129041  8698978483  1480179729  3560133457  7328335720   \n",
       "1  4642326904  4642326904  7045447773  4642326904  4642326904  3683524998   \n",
       "2  2562148330  5103363855  4201331222  2562148330  2562148330  2809692309   \n",
       "3  1385081482  1385081482  5172648263  2398604745  1656828008  9353445626   \n",
       "4  3944068460  5077523021  1295487215  7595705627  1295487215  1295487215   \n",
       "\n",
       "           p6          p7          p8          p9     ...             p15  \\\n",
       "0  8698978483  1480179729  2521332476  1480179729     ...      8698978483   \n",
       "1  4642326904  3965589824  9213926120  5193185323     ...      6542798770   \n",
       "2  8017436759  2562148330  7497331127  7874646502     ...      2562148330   \n",
       "3  9353445626  9353445626  8277962573  1662809061     ...      4225455186   \n",
       "4  2884561324  1295487215  7266645604  7266645604     ...      2884561324   \n",
       "\n",
       "          p16         p17         p18         p19         p20         p21  \\\n",
       "0  7328335720  1480179729  7328335720  1480179729  8698978483  9951984946   \n",
       "1  4642326904  4802499567  4802499567  5193185323  7639314209  4642326904   \n",
       "2  2562148330  4422962999  2562148330  5103363855  2562148330  5103363855   \n",
       "3  7896404869  8018960669  3517644736  1662809061  7087122536  1662809061   \n",
       "4  1976396737  1295487215  9183417071  7266645604  2853949249  9652985100   \n",
       "\n",
       "          p22         p23         p24  \n",
       "0  2521332476  4870129041  8698978483  \n",
       "1  4642326904  6542798770  4642326904  \n",
       "2  8392124776  1005481397  2562148330  \n",
       "3  5426545951  1656828008  6874503774  \n",
       "4  3944357875  7266645604  2884561324  \n",
       "\n",
       "[5 rows x 25 columns]"
      ]
     },
     "execution_count": 92,
     "metadata": {},
     "output_type": "execute_result"
    }
   ],
   "source": [
    "neighborsdf.head()"
   ]
  },
  {
   "cell_type": "code",
   "execution_count": 100,
   "metadata": {
    "collapsed": true
   },
   "outputs": [],
   "source": [
    "neighborsdf['result'] = ''"
   ]
  },
  {
   "cell_type": "code",
   "execution_count": 103,
   "metadata": {
    "collapsed": false
   },
   "outputs": [
    {
     "data": {
      "text/plain": [
       "<pandas.core.indexing._LocIndexer at 0x1d3f83ca2b0>"
      ]
     },
     "execution_count": 103,
     "metadata": {},
     "output_type": "execute_result"
    }
   ],
   "source": []
  },
  {
   "cell_type": "code",
   "execution_count": 80,
   "metadata": {
    "collapsed": false
   },
   "outputs": [
    {
     "data": {
      "text/plain": [
       "array([  8.69897848e+09,   4.64232690e+09,   2.56214833e+09, ...,\n",
       "         2.64837435e+09,   6.30962964e+09,   6.64222509e+09])"
      ]
     },
     "execution_count": 80,
     "metadata": {},
     "output_type": "execute_result"
    }
   ],
   "source": [
    "lookup_result"
   ]
  },
  {
   "cell_type": "code",
   "execution_count": 81,
   "metadata": {
    "collapsed": false
   },
   "outputs": [
    {
     "data": {
      "text/plain": [
       "8698978483.0"
      ]
     },
     "execution_count": 81,
     "metadata": {},
     "output_type": "execute_result"
    }
   ],
   "source": [
    "lookup_result[0]"
   ]
  },
  {
   "cell_type": "code",
   "execution_count": 93,
   "metadata": {
    "collapsed": false
   },
   "outputs": [
    {
     "data": {
      "text/html": [
       "<div>\n",
       "<table border=\"1\" class=\"dataframe\">\n",
       "  <thead>\n",
       "    <tr style=\"text-align: right;\">\n",
       "      <th></th>\n",
       "      <th>row_id</th>\n",
       "      <th>x</th>\n",
       "      <th>y</th>\n",
       "      <th>accuracy</th>\n",
       "      <th>time</th>\n",
       "      <th>place_id</th>\n",
       "    </tr>\n",
       "  </thead>\n",
       "  <tbody>\n",
       "    <tr>\n",
       "      <th>9634669</th>\n",
       "      <td>6221102</td>\n",
       "      <td>3.1468</td>\n",
       "      <td>9.295</td>\n",
       "      <td>5</td>\n",
       "      <td>747383</td>\n",
       "      <td>1385081482</td>\n",
       "    </tr>\n",
       "  </tbody>\n",
       "</table>\n",
       "</div>"
      ],
      "text/plain": [
       "          row_id       x      y  accuracy    time    place_id\n",
       "9634669  6221102  3.1468  9.295         5  747383  1385081482"
      ]
     },
     "execution_count": 93,
     "metadata": {},
     "output_type": "execute_result"
    }
   ],
   "source": [
    "train_data[train_data.index == 9634669]"
   ]
  },
  {
   "cell_type": "code",
   "execution_count": 82,
   "metadata": {
    "collapsed": false
   },
   "outputs": [
    {
     "data": {
      "text/html": [
       "<div>\n",
       "<table border=\"1\" class=\"dataframe\">\n",
       "  <thead>\n",
       "    <tr style=\"text-align: right;\">\n",
       "      <th></th>\n",
       "      <th>row_id</th>\n",
       "      <th>x</th>\n",
       "      <th>y</th>\n",
       "      <th>accuracy</th>\n",
       "      <th>time</th>\n",
       "      <th>place_id</th>\n",
       "    </tr>\n",
       "  </thead>\n",
       "  <tbody>\n",
       "    <tr>\n",
       "      <th>18669727</th>\n",
       "      <td>7140831</td>\n",
       "      <td>7.1489</td>\n",
       "      <td>3.4435</td>\n",
       "      <td>176</td>\n",
       "      <td>598331</td>\n",
       "      <td>4642326904</td>\n",
       "    </tr>\n",
       "  </tbody>\n",
       "</table>\n",
       "</div>"
      ],
      "text/plain": [
       "           row_id       x       y  accuracy    time    place_id\n",
       "18669727  7140831  7.1489  3.4435       176  598331  4642326904"
      ]
     },
     "execution_count": 82,
     "metadata": {},
     "output_type": "execute_result"
    }
   ],
   "source": [
    "train_data[train_data.index == 18669727]"
   ]
  },
  {
   "cell_type": "code",
   "execution_count": 35,
   "metadata": {
    "collapsed": false,
    "scrolled": true
   },
   "outputs": [
    {
     "data": {
      "text/plain": [
       "array([ 0.0005099 ,  0.00072801,  0.00082462,  0.00102956,  0.00111803,\n",
       "        0.00126491,  0.00126491,  0.0013    ,  0.00131529,  0.0014    ,\n",
       "        0.00152315,  0.00158114,  0.00170294,  0.00226716,  0.00248395,\n",
       "        0.00272947,  0.0027313 ,  0.00290689,  0.00296142,  0.00308058,\n",
       "        0.00308869,  0.00311127,  0.00319531,  0.0032249 ,  0.00332415])"
      ]
     },
     "execution_count": 35,
     "metadata": {},
     "output_type": "execute_result"
    }
   ],
   "source": [
    "neighbors[0][0]"
   ]
  },
  {
   "cell_type": "code",
   "execution_count": 36,
   "metadata": {
    "collapsed": false,
    "scrolled": true
   },
   "outputs": [
    {
     "data": {
      "text/plain": [
       "array([12622259,  3004377, 21221593, 22350190, 16486461, 18309455,\n",
       "        9460356,    19571, 10810295,  9739973,   874961, 16365094,\n",
       "        6411481,  8212358,  4593895,  4520747, 20783887, 13534406,\n",
       "       17058773,   980840, 19102243, 12544974,  9550525, 12606175, 15570110], dtype=int64)"
      ]
     },
     "execution_count": 36,
     "metadata": {},
     "output_type": "execute_result"
    }
   ],
   "source": [
    "neighbors[1][0]"
   ]
  },
  {
   "cell_type": "code",
   "execution_count": 37,
   "metadata": {
    "collapsed": true
   },
   "outputs": [],
   "source": [
    "ndf = train_data[train_data.index.isin(neighbors[1][0])]"
   ]
  },
  {
   "cell_type": "code",
   "execution_count": 60,
   "metadata": {
    "collapsed": false,
    "scrolled": false
   },
   "outputs": [
    {
     "data": {
      "text/plain": [
       "9"
      ]
     },
     "execution_count": 60,
     "metadata": {},
     "output_type": "execute_result"
    }
   ],
   "source": [
    "len(ndf.place_id.value_counts())"
   ]
  },
  {
   "cell_type": "code",
   "execution_count": 58,
   "metadata": {
    "collapsed": false
   },
   "outputs": [
    {
     "data": {
      "text/plain": [
       "'8698978483 1480179729'"
      ]
     },
     "execution_count": 58,
     "metadata": {},
     "output_type": "execute_result"
    }
   ],
   "source": [
    "ndf.place_id.value_counts().index[0].astype(str) + ' ' + ndf.place_id.value_counts().index[1].astype(str)"
   ]
  },
  {
   "cell_type": "code",
   "execution_count": 28,
   "metadata": {
    "collapsed": false
   },
   "outputs": [],
   "source": [
    "n = clf.kneighbors([[7.1783,7.2541]])"
   ]
  },
  {
   "cell_type": "code",
   "execution_count": 29,
   "metadata": {
    "collapsed": false
   },
   "outputs": [
    {
     "data": {
      "text/plain": [
       "(array([[ 0.        ,  0.00161245,  0.00170294,  0.0018868 ,  0.00197231,\n",
       "          0.00208087,  0.00219545,  0.00234307,  0.00240208,  0.00254951,\n",
       "          0.00274591,  0.00277849,  0.00311448,  0.00353553,  0.0037    ,\n",
       "          0.00376431,  0.00386005,  0.00390128,  0.00399625,  0.00402492,\n",
       "          0.00403113,  0.00403609,  0.004245  ,  0.00430116,  0.00440114]]),\n",
       " array([[       1,  5851764, 20299954, 17279785, 13936407,  6917442,\n",
       "         18705103, 17415528,  7964344,  9893491, 22547026, 21355351,\n",
       "          8451655,  5615439, 13850709,  5785855,  9258512, 18083233,\n",
       "          9943550, 19874621, 22570072,  3579182,  9027060,  4289469,\n",
       "         21476159]], dtype=int64))"
      ]
     },
     "execution_count": 29,
     "metadata": {},
     "output_type": "execute_result"
    }
   ],
   "source": [
    "n"
   ]
  },
  {
   "cell_type": "code",
   "execution_count": 13,
   "metadata": {
    "collapsed": false
   },
   "outputs": [],
   "source": [
    "for neighbor in neighbors:\n",
    "    train_data[train_data.place_id.isin(neighbor)].place_id"
   ]
  },
  {
   "cell_type": "code",
   "execution_count": null,
   "metadata": {
    "collapsed": true
   },
   "outputs": [],
   "source": []
  },
  {
   "cell_type": "code",
   "execution_count": 99,
   "metadata": {
    "collapsed": false
   },
   "outputs": [],
   "source": [
    "result = neigh.kneighbors(test_set[['x','y']], 3, return_distance=False)\n",
    "resultDF = pd.DataFrame(result, columns=['p1','p2','p3'])\n",
    "resultDF['place_id'] = resultDF['p1'].astype(str) + \" \" + \\\n",
    "                     resultDF['p2'].astype(str) + \" \" + \\\n",
    "                     resultDF['p3'].astype(str)\n",
    "\n",
    "del resultDF['p1']\n",
    "del resultDF['p2']\n",
    "del resultDF['p3']\n",
    "resultDF.to_csv('result.csv', index=True, index_label='row_id')"
   ]
  }
 ],
 "metadata": {
  "kernelspec": {
   "display_name": "Python 3",
   "language": "python",
   "name": "python3"
  },
  "language_info": {
   "codemirror_mode": {
    "name": "ipython",
    "version": 3
   },
   "file_extension": ".py",
   "mimetype": "text/x-python",
   "name": "python",
   "nbconvert_exporter": "python",
   "pygments_lexer": "ipython3",
   "version": "3.5.1"
  }
 },
 "nbformat": 4,
 "nbformat_minor": 0
}
