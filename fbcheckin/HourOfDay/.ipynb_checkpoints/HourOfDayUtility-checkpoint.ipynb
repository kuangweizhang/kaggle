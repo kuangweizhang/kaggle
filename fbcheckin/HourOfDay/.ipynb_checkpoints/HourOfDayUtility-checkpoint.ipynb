{
 "cells": [
  {
   "cell_type": "code",
   "execution_count": 1,
   "metadata": {
    "collapsed": true
   },
   "outputs": [],
   "source": [
    "%matplotlib inline\n",
    "\n",
    "import matplotlib\n",
    "import matplotlib.pyplot as plt\n",
    "import numpy as np\n",
    "import pandas as pd\n",
    "from datetime import datetime"
   ]
  },
  {
   "cell_type": "code",
   "execution_count": 2,
   "metadata": {
    "collapsed": true
   },
   "outputs": [],
   "source": [
    "results = []\n",
    "\n",
    "results.append(pd.read_csv('result1.csv'))\n",
    "results.append(pd.read_csv('result2.csv'))\n",
    "results.append(pd.read_csv('result3.csv'))\n",
    "results.append(pd.read_csv('result4.csv'))\n",
    "results.append(pd.read_csv('result5.csv'))\n",
    "results.append(pd.read_csv('result6.csv'))\n",
    "results.append(pd.read_csv('result7.csv'))\n",
    "results.append(pd.read_csv('result8.csv'))\n",
    "results.append(pd.read_csv('result9.csv'))"
   ]
  },
  {
   "cell_type": "code",
   "execution_count": 10,
   "metadata": {
    "collapsed": false
   },
   "outputs": [],
   "source": [
    "final_result = pd.concat(results)"
   ]
  },
  {
   "cell_type": "code",
   "execution_count": 12,
   "metadata": {
    "collapsed": false
   },
   "outputs": [],
   "source": [
    "isduplicated = final_result.duplicated(\"row_id\")"
   ]
  },
  {
   "cell_type": "code",
   "execution_count": 15,
   "metadata": {
    "collapsed": false,
    "scrolled": true
   },
   "outputs": [
    {
     "data": {
      "text/plain": [
       "4328      True\n",
       "39652     True\n",
       "40916     True\n",
       "96431     True\n",
       "123162    True\n",
       "128640    True\n",
       "181775    True\n",
       "213544    True\n",
       "314179    True\n",
       "349723    True\n",
       "351876    True\n",
       "442927    True\n",
       "454377    True\n",
       "456867    True\n",
       "476788    True\n",
       "485284    True\n",
       "485991    True\n",
       "490722    True\n",
       "517457    True\n",
       "606344    True\n",
       "639018    True\n",
       "656785    True\n",
       "705689    True\n",
       "715638    True\n",
       "751556    True\n",
       "821975    True\n",
       "830172    True\n",
       "842019    True\n",
       "900090    True\n",
       "41177     True\n",
       "          ... \n",
       "485614    True\n",
       "504910    True\n",
       "519287    True\n",
       "533671    True\n",
       "585003    True\n",
       "588907    True\n",
       "591644    True\n",
       "631089    True\n",
       "667699    True\n",
       "683903    True\n",
       "709101    True\n",
       "713531    True\n",
       "718049    True\n",
       "746864    True\n",
       "752152    True\n",
       "756399    True\n",
       "787201    True\n",
       "789107    True\n",
       "837108    True\n",
       "844867    True\n",
       "847980    True\n",
       "848087    True\n",
       "871332    True\n",
       "875740    True\n",
       "886237    True\n",
       "918222    True\n",
       "932840    True\n",
       "933164    True\n",
       "942711    True\n",
       "984943    True\n",
       "dtype: bool"
      ]
     },
     "execution_count": 15,
     "metadata": {},
     "output_type": "execute_result"
    }
   ],
   "source": [
    "isduplicated[isduplicated == True]"
   ]
  },
  {
   "cell_type": "code",
   "execution_count": 16,
   "metadata": {
    "collapsed": false
   },
   "outputs": [
    {
     "data": {
      "text/plain": [
       "331"
      ]
     },
     "execution_count": 16,
     "metadata": {},
     "output_type": "execute_result"
    }
   ],
   "source": [
    "len(isduplicated[isduplicated == True].index)"
   ]
  },
  {
   "cell_type": "code",
   "execution_count": 17,
   "metadata": {
    "collapsed": true
   },
   "outputs": [],
   "source": [
    "final_result.drop_duplicates(\"row_id\", inplace= True)"
   ]
  },
  {
   "cell_type": "code",
   "execution_count": 19,
   "metadata": {
    "collapsed": false
   },
   "outputs": [],
   "source": [
    "isduplicated = final_result.duplicated(\"row_id\")"
   ]
  },
  {
   "cell_type": "code",
   "execution_count": 20,
   "metadata": {
    "collapsed": false
   },
   "outputs": [
    {
     "data": {
      "text/plain": [
       "Series([], dtype: bool)"
      ]
     },
     "execution_count": 20,
     "metadata": {},
     "output_type": "execute_result"
    }
   ],
   "source": [
    "isduplicated[isduplicated == True]"
   ]
  },
  {
   "cell_type": "code",
   "execution_count": 22,
   "metadata": {
    "collapsed": false
   },
   "outputs": [],
   "source": [
    "final_result.sort_values(['row_id'], inplace=True)"
   ]
  },
  {
   "cell_type": "code",
   "execution_count": 23,
   "metadata": {
    "collapsed": false,
    "scrolled": true
   },
   "outputs": [
    {
     "data": {
      "text/html": [
       "<div>\n",
       "<table border=\"1\" class=\"dataframe\">\n",
       "  <thead>\n",
       "    <tr style=\"text-align: right;\">\n",
       "      <th></th>\n",
       "      <th>row_id</th>\n",
       "      <th>place_id</th>\n",
       "    </tr>\n",
       "  </thead>\n",
       "  <tbody>\n",
       "    <tr>\n",
       "      <th>0</th>\n",
       "      <td>0</td>\n",
       "      <td>2647925924 7652380351 6253981821</td>\n",
       "    </tr>\n",
       "    <tr>\n",
       "      <th>0</th>\n",
       "      <td>1</td>\n",
       "      <td>5801740503 2465239230 1271980400</td>\n",
       "    </tr>\n",
       "    <tr>\n",
       "      <th>1</th>\n",
       "      <td>2</td>\n",
       "      <td>2516481553 7862615088 4147895777</td>\n",
       "    </tr>\n",
       "    <tr>\n",
       "      <th>1</th>\n",
       "      <td>3</td>\n",
       "      <td>7995458948 3243409743 8393706174</td>\n",
       "    </tr>\n",
       "    <tr>\n",
       "      <th>0</th>\n",
       "      <td>4</td>\n",
       "      <td>4764406629 8277155346 3661789744</td>\n",
       "    </tr>\n",
       "  </tbody>\n",
       "</table>\n",
       "</div>"
      ],
      "text/plain": [
       "   row_id                           place_id\n",
       "0       0   2647925924 7652380351 6253981821\n",
       "0       1   5801740503 2465239230 1271980400\n",
       "1       2   2516481553 7862615088 4147895777\n",
       "1       3   7995458948 3243409743 8393706174\n",
       "0       4   4764406629 8277155346 3661789744"
      ]
     },
     "execution_count": 23,
     "metadata": {},
     "output_type": "execute_result"
    }
   ],
   "source": [
    "final_result.head()"
   ]
  },
  {
   "cell_type": "code",
   "execution_count": 24,
   "metadata": {
    "collapsed": false
   },
   "outputs": [
    {
     "data": {
      "text/html": [
       "<div>\n",
       "<table border=\"1\" class=\"dataframe\">\n",
       "  <thead>\n",
       "    <tr style=\"text-align: right;\">\n",
       "      <th></th>\n",
       "      <th>row_id</th>\n",
       "      <th>place_id</th>\n",
       "    </tr>\n",
       "  </thead>\n",
       "  <tbody>\n",
       "    <tr>\n",
       "      <th>947031</th>\n",
       "      <td>8607225</td>\n",
       "      <td>6388207576 1450752225 5831495752</td>\n",
       "    </tr>\n",
       "    <tr>\n",
       "      <th>947032</th>\n",
       "      <td>8607226</td>\n",
       "      <td>9482625693 8203932359 6379437992</td>\n",
       "    </tr>\n",
       "    <tr>\n",
       "      <th>989970</th>\n",
       "      <td>8607227</td>\n",
       "      <td>9466512367 3362837051 8431688574</td>\n",
       "    </tr>\n",
       "    <tr>\n",
       "      <th>935702</th>\n",
       "      <td>8607228</td>\n",
       "      <td>6645978051 8822589364 2649611830</td>\n",
       "    </tr>\n",
       "    <tr>\n",
       "      <th>989971</th>\n",
       "      <td>8607229</td>\n",
       "      <td>1221929656 2341683842 4358647823</td>\n",
       "    </tr>\n",
       "  </tbody>\n",
       "</table>\n",
       "</div>"
      ],
      "text/plain": [
       "         row_id                           place_id\n",
       "947031  8607225   6388207576 1450752225 5831495752\n",
       "947032  8607226   9482625693 8203932359 6379437992\n",
       "989970  8607227   9466512367 3362837051 8431688574\n",
       "935702  8607228   6645978051 8822589364 2649611830\n",
       "989971  8607229   1221929656 2341683842 4358647823"
      ]
     },
     "execution_count": 24,
     "metadata": {},
     "output_type": "execute_result"
    }
   ],
   "source": [
    "final_result.tail()"
   ]
  },
  {
   "cell_type": "code",
   "execution_count": 26,
   "metadata": {
    "collapsed": false
   },
   "outputs": [],
   "source": [
    "final_result.index = np.arange(0,8607230)"
   ]
  },
  {
   "cell_type": "code",
   "execution_count": 27,
   "metadata": {
    "collapsed": false
   },
   "outputs": [
    {
     "data": {
      "text/html": [
       "<div>\n",
       "<table border=\"1\" class=\"dataframe\">\n",
       "  <thead>\n",
       "    <tr style=\"text-align: right;\">\n",
       "      <th></th>\n",
       "      <th>row_id</th>\n",
       "      <th>place_id</th>\n",
       "    </tr>\n",
       "  </thead>\n",
       "  <tbody>\n",
       "    <tr>\n",
       "      <th>8607225</th>\n",
       "      <td>8607225</td>\n",
       "      <td>6388207576 1450752225 5831495752</td>\n",
       "    </tr>\n",
       "    <tr>\n",
       "      <th>8607226</th>\n",
       "      <td>8607226</td>\n",
       "      <td>9482625693 8203932359 6379437992</td>\n",
       "    </tr>\n",
       "    <tr>\n",
       "      <th>8607227</th>\n",
       "      <td>8607227</td>\n",
       "      <td>9466512367 3362837051 8431688574</td>\n",
       "    </tr>\n",
       "    <tr>\n",
       "      <th>8607228</th>\n",
       "      <td>8607228</td>\n",
       "      <td>6645978051 8822589364 2649611830</td>\n",
       "    </tr>\n",
       "    <tr>\n",
       "      <th>8607229</th>\n",
       "      <td>8607229</td>\n",
       "      <td>1221929656 2341683842 4358647823</td>\n",
       "    </tr>\n",
       "  </tbody>\n",
       "</table>\n",
       "</div>"
      ],
      "text/plain": [
       "          row_id                           place_id\n",
       "8607225  8607225   6388207576 1450752225 5831495752\n",
       "8607226  8607226   9482625693 8203932359 6379437992\n",
       "8607227  8607227   9466512367 3362837051 8431688574\n",
       "8607228  8607228   6645978051 8822589364 2649611830\n",
       "8607229  8607229   1221929656 2341683842 4358647823"
      ]
     },
     "execution_count": 27,
     "metadata": {},
     "output_type": "execute_result"
    }
   ],
   "source": [
    "final_result.tail()"
   ]
  },
  {
   "cell_type": "code",
   "execution_count": 29,
   "metadata": {
    "collapsed": true
   },
   "outputs": [],
   "source": [
    "final_result.to_csv('final.csv', index=False, index_label=False)"
   ]
  },
  {
   "cell_type": "markdown",
   "metadata": {},
   "source": [
    "Submission: 0.52486"
   ]
  }
 ],
 "metadata": {
  "kernelspec": {
   "display_name": "Python 3",
   "language": "python",
   "name": "python3"
  },
  "language_info": {
   "codemirror_mode": {
    "name": "ipython",
    "version": 3
   },
   "file_extension": ".py",
   "mimetype": "text/x-python",
   "name": "python",
   "nbconvert_exporter": "python",
   "pygments_lexer": "ipython3",
   "version": "3.5.1"
  }
 },
 "nbformat": 4,
 "nbformat_minor": 0
}
