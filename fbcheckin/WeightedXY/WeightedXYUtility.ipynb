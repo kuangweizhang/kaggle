{
 "cells": [
  {
   "cell_type": "code",
   "execution_count": 1,
   "metadata": {
    "collapsed": true
   },
   "outputs": [],
   "source": [
    "%matplotlib inline\n",
    "\n",
    "import matplotlib\n",
    "import matplotlib.pyplot as plt\n",
    "import numpy as np\n",
    "import pandas as pd\n",
    "from datetime import datetime"
   ]
  },
  {
   "cell_type": "code",
   "execution_count": 2,
   "metadata": {
    "collapsed": true
   },
   "outputs": [],
   "source": [
    "results = []\n",
    "\n",
    "results.append(pd.read_csv('m6result1.csv'))\n",
    "results.append(pd.read_csv('m6result2.csv'))\n",
    "results.append(pd.read_csv('m6result3.csv'))\n",
    "results.append(pd.read_csv('m6result4.csv'))\n",
    "results.append(pd.read_csv('m6result5.csv'))\n",
    "results.append(pd.read_csv('m6result6.csv'))\n",
    "results.append(pd.read_csv('m6result7.csv'))\n",
    "results.append(pd.read_csv('m6result8.csv'))\n",
    "results.append(pd.read_csv('m6result9.csv'))"
   ]
  },
  {
   "cell_type": "code",
   "execution_count": 3,
   "metadata": {
    "collapsed": false
   },
   "outputs": [],
   "source": [
    "final_result = pd.concat(results)"
   ]
  },
  {
   "cell_type": "code",
   "execution_count": 4,
   "metadata": {
    "collapsed": false
   },
   "outputs": [],
   "source": [
    "isduplicated = final_result.duplicated(\"row_id\")"
   ]
  },
  {
   "cell_type": "code",
   "execution_count": 5,
   "metadata": {
    "collapsed": false,
    "scrolled": true
   },
   "outputs": [
    {
     "data": {
      "text/plain": [
       "4328      True\n",
       "39652     True\n",
       "40916     True\n",
       "96431     True\n",
       "123162    True\n",
       "128640    True\n",
       "181775    True\n",
       "213544    True\n",
       "314179    True\n",
       "349723    True\n",
       "351876    True\n",
       "442927    True\n",
       "454377    True\n",
       "456867    True\n",
       "476788    True\n",
       "485284    True\n",
       "485991    True\n",
       "490722    True\n",
       "517457    True\n",
       "606344    True\n",
       "639018    True\n",
       "656785    True\n",
       "705689    True\n",
       "715638    True\n",
       "751556    True\n",
       "821975    True\n",
       "830172    True\n",
       "842019    True\n",
       "900090    True\n",
       "41177     True\n",
       "          ... \n",
       "485614    True\n",
       "504910    True\n",
       "519287    True\n",
       "533671    True\n",
       "585003    True\n",
       "588907    True\n",
       "591644    True\n",
       "631089    True\n",
       "667699    True\n",
       "683903    True\n",
       "709101    True\n",
       "713531    True\n",
       "718049    True\n",
       "746864    True\n",
       "752152    True\n",
       "756399    True\n",
       "787201    True\n",
       "789107    True\n",
       "837108    True\n",
       "844867    True\n",
       "847980    True\n",
       "848087    True\n",
       "871332    True\n",
       "875740    True\n",
       "886237    True\n",
       "918222    True\n",
       "932840    True\n",
       "933164    True\n",
       "942711    True\n",
       "984943    True\n",
       "dtype: bool"
      ]
     },
     "execution_count": 5,
     "metadata": {},
     "output_type": "execute_result"
    }
   ],
   "source": [
    "isduplicated[isduplicated == True]"
   ]
  },
  {
   "cell_type": "code",
   "execution_count": 6,
   "metadata": {
    "collapsed": false
   },
   "outputs": [
    {
     "data": {
      "text/plain": [
       "331"
      ]
     },
     "execution_count": 6,
     "metadata": {},
     "output_type": "execute_result"
    }
   ],
   "source": [
    "len(isduplicated[isduplicated == True].index)"
   ]
  },
  {
   "cell_type": "code",
   "execution_count": 7,
   "metadata": {
    "collapsed": true
   },
   "outputs": [],
   "source": [
    "final_result.drop_duplicates(\"row_id\", inplace= True)"
   ]
  },
  {
   "cell_type": "code",
   "execution_count": 8,
   "metadata": {
    "collapsed": false
   },
   "outputs": [],
   "source": [
    "isduplicated = final_result.duplicated(\"row_id\")"
   ]
  },
  {
   "cell_type": "code",
   "execution_count": 9,
   "metadata": {
    "collapsed": false
   },
   "outputs": [
    {
     "data": {
      "text/plain": [
       "Series([], dtype: bool)"
      ]
     },
     "execution_count": 9,
     "metadata": {},
     "output_type": "execute_result"
    }
   ],
   "source": [
    "isduplicated[isduplicated == True]"
   ]
  },
  {
   "cell_type": "code",
   "execution_count": 10,
   "metadata": {
    "collapsed": false
   },
   "outputs": [],
   "source": [
    "final_result.sort_values(['row_id'], inplace=True)"
   ]
  },
  {
   "cell_type": "code",
   "execution_count": 11,
   "metadata": {
    "collapsed": false,
    "scrolled": true
   },
   "outputs": [
    {
     "data": {
      "text/html": [
       "<div>\n",
       "<table border=\"1\" class=\"dataframe\">\n",
       "  <thead>\n",
       "    <tr style=\"text-align: right;\">\n",
       "      <th></th>\n",
       "      <th>row_id</th>\n",
       "      <th>place_id</th>\n",
       "    </tr>\n",
       "  </thead>\n",
       "  <tbody>\n",
       "    <tr>\n",
       "      <th>0</th>\n",
       "      <td>0</td>\n",
       "      <td>8017323210 3831655216 7652380351</td>\n",
       "    </tr>\n",
       "    <tr>\n",
       "      <th>0</th>\n",
       "      <td>1</td>\n",
       "      <td>2465239230 4634106612 1790496896</td>\n",
       "    </tr>\n",
       "    <tr>\n",
       "      <th>1</th>\n",
       "      <td>2</td>\n",
       "      <td>2516481553 7862615088 2653128693</td>\n",
       "    </tr>\n",
       "    <tr>\n",
       "      <th>1</th>\n",
       "      <td>3</td>\n",
       "      <td>7995458948 8393706174 2063144012</td>\n",
       "    </tr>\n",
       "    <tr>\n",
       "      <th>0</th>\n",
       "      <td>4</td>\n",
       "      <td>4764406629 8277155346 8711861736</td>\n",
       "    </tr>\n",
       "  </tbody>\n",
       "</table>\n",
       "</div>"
      ],
      "text/plain": [
       "   row_id                           place_id\n",
       "0       0   8017323210 3831655216 7652380351\n",
       "0       1   2465239230 4634106612 1790496896\n",
       "1       2   2516481553 7862615088 2653128693\n",
       "1       3   7995458948 8393706174 2063144012\n",
       "0       4   4764406629 8277155346 8711861736"
      ]
     },
     "execution_count": 11,
     "metadata": {},
     "output_type": "execute_result"
    }
   ],
   "source": [
    "final_result.head()"
   ]
  },
  {
   "cell_type": "code",
   "execution_count": 12,
   "metadata": {
    "collapsed": false
   },
   "outputs": [
    {
     "data": {
      "text/html": [
       "<div>\n",
       "<table border=\"1\" class=\"dataframe\">\n",
       "  <thead>\n",
       "    <tr style=\"text-align: right;\">\n",
       "      <th></th>\n",
       "      <th>row_id</th>\n",
       "      <th>place_id</th>\n",
       "    </tr>\n",
       "  </thead>\n",
       "  <tbody>\n",
       "    <tr>\n",
       "      <th>947031</th>\n",
       "      <td>8607225</td>\n",
       "      <td>6388207576 5831495752 1450752225</td>\n",
       "    </tr>\n",
       "    <tr>\n",
       "      <th>947032</th>\n",
       "      <td>8607226</td>\n",
       "      <td>9482625693 8203932359 3071064812</td>\n",
       "    </tr>\n",
       "    <tr>\n",
       "      <th>989970</th>\n",
       "      <td>8607227</td>\n",
       "      <td>9466512367 3362837051 6422555124</td>\n",
       "    </tr>\n",
       "    <tr>\n",
       "      <th>935702</th>\n",
       "      <td>8607228</td>\n",
       "      <td>6645978051 2649611830 6144260946</td>\n",
       "    </tr>\n",
       "    <tr>\n",
       "      <th>989971</th>\n",
       "      <td>8607229</td>\n",
       "      <td>1221929656 2341683842 9400117788</td>\n",
       "    </tr>\n",
       "  </tbody>\n",
       "</table>\n",
       "</div>"
      ],
      "text/plain": [
       "         row_id                           place_id\n",
       "947031  8607225   6388207576 5831495752 1450752225\n",
       "947032  8607226   9482625693 8203932359 3071064812\n",
       "989970  8607227   9466512367 3362837051 6422555124\n",
       "935702  8607228   6645978051 2649611830 6144260946\n",
       "989971  8607229   1221929656 2341683842 9400117788"
      ]
     },
     "execution_count": 12,
     "metadata": {},
     "output_type": "execute_result"
    }
   ],
   "source": [
    "final_result.tail()"
   ]
  },
  {
   "cell_type": "code",
   "execution_count": 13,
   "metadata": {
    "collapsed": false
   },
   "outputs": [],
   "source": [
    "final_result.index = np.arange(0,8607230)"
   ]
  },
  {
   "cell_type": "code",
   "execution_count": 14,
   "metadata": {
    "collapsed": false
   },
   "outputs": [
    {
     "data": {
      "text/html": [
       "<div>\n",
       "<table border=\"1\" class=\"dataframe\">\n",
       "  <thead>\n",
       "    <tr style=\"text-align: right;\">\n",
       "      <th></th>\n",
       "      <th>row_id</th>\n",
       "      <th>place_id</th>\n",
       "    </tr>\n",
       "  </thead>\n",
       "  <tbody>\n",
       "    <tr>\n",
       "      <th>8607225</th>\n",
       "      <td>8607225</td>\n",
       "      <td>6388207576 5831495752 1450752225</td>\n",
       "    </tr>\n",
       "    <tr>\n",
       "      <th>8607226</th>\n",
       "      <td>8607226</td>\n",
       "      <td>9482625693 8203932359 3071064812</td>\n",
       "    </tr>\n",
       "    <tr>\n",
       "      <th>8607227</th>\n",
       "      <td>8607227</td>\n",
       "      <td>9466512367 3362837051 6422555124</td>\n",
       "    </tr>\n",
       "    <tr>\n",
       "      <th>8607228</th>\n",
       "      <td>8607228</td>\n",
       "      <td>6645978051 2649611830 6144260946</td>\n",
       "    </tr>\n",
       "    <tr>\n",
       "      <th>8607229</th>\n",
       "      <td>8607229</td>\n",
       "      <td>1221929656 2341683842 9400117788</td>\n",
       "    </tr>\n",
       "  </tbody>\n",
       "</table>\n",
       "</div>"
      ],
      "text/plain": [
       "          row_id                           place_id\n",
       "8607225  8607225   6388207576 5831495752 1450752225\n",
       "8607226  8607226   9482625693 8203932359 3071064812\n",
       "8607227  8607227   9466512367 3362837051 6422555124\n",
       "8607228  8607228   6645978051 2649611830 6144260946\n",
       "8607229  8607229   1221929656 2341683842 9400117788"
      ]
     },
     "execution_count": 14,
     "metadata": {},
     "output_type": "execute_result"
    }
   ],
   "source": [
    "final_result.tail()"
   ]
  },
  {
   "cell_type": "code",
   "execution_count": 15,
   "metadata": {
    "collapsed": true
   },
   "outputs": [],
   "source": [
    "final_result.to_csv('m6final.csv', index=False, index_label=False)"
   ]
  }
 ],
 "metadata": {
  "kernelspec": {
   "display_name": "Python 3",
   "language": "python",
   "name": "python3"
  },
  "language_info": {
   "codemirror_mode": {
    "name": "ipython",
    "version": 3
   },
   "file_extension": ".py",
   "mimetype": "text/x-python",
   "name": "python",
   "nbconvert_exporter": "python",
   "pygments_lexer": "ipython3",
   "version": "3.5.1"
  }
 },
 "nbformat": 4,
 "nbformat_minor": 0
}
