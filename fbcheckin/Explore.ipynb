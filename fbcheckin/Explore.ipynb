{
 "cells": [
  {
   "cell_type": "code",
   "execution_count": 1,
   "metadata": {
    "collapsed": true
   },
   "outputs": [],
   "source": [
    "%matplotlib inline\n",
    "\n",
    "import matplotlib\n",
    "import matplotlib.pyplot as plt\n",
    "import numpy as np\n",
    "import pandas as pd\n",
    "train_set = pd.read_csv('train.csv')\n",
    "test_set = pd.read_csv('test.csv')"
   ]
  },
  {
   "cell_type": "code",
   "execution_count": 2,
   "metadata": {
    "collapsed": true
   },
   "outputs": [],
   "source": [
    "sample_submission = pd.read_csv('sample_submission.csv')"
   ]
  },
  {
   "cell_type": "code",
   "execution_count": 3,
   "metadata": {
    "collapsed": false
   },
   "outputs": [
    {
     "data": {
      "text/html": [
       "<div>\n",
       "<table border=\"1\" class=\"dataframe\">\n",
       "  <thead>\n",
       "    <tr style=\"text-align: right;\">\n",
       "      <th></th>\n",
       "      <th>row_id</th>\n",
       "      <th>place_id</th>\n",
       "    </tr>\n",
       "  </thead>\n",
       "  <tbody>\n",
       "    <tr>\n",
       "      <th>0</th>\n",
       "      <td>0</td>\n",
       "      <td>3073560757 9004412889 5652080691</td>\n",
       "    </tr>\n",
       "    <tr>\n",
       "      <th>1</th>\n",
       "      <td>1</td>\n",
       "      <td>1652178628 4379515211 6612350960</td>\n",
       "    </tr>\n",
       "    <tr>\n",
       "      <th>2</th>\n",
       "      <td>2</td>\n",
       "      <td>4894407065 3920195083 7608574746</td>\n",
       "    </tr>\n",
       "    <tr>\n",
       "      <th>3</th>\n",
       "      <td>3</td>\n",
       "      <td>7272466660 2004687925 1455486822</td>\n",
       "    </tr>\n",
       "    <tr>\n",
       "      <th>4</th>\n",
       "      <td>4</td>\n",
       "      <td>4720452725 4967325204 4782917866</td>\n",
       "    </tr>\n",
       "  </tbody>\n",
       "</table>\n",
       "</div>"
      ],
      "text/plain": [
       "   row_id                          place_id\n",
       "0       0  3073560757 9004412889 5652080691\n",
       "1       1  1652178628 4379515211 6612350960\n",
       "2       2  4894407065 3920195083 7608574746\n",
       "3       3  7272466660 2004687925 1455486822\n",
       "4       4  4720452725 4967325204 4782917866"
      ]
     },
     "execution_count": 3,
     "metadata": {},
     "output_type": "execute_result"
    }
   ],
   "source": [
    "sample_submission.head()"
   ]
  },
  {
   "cell_type": "code",
   "execution_count": 4,
   "metadata": {
    "collapsed": false
   },
   "outputs": [
    {
     "data": {
      "text/plain": [
       "8607230"
      ]
     },
     "execution_count": 4,
     "metadata": {},
     "output_type": "execute_result"
    }
   ],
   "source": [
    "len(sample_submission.index)"
   ]
  },
  {
   "cell_type": "code",
   "execution_count": 5,
   "metadata": {
    "collapsed": false
   },
   "outputs": [
    {
     "data": {
      "text/html": [
       "<div>\n",
       "<table border=\"1\" class=\"dataframe\">\n",
       "  <thead>\n",
       "    <tr style=\"text-align: right;\">\n",
       "      <th></th>\n",
       "      <th>row_id</th>\n",
       "      <th>x</th>\n",
       "      <th>y</th>\n",
       "      <th>accuracy</th>\n",
       "      <th>time</th>\n",
       "      <th>place_id</th>\n",
       "    </tr>\n",
       "  </thead>\n",
       "  <tbody>\n",
       "    <tr>\n",
       "      <th>0</th>\n",
       "      <td>0</td>\n",
       "      <td>0.7941</td>\n",
       "      <td>9.0809</td>\n",
       "      <td>54</td>\n",
       "      <td>470702</td>\n",
       "      <td>8523065625</td>\n",
       "    </tr>\n",
       "    <tr>\n",
       "      <th>1</th>\n",
       "      <td>1</td>\n",
       "      <td>5.9567</td>\n",
       "      <td>4.7968</td>\n",
       "      <td>13</td>\n",
       "      <td>186555</td>\n",
       "      <td>1757726713</td>\n",
       "    </tr>\n",
       "    <tr>\n",
       "      <th>2</th>\n",
       "      <td>2</td>\n",
       "      <td>8.3078</td>\n",
       "      <td>7.0407</td>\n",
       "      <td>74</td>\n",
       "      <td>322648</td>\n",
       "      <td>1137537235</td>\n",
       "    </tr>\n",
       "    <tr>\n",
       "      <th>3</th>\n",
       "      <td>3</td>\n",
       "      <td>7.3665</td>\n",
       "      <td>2.5165</td>\n",
       "      <td>65</td>\n",
       "      <td>704587</td>\n",
       "      <td>6567393236</td>\n",
       "    </tr>\n",
       "    <tr>\n",
       "      <th>4</th>\n",
       "      <td>4</td>\n",
       "      <td>4.0961</td>\n",
       "      <td>1.1307</td>\n",
       "      <td>31</td>\n",
       "      <td>472130</td>\n",
       "      <td>7440663949</td>\n",
       "    </tr>\n",
       "  </tbody>\n",
       "</table>\n",
       "</div>"
      ],
      "text/plain": [
       "   row_id       x       y  accuracy    time    place_id\n",
       "0       0  0.7941  9.0809        54  470702  8523065625\n",
       "1       1  5.9567  4.7968        13  186555  1757726713\n",
       "2       2  8.3078  7.0407        74  322648  1137537235\n",
       "3       3  7.3665  2.5165        65  704587  6567393236\n",
       "4       4  4.0961  1.1307        31  472130  7440663949"
      ]
     },
     "execution_count": 5,
     "metadata": {},
     "output_type": "execute_result"
    }
   ],
   "source": [
    "train_set.head()"
   ]
  },
  {
   "cell_type": "code",
   "execution_count": 6,
   "metadata": {
    "collapsed": false
   },
   "outputs": [
    {
     "data": {
      "text/html": [
       "<div>\n",
       "<table border=\"1\" class=\"dataframe\">\n",
       "  <thead>\n",
       "    <tr style=\"text-align: right;\">\n",
       "      <th></th>\n",
       "      <th>row_id</th>\n",
       "      <th>x</th>\n",
       "      <th>y</th>\n",
       "      <th>accuracy</th>\n",
       "      <th>time</th>\n",
       "      <th>place_id</th>\n",
       "    </tr>\n",
       "  </thead>\n",
       "  <tbody>\n",
       "    <tr>\n",
       "      <th>29118016</th>\n",
       "      <td>29118016</td>\n",
       "      <td>6.5133</td>\n",
       "      <td>1.1435</td>\n",
       "      <td>67</td>\n",
       "      <td>399740</td>\n",
       "      <td>8671361106</td>\n",
       "    </tr>\n",
       "    <tr>\n",
       "      <th>29118017</th>\n",
       "      <td>29118017</td>\n",
       "      <td>5.9186</td>\n",
       "      <td>4.4134</td>\n",
       "      <td>67</td>\n",
       "      <td>125480</td>\n",
       "      <td>9077887898</td>\n",
       "    </tr>\n",
       "    <tr>\n",
       "      <th>29118018</th>\n",
       "      <td>29118018</td>\n",
       "      <td>2.9993</td>\n",
       "      <td>6.3680</td>\n",
       "      <td>67</td>\n",
       "      <td>737758</td>\n",
       "      <td>2838334300</td>\n",
       "    </tr>\n",
       "    <tr>\n",
       "      <th>29118019</th>\n",
       "      <td>29118019</td>\n",
       "      <td>4.0637</td>\n",
       "      <td>8.0061</td>\n",
       "      <td>70</td>\n",
       "      <td>764975</td>\n",
       "      <td>1007355847</td>\n",
       "    </tr>\n",
       "    <tr>\n",
       "      <th>29118020</th>\n",
       "      <td>29118020</td>\n",
       "      <td>7.4523</td>\n",
       "      <td>2.0871</td>\n",
       "      <td>17</td>\n",
       "      <td>102842</td>\n",
       "      <td>7028698129</td>\n",
       "    </tr>\n",
       "  </tbody>\n",
       "</table>\n",
       "</div>"
      ],
      "text/plain": [
       "            row_id       x       y  accuracy    time    place_id\n",
       "29118016  29118016  6.5133  1.1435        67  399740  8671361106\n",
       "29118017  29118017  5.9186  4.4134        67  125480  9077887898\n",
       "29118018  29118018  2.9993  6.3680        67  737758  2838334300\n",
       "29118019  29118019  4.0637  8.0061        70  764975  1007355847\n",
       "29118020  29118020  7.4523  2.0871        17  102842  7028698129"
      ]
     },
     "execution_count": 6,
     "metadata": {},
     "output_type": "execute_result"
    }
   ],
   "source": [
    "train_set.tail()"
   ]
  },
  {
   "cell_type": "code",
   "execution_count": 7,
   "metadata": {
    "collapsed": false,
    "scrolled": true
   },
   "outputs": [
    {
     "data": {
      "text/plain": [
       "count    29118021.000000\n",
       "mean            4.999770\n",
       "std             2.857601\n",
       "min             0.000000\n",
       "25%             2.534700\n",
       "50%             5.009100\n",
       "75%             7.461400\n",
       "max            10.000000\n",
       "Name: x, dtype: float64"
      ]
     },
     "execution_count": 7,
     "metadata": {},
     "output_type": "execute_result"
    }
   ],
   "source": [
    "train_set.x.describe()"
   ]
  },
  {
   "cell_type": "code",
   "execution_count": 8,
   "metadata": {
    "collapsed": false,
    "scrolled": true
   },
   "outputs": [
    {
     "data": {
      "text/plain": [
       "count    29118021.000000\n",
       "mean            5.001814\n",
       "std             2.887505\n",
       "min             0.000000\n",
       "25%             2.496700\n",
       "50%             4.988300\n",
       "75%             7.510300\n",
       "max            10.000000\n",
       "Name: y, dtype: float64"
      ]
     },
     "execution_count": 8,
     "metadata": {},
     "output_type": "execute_result"
    }
   ],
   "source": [
    "train_set.y.describe()"
   ]
  },
  {
   "cell_type": "code",
   "execution_count": 9,
   "metadata": {
    "collapsed": false
   },
   "outputs": [
    {
     "data": {
      "text/plain": [
       "count    29118021.000000\n",
       "mean           82.849125\n",
       "std           114.751772\n",
       "min             1.000000\n",
       "25%            27.000000\n",
       "50%            62.000000\n",
       "75%            75.000000\n",
       "max          1033.000000\n",
       "Name: accuracy, dtype: float64"
      ]
     },
     "execution_count": 9,
     "metadata": {},
     "output_type": "execute_result"
    }
   ],
   "source": [
    "train_set.accuracy.describe()"
   ]
  },
  {
   "cell_type": "code",
   "execution_count": 10,
   "metadata": {
    "collapsed": false
   },
   "outputs": [
    {
     "data": {
      "text/plain": [
       "count    29118021.000000\n",
       "mean       417010.364723\n",
       "std        231176.146498\n",
       "min             1.000000\n",
       "25%        203057.000000\n",
       "50%        433922.000000\n",
       "75%        620491.000000\n",
       "max        786239.000000\n",
       "Name: time, dtype: float64"
      ]
     },
     "execution_count": 10,
     "metadata": {},
     "output_type": "execute_result"
    }
   ],
   "source": [
    "train_set.time.describe()"
   ]
  },
  {
   "cell_type": "code",
   "execution_count": 11,
   "metadata": {
    "collapsed": false
   },
   "outputs": [
    {
     "data": {
      "text/plain": [
       "count    8607230.000000\n",
       "mean      890463.661617\n",
       "std        64467.829800\n",
       "min       786242.000000\n",
       "25%       833220.000000\n",
       "50%       887462.000000\n",
       "75%       945491.000000\n",
       "max      1006589.000000\n",
       "Name: time, dtype: float64"
      ]
     },
     "execution_count": 11,
     "metadata": {},
     "output_type": "execute_result"
    }
   ],
   "source": [
    "test_set.time.describe()"
   ]
  },
  {
   "cell_type": "code",
   "execution_count": 12,
   "metadata": {
    "collapsed": false
   },
   "outputs": [
    {
     "data": {
      "text/plain": [
       "count    2.911802e+07\n",
       "mean     5.493787e+09\n",
       "std      2.611088e+09\n",
       "min      1.000016e+09\n",
       "25%      3.222911e+09\n",
       "50%      5.518573e+09\n",
       "75%      7.764307e+09\n",
       "max      9.999932e+09\n",
       "Name: place_id, dtype: float64"
      ]
     },
     "execution_count": 12,
     "metadata": {},
     "output_type": "execute_result"
    }
   ],
   "source": [
    "train_set.place_id.describe()"
   ]
  },
  {
   "cell_type": "code",
   "execution_count": 13,
   "metadata": {
    "collapsed": false
   },
   "outputs": [],
   "source": [
    "unique_id = train_set.place_id.unique()"
   ]
  },
  {
   "cell_type": "code",
   "execution_count": 14,
   "metadata": {
    "collapsed": false
   },
   "outputs": [
    {
     "data": {
      "text/plain": [
       "108390"
      ]
     },
     "execution_count": 14,
     "metadata": {},
     "output_type": "execute_result"
    }
   ],
   "source": [
    "len(unique_id)"
   ]
  },
  {
   "cell_type": "code",
   "execution_count": 15,
   "metadata": {
    "collapsed": false
   },
   "outputs": [
    {
     "data": {
      "text/plain": [
       "count    108390.000000\n",
       "mean        268.641212\n",
       "std         267.944598\n",
       "min           1.000000\n",
       "25%          98.000000\n",
       "50%         163.000000\n",
       "75%         333.000000\n",
       "max        1849.000000\n",
       "Name: place_id, dtype: float64"
      ]
     },
     "execution_count": 15,
     "metadata": {},
     "output_type": "execute_result"
    }
   ],
   "source": [
    "train_set.place_id.value_counts().describe()"
   ]
  },
  {
   "cell_type": "code",
   "execution_count": 16,
   "metadata": {
    "collapsed": false
   },
   "outputs": [
    {
     "data": {
      "text/plain": [
       "numpy.ndarray"
      ]
     },
     "execution_count": 16,
     "metadata": {},
     "output_type": "execute_result"
    }
   ],
   "source": [
    "type(unique_id)"
   ]
  },
  {
   "cell_type": "code",
   "execution_count": 17,
   "metadata": {
    "collapsed": false,
    "scrolled": true
   },
   "outputs": [
    {
     "data": {
      "text/plain": [
       "array([ 18347,  66830, 105689,  37298,  67011,  40370,  81496,  96345,\n",
       "        59058,  80025])"
      ]
     },
     "execution_count": 17,
     "metadata": {},
     "output_type": "execute_result"
    }
   ],
   "source": [
    "random_index = np.random.choice(len(unique_id), 10)\n",
    "random_index"
   ]
  },
  {
   "cell_type": "code",
   "execution_count": 18,
   "metadata": {
    "collapsed": false,
    "scrolled": true
   },
   "outputs": [],
   "source": [
    "place1 = train_set[train_set.place_id == unique_id[random_index[8]]]"
   ]
  },
  {
   "cell_type": "code",
   "execution_count": 19,
   "metadata": {
    "collapsed": false
   },
   "outputs": [
    {
     "data": {
      "text/plain": [
       "259"
      ]
     },
     "execution_count": 19,
     "metadata": {},
     "output_type": "execute_result"
    }
   ],
   "source": [
    "len(place1)"
   ]
  },
  {
   "cell_type": "code",
   "execution_count": 20,
   "metadata": {
    "collapsed": false,
    "scrolled": true
   },
   "outputs": [
    {
     "data": {
      "text/plain": [
       "<matplotlib.axes._subplots.AxesSubplot at 0x20b00190b70>"
      ]
     },
     "execution_count": 20,
     "metadata": {},
     "output_type": "execute_result"
    },
    {
     "data": {
      "image/png": "[encoded data removed]",
      "text/plain": [
       "<matplotlib.figure.Figure at 0x20b001906a0>"
      ]
     },
     "metadata": {},
     "output_type": "display_data"
    }
   ],
   "source": [
    "plt.ylim([0,10])\n",
    "place1.x.plot()"
   ]
  },
  {
   "cell_type": "code",
   "execution_count": 21,
   "metadata": {
    "collapsed": false,
    "scrolled": true
   },
   "outputs": [
    {
     "data": {
      "text/plain": [
       "<matplotlib.axes._subplots.AxesSubplot at 0x20b0037e9b0>"
      ]
     },
     "execution_count": 21,
     "metadata": {},
     "output_type": "execute_result"
    },
    {
     "data": {
      "image/png": "[encoded data removed]",
      "text/plain": [
       "<matplotlib.figure.Figure at 0x20b00372be0>"
      ]
     },
     "metadata": {},
     "output_type": "display_data"
    }
   ],
   "source": [
    "plt.ylim([0,10])\n",
    "place1.y.plot()"
   ]
  },
  {
   "cell_type": "code",
   "execution_count": 22,
   "metadata": {
    "collapsed": false,
    "scrolled": true
   },
   "outputs": [
    {
     "data": {
      "text/plain": [
       "count    259.000000\n",
       "mean       5.717378\n",
       "std        0.547505\n",
       "min        1.158300\n",
       "25%        5.688050\n",
       "50%        5.723400\n",
       "75%        5.785200\n",
       "max        8.538000\n",
       "Name: x, dtype: float64"
      ]
     },
     "execution_count": 22,
     "metadata": {},
     "output_type": "execute_result"
    }
   ],
   "source": [
    "place1.x.describe()"
   ]
  },
  {
   "cell_type": "code",
   "execution_count": 23,
   "metadata": {
    "collapsed": false
   },
   "outputs": [
    {
     "data": {
      "text/plain": [
       "count    259.000000\n",
       "mean       0.452148\n",
       "std        0.010982\n",
       "min        0.426400\n",
       "25%        0.444300\n",
       "50%        0.452000\n",
       "75%        0.458250\n",
       "max        0.525900\n",
       "Name: y, dtype: float64"
      ]
     },
     "execution_count": 23,
     "metadata": {},
     "output_type": "execute_result"
    }
   ],
   "source": [
    "place1.y.describe()"
   ]
  },
  {
   "cell_type": "code",
   "execution_count": 24,
   "metadata": {
    "collapsed": false,
    "scrolled": true
   },
   "outputs": [
    {
     "data": {
      "text/plain": [
       "[<matplotlib.lines.Line2D at 0x20b005d3128>]"
      ]
     },
     "execution_count": 24,
     "metadata": {},
     "output_type": "execute_result"
    },
    {
     "data": {
      "image/png": "[encoded data removed]",
      "text/plain": [
       "<matplotlib.figure.Figure at 0x20b005dc828>"
      ]
     },
     "metadata": {},
     "output_type": "display_data"
    }
   ],
   "source": [
    "plt.figure(figsize=(5, 5))\n",
    "plt.ylim([0,10])\n",
    "plt.xlim([0,10])\n",
    "plt.plot(place1.x, place1.y,'ro')"
   ]
  },
  {
   "cell_type": "code",
   "execution_count": 25,
   "metadata": {
    "collapsed": false
   },
   "outputs": [
    {
     "data": {
      "text/plain": [
       "[<matplotlib.lines.Line2D at 0x20b00d77cf8>]"
      ]
     },
     "execution_count": 25,
     "metadata": {},
     "output_type": "execute_result"
    },
    {
     "data": {
      "image/png": "[encoded data removed]",
      "text/plain": [
       "<matplotlib.figure.Figure at 0x20b00642278>"
      ]
     },
     "metadata": {},
     "output_type": "display_data"
    }
   ],
   "source": [
    "plt.figure(figsize=(5, 5))\n",
    "plt.ylim([0,10])\n",
    "plt.xlim([0,10])\n",
    "plt.plot(place1.x, place1.y,'bo')\n",
    "veryaccurate = place1[place1.accuracy > 100]\n",
    "plt.plot(veryaccurate.x, veryaccurate.y,'ro')"
   ]
  },
  {
   "cell_type": "code",
   "execution_count": 26,
   "metadata": {
    "collapsed": false
   },
   "outputs": [
    {
     "data": {
      "text/plain": [
       "[<matplotlib.lines.Line2D at 0x20b00eeb080>]"
      ]
     },
     "execution_count": 26,
     "metadata": {},
     "output_type": "execute_result"
    },
    {
     "data": {
      "image/png": "[encoded data removed]",
      "text/plain": [
       "<matplotlib.figure.Figure at 0x20b005e9358>"
      ]
     },
     "metadata": {},
     "output_type": "display_data"
    }
   ],
   "source": [
    "plt.figure(figsize=(15, 2))\n",
    "plt.plot(place1.time,np.zeros_like(place1.time), 'ro')"
   ]
  },
  {
   "cell_type": "code",
   "execution_count": 27,
   "metadata": {
    "collapsed": false
   },
   "outputs": [
    {
     "data": {
      "text/plain": [
       "[<matplotlib.lines.Line2D at 0x20b00f4def0>]"
      ]
     },
     "execution_count": 27,
     "metadata": {},
     "output_type": "execute_result"
    },
    {
     "data": {
      "image/png": "[encoded data removed]",
      "text/plain": [
       "<matplotlib.figure.Figure at 0x20b00efdcc0>"
      ]
     },
     "metadata": {},
     "output_type": "display_data"
    }
   ],
   "source": [
    "plt.figure(figsize=(15, 2))\n",
    "plt.plot(place1.time % (60),np.zeros_like(place1.time), 'ro')"
   ]
  },
  {
   "cell_type": "code",
   "execution_count": 28,
   "metadata": {
    "collapsed": false,
    "scrolled": true
   },
   "outputs": [
    {
     "data": {
      "text/plain": [
       "[<matplotlib.lines.Line2D at 0x20b00fb1a58>]"
      ]
     },
     "execution_count": 28,
     "metadata": {},
     "output_type": "execute_result"
    },
    {
     "data": {
      "image/png": "[encoded data removed]",
      "text/plain": [
       "<matplotlib.figure.Figure at 0x20b00f2c780>"
      ]
     },
     "metadata": {},
     "output_type": "display_data"
    }
   ],
   "source": [
    "plt.figure(figsize=(15, 2))\n",
    "plt.xlim([0,1440])\n",
    "plt.plot(place1.time % (60 * 24),np.zeros_like(place1.time), 'ro')"
   ]
  },
  {
   "cell_type": "code",
   "execution_count": 29,
   "metadata": {
    "collapsed": false,
    "scrolled": true
   },
   "outputs": [
    {
     "data": {
      "text/plain": [
       "[<matplotlib.lines.Line2D at 0x20b0101b278>]"
      ]
     },
     "execution_count": 29,
     "metadata": {},
     "output_type": "execute_result"
    },
    {
     "data": {
      "image/png": "[encoded data removed]",
      "text/plain": [
       "<matplotlib.figure.Figure at 0x20b00fdc208>"
      ]
     },
     "metadata": {},
     "output_type": "display_data"
    }
   ],
   "source": [
    "plt.figure(figsize=(15, 2))\n",
    "plt.xlim([0,10080])\n",
    "plt.plot(place1.time % (60 * 24 * 7),np.zeros_like(place1.time), 'ro')"
   ]
  },
  {
   "cell_type": "code",
   "execution_count": 30,
   "metadata": {
    "collapsed": false,
    "scrolled": false
   },
   "outputs": [
    {
     "data": {
      "text/html": [
       "<div>\n",
       "<table border=\"1\" class=\"dataframe\">\n",
       "  <thead>\n",
       "    <tr style=\"text-align: right;\">\n",
       "      <th></th>\n",
       "      <th>row_id</th>\n",
       "      <th>x</th>\n",
       "      <th>y</th>\n",
       "      <th>accuracy</th>\n",
       "      <th>time</th>\n",
       "    </tr>\n",
       "  </thead>\n",
       "  <tbody>\n",
       "    <tr>\n",
       "      <th>0</th>\n",
       "      <td>0</td>\n",
       "      <td>0.1675</td>\n",
       "      <td>1.3608</td>\n",
       "      <td>107</td>\n",
       "      <td>930883</td>\n",
       "    </tr>\n",
       "    <tr>\n",
       "      <th>1</th>\n",
       "      <td>1</td>\n",
       "      <td>7.3909</td>\n",
       "      <td>2.5301</td>\n",
       "      <td>35</td>\n",
       "      <td>893017</td>\n",
       "    </tr>\n",
       "    <tr>\n",
       "      <th>2</th>\n",
       "      <td>2</td>\n",
       "      <td>8.0978</td>\n",
       "      <td>2.3473</td>\n",
       "      <td>62</td>\n",
       "      <td>976933</td>\n",
       "    </tr>\n",
       "    <tr>\n",
       "      <th>3</th>\n",
       "      <td>3</td>\n",
       "      <td>0.9990</td>\n",
       "      <td>1.0591</td>\n",
       "      <td>62</td>\n",
       "      <td>907285</td>\n",
       "    </tr>\n",
       "    <tr>\n",
       "      <th>4</th>\n",
       "      <td>4</td>\n",
       "      <td>0.6670</td>\n",
       "      <td>9.7254</td>\n",
       "      <td>40</td>\n",
       "      <td>914399</td>\n",
       "    </tr>\n",
       "  </tbody>\n",
       "</table>\n",
       "</div>"
      ],
      "text/plain": [
       "   row_id       x       y  accuracy    time\n",
       "0       0  0.1675  1.3608       107  930883\n",
       "1       1  7.3909  2.5301        35  893017\n",
       "2       2  8.0978  2.3473        62  976933\n",
       "3       3  0.9990  1.0591        62  907285\n",
       "4       4  0.6670  9.7254        40  914399"
      ]
     },
     "execution_count": 30,
     "metadata": {},
     "output_type": "execute_result"
    }
   ],
   "source": [
    "test_set.head()"
   ]
  },
  {
   "cell_type": "code",
   "execution_count": 31,
   "metadata": {
    "collapsed": false
   },
   "outputs": [],
   "source": [
    "not_in_filled_set = pd.read_csv('./validation_error/not_in_filled.csv')"
   ]
  },
  {
   "cell_type": "code",
   "execution_count": 32,
   "metadata": {
    "collapsed": false,
    "scrolled": false
   },
   "outputs": [
    {
     "data": {
      "text/html": [
       "<div>\n",
       "<table border=\"1\" class=\"dataframe\">\n",
       "  <thead>\n",
       "    <tr style=\"text-align: right;\">\n",
       "      <th></th>\n",
       "      <th>row_id</th>\n",
       "      <th>x</th>\n",
       "      <th>y</th>\n",
       "      <th>accuracy</th>\n",
       "      <th>time</th>\n",
       "      <th>place_id</th>\n",
       "      <th>p1</th>\n",
       "      <th>p2</th>\n",
       "      <th>p3</th>\n",
       "    </tr>\n",
       "  </thead>\n",
       "  <tbody>\n",
       "    <tr>\n",
       "      <th>0</th>\n",
       "      <td>3</td>\n",
       "      <td>7.3665</td>\n",
       "      <td>2.5165</td>\n",
       "      <td>65</td>\n",
       "      <td>704587</td>\n",
       "      <td>6567393236</td>\n",
       "      <td>4505710601</td>\n",
       "      <td>5413763333</td>\n",
       "      <td>4223683383</td>\n",
       "    </tr>\n",
       "    <tr>\n",
       "      <th>1</th>\n",
       "      <td>16</td>\n",
       "      <td>3.2494</td>\n",
       "      <td>3.2096</td>\n",
       "      <td>75</td>\n",
       "      <td>777982</td>\n",
       "      <td>2123587484</td>\n",
       "      <td>6052372179</td>\n",
       "      <td>4939682720</td>\n",
       "      <td>8842957841</td>\n",
       "    </tr>\n",
       "    <tr>\n",
       "      <th>2</th>\n",
       "      <td>23</td>\n",
       "      <td>7.4492</td>\n",
       "      <td>8.9950</td>\n",
       "      <td>17</td>\n",
       "      <td>726403</td>\n",
       "      <td>1874355796</td>\n",
       "      <td>9745842153</td>\n",
       "      <td>3457050665</td>\n",
       "      <td>1656739680</td>\n",
       "    </tr>\n",
       "    <tr>\n",
       "      <th>3</th>\n",
       "      <td>34</td>\n",
       "      <td>3.1667</td>\n",
       "      <td>6.2971</td>\n",
       "      <td>32</td>\n",
       "      <td>729423</td>\n",
       "      <td>6020820466</td>\n",
       "      <td>7763320172</td>\n",
       "      <td>7043621410</td>\n",
       "      <td>4665584622</td>\n",
       "    </tr>\n",
       "    <tr>\n",
       "      <th>4</th>\n",
       "      <td>35</td>\n",
       "      <td>8.5522</td>\n",
       "      <td>0.5541</td>\n",
       "      <td>9</td>\n",
       "      <td>725239</td>\n",
       "      <td>7971992619</td>\n",
       "      <td>6528893632</td>\n",
       "      <td>6944345230</td>\n",
       "      <td>8900943921</td>\n",
       "    </tr>\n",
       "  </tbody>\n",
       "</table>\n",
       "</div>"
      ],
      "text/plain": [
       "   row_id       x       y  accuracy    time    place_id          p1  \\\n",
       "0       3  7.3665  2.5165        65  704587  6567393236  4505710601   \n",
       "1      16  3.2494  3.2096        75  777982  2123587484  6052372179   \n",
       "2      23  7.4492  8.9950        17  726403  1874355796  9745842153   \n",
       "3      34  3.1667  6.2971        32  729423  6020820466  7763320172   \n",
       "4      35  8.5522  0.5541         9  725239  7971992619  6528893632   \n",
       "\n",
       "           p2          p3  \n",
       "0  5413763333  4223683383  \n",
       "1  4939682720  8842957841  \n",
       "2  3457050665  1656739680  \n",
       "3  7043621410  4665584622  \n",
       "4  6944345230  8900943921  "
      ]
     },
     "execution_count": 32,
     "metadata": {},
     "output_type": "execute_result"
    }
   ],
   "source": [
    "not_in_filled_set.head()"
   ]
  },
  {
   "cell_type": "code",
   "execution_count": 33,
   "metadata": {
    "collapsed": false
   },
   "outputs": [
    {
     "data": {
      "text/plain": [
       "1865223"
      ]
     },
     "execution_count": 33,
     "metadata": {},
     "output_type": "execute_result"
    }
   ],
   "source": [
    "len(not_in_filled_set.index)"
   ]
  },
  {
   "cell_type": "code",
   "execution_count": 34,
   "metadata": {
    "collapsed": false,
    "scrolled": true
   },
   "outputs": [],
   "source": [
    "actual_place = train_set[train_set.place_id == 6567393236]"
   ]
  },
  {
   "cell_type": "code",
   "execution_count": 35,
   "metadata": {
    "collapsed": false,
    "scrolled": true
   },
   "outputs": [
    {
     "data": {
      "text/html": [
       "<div>\n",
       "<table border=\"1\" class=\"dataframe\">\n",
       "  <thead>\n",
       "    <tr style=\"text-align: right;\">\n",
       "      <th></th>\n",
       "      <th>row_id</th>\n",
       "      <th>x</th>\n",
       "      <th>y</th>\n",
       "      <th>accuracy</th>\n",
       "      <th>time</th>\n",
       "      <th>place_id</th>\n",
       "    </tr>\n",
       "  </thead>\n",
       "  <tbody>\n",
       "    <tr>\n",
       "      <th>3</th>\n",
       "      <td>3</td>\n",
       "      <td>7.3665</td>\n",
       "      <td>2.5165</td>\n",
       "      <td>65</td>\n",
       "      <td>704587</td>\n",
       "      <td>6567393236</td>\n",
       "    </tr>\n",
       "    <tr>\n",
       "      <th>35174</th>\n",
       "      <td>35174</td>\n",
       "      <td>6.6878</td>\n",
       "      <td>2.4834</td>\n",
       "      <td>125</td>\n",
       "      <td>703260</td>\n",
       "      <td>6567393236</td>\n",
       "    </tr>\n",
       "    <tr>\n",
       "      <th>84734</th>\n",
       "      <td>84734</td>\n",
       "      <td>6.6697</td>\n",
       "      <td>2.5093</td>\n",
       "      <td>42</td>\n",
       "      <td>747767</td>\n",
       "      <td>6567393236</td>\n",
       "    </tr>\n",
       "    <tr>\n",
       "      <th>215183</th>\n",
       "      <td>215183</td>\n",
       "      <td>6.6819</td>\n",
       "      <td>2.5154</td>\n",
       "      <td>70</td>\n",
       "      <td>717601</td>\n",
       "      <td>6567393236</td>\n",
       "    </tr>\n",
       "    <tr>\n",
       "      <th>237593</th>\n",
       "      <td>237593</td>\n",
       "      <td>6.6959</td>\n",
       "      <td>2.5042</td>\n",
       "      <td>17</td>\n",
       "      <td>648589</td>\n",
       "      <td>6567393236</td>\n",
       "    </tr>\n",
       "    <tr>\n",
       "      <th>246135</th>\n",
       "      <td>246135</td>\n",
       "      <td>6.6816</td>\n",
       "      <td>2.5151</td>\n",
       "      <td>50</td>\n",
       "      <td>730793</td>\n",
       "      <td>6567393236</td>\n",
       "    </tr>\n",
       "    <tr>\n",
       "      <th>300520</th>\n",
       "      <td>300520</td>\n",
       "      <td>6.6842</td>\n",
       "      <td>2.5155</td>\n",
       "      <td>161</td>\n",
       "      <td>783874</td>\n",
       "      <td>6567393236</td>\n",
       "    </tr>\n",
       "    <tr>\n",
       "      <th>448776</th>\n",
       "      <td>448776</td>\n",
       "      <td>9.1382</td>\n",
       "      <td>2.5475</td>\n",
       "      <td>59</td>\n",
       "      <td>779767</td>\n",
       "      <td>6567393236</td>\n",
       "    </tr>\n",
       "    <tr>\n",
       "      <th>492887</th>\n",
       "      <td>492887</td>\n",
       "      <td>6.7153</td>\n",
       "      <td>2.5061</td>\n",
       "      <td>166</td>\n",
       "      <td>687542</td>\n",
       "      <td>6567393236</td>\n",
       "    </tr>\n",
       "    <tr>\n",
       "      <th>611600</th>\n",
       "      <td>611600</td>\n",
       "      <td>6.6666</td>\n",
       "      <td>2.4986</td>\n",
       "      <td>173</td>\n",
       "      <td>760968</td>\n",
       "      <td>6567393236</td>\n",
       "    </tr>\n",
       "    <tr>\n",
       "      <th>936845</th>\n",
       "      <td>936845</td>\n",
       "      <td>6.6911</td>\n",
       "      <td>2.5075</td>\n",
       "      <td>62</td>\n",
       "      <td>703234</td>\n",
       "      <td>6567393236</td>\n",
       "    </tr>\n",
       "    <tr>\n",
       "      <th>968852</th>\n",
       "      <td>968852</td>\n",
       "      <td>6.7059</td>\n",
       "      <td>2.5097</td>\n",
       "      <td>165</td>\n",
       "      <td>671849</td>\n",
       "      <td>6567393236</td>\n",
       "    </tr>\n",
       "    <tr>\n",
       "      <th>1091076</th>\n",
       "      <td>1091076</td>\n",
       "      <td>6.6349</td>\n",
       "      <td>2.5105</td>\n",
       "      <td>66</td>\n",
       "      <td>680421</td>\n",
       "      <td>6567393236</td>\n",
       "    </tr>\n",
       "    <tr>\n",
       "      <th>1098548</th>\n",
       "      <td>1098548</td>\n",
       "      <td>6.6953</td>\n",
       "      <td>2.5179</td>\n",
       "      <td>77</td>\n",
       "      <td>747807</td>\n",
       "      <td>6567393236</td>\n",
       "    </tr>\n",
       "    <tr>\n",
       "      <th>1254343</th>\n",
       "      <td>1254343</td>\n",
       "      <td>6.6952</td>\n",
       "      <td>2.5122</td>\n",
       "      <td>158</td>\n",
       "      <td>699018</td>\n",
       "      <td>6567393236</td>\n",
       "    </tr>\n",
       "    <tr>\n",
       "      <th>1329320</th>\n",
       "      <td>1329320</td>\n",
       "      <td>6.6969</td>\n",
       "      <td>2.5163</td>\n",
       "      <td>139</td>\n",
       "      <td>711980</td>\n",
       "      <td>6567393236</td>\n",
       "    </tr>\n",
       "    <tr>\n",
       "      <th>1583255</th>\n",
       "      <td>1583255</td>\n",
       "      <td>6.6573</td>\n",
       "      <td>2.5189</td>\n",
       "      <td>337</td>\n",
       "      <td>665919</td>\n",
       "      <td>6567393236</td>\n",
       "    </tr>\n",
       "    <tr>\n",
       "      <th>1622425</th>\n",
       "      <td>1622425</td>\n",
       "      <td>6.6993</td>\n",
       "      <td>2.4969</td>\n",
       "      <td>176</td>\n",
       "      <td>779722</td>\n",
       "      <td>6567393236</td>\n",
       "    </tr>\n",
       "    <tr>\n",
       "      <th>1841338</th>\n",
       "      <td>1841338</td>\n",
       "      <td>6.7081</td>\n",
       "      <td>2.5206</td>\n",
       "      <td>169</td>\n",
       "      <td>782489</td>\n",
       "      <td>6567393236</td>\n",
       "    </tr>\n",
       "    <tr>\n",
       "      <th>1882153</th>\n",
       "      <td>1882153</td>\n",
       "      <td>6.7253</td>\n",
       "      <td>2.5134</td>\n",
       "      <td>166</td>\n",
       "      <td>716132</td>\n",
       "      <td>6567393236</td>\n",
       "    </tr>\n",
       "    <tr>\n",
       "      <th>2074556</th>\n",
       "      <td>2074556</td>\n",
       "      <td>6.7274</td>\n",
       "      <td>2.4990</td>\n",
       "      <td>34</td>\n",
       "      <td>670017</td>\n",
       "      <td>6567393236</td>\n",
       "    </tr>\n",
       "    <tr>\n",
       "      <th>2158877</th>\n",
       "      <td>2158877</td>\n",
       "      <td>6.6922</td>\n",
       "      <td>2.5017</td>\n",
       "      <td>70</td>\n",
       "      <td>770919</td>\n",
       "      <td>6567393236</td>\n",
       "    </tr>\n",
       "    <tr>\n",
       "      <th>2220902</th>\n",
       "      <td>2220902</td>\n",
       "      <td>6.6815</td>\n",
       "      <td>2.5119</td>\n",
       "      <td>57</td>\n",
       "      <td>773878</td>\n",
       "      <td>6567393236</td>\n",
       "    </tr>\n",
       "    <tr>\n",
       "      <th>2221643</th>\n",
       "      <td>2221643</td>\n",
       "      <td>6.7264</td>\n",
       "      <td>2.5120</td>\n",
       "      <td>100</td>\n",
       "      <td>713353</td>\n",
       "      <td>6567393236</td>\n",
       "    </tr>\n",
       "    <tr>\n",
       "      <th>2260954</th>\n",
       "      <td>2260954</td>\n",
       "      <td>6.6876</td>\n",
       "      <td>2.5219</td>\n",
       "      <td>170</td>\n",
       "      <td>711813</td>\n",
       "      <td>6567393236</td>\n",
       "    </tr>\n",
       "    <tr>\n",
       "      <th>2293845</th>\n",
       "      <td>2293845</td>\n",
       "      <td>6.6584</td>\n",
       "      <td>2.5186</td>\n",
       "      <td>263</td>\n",
       "      <td>689043</td>\n",
       "      <td>6567393236</td>\n",
       "    </tr>\n",
       "    <tr>\n",
       "      <th>2464088</th>\n",
       "      <td>2464088</td>\n",
       "      <td>6.7047</td>\n",
       "      <td>2.5078</td>\n",
       "      <td>68</td>\n",
       "      <td>721918</td>\n",
       "      <td>6567393236</td>\n",
       "    </tr>\n",
       "    <tr>\n",
       "      <th>2601904</th>\n",
       "      <td>2601904</td>\n",
       "      <td>0.7121</td>\n",
       "      <td>2.4370</td>\n",
       "      <td>32</td>\n",
       "      <td>667300</td>\n",
       "      <td>6567393236</td>\n",
       "    </tr>\n",
       "    <tr>\n",
       "      <th>2607760</th>\n",
       "      <td>2607760</td>\n",
       "      <td>6.7031</td>\n",
       "      <td>2.5089</td>\n",
       "      <td>169</td>\n",
       "      <td>732238</td>\n",
       "      <td>6567393236</td>\n",
       "    </tr>\n",
       "    <tr>\n",
       "      <th>2751661</th>\n",
       "      <td>2751661</td>\n",
       "      <td>6.7111</td>\n",
       "      <td>2.5088</td>\n",
       "      <td>173</td>\n",
       "      <td>776529</td>\n",
       "      <td>6567393236</td>\n",
       "    </tr>\n",
       "    <tr>\n",
       "      <th>...</th>\n",
       "      <td>...</td>\n",
       "      <td>...</td>\n",
       "      <td>...</td>\n",
       "      <td>...</td>\n",
       "      <td>...</td>\n",
       "      <td>...</td>\n",
       "    </tr>\n",
       "    <tr>\n",
       "      <th>26256272</th>\n",
       "      <td>26256272</td>\n",
       "      <td>6.6939</td>\n",
       "      <td>2.4952</td>\n",
       "      <td>160</td>\n",
       "      <td>755115</td>\n",
       "      <td>6567393236</td>\n",
       "    </tr>\n",
       "    <tr>\n",
       "      <th>26258582</th>\n",
       "      <td>26258582</td>\n",
       "      <td>6.7505</td>\n",
       "      <td>2.5091</td>\n",
       "      <td>146</td>\n",
       "      <td>675956</td>\n",
       "      <td>6567393236</td>\n",
       "    </tr>\n",
       "    <tr>\n",
       "      <th>26289363</th>\n",
       "      <td>26289363</td>\n",
       "      <td>6.7041</td>\n",
       "      <td>2.5123</td>\n",
       "      <td>170</td>\n",
       "      <td>762252</td>\n",
       "      <td>6567393236</td>\n",
       "    </tr>\n",
       "    <tr>\n",
       "      <th>26315204</th>\n",
       "      <td>26315204</td>\n",
       "      <td>6.6962</td>\n",
       "      <td>2.5028</td>\n",
       "      <td>81</td>\n",
       "      <td>684515</td>\n",
       "      <td>6567393236</td>\n",
       "    </tr>\n",
       "    <tr>\n",
       "      <th>26453917</th>\n",
       "      <td>26453917</td>\n",
       "      <td>6.6851</td>\n",
       "      <td>2.5084</td>\n",
       "      <td>100</td>\n",
       "      <td>661467</td>\n",
       "      <td>6567393236</td>\n",
       "    </tr>\n",
       "    <tr>\n",
       "      <th>26484200</th>\n",
       "      <td>26484200</td>\n",
       "      <td>6.6979</td>\n",
       "      <td>2.5171</td>\n",
       "      <td>116</td>\n",
       "      <td>785243</td>\n",
       "      <td>6567393236</td>\n",
       "    </tr>\n",
       "    <tr>\n",
       "      <th>26535572</th>\n",
       "      <td>26535572</td>\n",
       "      <td>6.6868</td>\n",
       "      <td>2.5089</td>\n",
       "      <td>386</td>\n",
       "      <td>730937</td>\n",
       "      <td>6567393236</td>\n",
       "    </tr>\n",
       "    <tr>\n",
       "      <th>26605798</th>\n",
       "      <td>26605798</td>\n",
       "      <td>6.6724</td>\n",
       "      <td>2.5168</td>\n",
       "      <td>393</td>\n",
       "      <td>692735</td>\n",
       "      <td>6567393236</td>\n",
       "    </tr>\n",
       "    <tr>\n",
       "      <th>26608264</th>\n",
       "      <td>26608264</td>\n",
       "      <td>6.6984</td>\n",
       "      <td>2.5195</td>\n",
       "      <td>62</td>\n",
       "      <td>739249</td>\n",
       "      <td>6567393236</td>\n",
       "    </tr>\n",
       "    <tr>\n",
       "      <th>26648211</th>\n",
       "      <td>26648211</td>\n",
       "      <td>6.6953</td>\n",
       "      <td>2.5155</td>\n",
       "      <td>56</td>\n",
       "      <td>750884</td>\n",
       "      <td>6567393236</td>\n",
       "    </tr>\n",
       "    <tr>\n",
       "      <th>26750681</th>\n",
       "      <td>26750681</td>\n",
       "      <td>6.8422</td>\n",
       "      <td>2.5005</td>\n",
       "      <td>169</td>\n",
       "      <td>661668</td>\n",
       "      <td>6567393236</td>\n",
       "    </tr>\n",
       "    <tr>\n",
       "      <th>26819383</th>\n",
       "      <td>26819383</td>\n",
       "      <td>6.6617</td>\n",
       "      <td>2.5191</td>\n",
       "      <td>279</td>\n",
       "      <td>650142</td>\n",
       "      <td>6567393236</td>\n",
       "    </tr>\n",
       "    <tr>\n",
       "      <th>26896024</th>\n",
       "      <td>26896024</td>\n",
       "      <td>6.6943</td>\n",
       "      <td>2.4967</td>\n",
       "      <td>120</td>\n",
       "      <td>719102</td>\n",
       "      <td>6567393236</td>\n",
       "    </tr>\n",
       "    <tr>\n",
       "      <th>26933828</th>\n",
       "      <td>26933828</td>\n",
       "      <td>6.6942</td>\n",
       "      <td>2.4954</td>\n",
       "      <td>176</td>\n",
       "      <td>672952</td>\n",
       "      <td>6567393236</td>\n",
       "    </tr>\n",
       "    <tr>\n",
       "      <th>27281205</th>\n",
       "      <td>27281205</td>\n",
       "      <td>6.6999</td>\n",
       "      <td>2.5019</td>\n",
       "      <td>73</td>\n",
       "      <td>753785</td>\n",
       "      <td>6567393236</td>\n",
       "    </tr>\n",
       "    <tr>\n",
       "      <th>27312743</th>\n",
       "      <td>27312743</td>\n",
       "      <td>6.6754</td>\n",
       "      <td>2.5131</td>\n",
       "      <td>83</td>\n",
       "      <td>785410</td>\n",
       "      <td>6567393236</td>\n",
       "    </tr>\n",
       "    <tr>\n",
       "      <th>27394378</th>\n",
       "      <td>27394378</td>\n",
       "      <td>6.5004</td>\n",
       "      <td>2.5009</td>\n",
       "      <td>928</td>\n",
       "      <td>645760</td>\n",
       "      <td>6567393236</td>\n",
       "    </tr>\n",
       "    <tr>\n",
       "      <th>27464741</th>\n",
       "      <td>27464741</td>\n",
       "      <td>6.7212</td>\n",
       "      <td>2.5067</td>\n",
       "      <td>30</td>\n",
       "      <td>717606</td>\n",
       "      <td>6567393236</td>\n",
       "    </tr>\n",
       "    <tr>\n",
       "      <th>27497295</th>\n",
       "      <td>27497295</td>\n",
       "      <td>6.6947</td>\n",
       "      <td>2.4980</td>\n",
       "      <td>62</td>\n",
       "      <td>745126</td>\n",
       "      <td>6567393236</td>\n",
       "    </tr>\n",
       "    <tr>\n",
       "      <th>27754067</th>\n",
       "      <td>27754067</td>\n",
       "      <td>6.6688</td>\n",
       "      <td>2.5097</td>\n",
       "      <td>34</td>\n",
       "      <td>643789</td>\n",
       "      <td>6567393236</td>\n",
       "    </tr>\n",
       "    <tr>\n",
       "      <th>27756667</th>\n",
       "      <td>27756667</td>\n",
       "      <td>6.1649</td>\n",
       "      <td>2.4874</td>\n",
       "      <td>501</td>\n",
       "      <td>670010</td>\n",
       "      <td>6567393236</td>\n",
       "    </tr>\n",
       "    <tr>\n",
       "      <th>27781825</th>\n",
       "      <td>27781825</td>\n",
       "      <td>6.6827</td>\n",
       "      <td>2.4821</td>\n",
       "      <td>160</td>\n",
       "      <td>723361</td>\n",
       "      <td>6567393236</td>\n",
       "    </tr>\n",
       "    <tr>\n",
       "      <th>27790608</th>\n",
       "      <td>27790608</td>\n",
       "      <td>6.6963</td>\n",
       "      <td>2.4992</td>\n",
       "      <td>167</td>\n",
       "      <td>740646</td>\n",
       "      <td>6567393236</td>\n",
       "    </tr>\n",
       "    <tr>\n",
       "      <th>27807365</th>\n",
       "      <td>27807365</td>\n",
       "      <td>6.6977</td>\n",
       "      <td>2.5141</td>\n",
       "      <td>84</td>\n",
       "      <td>707465</td>\n",
       "      <td>6567393236</td>\n",
       "    </tr>\n",
       "    <tr>\n",
       "      <th>27871189</th>\n",
       "      <td>27871189</td>\n",
       "      <td>6.6860</td>\n",
       "      <td>2.5037</td>\n",
       "      <td>82</td>\n",
       "      <td>681560</td>\n",
       "      <td>6567393236</td>\n",
       "    </tr>\n",
       "    <tr>\n",
       "      <th>28632891</th>\n",
       "      <td>28632891</td>\n",
       "      <td>6.6976</td>\n",
       "      <td>2.4900</td>\n",
       "      <td>66</td>\n",
       "      <td>740747</td>\n",
       "      <td>6567393236</td>\n",
       "    </tr>\n",
       "    <tr>\n",
       "      <th>28683927</th>\n",
       "      <td>28683927</td>\n",
       "      <td>7.1119</td>\n",
       "      <td>2.5235</td>\n",
       "      <td>67</td>\n",
       "      <td>652725</td>\n",
       "      <td>6567393236</td>\n",
       "    </tr>\n",
       "    <tr>\n",
       "      <th>28852231</th>\n",
       "      <td>28852231</td>\n",
       "      <td>6.6969</td>\n",
       "      <td>2.5224</td>\n",
       "      <td>174</td>\n",
       "      <td>710130</td>\n",
       "      <td>6567393236</td>\n",
       "    </tr>\n",
       "    <tr>\n",
       "      <th>28930992</th>\n",
       "      <td>28930992</td>\n",
       "      <td>6.6868</td>\n",
       "      <td>2.5101</td>\n",
       "      <td>168</td>\n",
       "      <td>710440</td>\n",
       "      <td>6567393236</td>\n",
       "    </tr>\n",
       "    <tr>\n",
       "      <th>29089352</th>\n",
       "      <td>29089352</td>\n",
       "      <td>7.2465</td>\n",
       "      <td>2.5204</td>\n",
       "      <td>129</td>\n",
       "      <td>645680</td>\n",
       "      <td>6567393236</td>\n",
       "    </tr>\n",
       "  </tbody>\n",
       "</table>\n",
       "<p>245 rows × 6 columns</p>\n",
       "</div>"
      ],
      "text/plain": [
       "            row_id       x       y  accuracy    time    place_id\n",
       "3                3  7.3665  2.5165        65  704587  6567393236\n",
       "35174        35174  6.6878  2.4834       125  703260  6567393236\n",
       "84734        84734  6.6697  2.5093        42  747767  6567393236\n",
       "215183      215183  6.6819  2.5154        70  717601  6567393236\n",
       "237593      237593  6.6959  2.5042        17  648589  6567393236\n",
       "246135      246135  6.6816  2.5151        50  730793  6567393236\n",
       "300520      300520  6.6842  2.5155       161  783874  6567393236\n",
       "448776      448776  9.1382  2.5475        59  779767  6567393236\n",
       "492887      492887  6.7153  2.5061       166  687542  6567393236\n",
       "611600      611600  6.6666  2.4986       173  760968  6567393236\n",
       "936845      936845  6.6911  2.5075        62  703234  6567393236\n",
       "968852      968852  6.7059  2.5097       165  671849  6567393236\n",
       "1091076    1091076  6.6349  2.5105        66  680421  6567393236\n",
       "1098548    1098548  6.6953  2.5179        77  747807  6567393236\n",
       "1254343    1254343  6.6952  2.5122       158  699018  6567393236\n",
       "1329320    1329320  6.6969  2.5163       139  711980  6567393236\n",
       "1583255    1583255  6.6573  2.5189       337  665919  6567393236\n",
       "1622425    1622425  6.6993  2.4969       176  779722  6567393236\n",
       "1841338    1841338  6.7081  2.5206       169  782489  6567393236\n",
       "1882153    1882153  6.7253  2.5134       166  716132  6567393236\n",
       "2074556    2074556  6.7274  2.4990        34  670017  6567393236\n",
       "2158877    2158877  6.6922  2.5017        70  770919  6567393236\n",
       "2220902    2220902  6.6815  2.5119        57  773878  6567393236\n",
       "2221643    2221643  6.7264  2.5120       100  713353  6567393236\n",
       "2260954    2260954  6.6876  2.5219       170  711813  6567393236\n",
       "2293845    2293845  6.6584  2.5186       263  689043  6567393236\n",
       "2464088    2464088  6.7047  2.5078        68  721918  6567393236\n",
       "2601904    2601904  0.7121  2.4370        32  667300  6567393236\n",
       "2607760    2607760  6.7031  2.5089       169  732238  6567393236\n",
       "2751661    2751661  6.7111  2.5088       173  776529  6567393236\n",
       "...            ...     ...     ...       ...     ...         ...\n",
       "26256272  26256272  6.6939  2.4952       160  755115  6567393236\n",
       "26258582  26258582  6.7505  2.5091       146  675956  6567393236\n",
       "26289363  26289363  6.7041  2.5123       170  762252  6567393236\n",
       "26315204  26315204  6.6962  2.5028        81  684515  6567393236\n",
       "26453917  26453917  6.6851  2.5084       100  661467  6567393236\n",
       "26484200  26484200  6.6979  2.5171       116  785243  6567393236\n",
       "26535572  26535572  6.6868  2.5089       386  730937  6567393236\n",
       "26605798  26605798  6.6724  2.5168       393  692735  6567393236\n",
       "26608264  26608264  6.6984  2.5195        62  739249  6567393236\n",
       "26648211  26648211  6.6953  2.5155        56  750884  6567393236\n",
       "26750681  26750681  6.8422  2.5005       169  661668  6567393236\n",
       "26819383  26819383  6.6617  2.5191       279  650142  6567393236\n",
       "26896024  26896024  6.6943  2.4967       120  719102  6567393236\n",
       "26933828  26933828  6.6942  2.4954       176  672952  6567393236\n",
       "27281205  27281205  6.6999  2.5019        73  753785  6567393236\n",
       "27312743  27312743  6.6754  2.5131        83  785410  6567393236\n",
       "27394378  27394378  6.5004  2.5009       928  645760  6567393236\n",
       "27464741  27464741  6.7212  2.5067        30  717606  6567393236\n",
       "27497295  27497295  6.6947  2.4980        62  745126  6567393236\n",
       "27754067  27754067  6.6688  2.5097        34  643789  6567393236\n",
       "27756667  27756667  6.1649  2.4874       501  670010  6567393236\n",
       "27781825  27781825  6.6827  2.4821       160  723361  6567393236\n",
       "27790608  27790608  6.6963  2.4992       167  740646  6567393236\n",
       "27807365  27807365  6.6977  2.5141        84  707465  6567393236\n",
       "27871189  27871189  6.6860  2.5037        82  681560  6567393236\n",
       "28632891  28632891  6.6976  2.4900        66  740747  6567393236\n",
       "28683927  28683927  7.1119  2.5235        67  652725  6567393236\n",
       "28852231  28852231  6.6969  2.5224       174  710130  6567393236\n",
       "28930992  28930992  6.6868  2.5101       168  710440  6567393236\n",
       "29089352  29089352  7.2465  2.5204       129  645680  6567393236\n",
       "\n",
       "[245 rows x 6 columns]"
      ]
     },
     "execution_count": 35,
     "metadata": {},
     "output_type": "execute_result"
    }
   ],
   "source": [
    "actual_place"
   ]
  },
  {
   "cell_type": "code",
   "execution_count": 36,
   "metadata": {
    "collapsed": false
   },
   "outputs": [
    {
     "data": {
      "text/plain": [
       "[<matplotlib.lines.Line2D at 0x20b01140a58>]"
      ]
     },
     "execution_count": 36,
     "metadata": {},
     "output_type": "execute_result"
    },
    {
     "data": {
      "image/png": "[encoded data removed]",
      "text/plain": [
       "<matplotlib.figure.Figure at 0x20b01049b00>"
      ]
     },
     "metadata": {},
     "output_type": "display_data"
    },
    {
     "data": {
      "image/png": "[encoded data removed]",
      "text/plain": [
       "<matplotlib.figure.Figure at 0x20b01090588>"
      ]
     },
     "metadata": {},
     "output_type": "display_data"
    },
    {
     "data": {
      "image/png": "[encoded data removed]",
      "text/plain": [
       "<matplotlib.figure.Figure at 0x20b01056ef0>"
      ]
     },
     "metadata": {},
     "output_type": "display_data"
    },
    {
     "data": {
      "image/png": "[encoded data removed]",
      "text/plain": [
       "<matplotlib.figure.Figure at 0x20b01131400>"
      ]
     },
     "metadata": {},
     "output_type": "display_data"
    }
   ],
   "source": [
    "plt.figure(figsize=(5, 5))\n",
    "plt.ylim([0,10])\n",
    "plt.xlim([0,10])\n",
    "\n",
    "plt.plot(actual_place.x, actual_place.y,'bo')\n",
    "plt.plot(actual_place[actual_place.row_id == 3].x, actual_place[actual_place.row_id == 3].y,'ro')\n",
    "\n",
    "plt.figure(figsize=(15, 2))\n",
    "plt.xlim([0,800000])\n",
    "plt.plot(actual_place.time,np.zeros_like(actual_place.time), 'bo')\n",
    "plt.plot(actual_place[actual_place.row_id == 3].time,0, 'ro')\n",
    "\n",
    "plt.figure(figsize=(15, 2))\n",
    "plt.xlim([0,1440])\n",
    "plt.plot(actual_place.time % (60 * 24),np.zeros_like(actual_place.time), 'bo')\n",
    "plt.plot(actual_place[actual_place.row_id == 3].time % (60 * 24),0, 'ro')\n",
    "\n",
    "plt.figure(figsize=(15, 2))\n",
    "plt.xlim([0,10080])\n",
    "plt.plot(actual_place.time % (60 * 24 * 7),np.zeros_like(actual_place.time), 'bo')\n",
    "plt.plot(actual_place[actual_place.row_id == 3].time % (60 * 24 * 7),0, 'ro')"
   ]
  },
  {
   "cell_type": "code",
   "execution_count": 37,
   "metadata": {
    "collapsed": false,
    "scrolled": true
   },
   "outputs": [],
   "source": [
    "wrong_predict1 = train_set[train_set.place_id == 4505710601]"
   ]
  },
  {
   "cell_type": "code",
   "execution_count": 38,
   "metadata": {
    "collapsed": false,
    "scrolled": true
   },
   "outputs": [
    {
     "data": {
      "text/html": [
       "<div>\n",
       "<table border=\"1\" class=\"dataframe\">\n",
       "  <thead>\n",
       "    <tr style=\"text-align: right;\">\n",
       "      <th></th>\n",
       "      <th>row_id</th>\n",
       "      <th>x</th>\n",
       "      <th>y</th>\n",
       "      <th>accuracy</th>\n",
       "      <th>time</th>\n",
       "      <th>place_id</th>\n",
       "    </tr>\n",
       "  </thead>\n",
       "  <tbody>\n",
       "    <tr>\n",
       "      <th>178464</th>\n",
       "      <td>178464</td>\n",
       "      <td>7.3250</td>\n",
       "      <td>2.5235</td>\n",
       "      <td>16</td>\n",
       "      <td>38333</td>\n",
       "      <td>4505710601</td>\n",
       "    </tr>\n",
       "    <tr>\n",
       "      <th>217412</th>\n",
       "      <td>217412</td>\n",
       "      <td>7.3445</td>\n",
       "      <td>2.5152</td>\n",
       "      <td>70</td>\n",
       "      <td>770048</td>\n",
       "      <td>4505710601</td>\n",
       "    </tr>\n",
       "    <tr>\n",
       "      <th>222629</th>\n",
       "      <td>222629</td>\n",
       "      <td>7.3692</td>\n",
       "      <td>2.5191</td>\n",
       "      <td>19</td>\n",
       "      <td>620319</td>\n",
       "      <td>4505710601</td>\n",
       "    </tr>\n",
       "    <tr>\n",
       "      <th>298830</th>\n",
       "      <td>298830</td>\n",
       "      <td>7.3463</td>\n",
       "      <td>2.5185</td>\n",
       "      <td>161</td>\n",
       "      <td>6654</td>\n",
       "      <td>4505710601</td>\n",
       "    </tr>\n",
       "    <tr>\n",
       "      <th>388345</th>\n",
       "      <td>388345</td>\n",
       "      <td>7.3588</td>\n",
       "      <td>2.5398</td>\n",
       "      <td>10</td>\n",
       "      <td>97459</td>\n",
       "      <td>4505710601</td>\n",
       "    </tr>\n",
       "    <tr>\n",
       "      <th>388942</th>\n",
       "      <td>388942</td>\n",
       "      <td>7.3632</td>\n",
       "      <td>2.5295</td>\n",
       "      <td>38</td>\n",
       "      <td>474637</td>\n",
       "      <td>4505710601</td>\n",
       "    </tr>\n",
       "    <tr>\n",
       "      <th>437051</th>\n",
       "      <td>437051</td>\n",
       "      <td>7.3440</td>\n",
       "      <td>2.5058</td>\n",
       "      <td>167</td>\n",
       "      <td>178341</td>\n",
       "      <td>4505710601</td>\n",
       "    </tr>\n",
       "    <tr>\n",
       "      <th>501994</th>\n",
       "      <td>501994</td>\n",
       "      <td>0.3503</td>\n",
       "      <td>2.6083</td>\n",
       "      <td>172</td>\n",
       "      <td>294688</td>\n",
       "      <td>4505710601</td>\n",
       "    </tr>\n",
       "    <tr>\n",
       "      <th>524712</th>\n",
       "      <td>524712</td>\n",
       "      <td>7.4686</td>\n",
       "      <td>2.5127</td>\n",
       "      <td>24</td>\n",
       "      <td>468657</td>\n",
       "      <td>4505710601</td>\n",
       "    </tr>\n",
       "    <tr>\n",
       "      <th>551028</th>\n",
       "      <td>551028</td>\n",
       "      <td>7.3127</td>\n",
       "      <td>2.5399</td>\n",
       "      <td>57</td>\n",
       "      <td>14168</td>\n",
       "      <td>4505710601</td>\n",
       "    </tr>\n",
       "    <tr>\n",
       "      <th>576872</th>\n",
       "      <td>576872</td>\n",
       "      <td>7.3431</td>\n",
       "      <td>2.5466</td>\n",
       "      <td>29</td>\n",
       "      <td>749402</td>\n",
       "      <td>4505710601</td>\n",
       "    </tr>\n",
       "    <tr>\n",
       "      <th>858057</th>\n",
       "      <td>858057</td>\n",
       "      <td>7.2959</td>\n",
       "      <td>2.5275</td>\n",
       "      <td>103</td>\n",
       "      <td>672</td>\n",
       "      <td>4505710601</td>\n",
       "    </tr>\n",
       "    <tr>\n",
       "      <th>864252</th>\n",
       "      <td>864252</td>\n",
       "      <td>7.3636</td>\n",
       "      <td>2.5233</td>\n",
       "      <td>61</td>\n",
       "      <td>762909</td>\n",
       "      <td>4505710601</td>\n",
       "    </tr>\n",
       "    <tr>\n",
       "      <th>874801</th>\n",
       "      <td>874801</td>\n",
       "      <td>7.2783</td>\n",
       "      <td>2.5210</td>\n",
       "      <td>93</td>\n",
       "      <td>434282</td>\n",
       "      <td>4505710601</td>\n",
       "    </tr>\n",
       "    <tr>\n",
       "      <th>989607</th>\n",
       "      <td>989607</td>\n",
       "      <td>7.2982</td>\n",
       "      <td>2.5290</td>\n",
       "      <td>70</td>\n",
       "      <td>430148</td>\n",
       "      <td>4505710601</td>\n",
       "    </tr>\n",
       "    <tr>\n",
       "      <th>1005927</th>\n",
       "      <td>1005927</td>\n",
       "      <td>7.3620</td>\n",
       "      <td>2.5285</td>\n",
       "      <td>55</td>\n",
       "      <td>500828</td>\n",
       "      <td>4505710601</td>\n",
       "    </tr>\n",
       "    <tr>\n",
       "      <th>1068061</th>\n",
       "      <td>1068061</td>\n",
       "      <td>7.3431</td>\n",
       "      <td>2.5520</td>\n",
       "      <td>58</td>\n",
       "      <td>742567</td>\n",
       "      <td>4505710601</td>\n",
       "    </tr>\n",
       "    <tr>\n",
       "      <th>1096492</th>\n",
       "      <td>1096492</td>\n",
       "      <td>7.3466</td>\n",
       "      <td>2.5086</td>\n",
       "      <td>30</td>\n",
       "      <td>469287</td>\n",
       "      <td>4505710601</td>\n",
       "    </tr>\n",
       "    <tr>\n",
       "      <th>1210274</th>\n",
       "      <td>1210274</td>\n",
       "      <td>3.0745</td>\n",
       "      <td>2.5578</td>\n",
       "      <td>10</td>\n",
       "      <td>88774</td>\n",
       "      <td>4505710601</td>\n",
       "    </tr>\n",
       "    <tr>\n",
       "      <th>1269878</th>\n",
       "      <td>1269878</td>\n",
       "      <td>7.5973</td>\n",
       "      <td>2.5143</td>\n",
       "      <td>20</td>\n",
       "      <td>448838</td>\n",
       "      <td>4505710601</td>\n",
       "    </tr>\n",
       "    <tr>\n",
       "      <th>1272911</th>\n",
       "      <td>1272911</td>\n",
       "      <td>7.3525</td>\n",
       "      <td>2.5333</td>\n",
       "      <td>30</td>\n",
       "      <td>732607</td>\n",
       "      <td>4505710601</td>\n",
       "    </tr>\n",
       "    <tr>\n",
       "      <th>1314840</th>\n",
       "      <td>1314840</td>\n",
       "      <td>7.3859</td>\n",
       "      <td>2.5251</td>\n",
       "      <td>64</td>\n",
       "      <td>158987</td>\n",
       "      <td>4505710601</td>\n",
       "    </tr>\n",
       "    <tr>\n",
       "      <th>1334636</th>\n",
       "      <td>1334636</td>\n",
       "      <td>7.2872</td>\n",
       "      <td>2.5276</td>\n",
       "      <td>95</td>\n",
       "      <td>692099</td>\n",
       "      <td>4505710601</td>\n",
       "    </tr>\n",
       "    <tr>\n",
       "      <th>1392081</th>\n",
       "      <td>1392081</td>\n",
       "      <td>7.2882</td>\n",
       "      <td>2.5323</td>\n",
       "      <td>109</td>\n",
       "      <td>543568</td>\n",
       "      <td>4505710601</td>\n",
       "    </tr>\n",
       "    <tr>\n",
       "      <th>1498304</th>\n",
       "      <td>1498304</td>\n",
       "      <td>7.3643</td>\n",
       "      <td>2.5264</td>\n",
       "      <td>7</td>\n",
       "      <td>28460</td>\n",
       "      <td>4505710601</td>\n",
       "    </tr>\n",
       "    <tr>\n",
       "      <th>1599313</th>\n",
       "      <td>1599313</td>\n",
       "      <td>7.3501</td>\n",
       "      <td>2.5222</td>\n",
       "      <td>32</td>\n",
       "      <td>693582</td>\n",
       "      <td>4505710601</td>\n",
       "    </tr>\n",
       "    <tr>\n",
       "      <th>1638862</th>\n",
       "      <td>1638862</td>\n",
       "      <td>7.3091</td>\n",
       "      <td>2.5243</td>\n",
       "      <td>61</td>\n",
       "      <td>476236</td>\n",
       "      <td>4505710601</td>\n",
       "    </tr>\n",
       "    <tr>\n",
       "      <th>1657223</th>\n",
       "      <td>1657223</td>\n",
       "      <td>7.2624</td>\n",
       "      <td>2.5261</td>\n",
       "      <td>87</td>\n",
       "      <td>299163</td>\n",
       "      <td>4505710601</td>\n",
       "    </tr>\n",
       "    <tr>\n",
       "      <th>1665886</th>\n",
       "      <td>1665886</td>\n",
       "      <td>7.3271</td>\n",
       "      <td>2.5145</td>\n",
       "      <td>64</td>\n",
       "      <td>329382</td>\n",
       "      <td>4505710601</td>\n",
       "    </tr>\n",
       "    <tr>\n",
       "      <th>1714550</th>\n",
       "      <td>1714550</td>\n",
       "      <td>2.7618</td>\n",
       "      <td>2.5934</td>\n",
       "      <td>163</td>\n",
       "      <td>673098</td>\n",
       "      <td>4505710601</td>\n",
       "    </tr>\n",
       "    <tr>\n",
       "      <th>...</th>\n",
       "      <td>...</td>\n",
       "      <td>...</td>\n",
       "      <td>...</td>\n",
       "      <td>...</td>\n",
       "      <td>...</td>\n",
       "      <td>...</td>\n",
       "    </tr>\n",
       "    <tr>\n",
       "      <th>27011379</th>\n",
       "      <td>27011379</td>\n",
       "      <td>7.3293</td>\n",
       "      <td>2.5221</td>\n",
       "      <td>62</td>\n",
       "      <td>48692</td>\n",
       "      <td>4505710601</td>\n",
       "    </tr>\n",
       "    <tr>\n",
       "      <th>27095423</th>\n",
       "      <td>27095423</td>\n",
       "      <td>7.2835</td>\n",
       "      <td>2.5410</td>\n",
       "      <td>63</td>\n",
       "      <td>603967</td>\n",
       "      <td>4505710601</td>\n",
       "    </tr>\n",
       "    <tr>\n",
       "      <th>27114112</th>\n",
       "      <td>27114112</td>\n",
       "      <td>7.3657</td>\n",
       "      <td>2.5210</td>\n",
       "      <td>65</td>\n",
       "      <td>334881</td>\n",
       "      <td>4505710601</td>\n",
       "    </tr>\n",
       "    <tr>\n",
       "      <th>27168325</th>\n",
       "      <td>27168325</td>\n",
       "      <td>7.3508</td>\n",
       "      <td>2.5207</td>\n",
       "      <td>161</td>\n",
       "      <td>699225</td>\n",
       "      <td>4505710601</td>\n",
       "    </tr>\n",
       "    <tr>\n",
       "      <th>27199849</th>\n",
       "      <td>27199849</td>\n",
       "      <td>7.3662</td>\n",
       "      <td>2.5047</td>\n",
       "      <td>43</td>\n",
       "      <td>130549</td>\n",
       "      <td>4505710601</td>\n",
       "    </tr>\n",
       "    <tr>\n",
       "      <th>27238228</th>\n",
       "      <td>27238228</td>\n",
       "      <td>7.3264</td>\n",
       "      <td>2.5244</td>\n",
       "      <td>65</td>\n",
       "      <td>512142</td>\n",
       "      <td>4505710601</td>\n",
       "    </tr>\n",
       "    <tr>\n",
       "      <th>27500870</th>\n",
       "      <td>27500870</td>\n",
       "      <td>7.3923</td>\n",
       "      <td>2.5278</td>\n",
       "      <td>23</td>\n",
       "      <td>509263</td>\n",
       "      <td>4505710601</td>\n",
       "    </tr>\n",
       "    <tr>\n",
       "      <th>27513509</th>\n",
       "      <td>27513509</td>\n",
       "      <td>6.8734</td>\n",
       "      <td>2.5410</td>\n",
       "      <td>59</td>\n",
       "      <td>441577</td>\n",
       "      <td>4505710601</td>\n",
       "    </tr>\n",
       "    <tr>\n",
       "      <th>27591182</th>\n",
       "      <td>27591182</td>\n",
       "      <td>7.3545</td>\n",
       "      <td>2.5407</td>\n",
       "      <td>170</td>\n",
       "      <td>87569</td>\n",
       "      <td>4505710601</td>\n",
       "    </tr>\n",
       "    <tr>\n",
       "      <th>27610283</th>\n",
       "      <td>27610283</td>\n",
       "      <td>7.2635</td>\n",
       "      <td>2.5343</td>\n",
       "      <td>82</td>\n",
       "      <td>146393</td>\n",
       "      <td>4505710601</td>\n",
       "    </tr>\n",
       "    <tr>\n",
       "      <th>27695412</th>\n",
       "      <td>27695412</td>\n",
       "      <td>7.3053</td>\n",
       "      <td>2.5022</td>\n",
       "      <td>3</td>\n",
       "      <td>154780</td>\n",
       "      <td>4505710601</td>\n",
       "    </tr>\n",
       "    <tr>\n",
       "      <th>27771537</th>\n",
       "      <td>27771537</td>\n",
       "      <td>7.3475</td>\n",
       "      <td>2.5218</td>\n",
       "      <td>13</td>\n",
       "      <td>611722</td>\n",
       "      <td>4505710601</td>\n",
       "    </tr>\n",
       "    <tr>\n",
       "      <th>27802485</th>\n",
       "      <td>27802485</td>\n",
       "      <td>7.3475</td>\n",
       "      <td>2.5365</td>\n",
       "      <td>12</td>\n",
       "      <td>2458</td>\n",
       "      <td>4505710601</td>\n",
       "    </tr>\n",
       "    <tr>\n",
       "      <th>27823095</th>\n",
       "      <td>27823095</td>\n",
       "      <td>7.3576</td>\n",
       "      <td>2.5218</td>\n",
       "      <td>41</td>\n",
       "      <td>287208</td>\n",
       "      <td>4505710601</td>\n",
       "    </tr>\n",
       "    <tr>\n",
       "      <th>28193011</th>\n",
       "      <td>28193011</td>\n",
       "      <td>7.3241</td>\n",
       "      <td>2.5401</td>\n",
       "      <td>74</td>\n",
       "      <td>349075</td>\n",
       "      <td>4505710601</td>\n",
       "    </tr>\n",
       "    <tr>\n",
       "      <th>28256832</th>\n",
       "      <td>28256832</td>\n",
       "      <td>7.3186</td>\n",
       "      <td>2.5284</td>\n",
       "      <td>23</td>\n",
       "      <td>782937</td>\n",
       "      <td>4505710601</td>\n",
       "    </tr>\n",
       "    <tr>\n",
       "      <th>28293096</th>\n",
       "      <td>28293096</td>\n",
       "      <td>7.3637</td>\n",
       "      <td>2.5389</td>\n",
       "      <td>165</td>\n",
       "      <td>310153</td>\n",
       "      <td>4505710601</td>\n",
       "    </tr>\n",
       "    <tr>\n",
       "      <th>28309372</th>\n",
       "      <td>28309372</td>\n",
       "      <td>7.2809</td>\n",
       "      <td>2.5434</td>\n",
       "      <td>61</td>\n",
       "      <td>68656</td>\n",
       "      <td>4505710601</td>\n",
       "    </tr>\n",
       "    <tr>\n",
       "      <th>28404633</th>\n",
       "      <td>28404633</td>\n",
       "      <td>7.3645</td>\n",
       "      <td>2.5146</td>\n",
       "      <td>109</td>\n",
       "      <td>555195</td>\n",
       "      <td>4505710601</td>\n",
       "    </tr>\n",
       "    <tr>\n",
       "      <th>28514104</th>\n",
       "      <td>28514104</td>\n",
       "      <td>7.3343</td>\n",
       "      <td>2.5424</td>\n",
       "      <td>159</td>\n",
       "      <td>369741</td>\n",
       "      <td>4505710601</td>\n",
       "    </tr>\n",
       "    <tr>\n",
       "      <th>28550438</th>\n",
       "      <td>28550438</td>\n",
       "      <td>7.3170</td>\n",
       "      <td>2.5170</td>\n",
       "      <td>168</td>\n",
       "      <td>29961</td>\n",
       "      <td>4505710601</td>\n",
       "    </tr>\n",
       "    <tr>\n",
       "      <th>28553511</th>\n",
       "      <td>28553511</td>\n",
       "      <td>7.3620</td>\n",
       "      <td>2.5237</td>\n",
       "      <td>165</td>\n",
       "      <td>624421</td>\n",
       "      <td>4505710601</td>\n",
       "    </tr>\n",
       "    <tr>\n",
       "      <th>28614708</th>\n",
       "      <td>28614708</td>\n",
       "      <td>7.3255</td>\n",
       "      <td>2.5255</td>\n",
       "      <td>66</td>\n",
       "      <td>690631</td>\n",
       "      <td>4505710601</td>\n",
       "    </tr>\n",
       "    <tr>\n",
       "      <th>28637694</th>\n",
       "      <td>28637694</td>\n",
       "      <td>7.3601</td>\n",
       "      <td>2.5158</td>\n",
       "      <td>4</td>\n",
       "      <td>104332</td>\n",
       "      <td>4505710601</td>\n",
       "    </tr>\n",
       "    <tr>\n",
       "      <th>28693409</th>\n",
       "      <td>28693409</td>\n",
       "      <td>7.3383</td>\n",
       "      <td>2.5103</td>\n",
       "      <td>485</td>\n",
       "      <td>52923</td>\n",
       "      <td>4505710601</td>\n",
       "    </tr>\n",
       "    <tr>\n",
       "      <th>28715441</th>\n",
       "      <td>28715441</td>\n",
       "      <td>7.2039</td>\n",
       "      <td>2.5251</td>\n",
       "      <td>74</td>\n",
       "      <td>153620</td>\n",
       "      <td>4505710601</td>\n",
       "    </tr>\n",
       "    <tr>\n",
       "      <th>28748176</th>\n",
       "      <td>28748176</td>\n",
       "      <td>7.3323</td>\n",
       "      <td>2.5172</td>\n",
       "      <td>173</td>\n",
       "      <td>452947</td>\n",
       "      <td>4505710601</td>\n",
       "    </tr>\n",
       "    <tr>\n",
       "      <th>28780618</th>\n",
       "      <td>28780618</td>\n",
       "      <td>7.2676</td>\n",
       "      <td>2.5184</td>\n",
       "      <td>89</td>\n",
       "      <td>592532</td>\n",
       "      <td>4505710601</td>\n",
       "    </tr>\n",
       "    <tr>\n",
       "      <th>28877199</th>\n",
       "      <td>28877199</td>\n",
       "      <td>7.3353</td>\n",
       "      <td>2.5245</td>\n",
       "      <td>182</td>\n",
       "      <td>630181</td>\n",
       "      <td>4505710601</td>\n",
       "    </tr>\n",
       "    <tr>\n",
       "      <th>28974933</th>\n",
       "      <td>28974933</td>\n",
       "      <td>7.2563</td>\n",
       "      <td>2.5316</td>\n",
       "      <td>77</td>\n",
       "      <td>366916</td>\n",
       "      <td>4505710601</td>\n",
       "    </tr>\n",
       "  </tbody>\n",
       "</table>\n",
       "<p>431 rows × 6 columns</p>\n",
       "</div>"
      ],
      "text/plain": [
       "            row_id       x       y  accuracy    time    place_id\n",
       "178464      178464  7.3250  2.5235        16   38333  4505710601\n",
       "217412      217412  7.3445  2.5152        70  770048  4505710601\n",
       "222629      222629  7.3692  2.5191        19  620319  4505710601\n",
       "298830      298830  7.3463  2.5185       161    6654  4505710601\n",
       "388345      388345  7.3588  2.5398        10   97459  4505710601\n",
       "388942      388942  7.3632  2.5295        38  474637  4505710601\n",
       "437051      437051  7.3440  2.5058       167  178341  4505710601\n",
       "501994      501994  0.3503  2.6083       172  294688  4505710601\n",
       "524712      524712  7.4686  2.5127        24  468657  4505710601\n",
       "551028      551028  7.3127  2.5399        57   14168  4505710601\n",
       "576872      576872  7.3431  2.5466        29  749402  4505710601\n",
       "858057      858057  7.2959  2.5275       103     672  4505710601\n",
       "864252      864252  7.3636  2.5233        61  762909  4505710601\n",
       "874801      874801  7.2783  2.5210        93  434282  4505710601\n",
       "989607      989607  7.2982  2.5290        70  430148  4505710601\n",
       "1005927    1005927  7.3620  2.5285        55  500828  4505710601\n",
       "1068061    1068061  7.3431  2.5520        58  742567  4505710601\n",
       "1096492    1096492  7.3466  2.5086        30  469287  4505710601\n",
       "1210274    1210274  3.0745  2.5578        10   88774  4505710601\n",
       "1269878    1269878  7.5973  2.5143        20  448838  4505710601\n",
       "1272911    1272911  7.3525  2.5333        30  732607  4505710601\n",
       "1314840    1314840  7.3859  2.5251        64  158987  4505710601\n",
       "1334636    1334636  7.2872  2.5276        95  692099  4505710601\n",
       "1392081    1392081  7.2882  2.5323       109  543568  4505710601\n",
       "1498304    1498304  7.3643  2.5264         7   28460  4505710601\n",
       "1599313    1599313  7.3501  2.5222        32  693582  4505710601\n",
       "1638862    1638862  7.3091  2.5243        61  476236  4505710601\n",
       "1657223    1657223  7.2624  2.5261        87  299163  4505710601\n",
       "1665886    1665886  7.3271  2.5145        64  329382  4505710601\n",
       "1714550    1714550  2.7618  2.5934       163  673098  4505710601\n",
       "...            ...     ...     ...       ...     ...         ...\n",
       "27011379  27011379  7.3293  2.5221        62   48692  4505710601\n",
       "27095423  27095423  7.2835  2.5410        63  603967  4505710601\n",
       "27114112  27114112  7.3657  2.5210        65  334881  4505710601\n",
       "27168325  27168325  7.3508  2.5207       161  699225  4505710601\n",
       "27199849  27199849  7.3662  2.5047        43  130549  4505710601\n",
       "27238228  27238228  7.3264  2.5244        65  512142  4505710601\n",
       "27500870  27500870  7.3923  2.5278        23  509263  4505710601\n",
       "27513509  27513509  6.8734  2.5410        59  441577  4505710601\n",
       "27591182  27591182  7.3545  2.5407       170   87569  4505710601\n",
       "27610283  27610283  7.2635  2.5343        82  146393  4505710601\n",
       "27695412  27695412  7.3053  2.5022         3  154780  4505710601\n",
       "27771537  27771537  7.3475  2.5218        13  611722  4505710601\n",
       "27802485  27802485  7.3475  2.5365        12    2458  4505710601\n",
       "27823095  27823095  7.3576  2.5218        41  287208  4505710601\n",
       "28193011  28193011  7.3241  2.5401        74  349075  4505710601\n",
       "28256832  28256832  7.3186  2.5284        23  782937  4505710601\n",
       "28293096  28293096  7.3637  2.5389       165  310153  4505710601\n",
       "28309372  28309372  7.2809  2.5434        61   68656  4505710601\n",
       "28404633  28404633  7.3645  2.5146       109  555195  4505710601\n",
       "28514104  28514104  7.3343  2.5424       159  369741  4505710601\n",
       "28550438  28550438  7.3170  2.5170       168   29961  4505710601\n",
       "28553511  28553511  7.3620  2.5237       165  624421  4505710601\n",
       "28614708  28614708  7.3255  2.5255        66  690631  4505710601\n",
       "28637694  28637694  7.3601  2.5158         4  104332  4505710601\n",
       "28693409  28693409  7.3383  2.5103       485   52923  4505710601\n",
       "28715441  28715441  7.2039  2.5251        74  153620  4505710601\n",
       "28748176  28748176  7.3323  2.5172       173  452947  4505710601\n",
       "28780618  28780618  7.2676  2.5184        89  592532  4505710601\n",
       "28877199  28877199  7.3353  2.5245       182  630181  4505710601\n",
       "28974933  28974933  7.2563  2.5316        77  366916  4505710601\n",
       "\n",
       "[431 rows x 6 columns]"
      ]
     },
     "execution_count": 38,
     "metadata": {},
     "output_type": "execute_result"
    }
   ],
   "source": [
    "wrong_predict1"
   ]
  },
  {
   "cell_type": "code",
   "execution_count": null,
   "metadata": {
    "collapsed": true
   },
   "outputs": [],
   "source": []
  }
 ],
 "metadata": {
  "kernelspec": {
   "display_name": "Python 3",
   "language": "python",
   "name": "python3"
  },
  "language_info": {
   "codemirror_mode": {
    "name": "ipython",
    "version": 3
   },
   "file_extension": ".py",
   "mimetype": "text/x-python",
   "name": "python",
   "nbconvert_exporter": "python",
   "pygments_lexer": "ipython3",
   "version": "3.5.1"
  }
 },
 "nbformat": 4,
 "nbformat_minor": 0
}
