{
 "cells": [
  {
   "cell_type": "code",
   "execution_count": 32,
   "metadata": {
    "collapsed": true
   },
   "outputs": [],
   "source": [
    "import datetime\n",
    "from heapq import nlargest\n",
    "from operator import itemgetter\n",
    "import os\n",
    "import time\n",
    "import math\n",
    "from collections import defaultdict\n",
    "\n",
    "def apk(actual, predicted, k=3):\n",
    "    if len(predicted) > k:\n",
    "        predicted = predicted[:k]\n",
    "\n",
    "    score = 0.0\n",
    "    num_hits = 0.0\n",
    "\n",
    "    for i,p in enumerate(predicted):\n",
    "        if p in actual and p not in predicted[:i]:\n",
    "            num_hits += 1.0\n",
    "            score += num_hits / (i+1.0)\n",
    "\n",
    "    if not actual:\n",
    "        return 0.0\n",
    "\n",
    "    return score / min(len(actual), k)\n",
    "\n",
    "\n",
    "def prep_xy(x, y, range_x, range_y):\n",
    "    ix = math.floor(range_x*x/10)\n",
    "    if ix < 0:\n",
    "        ix = 0\n",
    "    if ix >= range_x:\n",
    "        ix = range_x-1\n",
    "\n",
    "    iy = math.floor(range_y*y/10)\n",
    "    if iy < 0:\n",
    "        iy = 0\n",
    "    if iy >= range_y:\n",
    "        iy = range_y-1\n",
    "\n",
    "    return ix, iy\n",
    "\n",
    "start_time = time.time()"
   ]
  },
  {
   "cell_type": "code",
   "execution_count": 33,
   "metadata": {
    "collapsed": false
   },
   "outputs": [
    {
     "name": "stdout",
     "output_type": "stream",
     "text": [
      "Preparing arrays...\n"
     ]
    }
   ],
   "source": [
    "print('Preparing arrays...')\n",
    "f = open(\"train.csv\", \"r\")\n",
    "f.readline()\n",
    "total = 0\n",
    "grid_size_x = 290 #500\n",
    "grid_size_y = 725 #1000"
   ]
  },
  {
   "cell_type": "code",
   "execution_count": 34,
   "metadata": {
    "collapsed": true
   },
   "outputs": [],
   "source": [
    "split_t = math.floor((1.0 - 0.125) * 786239)\n",
    "out_of_business_time = 0.125\n",
    "split_test_out_of_business = math.floor((1.0 - 0.125 - out_of_business_time) * 786239)\n",
    "split_submit_out_of_business = math.floor((1.0 - out_of_business_time) * 786239)\n",
    "test_arr = []"
   ]
  },
  {
   "cell_type": "code",
   "execution_count": 35,
   "metadata": {
    "collapsed": true
   },
   "outputs": [],
   "source": [
    "grid = defaultdict(lambda: defaultdict(int))\n",
    "grid_valid = defaultdict(lambda: defaultdict(int))\n",
    "submit_out_of_business = dict()\n",
    "test_out_of_business = dict()\n",
    "grid_sorted = dict()\n",
    "grid_sorted_valid = dict()"
   ]
  },
  {
   "cell_type": "code",
   "execution_count": 36,
   "metadata": {
    "collapsed": true
   },
   "outputs": [],
   "source": [
    "train_samples = 0\n",
    "test_samples = 0\n",
    "while 1:\n",
    "    line = f.readline().strip()\n",
    "    total += 1\n",
    "\n",
    "    if line == '':\n",
    "        break\n",
    "\n",
    "    arr = line.split(\",\")\n",
    "    #row_id = arr[0]\n",
    "    x = float(arr[1])\n",
    "    y = float(arr[2])\n",
    "    #accuracy = int(arr[3])\n",
    "    time1 = int(arr[4])\n",
    "    place_id = arr[5]\n",
    "    quarter_period_of_day = math.floor((time1 + 300) / (6*60)) % 4\n",
    "    log_month = math.log10(3+((time1 + 300.0) / (60 * 24 * 30)))\n",
    "\n",
    "    ix, iy = prep_xy(x, y, grid_size_x, grid_size_y)\n",
    "    grid[(ix, iy, quarter_period_of_day)][place_id] += (1) * log_month \n",
    "    grid[(ix, iy)][place_id] += 1 * log_month\n",
    "    \n",
    "    if time1 < split_t:\n",
    "        grid_valid[(ix, iy, quarter_period_of_day)][place_id] += 1 * (log_month)\n",
    "        grid_valid[(ix, iy)][place_id] += 1 * (log_month)\n",
    "        train_samples += 1\n",
    "        if time1 >= split_test_out_of_business:\n",
    "            test_out_of_business[place_id] = 1\n",
    "    else:\n",
    "        test_arr.append(arr)\n",
    "        test_samples += 1\n",
    "        \n",
    "    if time1 >= split_submit_out_of_business:\n",
    "        submit_out_of_business[place_id] = 1\n",
    "\n",
    "f.close()"
   ]
  },
  {
   "cell_type": "code",
   "execution_count": 37,
   "metadata": {
    "collapsed": false
   },
   "outputs": [
    {
     "name": "stdout",
     "output_type": "stream",
     "text": [
      "Sorting arrays...\n"
     ]
    }
   ],
   "source": [
    "print('Sorting arrays...')\n",
    "for el in grid:\n",
    "    grid_sorted[el] = nlargest(3, sorted(grid[el].items()), key=itemgetter(1))\n",
    "for el in grid_valid:\n",
    "    grid_sorted_valid[el] = nlargest(3, sorted(grid_valid[el].items()), key=itemgetter(1))"
   ]
  },
  {
   "cell_type": "code",
   "execution_count": 39,
   "metadata": {
    "collapsed": false
   },
   "outputs": [
    {
     "name": "stdout",
     "output_type": "stream",
     "text": [
      "Run validation...\n",
      "Predicted score: 0.4731360391228033\n",
      "Train samples:  24700287\n",
      "Test samples:  4417734\n"
     ]
    }
   ],
   "source": [
    "print('Run validation...')\n",
    "total = 0\n",
    "score = 0.0\n",
    "score_num = 0\n",
    "for arr in test_arr:\n",
    "    total += 1\n",
    "    #row_id = arr[0]\n",
    "    x = float(arr[1])\n",
    "    y = float(arr[2])\n",
    "    #accuracy = int(arr[3])\n",
    "    time1 = int(arr[4])\n",
    "    place_id = arr[5]\n",
    "    quarter_period_of_day = math.floor((time1 + 300) / (6*60)) % 4\n",
    "    filled = []\n",
    "    ix, iy = prep_xy(x, y, grid_size_x, grid_size_y)\n",
    "    s1 = (ix, iy, quarter_period_of_day)\n",
    "    s2 = (ix, iy)\n",
    "    if len(filled) < 3 and s1 in grid_sorted_valid:\n",
    "        topitems = grid_sorted_valid[s1]\n",
    "        for i in range(len(topitems)):\n",
    "            if topitems[i][0] in filled:\n",
    "                continue\n",
    "            if len(filled) == 3:\n",
    "                break\n",
    "            if topitems[i][0] in test_out_of_business:\n",
    "                filled.append(topitems[i][0])\n",
    "    if len(filled) < 3 and s2 in grid_sorted_valid:\n",
    "        topitems = grid_sorted_valid[s2]\n",
    "        for i in range(len(topitems)):\n",
    "            if topitems[i][0] in filled:\n",
    "                continue\n",
    "            if len(filled) == 3:\n",
    "                break\n",
    "            if topitems[i][0] in test_out_of_business:\n",
    "                filled.append(topitems[i][0])\n",
    "    if len(filled) < 3 and s1 in grid_sorted_valid:\n",
    "        topitems = grid_sorted_valid[s1]\n",
    "        for i in range(len(topitems)):\n",
    "            if topitems[i][0] in filled:\n",
    "                continue\n",
    "            if len(filled) == 3:\n",
    "                break\n",
    "            filled.append(topitems[i][0])\n",
    "    if len(filled) < 3 and s2 in grid_sorted_valid:\n",
    "        topitems = grid_sorted_valid[s2]\n",
    "        for i in range(len(topitems)):\n",
    "            if topitems[i][0] in filled:\n",
    "                continue\n",
    "            if len(filled) == 3:\n",
    "                break\n",
    "            filled.append(topitems[i][0])\n",
    "    score += apk([place_id], filled, 3)\n",
    "    \n",
    "    found = False\n",
    "    arr_with_result = arr[:]\n",
    "    for i,p in enumerate(filled):\n",
    "        arr_with_result.append(p)\n",
    "        \n",
    "    for i,p in enumerate(filled):\n",
    "        if(p == place_id):\n",
    "            found = True\n",
    "            if(i == 1):\n",
    "                second_place.append(arr_with_result)\n",
    "            if(i == 2):\n",
    "                third_place.append(arr_with_result)\n",
    "    if(not found):\n",
    "        not_in_filled.append(arr_with_result)\n",
    "    score_num += 1\n",
    "score /= score_num\n",
    "print('Predicted score: {}'.format(score))\n",
    "print('Train samples: ', train_samples)\n",
    "print('Test samples: ', test_samples)"
   ]
  },
  {
   "cell_type": "code",
   "execution_count": 44,
   "metadata": {
    "collapsed": true
   },
   "outputs": [],
   "source": [
    "f_second_place = open('second_place.csv','w')\n",
    "for line in second_place:\n",
    "    f.write(','.join(line))\n",
    "    f.write('\\n')\n",
    "f.close()"
   ]
  },
  {
   "cell_type": "code",
   "execution_count": 45,
   "metadata": {
    "collapsed": true
   },
   "outputs": [],
   "source": [
    "f = open('third_place.csv','w')\n",
    "for line in third_place:\n",
    "    f.write(','.join(line))\n",
    "    f.write('\\n')\n",
    "f.close()"
   ]
  },
  {
   "cell_type": "code",
   "execution_count": 46,
   "metadata": {
    "collapsed": true
   },
   "outputs": [],
   "source": [
    "f = open('not_in_filled.csv','w')\n",
    "for line in not_in_filled:\n",
    "    f.write(','.join(line))\n",
    "    f.write('\\n')\n",
    "f.close()"
   ]
  },
  {
   "cell_type": "code",
   "execution_count": null,
   "metadata": {
    "collapsed": true
   },
   "outputs": [],
   "source": [
    "print('Generate submission...')\n",
    "sub_file = os.path.join('submission_' + str(datetime.datetime.now().strftime(\"%Y-%m-%d-%H-%M\")) + '.csv')\n",
    "out = open(sub_file, \"w\")\n",
    "f = open(\"test.csv\", \"r\")\n",
    "f.readline()\n",
    "total = 0\n",
    "count_empty0 = 0\n",
    "count_empty1 = 0\n",
    "count_empty2 = 0\n",
    "out.write(\"row_id,place_id\\n\")\n",
    "\n",
    "while 1:\n",
    "    line = f.readline().strip()\n",
    "    total += 1\n",
    "\n",
    "    if line == '':\n",
    "        break\n",
    "\n",
    "    arr = line.split(\",\")\n",
    "    row_id = arr[0]\n",
    "    x = float(arr[1])\n",
    "    y = float(arr[2])\n",
    "    time1 = int(arr[4])\n",
    "    quarter_period_of_day = math.floor((time1 + 300) / (6*60)) % 4\n",
    "\n",
    "    out.write(str(row_id) + ',')\n",
    "    filled = []\n",
    "\n",
    "    ix, iy = prep_xy(x, y, grid_size_x, grid_size_y)\n",
    "    ix2, iy2 = prep_xy(x, y, grid_size_x2, grid_size_y2)\n",
    "\n",
    "    s1 = (ix, iy, quarter_period_of_day)\n",
    "    s2 = (ix, iy)\n",
    "    if len(filled) < 3 and s1 in grid_sorted:\n",
    "        topitems = grid_sorted[s1]\n",
    "        for i in range(len(topitems)):\n",
    "            if topitems[i][0] in filled:\n",
    "                continue\n",
    "            if len(filled) == 3:\n",
    "                break\n",
    "            if topitems[i][0] in submit_out_of_business:\n",
    "                out.write(' ' + topitems[i][0])\n",
    "                filled.append(topitems[i][0])\n",
    "    if len(filled) < 3 and s2 in grid_sorted:\n",
    "        topitems = grid_sorted[s2]\n",
    "        for i in range(len(topitems)):\n",
    "            if topitems[i][0] in filled:\n",
    "                continue\n",
    "            if len(filled) == 3:\n",
    "                break\n",
    "            if topitems[i][0] in submit_out_of_business:\n",
    "                out.write(' ' + topitems[i][0])\n",
    "                filled.append(topitems[i][0])\n",
    "    if len(filled) < 3 and s1 in grid_sorted:\n",
    "        topitems = grid_sorted[s1]\n",
    "        for i in range(len(topitems)):\n",
    "            if topitems[i][0] in filled:\n",
    "                continue\n",
    "            if len(filled) == 3:\n",
    "                break\n",
    "            out.write(' ' + topitems[i][0])\n",
    "            filled.append(topitems[i][0])\n",
    "    if len(filled) < 3 and s2 in grid_sorted:\n",
    "        topitems = grid_sorted[s2]\n",
    "        for i in range(len(topitems)):\n",
    "            if topitems[i][0] in filled:\n",
    "                continue\n",
    "            if len(filled) == 3:\n",
    "                break\n",
    "            out.write(' ' + topitems[i][0])\n",
    "            filled.append(topitems[i][0])\n",
    "    \n",
    "    if len(filled) == 0:\n",
    "        count_empty0 += 1\n",
    "    if len(filled) == 1:\n",
    "        count_empty1 += 1\n",
    "    if len(filled) == 2:\n",
    "        count_empty2 += 1\n",
    "    out.write(\"\\n\")\n",
    "\n",
    "print('Empty0 cases:', str(count_empty0))\n",
    "print('Empty1 cases:', str(count_empty1))\n",
    "print('Empty2 cases:', str(count_empty2))\n",
    "out.close()\n",
    "f.close()"
   ]
  },
  {
   "cell_type": "code",
   "execution_count": 1,
   "metadata": {
    "collapsed": false
   },
   "outputs": [
    {
     "name": "stdout",
     "output_type": "stream",
     "text": [
      "Preparing arrays...\n",
      "Sorting arrays...\n",
      "Run validation...\n",
      "Predicted score: 0.462704673178433\n",
      "Train samples:  24700287\n",
      "Test samples:  4417734\n",
      "Generate submission...\n",
      "Empty0 cases: 0\n",
      "Empty1 cases: 38\n",
      "Empty2 cases: 155\n",
      "Elapsed time overall: 679.6271727085114 seconds\n"
     ]
    }
   ],
   "source": [
    "print(\"Elapsed time overall: %s seconds\" % (time.time() - start_time))"
   ]
  }
 ],
 "metadata": {
  "kernelspec": {
   "display_name": "Python 3",
   "language": "python",
   "name": "python3"
  },
  "language_info": {
   "codemirror_mode": {
    "name": "ipython",
    "version": 3
   },
   "file_extension": ".py",
   "mimetype": "text/x-python",
   "name": "python",
   "nbconvert_exporter": "python",
   "pygments_lexer": "ipython3",
   "version": "3.5.1"
  }
 },
 "nbformat": 4,
 "nbformat_minor": 0
}
