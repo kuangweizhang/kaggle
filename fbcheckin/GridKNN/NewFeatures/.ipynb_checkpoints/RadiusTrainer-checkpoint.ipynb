{
 "cells": [
  {
   "cell_type": "code",
   "execution_count": 67,
   "metadata": {
    "collapsed": false
   },
   "outputs": [],
   "source": [
    "import numpy as np\n",
    "from scipy import stats\n",
    "from sklearn.utils.extmath import weighted_mode\n",
    "from sklearn.neighbors.base import _check_weights, _get_weights, NeighborsBase, KNeighborsMixin, RadiusNeighborsMixin, SupervisedIntegerMixin\n",
    "from sklearn.base import ClassifierMixin\n",
    "from sklearn.utils import check_array"
   ]
  },
  {
   "cell_type": "code",
   "execution_count": 76,
   "metadata": {
    "collapsed": false
   },
   "outputs": [],
   "source": [
    "class RadiusKNeighborsClassifier(NeighborsBase, RadiusNeighborsMixin,\n",
    "                                SupervisedIntegerMixin, ClassifierMixin):\n",
    "\n",
    "    def __init__(self, radius=1.0, weights='uniform',\n",
    "                 algorithm='auto', leaf_size=30, p=2, metric='minkowski',\n",
    "                 outlier_label=None, metric_params=None, **kwargs):\n",
    "        self._init_params(radius=radius,\n",
    "                          algorithm=algorithm,\n",
    "                          leaf_size=leaf_size,\n",
    "                          metric=metric, p=p, metric_params=metric_params,\n",
    "                          **kwargs)\n",
    "        self.weights = _check_weights(weights)\n",
    "        self.outlier_label = outlier_label\n",
    "\n",
    "    def predict_proba(self, X):\n",
    "        X = check_array(X, accept_sparse='csr')\n",
    "        n_samples = X.shape[0]\n",
    "\n",
    "        neigh_dist, neigh_ind = self.radius_neighbors(X)\n",
    "        print(\"neigh_ind\", neigh_ind)\n",
    "        classes_ = self.classes_\n",
    "        _y = self._y\n",
    "        if not self.outputs_2d_:\n",
    "            _y = self._y.reshape((-1, 1))\n",
    "            classes_ = [self.classes_]\n",
    "\n",
    "        n_samples = X.shape[0]\n",
    "\n",
    "        weights = _get_weights(neigh_dist, self.weights)\n",
    "        if weights is None:\n",
    "            weights = np.ones_like(neigh_ind)\n",
    "\n",
    "        all_rows = np.arange(X.shape[0])\n",
    "        probabilities = []\n",
    "        for k, classes_k in enumerate(classes_):\n",
    "            print('y',y)\n",
    "            print('k',k)\n",
    "            print('neigh_ind',neigh_ind)\n",
    "            print('t',_y[:, k])\n",
    "            print('type',type(_y[:, k]))\n",
    "            #pred_labels = _y[:, k][neigh_ind.astype(int)]\n",
    "            \n",
    "            \n",
    "            pred_labels = np.array([_y[ind, k] for ind in neigh_ind], \n",
    "                                   \n",
    "                                   type=object)\n",
    "            \n",
    "            proba_k = np.zeros((n_samples, classes_k.size))\n",
    "\n",
    "            print('pred_labels.T', pred_labels.T)\n",
    "            # a simple ':' index doesn't work right\n",
    "            for i, idx in enumerate(pred_labels.T):  # loop is O(n_neighbors)\n",
    "                print('all_rows',all_rows)\n",
    "                print('idx',idx)\n",
    "                print('i',i)\n",
    "                print('weights', weights)\n",
    "                print('weights[:, i]', weights[:, i])\n",
    "                proba_k[all_rows, idx] += weights[:, i]\n",
    "\n",
    "            # normalize 'votes' into real [0,1] probabilities\n",
    "            normalizer = proba_k.sum(axis=1)[:, np.newaxis]\n",
    "            normalizer[normalizer == 0.0] = 1.0\n",
    "            proba_k /= normalizer\n",
    "\n",
    "            probabilities.append(proba_k)\n",
    "\n",
    "        if not self.outputs_2d_:\n",
    "            probabilities = probabilities[0]\n",
    "\n",
    "        return probabilities"
   ]
  },
  {
   "cell_type": "code",
   "execution_count": 77,
   "metadata": {
    "collapsed": false
   },
   "outputs": [
    {
     "name": "stdout",
     "output_type": "stream",
     "text": [
      "neigh_ind [array([0, 1, 4], dtype=int64)]\n",
      "y [1, 2, 4, 4, 2, 2, 4, 4, 3, 3, 5, 5, 3, 3, 5, 5]\n",
      "k 0\n",
      "neigh_ind [array([0, 1, 4], dtype=int64)]\n",
      "t [0 1 3 3 1 1 3 3 2 2 4 4 2 2 4 4]\n",
      "type <class 'numpy.ndarray'>\n"
     ]
    },
    {
     "ename": "TypeError",
     "evalue": "'type' is an invalid keyword argument for this function",
     "output_type": "error",
     "traceback": [
      "\u001b[1;31m---------------------------------------------------------------------------\u001b[0m",
      "\u001b[1;31mTypeError\u001b[0m                                 Traceback (most recent call last)",
      "\u001b[1;32m<ipython-input-77-db64087d04f1>\u001b[0m in \u001b[0;36m<module>\u001b[1;34m()\u001b[0m\n\u001b[0;32m      5\u001b[0m \u001b[0mclf\u001b[0m \u001b[1;33m=\u001b[0m \u001b[0mRadiusKNeighborsClassifier\u001b[0m\u001b[1;33m(\u001b[0m\u001b[0mradius\u001b[0m\u001b[1;33m=\u001b[0m\u001b[1;36m1.5\u001b[0m\u001b[1;33m,\u001b[0m \u001b[0mweights\u001b[0m\u001b[1;33m=\u001b[0m\u001b[1;34m'distance'\u001b[0m\u001b[1;33m,\u001b[0m \u001b[0mmetric\u001b[0m\u001b[1;33m=\u001b[0m\u001b[1;34m'manhattan'\u001b[0m\u001b[1;33m)\u001b[0m\u001b[1;33m\u001b[0m\u001b[0m\n\u001b[0;32m      6\u001b[0m \u001b[0mclf\u001b[0m\u001b[1;33m.\u001b[0m\u001b[0mfit\u001b[0m\u001b[1;33m(\u001b[0m\u001b[0mX\u001b[0m\u001b[1;33m,\u001b[0m \u001b[0my\u001b[0m\u001b[1;33m)\u001b[0m\u001b[1;33m\u001b[0m\u001b[0m\n\u001b[1;32m----> 7\u001b[1;33m \u001b[0mprint\u001b[0m\u001b[1;33m(\u001b[0m\u001b[0mclf\u001b[0m\u001b[1;33m.\u001b[0m\u001b[0mpredict_proba\u001b[0m\u001b[1;33m(\u001b[0m\u001b[1;33m[\u001b[0m\u001b[1;33m[\u001b[0m\u001b[1;36m1\u001b[0m\u001b[1;33m,\u001b[0m \u001b[1;36m1\u001b[0m\u001b[1;33m]\u001b[0m\u001b[1;33m]\u001b[0m\u001b[1;33m)\u001b[0m\u001b[1;33m)\u001b[0m\u001b[1;33m\u001b[0m\u001b[0m\n\u001b[0m",
      "\u001b[1;32m<ipython-input-76-5ef6d5d7fb26>\u001b[0m in \u001b[0;36mpredict_proba\u001b[1;34m(self, X)\u001b[0m\n\u001b[0;32m     43\u001b[0m \u001b[1;33m\u001b[0m\u001b[0m\n\u001b[0;32m     44\u001b[0m             pred_labels = np.array([_y[ind, k] for ind in neigh_ind], \n\u001b[1;32m---> 45\u001b[1;33m                                    type=object)\n\u001b[0m\u001b[0;32m     46\u001b[0m \u001b[1;33m\u001b[0m\u001b[0m\n\u001b[0;32m     47\u001b[0m             \u001b[0mproba_k\u001b[0m \u001b[1;33m=\u001b[0m \u001b[0mnp\u001b[0m\u001b[1;33m.\u001b[0m\u001b[0mzeros\u001b[0m\u001b[1;33m(\u001b[0m\u001b[1;33m(\u001b[0m\u001b[0mn_samples\u001b[0m\u001b[1;33m,\u001b[0m \u001b[0mclasses_k\u001b[0m\u001b[1;33m.\u001b[0m\u001b[0msize\u001b[0m\u001b[1;33m)\u001b[0m\u001b[1;33m)\u001b[0m\u001b[1;33m\u001b[0m\u001b[0m\n",
      "\u001b[1;31mTypeError\u001b[0m: 'type' is an invalid keyword argument for this function"
     ]
    }
   ],
   "source": [
    "X = [[1,1], [1,2], [1,3], [1,4], [2,1], [2,2], [2,3], [2,4], [3,1], [3,2], [3,3], [3,4], [4,1], [4,2], [4,3], [4,4]]\n",
    "y = [1, 2, 4, 4, 2, 2, 4, 4, 3, 3, 5, 5, 3, 3, 5, 5]\n",
    "#X = [1,2,3,4,5]\n",
    "#y = [3, 2, 1, 2, 3]\n",
    "clf = RadiusKNeighborsClassifier(radius=1.5, weights='distance', metric='manhattan')\n",
    "clf.fit(X, y) \n",
    "print(clf.predict_proba([[1, 1]]))"
   ]
  },
  {
   "cell_type": "code",
   "execution_count": null,
   "metadata": {
    "collapsed": true
   },
   "outputs": [],
   "source": [
    "clf = RadiusKNeighborsClassifier(radius=Radius, weights='distance', \n",
    "                               metric='manhattan')\n",
    "clf.fit(df_cell_train[feature_list], df_cell_train.place_id)"
   ]
  }
 ],
 "metadata": {
  "kernelspec": {
   "display_name": "Python 3",
   "language": "python",
   "name": "python3"
  },
  "language_info": {
   "codemirror_mode": {
    "name": "ipython",
    "version": 3
   },
   "file_extension": ".py",
   "mimetype": "text/x-python",
   "name": "python",
   "nbconvert_exporter": "python",
   "pygments_lexer": "ipython3",
   "version": "3.5.1"
  }
 },
 "nbformat": 4,
 "nbformat_minor": 0
}
