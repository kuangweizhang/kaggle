{
 "cells": [
  {
   "cell_type": "code",
   "execution_count": 1,
   "metadata": {
    "collapsed": true
   },
   "outputs": [],
   "source": [
    "import numpy as np\n",
    "import pandas as pd\n",
    "from sklearn.preprocessing import LabelEncoder\n",
    "from sklearn.neighbors import KNeighborsClassifier\n",
    "import time"
   ]
  },
  {
   "cell_type": "code",
   "execution_count": 2,
   "metadata": {
    "collapsed": false
   },
   "outputs": [],
   "source": [
    "feature_list = ['x','y','weekday','day','month','year', 'accuracy']\n",
    "for i in range(0,24):\n",
    "    feature_list.append('h' + str(i))"
   ]
  },
  {
   "cell_type": "code",
   "execution_count": 3,
   "metadata": {
    "collapsed": true
   },
   "outputs": [],
   "source": [
    "def prepare_data(df):\n",
    "    #Creating the grid\n",
    "    #size_x = 10. / n_cell_x\n",
    "    #size_y = 10. / n_cell_y\n",
    "    #eps = 0.00001  \n",
    "    #xs = np.where(df.x.values < eps, 0, df.x.values - eps)\n",
    "    #ys = np.where(df.y.values < eps, 0, df.y.values - eps)\n",
    "    #pos_x = (xs / size_x).astype(np.int)\n",
    "    #pos_y = (ys / size_y).astype(np.int)\n",
    "    #df['grid_x'] = pos_x\n",
    "    #df['grid_y'] = pos_y\n",
    "    \n",
    "    #Feature engineering\n",
    "    df.x = df.x.values * fw[0]\n",
    "    df.y = df.y.values * fw[1]\n",
    "    initial_date = np.datetime64('2014-01-01T01:01', dtype='datetime64[m]') \n",
    "    d_times = pd.DatetimeIndex(initial_date + np.timedelta64(int(mn), 'm') \n",
    "                               for mn in df.time.values)    \n",
    "    #df['hour'] = (d_times.hour+ d_times.minute/60) * fw[2]\n",
    "    for i in range(0,24):\n",
    "        df['h' + str(i)] = (((d_times.hour+ d_times.minute/60) + i) % 24) * fw[2]\n",
    "    df['weekday'] = d_times.weekday * fw[3]\n",
    "    df['day'] = (d_times.dayofyear * fw[4]).astype(int)\n",
    "    df['month'] = d_times.month * fw[5]\n",
    "    df['year'] = (d_times.year - 2013) * fw[6]\n",
    "    df.accuracy = df.accuracy.values * fw[7]\n",
    "    df = df.drop(['time'], axis=1)\n",
    "    \n",
    "    return df"
   ]
  },
  {
   "cell_type": "code",
   "execution_count": 4,
   "metadata": {
    "collapsed": false
   },
   "outputs": [],
   "source": [
    "def process_one_cell(df_train, df_test, th):\n",
    "    start_time = time.time()\n",
    "    \n",
    "    place_counts = df_train.place_id.value_counts()\n",
    "    mask = (place_counts[df_train.place_id.values] >= th).values\n",
    "    df_train = df_train.loc[mask]\n",
    "    \n",
    "    row_ids = df_test.row_id\n",
    "    \n",
    "    #Applying the classifier\n",
    "    clf = KNeighborsClassifier(n_neighbors=35, weights='distance', \n",
    "                               metric='manhattan')\n",
    "    clf.fit(df_train[feature_list], df_train.place_id)\n",
    "    predictions = clf.predict_proba(df_test[feature_list])\n",
    "    result_index = np.argsort(predictions, axis=1)[:,::-1][:,:3]\n",
    "    result = pd.DataFrame(df_test.row_id)\n",
    "    result['p1'] = clf.classes_[result_index][:,:1]\n",
    "    result['p2'] = clf.classes_[result_index][:,1:2]\n",
    "    result['p3'] = clf.classes_[result_index][:,2:3]\n",
    "    \n",
    "    return result"
   ]
  },
  {
   "cell_type": "code",
   "execution_count": 5,
   "metadata": {
    "collapsed": false
   },
   "outputs": [],
   "source": [
    "def run_region_validation(min_x, max_x, min_y, max_y):\n",
    "    df_train = pd.read_csv('../../train.csv',\n",
    "                               usecols=['row_id','x','y','accuracy','time','place_id'])\n",
    "    \n",
    "    df_train = df_train[(df_train.x >= min_x) & (df_train.x < max_x) & (df_train.y >= min_y) & (df_train.y < max_y)]\n",
    "    \n",
    "    df_valiation = df_train[df_train.time > 786239 * 0.875]\n",
    "    \n",
    "    df_train = df_train[df_train.time <= 786239 * 0.875]\n",
    "    \n",
    "    #print('Preparing train data')\n",
    "    df_train = prepare_data(df_train)\n",
    "    df_valiation = prepare_data(df_valiation)\n",
    "    df_valiation['p1'] = np.nan\n",
    "    df_valiation['p2'] = np.nan\n",
    "    df_valiation['p3'] = np.nan\n",
    "    \n",
    "    prediction_result = process_one_cell(df_train, df_valiation, 5)\n",
    "    \n",
    "    # Calculate score\n",
    "    prediction_result.sort_index(inplace=True)\n",
    "    prediction_result['score'] = (prediction_result.p1 == df_valiation.place_id) * 1\n",
    "    prediction_result['score'] += (prediction_result.p2 == df_valiation.place_id) * 0.5\n",
    "    prediction_result['score'] += (prediction_result.p3 == df_valiation.place_id) * 0.33\n",
    "    \n",
    "    return prediction_result.score.mean()\n"
   ]
  },
  {
   "cell_type": "code",
   "execution_count": 6,
   "metadata": {
    "collapsed": false
   },
   "outputs": [],
   "source": [
    "def run_validation():\n",
    "    n_cell_x = 10\n",
    "    n_cell_y = 20\n",
    "    x_length = 10 / n_cell_x\n",
    "    y_length = 10 / n_cell_y\n",
    "    total_score = 0\n",
    "    score_count = 0\n",
    "    for x_index in range(0, n_cell_x):\n",
    "        start_time = time.time()\n",
    "        for y_index in range(0, n_cell_y):\n",
    "            min_x = x_index * x_length\n",
    "            max_x = (x_index + 1) * x_length\n",
    "            min_y = y_index * y_length\n",
    "            max_y = (y_index + 1) * y_length\n",
    "            if(y_index + 1 == n_cell_y):\n",
    "                max_y += 0.1\n",
    "            if(x_index + 1 == n_cell_x):\n",
    "                max_x += 0.1\n",
    "            score = run_region_validation(min_x, max_x, min_y, max_y)\n",
    "            #print('s1:', score)\n",
    "            total_score += score\n",
    "            score_count += 1\n",
    "        print(\"Elapsed time overall: %s seconds\" % (time.time() - start_time), x_index, flush = True)\n",
    "    print(\"Final:\", total_score/score_count)"
   ]
  },
  {
   "cell_type": "code",
   "execution_count": 7,
   "metadata": {
    "collapsed": false
   },
   "outputs": [
    {
     "name": "stdout",
     "output_type": "stream",
     "text": [
      "Elapsed time overall: 608.2859528064728 seconds 0\n",
      "Elapsed time overall: 620.0639081001282 seconds 1\n",
      "Elapsed time overall: 631.4439911842346 seconds 2\n",
      "Elapsed time overall: 624.6600425243378 seconds 3\n",
      "Elapsed time overall: 624.167683839798 seconds 4\n",
      "Elapsed time overall: 682.7129120826721 seconds 5\n",
      "Elapsed time overall: 670.4940638542175 seconds 6\n",
      "Elapsed time overall: 667.9048676490784 seconds 7\n",
      "Elapsed time overall: 626.9168150424957 seconds 8\n",
      "Elapsed time overall: 608.68798661232 seconds 9\n",
      "Final: 0.542362786229369\n",
      "Elapsed time overall: 609.8104159832001 seconds 0\n",
      "Elapsed time overall: 618.6822545528412 seconds 1\n",
      "Elapsed time overall: 631.2685248851776 seconds 2\n",
      "Elapsed time overall: 619.5251092910767 seconds 3\n",
      "Elapsed time overall: 620.7041544914246 seconds 4\n",
      "Elapsed time overall: 629.8055839538574 seconds 5\n",
      "Elapsed time overall: 620.5512566566467 seconds 6\n",
      "Elapsed time overall: 630.1552188396454 seconds 7\n",
      "Elapsed time overall: 623.9426128864288 seconds 8\n",
      "Elapsed time overall: 604.5378458499908 seconds 9\n",
      "Final: 0.5424086954637467\n",
      "Elapsed time overall: 607.5710926055908 seconds 0\n",
      "Elapsed time overall: 616.5098125934601 seconds 1\n",
      "Elapsed time overall: 628.0979890823364 seconds 2\n",
      "Elapsed time overall: 610.7409129142761 seconds 3\n",
      "Elapsed time overall: 613.0550105571747 seconds 4\n",
      "Elapsed time overall: 625.1815836429596 seconds 5\n",
      "Elapsed time overall: 616.8852255344391 seconds 6\n",
      "Elapsed time overall: 624.5906286239624 seconds 7\n",
      "Elapsed time overall: 619.9565126895905 seconds 8\n",
      "Elapsed time overall: 605.4201228618622 seconds 9\n",
      "Final: 0.5423804441981194\n",
      "Elapsed time overall: 602.9117727279663 seconds 0\n",
      "Elapsed time overall: 613.1660525798798 seconds 1\n",
      "Elapsed time overall: 624.0002951622009 seconds 2\n",
      "Elapsed time overall: 618.0437750816345 seconds 3\n",
      "Elapsed time overall: 616.3759837150574 seconds 4\n",
      "Elapsed time overall: 622.8511893749237 seconds 5\n",
      "Elapsed time overall: 615.1736686229706 seconds 6\n",
      "Elapsed time overall: 622.7542307376862 seconds 7\n",
      "Elapsed time overall: 613.6836767196655 seconds 8\n",
      "Elapsed time overall: 601.5406856536865 seconds 9\n",
      "Final: 0.5422700307196554\n",
      "Elapsed time overall: 599.1012072563171 seconds 0\n",
      "Elapsed time overall: 612.8155107498169 seconds 1\n",
      "Elapsed time overall: 621.616931438446 seconds 2\n",
      "Elapsed time overall: 614.8454415798187 seconds 3\n",
      "Elapsed time overall: 612.6116542816162 seconds 4\n",
      "Elapsed time overall: 622.0292785167694 seconds 5\n",
      "Elapsed time overall: 612.7807288169861 seconds 6\n",
      "Elapsed time overall: 622.1543958187103 seconds 7\n",
      "Elapsed time overall: 617.5162215232849 seconds 8\n",
      "Elapsed time overall: 599.0852613449097 seconds 9\n",
      "Final: 0.5421211518819139\n",
      "Elapsed time overall: 600.0925192832947 seconds 0\n",
      "Elapsed time overall: 610.1581227779388 seconds 1\n",
      "Elapsed time overall: 619.6059627532959 seconds 2\n",
      "Elapsed time overall: 611.6968567371368 seconds 3\n",
      "Elapsed time overall: 610.9675858020782 seconds 4\n",
      "Elapsed time overall: 624.4560418128967 seconds 5\n",
      "Elapsed time overall: 612.481006860733 seconds 6\n",
      "Elapsed time overall: 620.4354181289673 seconds 7\n",
      "Elapsed time overall: 611.4647207260132 seconds 8\n",
      "Elapsed time overall: 596.0082178115845 seconds 9\n",
      "Final: 0.5418923864810622\n",
      "Elapsed time overall: 597.7571697235107 seconds 0\n",
      "Elapsed time overall: 607.6096427440643 seconds 1\n",
      "Elapsed time overall: 618.9169824123383 seconds 2\n",
      "Elapsed time overall: 609.3918900489807 seconds 3\n",
      "Elapsed time overall: 610.2276751995087 seconds 4\n",
      "Elapsed time overall: 621.6005911827087 seconds 5\n",
      "Elapsed time overall: 617.5743753910065 seconds 6\n",
      "Elapsed time overall: 616.347761631012 seconds 7\n",
      "Elapsed time overall: 612.6395800113678 seconds 8\n",
      "Elapsed time overall: 593.0791451931 seconds 9\n",
      "Final: 0.5416266444204475\n"
     ]
    }
   ],
   "source": [
    "fw = [400, 1000, 1/10.0, 3.5, 1./22., 2, 9, 0.09] #feature weights\n",
    "run_validation()\n",
    "#0.542362786229369\n",
    "\n",
    "fw = [400, 1000, 1/10.5, 3.5, 1./22., 2, 9, 0.09] #feature weights\n",
    "run_validation()\n",
    "#0.5424086954637467 <----\n",
    "\n",
    "fw = [400, 1000, 1/11.0, 3.5, 1./22., 2, 9, 0.09] #feature weights\n",
    "run_validation()\n",
    "#0.5423804441981194\n",
    "\n",
    "fw = [400, 1000, 1/11.5, 3.5, 1./22., 2, 9, 0.09] #feature weights\n",
    "run_validation()\n",
    "#0.5422700307196554\n",
    "\n",
    "fw = [400, 1000, 1/12.0, 3.5, 1./22., 2, 9, 0.09] #feature weights\n",
    "run_validation()\n",
    "#0.5421211518819139\n",
    "\n",
    "fw = [400, 1000, 1/12.5, 3.5, 1./22., 2, 9, 0.09] #feature weights\n",
    "run_validation()\n",
    "#0.5418923864810622\n",
    "\n",
    "fw = [400, 1000, 1/13.0, 3.5, 1./22., 2, 9, 0.09] #feature weights\n",
    "run_validation()\n",
    "#0.5416266444204475"
   ]
  },
  {
   "cell_type": "markdown",
   "metadata": {},
   "source": [
    "Validation result: 0.539376"
   ]
  },
  {
   "cell_type": "code",
   "execution_count": null,
   "metadata": {
    "collapsed": false
   },
   "outputs": [],
   "source": [
    "# Write to file\n",
    "prediction_result['place_id'] = prediction_result.p1.astype(str) + \" \" + \\\n",
    "                                 prediction_result.p2.astype(str) + \" \" + \\\n",
    "                                 prediction_result.p3.astype(str)\n",
    "prediction_result[['row_id', 'place_id']].to_csv('new_baseline_validation_result.csv', index=False)"
   ]
  },
  {
   "cell_type": "code",
   "execution_count": null,
   "metadata": {
    "collapsed": false
   },
   "outputs": [],
   "source": [
    "# Run test\n",
    "df_train = pd.read_csv('../train.csv',\n",
    "                       usecols=['row_id','x','y','accuracy','time','place_id'])\n",
    "df_test = pd.read_csv('../test.csv',\n",
    "                       usecols=['row_id','x','y','accuracy','time'])\n",
    "n_cell_x = 30\n",
    "n_cell_y = 60 \n",
    "\n",
    "df_train = prepare_data(df_train, n_cell_x, n_cell_y)\n",
    "df_test = prepare_data(df_test, n_cell_x, n_cell_y)\n",
    "df_test['p1'] = np.nan\n",
    "df_test['p2'] = np.nan\n",
    "df_test['p3'] = np.nan\n",
    "prediction_result = run_prediction(df_train, df_test, 5)\n",
    "\n",
    "prediction_result.sort_index(inplace=True)\n",
    "prediction_result['place_id'] = prediction_result.p1.astype(str) + \" \" + \\\n",
    "                                 prediction_result.p2.astype(str) + \" \" + \\\n",
    "                                 prediction_result.p3.astype(str)\n",
    "prediction_result[['row_id', 'place_id']].to_csv('new_baseline_result.csv', index=False)"
   ]
  }
 ],
 "metadata": {
  "kernelspec": {
   "display_name": "Python 3",
   "language": "python",
   "name": "python3"
  },
  "language_info": {
   "codemirror_mode": {
    "name": "ipython",
    "version": 3
   },
   "file_extension": ".py",
   "mimetype": "text/x-python",
   "name": "python",
   "nbconvert_exporter": "python",
   "pygments_lexer": "ipython3",
   "version": "3.5.1"
  }
 },
 "nbformat": 4,
 "nbformat_minor": 0
}
