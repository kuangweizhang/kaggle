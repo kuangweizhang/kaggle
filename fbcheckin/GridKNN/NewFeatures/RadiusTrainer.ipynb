{
 "cells": [
  {
   "cell_type": "code",
   "execution_count": 67,
   "metadata": {
    "collapsed": false
   },
   "outputs": [],
   "source": [
    "import numpy as np\n",
    "from scipy import stats\n",
    "from sklearn.utils.extmath import weighted_mode\n",
    "from sklearn.neighbors.base import _check_weights, _get_weights, NeighborsBase, KNeighborsMixin, RadiusNeighborsMixin, SupervisedIntegerMixin\n",
    "from sklearn.base import ClassifierMixin\n",
    "from sklearn.utils import check_array"
   ]
  },
  {
   "cell_type": "code",
   "execution_count": 177,
   "metadata": {
    "collapsed": false
   },
   "outputs": [],
   "source": [
    "class RadiusKNeighborsClassifier(NeighborsBase, RadiusNeighborsMixin,\n",
    "                                SupervisedIntegerMixin, ClassifierMixin):\n",
    "\n",
    "    def __init__(self, radius=1.0, weights='uniform',\n",
    "                 algorithm='auto', leaf_size=30, p=2, metric='minkowski',\n",
    "                 outlier_label=None, metric_params=None, **kwargs):\n",
    "        self._init_params(radius=radius,\n",
    "                          algorithm=algorithm,\n",
    "                          leaf_size=leaf_size,\n",
    "                          metric=metric, p=p, metric_params=metric_params,\n",
    "                          **kwargs)\n",
    "        self.weights = _check_weights(weights)\n",
    "        self.outlier_label = outlier_label\n",
    "\n",
    "    def predict_proba(self, X):\n",
    "        X = check_array(X, accept_sparse='csr')\n",
    "        n_samples = X.shape[0]\n",
    "\n",
    "        neigh_dist, neigh_ind = self.radius_neighbors(X)\n",
    "        print('neigh_dist',neigh_dist)\n",
    "        print('neigh_ind',neigh_ind)\n",
    "        print('type',neigh_dist)\n",
    "        print('type',neigh_ind)\n",
    "        print('shape',neigh_dist.shape)\n",
    "        print('shape',neigh_ind.shape)\n",
    "        neigh_ind = neigh_ind.item()\n",
    "        neigh_ind = neigh_ind.reshape(1, -1)\n",
    "        neigh_dist = neigh_dist.item()\n",
    "        neigh_dist = neigh_dist.reshape(1, -1)\n",
    "        \n",
    "        classes_ = self.classes_\n",
    "        _y = self._y\n",
    "        if not self.outputs_2d_:\n",
    "            _y = self._y.reshape((-1, 1))\n",
    "            classes_ = [self.classes_]\n",
    "\n",
    "        n_samples = X.shape[0]\n",
    "\n",
    "        weights = _get_weights(neigh_dist, self.weights)\n",
    "        if weights is None:\n",
    "            weights = np.ones_like(neigh_ind)\n",
    "\n",
    "        all_rows = np.arange(X.shape[0])\n",
    "        probabilities = []\n",
    "        for k, classes_k in enumerate(classes_):\n",
    "            pred_labels = _y[:, k][neigh_ind]\n",
    "            \n",
    "            proba_k = np.zeros((n_samples, classes_k.size))\n",
    "            \n",
    "            # a simple ':' index doesn't work right\n",
    "            for i, idx in enumerate(pred_labels.T):  # loop is O(n_neighbors)\n",
    "                proba_k[all_rows, idx] += weights[:, i]\n",
    "\n",
    "            # normalize 'votes' into real [0,1] probabilities\n",
    "            normalizer = proba_k.sum(axis=1)[:, np.newaxis]\n",
    "            normalizer[normalizer == 0.0] = 1.0\n",
    "            proba_k /= normalizer\n",
    "\n",
    "            probabilities.append(proba_k)\n",
    "\n",
    "        if not self.outputs_2d_:\n",
    "            probabilities = probabilities[0]\n",
    "\n",
    "        return probabilities"
   ]
  },
  {
   "cell_type": "code",
   "execution_count": 178,
   "metadata": {
    "collapsed": false,
    "scrolled": true
   },
   "outputs": [
    {
     "name": "stdout",
     "output_type": "stream",
     "text": [
      "[1 2 3 4 5]\n",
      "neigh_dist [array([ 0.3,  0.9,  1.9,  1.1,  1.7])\n",
      " array([ 0.4,  1. ,  2. ,  1. ,  1.6,  2. ])]\n",
      "neigh_ind [array([0, 1, 2, 4, 5], dtype=int64) array([0, 1, 2, 4, 5, 8], dtype=int64)]\n",
      "type [array([ 0.3,  0.9,  1.9,  1.1,  1.7])\n",
      " array([ 0.4,  1. ,  2. ,  1. ,  1.6,  2. ])]\n",
      "type [array([0, 1, 2, 4, 5], dtype=int64) array([0, 1, 2, 4, 5, 8], dtype=int64)]\n",
      "shape (2,)\n",
      "shape (2,)\n"
     ]
    },
    {
     "ename": "ValueError",
     "evalue": "can only convert an array of size 1 to a Python scalar",
     "output_type": "error",
     "traceback": [
      "\u001b[1;31m---------------------------------------------------------------------------\u001b[0m",
      "\u001b[1;31mValueError\u001b[0m                                Traceback (most recent call last)",
      "\u001b[1;32m<ipython-input-178-086248cf267b>\u001b[0m in \u001b[0;36m<module>\u001b[1;34m()\u001b[0m\n\u001b[0;32m      6\u001b[0m \u001b[0mclf\u001b[0m\u001b[1;33m.\u001b[0m\u001b[0mfit\u001b[0m\u001b[1;33m(\u001b[0m\u001b[0mX\u001b[0m\u001b[1;33m,\u001b[0m \u001b[0my\u001b[0m\u001b[1;33m)\u001b[0m\u001b[1;33m\u001b[0m\u001b[0m\n\u001b[0;32m      7\u001b[0m \u001b[0mprint\u001b[0m\u001b[1;33m(\u001b[0m\u001b[0mclf\u001b[0m\u001b[1;33m.\u001b[0m\u001b[0mclasses_\u001b[0m\u001b[1;33m)\u001b[0m\u001b[1;33m\u001b[0m\u001b[0m\n\u001b[1;32m----> 8\u001b[1;33m \u001b[0mprint\u001b[0m\u001b[1;33m(\u001b[0m\u001b[0mclf\u001b[0m\u001b[1;33m.\u001b[0m\u001b[0mpredict_proba\u001b[0m\u001b[1;33m(\u001b[0m\u001b[1;33m[\u001b[0m\u001b[1;33m[\u001b[0m\u001b[1;36m1.1\u001b[0m\u001b[1;33m,\u001b[0m\u001b[1;36m1.2\u001b[0m\u001b[1;33m]\u001b[0m\u001b[1;33m,\u001b[0m\u001b[1;33m[\u001b[0m\u001b[1;36m1.2\u001b[0m\u001b[1;33m,\u001b[0m\u001b[1;36m1.2\u001b[0m\u001b[1;33m]\u001b[0m\u001b[1;33m]\u001b[0m\u001b[1;33m)\u001b[0m\u001b[1;33m)\u001b[0m\u001b[1;33m\u001b[0m\u001b[0m\n\u001b[0m",
      "\u001b[1;32m<ipython-input-177-71e7a20df906>\u001b[0m in \u001b[0;36mpredict_proba\u001b[1;34m(self, X)\u001b[0m\n\u001b[0;32m     24\u001b[0m         \u001b[0mprint\u001b[0m\u001b[1;33m(\u001b[0m\u001b[1;34m'shape'\u001b[0m\u001b[1;33m,\u001b[0m\u001b[0mneigh_dist\u001b[0m\u001b[1;33m.\u001b[0m\u001b[0mshape\u001b[0m\u001b[1;33m)\u001b[0m\u001b[1;33m\u001b[0m\u001b[0m\n\u001b[0;32m     25\u001b[0m         \u001b[0mprint\u001b[0m\u001b[1;33m(\u001b[0m\u001b[1;34m'shape'\u001b[0m\u001b[1;33m,\u001b[0m\u001b[0mneigh_ind\u001b[0m\u001b[1;33m.\u001b[0m\u001b[0mshape\u001b[0m\u001b[1;33m)\u001b[0m\u001b[1;33m\u001b[0m\u001b[0m\n\u001b[1;32m---> 26\u001b[1;33m         \u001b[0mneigh_ind\u001b[0m \u001b[1;33m=\u001b[0m \u001b[0mneigh_ind\u001b[0m\u001b[1;33m.\u001b[0m\u001b[0mitem\u001b[0m\u001b[1;33m(\u001b[0m\u001b[1;33m)\u001b[0m\u001b[1;33m\u001b[0m\u001b[0m\n\u001b[0m\u001b[0;32m     27\u001b[0m         \u001b[0mneigh_ind\u001b[0m \u001b[1;33m=\u001b[0m \u001b[0mneigh_ind\u001b[0m\u001b[1;33m.\u001b[0m\u001b[0mreshape\u001b[0m\u001b[1;33m(\u001b[0m\u001b[1;36m1\u001b[0m\u001b[1;33m,\u001b[0m \u001b[1;33m-\u001b[0m\u001b[1;36m1\u001b[0m\u001b[1;33m)\u001b[0m\u001b[1;33m\u001b[0m\u001b[0m\n\u001b[0;32m     28\u001b[0m         \u001b[0mneigh_dist\u001b[0m \u001b[1;33m=\u001b[0m \u001b[0mneigh_dist\u001b[0m\u001b[1;33m.\u001b[0m\u001b[0mitem\u001b[0m\u001b[1;33m(\u001b[0m\u001b[1;33m)\u001b[0m\u001b[1;33m\u001b[0m\u001b[0m\n",
      "\u001b[1;31mValueError\u001b[0m: can only convert an array of size 1 to a Python scalar"
     ]
    }
   ],
   "source": [
    "X = [[1,1], [1,2], [1,3], [1,4], [2,1], [2,2], [2,3], [2,4], [3,1], [3,2], [3,3], [3,4], [4,1], [4,2], [4,3], [4,4]]\n",
    "y = [1, 2, 4, 4, 2, 2, 4, 4, 3, 3, 5, 5, 3, 3, 5, 5]\n",
    "#X = [[1], [2], [3], [4], [5]]\n",
    "#y = [3, 2, 1, 2, 3]\n",
    "clf = RadiusKNeighborsClassifier(radius=2, weights='distance', metric='manhattan')\n",
    "clf.fit(X, y) \n",
    "print(clf.classes_)\n",
    "print(clf.predict_proba([[1.1,1.2],[1.2,1.2]]))"
   ]
  },
  {
   "cell_type": "code",
   "execution_count": 184,
   "metadata": {
    "collapsed": true
   },
   "outputs": [],
   "source": [
    "arrs = [np.array([1,2,3]), np.array([4,5]), np.array([7,8,9])]"
   ]
  },
  {
   "cell_type": "code",
   "execution_count": 185,
   "metadata": {
    "collapsed": false
   },
   "outputs": [
    {
     "data": {
      "text/plain": [
       "[array([1, 2, 3]), array([4, 5]), array([7, 8, 9])]"
      ]
     },
     "execution_count": 185,
     "metadata": {},
     "output_type": "execute_result"
    }
   ],
   "source": [
    "arrs"
   ]
  },
  {
   "cell_type": "code",
   "execution_count": 186,
   "metadata": {
    "collapsed": true
   },
   "outputs": [],
   "source": [
    "arr2d = np.array(arrs)"
   ]
  },
  {
   "cell_type": "code",
   "execution_count": 187,
   "metadata": {
    "collapsed": false
   },
   "outputs": [
    {
     "data": {
      "text/plain": [
       "array([array([1, 2, 3]), array([4, 5]), array([7, 8, 9])], dtype=object)"
      ]
     },
     "execution_count": 187,
     "metadata": {},
     "output_type": "execute_result"
    }
   ],
   "source": [
    "arr2d"
   ]
  },
  {
   "cell_type": "code",
   "execution_count": 127,
   "metadata": {
    "collapsed": true
   },
   "outputs": [],
   "source": [
    "class KTNeighborsClassifier(NeighborsBase, KNeighborsMixin,\n",
    "                           SupervisedIntegerMixin, ClassifierMixin):\n",
    "\n",
    "    def __init__(self, n_neighbors=5,\n",
    "                 weights='uniform', algorithm='auto', leaf_size=30,\n",
    "                 p=2, metric='minkowski', metric_params=None, n_jobs=1,\n",
    "                 **kwargs):\n",
    "\n",
    "        self._init_params(n_neighbors=n_neighbors,\n",
    "                          algorithm=algorithm,\n",
    "                          leaf_size=leaf_size, metric=metric, p=p,\n",
    "                          metric_params=metric_params, n_jobs=n_jobs, **kwargs)\n",
    "        self.weights = _check_weights(weights)\n",
    "\n",
    "    def predict_proba(self, X):\n",
    "        X = check_array(X, accept_sparse='csr')\n",
    "\n",
    "        neigh_dist, neigh_ind = self.kneighbors(X)\n",
    "        print(\"neigh_dist\", neigh_dist)\n",
    "        print(\"neigh_ind\", neigh_ind)\n",
    "        print(\"type\", type(neigh_dist))\n",
    "        print(\"type\", type(neigh_ind))\n",
    "        print(\"shape\", (neigh_dist.shape))\n",
    "        print(\"shape\", (neigh_ind.shape))\n",
    "        \n",
    "        classes_ = self.classes_\n",
    "        _y = self._y\n",
    "        if not self.outputs_2d_:\n",
    "            _y = self._y.reshape((-1, 1))\n",
    "            classes_ = [self.classes_]\n",
    "\n",
    "        n_samples = X.shape[0]\n",
    "\n",
    "        weights = _get_weights(neigh_dist, self.weights)\n",
    "        if weights is None:\n",
    "            weights = np.ones_like(neigh_ind)\n",
    "\n",
    "        all_rows = np.arange(X.shape[0])\n",
    "        probabilities = []\n",
    "        for k, classes_k in enumerate(classes_):\n",
    "            pred_labels = _y[:, k][neigh_ind]\n",
    "            proba_k = np.zeros((n_samples, classes_k.size))\n",
    "\n",
    "            # a simple ':' index doesn't work right\n",
    "            for i, idx in enumerate(pred_labels.T):  # loop is O(n_neighbors)\n",
    "                proba_k[all_rows, idx] += weights[:, i]\n",
    "\n",
    "            # normalize 'votes' into real [0,1] probabilities\n",
    "            normalizer = proba_k.sum(axis=1)[:, np.newaxis]\n",
    "            normalizer[normalizer == 0.0] = 1.0\n",
    "            proba_k /= normalizer\n",
    "\n",
    "            probabilities.append(proba_k)\n",
    "\n",
    "        if not self.outputs_2d_:\n",
    "            probabilities = probabilities[0]\n",
    "\n",
    "        return probabilities\n"
   ]
  },
  {
   "cell_type": "code",
   "execution_count": 128,
   "metadata": {
    "collapsed": false
   },
   "outputs": [
    {
     "name": "stdout",
     "output_type": "stream",
     "text": [
      "neigh_dist [[ 0.  1.  1.  2.  2.]]\n",
      "neigh_ind [[0 4 1 5 2]]\n",
      "type <class 'numpy.ndarray'>\n",
      "type <class 'numpy.ndarray'>\n",
      "shape (1, 5)\n",
      "shape (1, 5)\n",
      "[[ 1.  0.  0.  0.  0.]]\n"
     ]
    }
   ],
   "source": [
    "X = [[1,1], [1,2], [1,3], [1,4], [2,1], [2,2], [2,3], [2,4], [3,1], [3,2], [3,3], [3,4], [4,1], [4,2], [4,3], [4,4]]\n",
    "y = [1, 2, 4, 4, 2, 2, 4, 4, 3, 3, 5, 5, 3, 3, 5, 5]\n",
    "#X = [1,2,3,4,5]\n",
    "#y = [3, 2, 1, 2, 3]\n",
    "clf = KTNeighborsClassifier(weights='distance', metric='manhattan')\n",
    "clf.fit(X, y) \n",
    "print(clf.predict_proba([[1, 1]]))"
   ]
  },
  {
   "cell_type": "code",
   "execution_count": null,
   "metadata": {
    "collapsed": true
   },
   "outputs": [],
   "source": [
    "clf = RadiusKNeighborsClassifier(radius=Radius, weights='distance', \n",
    "                               metric='manhattan')\n",
    "clf.fit(df_cell_train[feature_list], df_cell_train.place_id)"
   ]
  },
  {
   "cell_type": "code",
   "execution_count": null,
   "metadata": {
    "collapsed": true
   },
   "outputs": [],
   "source": [
    "def weighted_mode3(a, w, axis=0):\n",
    "    \"\"\"Returns an array of the weighted modal (most common) value in a\n",
    "    If there is more than one such value, only the first is returned.\n",
    "    The bin-count for the modal bins is also returned.\n",
    "    This is an extension of the algorithm in scipy.stats.mode.\n",
    "    Parameters\n",
    "    ----------\n",
    "    a : array_like\n",
    "        n-dimensional array of which to find mode(s).\n",
    "    w : array_like\n",
    "        n-dimensional array of weights for each value\n",
    "    axis : int, optional\n",
    "        Axis along which to operate. Default is 0, i.e. the first axis.\n",
    "    Returns\n",
    "    -------\n",
    "    vals : ndarray\n",
    "        Array of modal values.\n",
    "    score : ndarray\n",
    "        Array of weighted counts for each mode.\n",
    "    Examples\n",
    "    --------\n",
    "    >>> from sklearn.utils.extmath import weighted_mode\n",
    "    >>> x = [4, 1, 4, 2, 4, 2]\n",
    "    >>> weights = [1, 1, 1, 1, 1, 1]\n",
    "    >>> weighted_mode(x, weights)\n",
    "    (array([ 4.]), array([ 3.]))\n",
    "    The value 4 appears three times: with uniform weights, the result is\n",
    "    simply the mode of the distribution.\n",
    "    >>> weights = [1, 3, 0.5, 1.5, 1, 2] # deweight the 4's\n",
    "    >>> weighted_mode(x, weights)\n",
    "    (array([ 2.]), array([ 3.5]))\n",
    "    The value 2 has the highest score: it appears twice with weights of\n",
    "    1.5 and 2: the sum of these is 3.\n",
    "    See Also\n",
    "    --------\n",
    "    scipy.stats.mode\n",
    "    \"\"\"\n",
    "    if axis is None:\n",
    "        a = np.ravel(a)\n",
    "        w = np.ravel(w)\n",
    "        axis = 0\n",
    "    else:\n",
    "        a = np.asarray(a)\n",
    "        w = np.asarray(w)\n",
    "        axis = axis\n",
    "\n",
    "    if a.shape != w.shape:\n",
    "        w = np.zeros(a.shape, dtype=w.dtype) + w\n",
    "\n",
    "    scores = np.unique(np.ravel(a))       # get ALL unique values\n",
    "    testshape = list(a.shape)\n",
    "    testshape[axis] = 1\n",
    "    oldmostfreq = np.zeros(testshape)\n",
    "    oldcounts = np.zeros(testshape)\n",
    "    for score in scores:\n",
    "        template = np.zeros(a.shape)\n",
    "        ind = (a == score)\n",
    "        template[ind] = w[ind]\n",
    "        counts = np.expand_dims(np.sum(template, axis), axis)\n",
    "        mostfrequent = np.where(counts > oldcounts, score, oldmostfreq)\n",
    "        oldcounts = np.maximum(counts, oldcounts)\n",
    "        oldmostfreq = mostfrequent\n",
    "    return mostfrequent, oldcounts"
   ]
  },
  {
   "cell_type": "code",
   "execution_count": null,
   "metadata": {
    "collapsed": true
   },
   "outputs": [],
   "source": [
    "class Radius3NeighborsClassifier(NeighborsBase, RadiusNeighborsMixin,\n",
    "                                SupervisedIntegerMixin, ClassifierMixin):\n",
    "\n",
    "    def __init__(self, radius=1.0, weights='uniform',\n",
    "                 algorithm='auto', leaf_size=30, p=2, metric='minkowski',\n",
    "                 outlier_label=None, metric_params=None, **kwargs):\n",
    "        self._init_params(radius=radius,\n",
    "                          algorithm=algorithm,\n",
    "                          leaf_size=leaf_size,\n",
    "                          metric=metric, p=p, metric_params=metric_params,\n",
    "                          **kwargs)\n",
    "        self.weights = _check_weights(weights)\n",
    "        self.outlier_label = outlier_label\n",
    "\n",
    "    def predict(self, X, n):\n",
    "        \"\"\"Predict the class labels for the provided data\n",
    "        Parameters\n",
    "        ----------\n",
    "        X : array-like, shape (n_query, n_features), \\\n",
    "                or (n_query, n_indexed) if metric == 'precomputed'\n",
    "            Test samples.\n",
    "        Returns\n",
    "        -------\n",
    "        y : array of shape [n_samples] or [n_samples, n_outputs]\n",
    "            Class labels for each data sample.\n",
    "        \"\"\"\n",
    "        X = check_array(X, accept_sparse='csr')\n",
    "        n_samples = X.shape[0]\n",
    "\n",
    "        neigh_dist, neigh_ind = self.radius_neighbors(X)\n",
    "        inliers = [i for i, nind in enumerate(neigh_ind) if len(nind) != 0]\n",
    "        outliers = [i for i, nind in enumerate(neigh_ind) if len(nind) == 0]\n",
    "\n",
    "        classes_ = self.classes_\n",
    "        _y = self._y\n",
    "        if not self.outputs_2d_:\n",
    "            _y = self._y.reshape((-1, 1))\n",
    "            classes_ = [self.classes_]\n",
    "        n_outputs = len(classes_)\n",
    "\n",
    "        if self.outlier_label is not None:\n",
    "            neigh_dist[outliers] = 1e-6\n",
    "        elif outliers:\n",
    "            raise ValueError('No neighbors found for test samples %r, '\n",
    "                             'you can try using larger radius, '\n",
    "                             'give a label for outliers, '\n",
    "                             'or consider removing them from your dataset.'\n",
    "                             % outliers)\n",
    "\n",
    "        weights = _get_weights(neigh_dist, self.weights)\n",
    "\n",
    "        y_pred = np.empty((n_samples, n_outputs), dtype=classes_[0].dtype)\n",
    "        for k, classes_k in enumerate(classes_):\n",
    "            pred_labels = np.array([_y[ind, k] for ind in neigh_ind],\n",
    "                                   dtype=object)\n",
    "            if weights is None:\n",
    "                mode = np.array([stats.mode(pl)[0]\n",
    "                                 for pl in pred_labels[inliers]], dtype=np.int)\n",
    "            else:\n",
    "                mode = np.array([weighted_mode3(pl, w)[0]\n",
    "                                 for (pl, w)\n",
    "                                 in zip(pred_labels[inliers], weights)],\n",
    "                                dtype=np.int)\n",
    "\n",
    "            mode = mode.ravel()\n",
    "\n",
    "            y_pred[inliers, k] = classes_k.take(mode)\n",
    "\n",
    "        if outliers:\n",
    "            y_pred[outliers, :] = self.outlier_label\n",
    "\n",
    "        if not self.outputs_2d_:\n",
    "            y_pred = y_pred.ravel()\n",
    "\n",
    "        return y_pred"
   ]
  },
  {
   "cell_type": "code",
   "execution_count": null,
   "metadata": {
    "collapsed": true
   },
   "outputs": [],
   "source": [
    "X = [[1,1], [1,2], [1,3], [1,4], [2,1], [2,2], [2,3], [2,4], [3,1], [3,2], [3,3], [3,4], [4,1], [4,2], [4,3], [4,4]]\n",
    "y = [1, 2, 4, 4, 2, 2, 4, 4, 3, 3, 5, 5, 3, 3, 5, 5]\n",
    "#X = [1,2,3,4,5]\n",
    "#y = [3, 2, 1, 2, 3]\n",
    "clf = Radius3NeighborsClassifier(weights='distance', metric='manhattan')\n",
    "clf.fit(X, y) \n",
    "print(clf.predict_proba([[1, 1]]))"
   ]
  }
 ],
 "metadata": {
  "kernelspec": {
   "display_name": "Python 3",
   "language": "python",
   "name": "python3"
  },
  "language_info": {
   "codemirror_mode": {
    "name": "ipython",
    "version": 3
   },
   "file_extension": ".py",
   "mimetype": "text/x-python",
   "name": "python",
   "nbconvert_exporter": "python",
   "pygments_lexer": "ipython3",
   "version": "3.5.1"
  }
 },
 "nbformat": 4,
 "nbformat_minor": 0
}
