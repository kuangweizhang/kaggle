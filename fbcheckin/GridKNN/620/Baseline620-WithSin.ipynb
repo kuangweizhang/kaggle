{
 "cells": [
  {
   "cell_type": "code",
   "execution_count": 1,
   "metadata": {
    "collapsed": true
   },
   "outputs": [],
   "source": [
    "import numpy as np\n",
    "import pandas as pd\n",
    "from sklearn.preprocessing import LabelEncoder\n",
    "from sklearn.neighbors import KNeighborsClassifier\n",
    "import time"
   ]
  },
  {
   "cell_type": "code",
   "execution_count": 2,
   "metadata": {
    "collapsed": true
   },
   "outputs": [],
   "source": [
    "feature_list = ['x','y','minute_sin','minute_cos','w0','w1','w2','w3','w4','w5','w6','day','month','year','accuracy']\n",
    "#for i in range(0,24):\n",
    "#    feature_list.append('h' + str(i))"
   ]
  },
  {
   "cell_type": "code",
   "execution_count": 3,
   "metadata": {
    "collapsed": true
   },
   "outputs": [],
   "source": [
    "def prepare_data(df):    \n",
    "    #Feature engineering\n",
    "    df.x = df.x.values * fw[0]\n",
    "    df.y = df.y.values * fw[1]\n",
    "    initial_date = np.datetime64('2014-01-02T01:01', dtype='datetime64[m]') \n",
    "    d_times = pd.DatetimeIndex(initial_date + np.timedelta64(int(mn), 'm') \n",
    "                               for mn in df.time.values)    \n",
    "    #df['hour'] = (d_times.hour+ d_times.minute/60) * fw[2]\n",
    "    #for i in range(0,24):\n",
    "    #    df['h' + str(i)] = (((d_times.hour+ d_times.minute/60) + i) % 24)# * fw[2]\n",
    "    minute = 2*np.pi*((df[\"time\"]//5)%288)/288\n",
    "    df['minute_sin'] = (np.sin(minute)+1).round(4) * fw[2]\n",
    "    df['minute_cos'] = (np.cos(minute)+1).round(4) * fw[2]\n",
    "    del minute\n",
    "    \n",
    "    df['w0'] = ((d_times.weekday + 0) % 7) * fw[3]\n",
    "    df['w1'] = ((d_times.weekday + 1) % 7) * fw[3]\n",
    "    df['w2'] = ((d_times.weekday + 2) % 7) * fw[3]\n",
    "    df['w3'] = ((d_times.weekday + 3) % 7) * fw[3]\n",
    "    df['w4'] = ((d_times.weekday + 4) % 7) * fw[3]\n",
    "    df['w5'] = ((d_times.weekday + 5) % 7) * fw[3]\n",
    "    df['w6'] = ((d_times.weekday + 6) % 7) * fw[3]\n",
    "    \n",
    "    df['day'] = (d_times.dayofyear * fw[4]).astype(int)\n",
    "    df['month'] = d_times.month * fw[5]\n",
    "    df['year'] = (d_times.year - 2013) * fw[6]\n",
    "    #df.accuracy = df.accuracy.values * fw[7]\n",
    "    df['accuracy'] = np.log10(df.accuracy) * fw[7]\n",
    "    df['log_month'] = np.log10(3+df.time/(60 * 24 * 30)) * fw[8]\n",
    "    df = df.drop(['time'], axis=1)\n",
    "    \n",
    "    return df"
   ]
  },
  {
   "cell_type": "code",
   "execution_count": 4,
   "metadata": {
    "collapsed": true
   },
   "outputs": [],
   "source": [
    "def calculate_distance(distances):\n",
    "    return distances ** -2"
   ]
  },
  {
   "cell_type": "code",
   "execution_count": 5,
   "metadata": {
    "collapsed": false
   },
   "outputs": [],
   "source": [
    "def process_one_cell(df_train, df_test, th):    \n",
    "    place_counts = df_train.place_id.value_counts()\n",
    "    mask = (place_counts[df_train.place_id.values] >= th).values\n",
    "    df_train = df_train.loc[mask]\n",
    "    row_ids = df_test.row_id\n",
    "    \n",
    "    best_k=np.floor(np.sqrt(len(df_train.index)/4*best_mul)/5)\n",
    "    \n",
    "    #Applying the classifier\n",
    "    clf = KNeighborsClassifier(n_neighbors=best_k.astype(int), weights=calculate_distance, \n",
    "                               metric='manhattan')\n",
    "    clf.fit(df_train[feature_list], df_train.place_id)\n",
    "    predictions = clf.predict_proba(df_test[feature_list])\n",
    "    result_index = np.argsort(predictions, axis=1)[:,::-1][:,:3]\n",
    "    result = pd.DataFrame(df_test.row_id)\n",
    "    result['p1'] = clf.classes_[result_index][:,:1]\n",
    "    result['p2'] = clf.classes_[result_index][:,1:2]\n",
    "    result['p3'] = clf.classes_[result_index][:,2:3]\n",
    "    \n",
    "    return result"
   ]
  },
  {
   "cell_type": "code",
   "execution_count": 6,
   "metadata": {
    "collapsed": true
   },
   "outputs": [],
   "source": [
    "def run_prediction(df_train, df_test):\n",
    "    df_train = prepare_data(df_train)\n",
    "    df_test = prepare_data(df_test)\n",
    "    df_test['p1'] = np.nan\n",
    "    df_test['p2'] = np.nan\n",
    "    df_test['p3'] = np.nan\n",
    "    \n",
    "    prediction_result = process_one_cell(df_train, df_test, 1)\n",
    "    prediction_result.sort_index(inplace=True)\n",
    "    return prediction_result"
   ]
  },
  {
   "cell_type": "code",
   "execution_count": 7,
   "metadata": {
    "collapsed": false
   },
   "outputs": [],
   "source": [
    "def run_validation():\n",
    "    df = pd.read_csv('../../train.csv',\n",
    "                               usecols=['row_id','x','y','accuracy','time','place_id'])\n",
    "    \n",
    "    n_cell_x = 10\n",
    "    n_cell_y = 20\n",
    "    x_length = 10 / n_cell_x\n",
    "    y_length = 10 / n_cell_y\n",
    "    total_score = 0\n",
    "    score_count = 0\n",
    "    for x_index in range(0, n_cell_x):\n",
    "        start_time = time.time()\n",
    "        for y_index in range(0, n_cell_y):\n",
    "            min_x = x_index * x_length\n",
    "            max_x = (x_index + 1) * x_length\n",
    "            min_y = y_index * y_length\n",
    "            max_y = (y_index + 1) * y_length\n",
    "            \n",
    "            # include the edge\n",
    "            if(y_index + 1 == n_cell_y):\n",
    "                max_y += 0.1\n",
    "            if(x_index + 1 == n_cell_x):\n",
    "                max_x += 0.1\n",
    "\n",
    "            df_train_cell = df[(df.time <= 786239 * 0.875) & \\\n",
    "                               (df.x >= min_x - 0.1) & \\\n",
    "                               (df.x < max_x + 0.1) & \\\n",
    "                               (df.y >= min_y - 0.1) & \\\n",
    "                               (df.y < max_y + 0.1)].copy()\n",
    "            \n",
    "            df_validation_cell = df[(df.time > 786239 * 0.875) & \\\n",
    "                                    (df.x >= min_x) & \\\n",
    "                                    (df.x < max_x) & \\\n",
    "                                    (df.y >= min_y) & \\\n",
    "                                    (df.y < max_y)].copy()\n",
    "            \n",
    "            prediction_result = run_prediction(df_train_cell, df_validation_cell)\n",
    "            \n",
    "            # Calculate score\n",
    "            prediction_result.sort_index(inplace=True)\n",
    "            prediction_result['score'] = (prediction_result.p1 == df_validation_cell.place_id) * 1\n",
    "            prediction_result['score'] += (prediction_result.p2 == df_validation_cell.place_id) * 0.5\n",
    "            prediction_result['score'] += (prediction_result.p3 == df_validation_cell.place_id) * 0.33\n",
    "\n",
    "            score = prediction_result.score.mean()\n",
    "            #print('s1:', score, flush=True)\n",
    "            total_score += score\n",
    "            score_count += 1\n",
    "            \n",
    "        print(\"Elapsed time overall: %s seconds\" % (time.time() - start_time), x_index, flush = True)\n",
    "    print(\"Final:\", total_score/score_count, flush=True)"
   ]
  },
  {
   "cell_type": "code",
   "execution_count": 8,
   "metadata": {
    "collapsed": false,
    "scrolled": true
   },
   "outputs": [
    {
     "name": "stdout",
     "output_type": "stream",
     "text": [
      "Elapsed time overall: 258.0870931148529 seconds 0\n",
      "Elapsed time overall: 287.4778823852539 seconds 1\n",
      "Elapsed time overall: 326.93365716934204 seconds 2\n",
      "Elapsed time overall: 314.255984544754 seconds 3\n",
      "Elapsed time overall: 308.0640227794647 seconds 4\n",
      "Elapsed time overall: 321.4301965236664 seconds 5\n",
      "Elapsed time overall: 308.742390871048 seconds 6\n",
      "Elapsed time overall: 321.76100063323975 seconds 7\n",
      "Elapsed time overall: 296.36202335357666 seconds 8\n",
      "Elapsed time overall: 217.0418577194214 seconds 9\n",
      "Final: 0.501140441115359\n",
      "Elapsed time overall: 219.89807868003845 seconds 0\n",
      "Elapsed time overall: 241.37751650810242 seconds 1\n",
      "Elapsed time overall: 266.9363160133362 seconds 2\n",
      "Elapsed time overall: 237.4693365097046 seconds 3\n",
      "Elapsed time overall: 229.33096933364868 seconds 4\n",
      "Elapsed time overall: 250.3716950416565 seconds 5\n",
      "Elapsed time overall: 238.13357019424438 seconds 6\n",
      "Elapsed time overall: 240.57806158065796 seconds 7\n",
      "Elapsed time overall: 224.45972228050232 seconds 8\n",
      "Elapsed time overall: 199.59425806999207 seconds 9\n",
      "Final: 0.5073357900441422\n",
      "Elapsed time overall: 208.71665740013123 seconds 0\n",
      "Elapsed time overall: 223.92065811157227 seconds 1\n",
      "Elapsed time overall: 259.5196032524109 seconds 2\n",
      "Elapsed time overall: 241.1870710849762 seconds 3\n",
      "Elapsed time overall: 239.43498134613037 seconds 4\n",
      "Elapsed time overall: 251.13571619987488 seconds 5\n",
      "Elapsed time overall: 239.62437987327576 seconds 6\n",
      "Elapsed time overall: 251.71678185462952 seconds 7\n",
      "Elapsed time overall: 240.16373586654663 seconds 8\n",
      "Elapsed time overall: 203.16889071464539 seconds 9\n",
      "Final: 0.5180146639177836\n",
      "Elapsed time overall: 214.53430104255676 seconds 0\n",
      "Elapsed time overall: 237.32466435432434 seconds 1\n",
      "Elapsed time overall: 256.6421363353729 seconds 2\n",
      "Elapsed time overall: 255.23524737358093 seconds 3\n",
      "Elapsed time overall: 254.24875402450562 seconds 4\n",
      "Elapsed time overall: 255.6587872505188 seconds 5\n",
      "Elapsed time overall: 243.7594187259674 seconds 6\n",
      "Elapsed time overall: 244.4846112728119 seconds 7\n",
      "Elapsed time overall: 246.99151349067688 seconds 8\n",
      "Elapsed time overall: 212.236154794693 seconds 9\n",
      "Final: 0.5264770358023089\n",
      "Elapsed time overall: 206.44471883773804 seconds 0\n",
      "Elapsed time overall: 234.97349882125854 seconds 1\n",
      "Elapsed time overall: 265.2537519931793 seconds 2\n",
      "Elapsed time overall: 254.02017784118652 seconds 3\n",
      "Elapsed time overall: 262.2758114337921 seconds 4\n",
      "Elapsed time overall: 269.7576985359192 seconds 5\n",
      "Elapsed time overall: 240.93828415870667 seconds 6\n",
      "Elapsed time overall: 268.70942187309265 seconds 7\n",
      "Elapsed time overall: 233.59682941436768 seconds 8\n",
      "Elapsed time overall: 221.57022881507874 seconds 9\n",
      "Final: 0.5330366572219343\n"
     ]
    }
   ],
   "source": [
    "fw = [400, 1000, 0.5, 1/2.0, 1./22., 2, 9, 23, 4.5]\n",
    "best_mul = 0.6\n",
    "run_validation()\n",
    "\n",
    "fw = [400, 1000, 1, 1/2.0, 1./22., 2, 9, 23, 4.5]\n",
    "best_mul = 0.6\n",
    "run_validation()\n",
    "\n",
    "fw = [400, 1000, 2, 1/2.0, 1./22., 2, 9, 23, 4.5]\n",
    "best_mul = 0.6\n",
    "run_validation()\n",
    "\n",
    "fw = [400, 1000, 3, 1/2.0, 1./22., 2, 9, 23, 4.5]\n",
    "best_mul = 0.6\n",
    "run_validation()\n",
    "\n",
    "fw = [400, 1000, 4, 1/2.0, 1./22., 2, 9, 23, 4.5]\n",
    "best_mul = 0.6\n",
    "run_validation()"
   ]
  },
  {
   "cell_type": "code",
   "execution_count": 9,
   "metadata": {
    "collapsed": false
   },
   "outputs": [
    {
     "name": "stdout",
     "output_type": "stream",
     "text": [
      "Elapsed time overall: 250.96529960632324 seconds 0\n",
      "Elapsed time overall: 265.2607419490814 seconds 1\n",
      "Elapsed time overall: 299.222243309021 seconds 2\n",
      "Elapsed time overall: 283.1967840194702 seconds 3\n",
      "Elapsed time overall: 289.15671396255493 seconds 4\n",
      "Elapsed time overall: 288.6541197299957 seconds 5\n",
      "Elapsed time overall: 275.2561459541321 seconds 6\n",
      "Elapsed time overall: 294.1309492588043 seconds 7\n",
      "Elapsed time overall: 273.03186297416687 seconds 8\n",
      "Elapsed time overall: 236.32695722579956 seconds 9\n",
      "Final: 0.5478232270120753\n"
     ]
    }
   ],
   "source": [
    "fw = [400, 1000, 10, 1/2.0, 1./22., 2, 9, 23, 4.5]\n",
    "best_mul = 0.6\n",
    "run_validation()"
   ]
  },
  {
   "cell_type": "code",
   "execution_count": 10,
   "metadata": {
    "collapsed": false,
    "scrolled": true
   },
   "outputs": [
    {
     "name": "stdout",
     "output_type": "stream",
     "text": [
      "Elapsed time overall: 202.21201467514038 seconds 0\n",
      "Elapsed time overall: 247.13805079460144 seconds 1\n",
      "Elapsed time overall: 304.08170676231384 seconds 2\n",
      "Elapsed time overall: 257.74796319007874 seconds 3\n",
      "Elapsed time overall: 248.43470740318298 seconds 4\n",
      "Elapsed time overall: 256.6589984893799 seconds 5\n",
      "Elapsed time overall: 246.9948227405548 seconds 6\n",
      "Elapsed time overall: 241.57336473464966 seconds 7\n",
      "Elapsed time overall: 221.2356424331665 seconds 8\n",
      "Elapsed time overall: 189.88158559799194 seconds 9\n",
      "Final: 0.5461719398724764\n",
      "Elapsed time overall: 196.79955291748047 seconds 0\n",
      "Elapsed time overall: 217.74723863601685 seconds 1\n",
      "Elapsed time overall: 241.6849193572998 seconds 2\n",
      "Elapsed time overall: 229.93262839317322 seconds 3\n",
      "Elapsed time overall: 231.6329083442688 seconds 4\n",
      "Elapsed time overall: 239.34436869621277 seconds 5\n",
      "Elapsed time overall: 228.76018977165222 seconds 6\n",
      "Elapsed time overall: 239.63643217086792 seconds 7\n",
      "Elapsed time overall: 222.8177011013031 seconds 8\n",
      "Elapsed time overall: 192.76164865493774 seconds 9\n",
      "Final: 0.5472564355049623\n",
      "Elapsed time overall: 202.67511296272278 seconds 0\n",
      "Elapsed time overall: 225.1134877204895 seconds 1\n",
      "Elapsed time overall: 250.2095968723297 seconds 2\n",
      "Elapsed time overall: 236.8924994468689 seconds 3\n",
      "Elapsed time overall: 239.63941311836243 seconds 4\n",
      "Elapsed time overall: 247.36711382865906 seconds 5\n",
      "Elapsed time overall: 236.83545231819153 seconds 6\n",
      "Elapsed time overall: 246.7898828983307 seconds 7\n",
      "Elapsed time overall: 230.20369744300842 seconds 8\n",
      "Elapsed time overall: 199.79373717308044 seconds 9\n",
      "Final: 0.5480990281717935\n",
      "Elapsed time overall: 205.29675960540771 seconds 0\n",
      "Elapsed time overall: 228.3635892868042 seconds 1\n",
      "Elapsed time overall: 253.04282021522522 seconds 2\n",
      "Elapsed time overall: 239.62697100639343 seconds 3\n",
      "Elapsed time overall: 242.06404733657837 seconds 4\n",
      "Elapsed time overall: 250.52540111541748 seconds 5\n",
      "Elapsed time overall: 240.02384448051453 seconds 6\n",
      "Elapsed time overall: 251.39181447029114 seconds 7\n",
      "Elapsed time overall: 232.99698448181152 seconds 8\n",
      "Elapsed time overall: 202.4851312637329 seconds 9\n",
      "Final: 0.5480826137006548\n",
      "Elapsed time overall: 207.06562209129333 seconds 0\n",
      "Elapsed time overall: 230.19518065452576 seconds 1\n",
      "Elapsed time overall: 255.35907077789307 seconds 2\n",
      "Elapsed time overall: 241.79906582832336 seconds 3\n",
      "Elapsed time overall: 244.82359075546265 seconds 4\n",
      "Elapsed time overall: 252.3560984134674 seconds 5\n",
      "Elapsed time overall: 241.66234874725342 seconds 6\n",
      "Elapsed time overall: 252.7689073085785 seconds 7\n",
      "Elapsed time overall: 234.6951916217804 seconds 8\n",
      "Elapsed time overall: 203.7940468788147 seconds 9\n",
      "Final: 0.5478676239016081\n",
      "Elapsed time overall: 205.9911961555481 seconds 0\n",
      "Elapsed time overall: 228.63314986228943 seconds 1\n",
      "Elapsed time overall: 253.8108627796173 seconds 2\n",
      "Elapsed time overall: 240.29502058029175 seconds 3\n",
      "Elapsed time overall: 243.17813658714294 seconds 4\n",
      "Elapsed time overall: 251.57119059562683 seconds 5\n",
      "Elapsed time overall: 240.52782893180847 seconds 6\n",
      "Elapsed time overall: 251.65642762184143 seconds 7\n",
      "Elapsed time overall: 234.465491771698 seconds 8\n",
      "Elapsed time overall: 202.87627410888672 seconds 9\n",
      "Final: 0.5475174382668965\n"
     ]
    }
   ],
   "source": [
    "fw = [400, 1000, 8, 1/2.0, 1./22., 2, 9, 23, 4.5]\n",
    "best_mul = 0.6\n",
    "run_validation()\n",
    "\n",
    "fw = [400, 1000, 9, 1/2.0, 1./22., 2, 9, 23, 4.5]\n",
    "best_mul = 0.6\n",
    "run_validation()\n",
    "\n",
    "fw = [400, 1000, 11, 1/2.0, 1./22., 2, 9, 23, 4.5]\n",
    "best_mul = 0.6\n",
    "run_validation()\n",
    "\n",
    "fw = [400, 1000, 12, 1/2.0, 1./22., 2, 9, 23, 4.5]\n",
    "best_mul = 0.6\n",
    "run_validation()\n",
    "\n",
    "fw = [400, 1000, 13, 1/2.0, 1./22., 2, 9, 23, 4.5]\n",
    "best_mul = 0.6\n",
    "run_validation()\n",
    "\n",
    "fw = [400, 1000, 14, 1/2.0, 1./22., 2, 9, 23, 4.5]\n",
    "best_mul = 0.6\n",
    "run_validation()"
   ]
  },
  {
   "cell_type": "markdown",
   "metadata": {},
   "source": [
    "\tLine 11: Final: 0.5461719398724764\n",
    "\tLine 22: Final: 0.5472564355049623\n",
    "\tLine 33: Final: 0.5480990281717935\n",
    "\tLine 44: Final: 0.5480826137006548\n",
    "\tLine 55: Final: 0.5478676239016081\n",
    "\tLine 66: Final: 0.5475174382668965"
   ]
  },
  {
   "cell_type": "code",
   "execution_count": 13,
   "metadata": {
    "collapsed": false
   },
   "outputs": [],
   "source": [
    "def run_test():\n",
    "    \n",
    "    # Run test\n",
    "    df = pd.read_csv('../../train.csv',\n",
    "                           usecols=['row_id','x','y','accuracy','time','place_id'])\n",
    "    df_test = pd.read_csv('../../test.csv',\n",
    "                           usecols=['row_id','x','y','accuracy','time'])\n",
    "    \n",
    "    n_cell_x = 10\n",
    "    n_cell_y = 20\n",
    "    x_length = 10 / n_cell_x\n",
    "    y_length = 10 / n_cell_y\n",
    "    total_score = 0\n",
    "    score_count = 0\n",
    "    total_result = pd.DataFrame()\n",
    "    for x_index in range(0, n_cell_x):\n",
    "        start_time = time.time()\n",
    "        for y_index in range(0, n_cell_y):\n",
    "            min_x = x_index * x_length\n",
    "            max_x = (x_index + 1) * x_length\n",
    "            min_y = y_index * y_length\n",
    "            max_y = (y_index + 1) * y_length\n",
    "            \n",
    "            # include the edge\n",
    "            if(y_index + 1 == n_cell_y):\n",
    "                max_y += 0.1\n",
    "            if(x_index + 1 == n_cell_x):\n",
    "                max_x += 0.1\n",
    "\n",
    "            df_train_cell = df[(df.x >= min_x - 0.1) & \\\n",
    "                               (df.x < max_x + 0.1) & \\\n",
    "                               (df.y >= min_y - 0.1) & \\\n",
    "                               (df.y < max_y + 0.1)].copy()\n",
    "            \n",
    "            df_test_cell = df_test[(df_test.x >= min_x) & \\\n",
    "                                   (df_test.x < max_x) & \\\n",
    "                                   (df_test.y >= min_y) & \\\n",
    "                                   (df_test.y < max_y)].copy()\n",
    "            \n",
    "            prediction_result = run_prediction(df_train_cell, df_test_cell)\n",
    "            total_result = total_result.append(prediction_result)\n",
    "        print(\"Elapsed time overall: %s seconds\" % (time.time() - start_time), x_index, flush = True)\n",
    "            \n",
    "    \n",
    "    total_result.sort_index(inplace=True)\n",
    "    total_result['place_id'] = total_result.p1.astype(str) + \" \" + \\\n",
    "                               total_result.p2.astype(str) + \" \" + \\\n",
    "                               total_result.p3.astype(str)\n",
    "    total_result[['row_id', 'place_id']].to_csv('Baseline620-WithSin.csv', index=False)"
   ]
  },
  {
   "cell_type": "code",
   "execution_count": 14,
   "metadata": {
    "collapsed": false
   },
   "outputs": [
    {
     "name": "stdout",
     "output_type": "stream",
     "text": [
      "Elapsed time overall: 526.0489730834961 seconds 0\n",
      "Elapsed time overall: 617.4664888381958 seconds 1\n",
      "Elapsed time overall: 610.2331659793854 seconds 2\n",
      "Elapsed time overall: 579.0467178821564 seconds 3\n",
      "Elapsed time overall: 578.9334514141083 seconds 4\n",
      "Elapsed time overall: 599.3313109874725 seconds 5\n",
      "Elapsed time overall: 476.83973264694214 seconds 6\n",
      "Elapsed time overall: 495.81134128570557 seconds 7\n",
      "Elapsed time overall: 468.79841804504395 seconds 8\n",
      "Elapsed time overall: 420.8868474960327 seconds 9\n"
     ]
    }
   ],
   "source": [
    "fw = [400, 1000, 11, 1/2.0, 1./22., 2, 9, 23, 4.5]\n",
    "best_mul = 0.6\n",
    "run_test()"
   ]
  }
 ],
 "metadata": {
  "kernelspec": {
   "display_name": "Python 3",
   "language": "python",
   "name": "python3"
  },
  "language_info": {
   "codemirror_mode": {
    "name": "ipython",
    "version": 3
   },
   "file_extension": ".py",
   "mimetype": "text/x-python",
   "name": "python",
   "nbconvert_exporter": "python",
   "pygments_lexer": "ipython3",
   "version": "3.5.1"
  }
 },
 "nbformat": 4,
 "nbformat_minor": 0
}
