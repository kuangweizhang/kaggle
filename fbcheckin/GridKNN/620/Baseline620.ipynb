{
 "cells": [
  {
   "cell_type": "markdown",
   "metadata": {},
   "source": [
    "New improvement including <br/>\n",
    "1. Inverse Distance <br/>\n",
    "2. Mask <br/>\n",
    "3. Accuracy with logrithm <br/>\n",
    "4. Weights? <br/>\n"
   ]
  },
  {
   "cell_type": "code",
   "execution_count": 1,
   "metadata": {
    "collapsed": true
   },
   "outputs": [],
   "source": [
    "import numpy as np\n",
    "import pandas as pd\n",
    "from sklearn.preprocessing import LabelEncoder\n",
    "from sklearn.neighbors import KNeighborsClassifier\n",
    "import time"
   ]
  },
  {
   "cell_type": "code",
   "execution_count": 2,
   "metadata": {
    "collapsed": true
   },
   "outputs": [],
   "source": [
    "feature_list = ['x','y','w0','w1','w2','w3','w4','w5','w6','day','month','year', 'accuracy']\n",
    "for i in range(0,24):\n",
    "    feature_list.append('h' + str(i))"
   ]
  },
  {
   "cell_type": "code",
   "execution_count": 3,
   "metadata": {
    "collapsed": true
   },
   "outputs": [],
   "source": [
    "def prepare_data(df):    \n",
    "    #Feature engineering\n",
    "    df.x = df.x.values * fw[0]\n",
    "    df.y = df.y.values * fw[1]\n",
    "    initial_date = np.datetime64('2014-01-02T01:01', dtype='datetime64[m]') \n",
    "    d_times = pd.DatetimeIndex(initial_date + np.timedelta64(int(mn), 'm') \n",
    "                               for mn in df.time.values)    \n",
    "    #df['hour'] = (d_times.hour+ d_times.minute/60) * fw[2]\n",
    "    for i in range(0,24):\n",
    "        df['h' + str(i)] = (((d_times.hour+ d_times.minute/60) + i) % 24) * fw[2]\n",
    "    \n",
    "    df['w0'] = ((d_times.weekday + 0) % 7) * fw[3]\n",
    "    df['w1'] = ((d_times.weekday + 1) % 7) * fw[3]\n",
    "    df['w2'] = ((d_times.weekday + 2) % 7) * fw[3]\n",
    "    df['w3'] = ((d_times.weekday + 3) % 7) * fw[3]\n",
    "    df['w4'] = ((d_times.weekday + 4) % 7) * fw[3]\n",
    "    df['w5'] = ((d_times.weekday + 5) % 7) * fw[3]\n",
    "    df['w6'] = ((d_times.weekday + 6) % 7) * fw[3]\n",
    "    \n",
    "    df['day'] = (d_times.dayofyear * fw[4]).astype(int)\n",
    "    df['month'] = d_times.month * fw[5]\n",
    "    df['year'] = (d_times.year - 2013) * fw[6]\n",
    "    #df.accuracy = df.accuracy.values * fw[7]\n",
    "    df['accuracy'] = np.log10(df.accuracy) * fw[7]\n",
    "    df['log_month'] = np.log10(3+df.time/(60 * 24 * 30)) * fw[8]\n",
    "    df = df.drop(['time'], axis=1)\n",
    "    \n",
    "    return df"
   ]
  },
  {
   "cell_type": "code",
   "execution_count": 4,
   "metadata": {
    "collapsed": true
   },
   "outputs": [],
   "source": [
    "def calculate_distance(distances):\n",
    "    return distances ** -2"
   ]
  },
  {
   "cell_type": "code",
   "execution_count": 5,
   "metadata": {
    "collapsed": false
   },
   "outputs": [],
   "source": [
    "def process_one_cell(df_train, df_test, th):    \n",
    "    place_counts = df_train.place_id.value_counts()\n",
    "    mask = (place_counts[df_train.place_id.values] >= th).values\n",
    "    df_train = df_train.loc[mask]\n",
    "    row_ids = df_test.row_id\n",
    "    \n",
    "    best_k=np.floor(np.sqrt(len(df_train.index)/4*best_mul)/5)\n",
    "    \n",
    "    #Applying the classifier\n",
    "    clf = KNeighborsClassifier(n_neighbors=best_k.astype(int), weights=calculate_distance, \n",
    "                               metric='manhattan')\n",
    "    clf.fit(df_train[feature_list], df_train.place_id)\n",
    "    predictions = clf.predict_proba(df_test[feature_list])\n",
    "    result_index = np.argsort(predictions, axis=1)[:,::-1][:,:3]\n",
    "    result = pd.DataFrame(df_test.row_id)\n",
    "    result['p1'] = clf.classes_[result_index][:,:1]\n",
    "    result['p2'] = clf.classes_[result_index][:,1:2]\n",
    "    result['p3'] = clf.classes_[result_index][:,2:3]\n",
    "    \n",
    "    return result"
   ]
  },
  {
   "cell_type": "code",
   "execution_count": 6,
   "metadata": {
    "collapsed": true
   },
   "outputs": [],
   "source": [
    "def run_prediction(df_train, df_test):\n",
    "    df_train = prepare_data(df_train)\n",
    "    df_test = prepare_data(df_test)\n",
    "    df_test['p1'] = np.nan\n",
    "    df_test['p2'] = np.nan\n",
    "    df_test['p3'] = np.nan\n",
    "    \n",
    "    prediction_result = process_one_cell(df_train, df_test, 1)\n",
    "    prediction_result.sort_index(inplace=True)\n",
    "    return prediction_result"
   ]
  },
  {
   "cell_type": "code",
   "execution_count": 7,
   "metadata": {
    "collapsed": false
   },
   "outputs": [],
   "source": [
    "def run_validation():\n",
    "    df = pd.read_csv('../../train.csv',\n",
    "                               usecols=['row_id','x','y','accuracy','time','place_id'])\n",
    "    \n",
    "    n_cell_x = 10\n",
    "    n_cell_y = 20\n",
    "    x_length = 10 / n_cell_x\n",
    "    y_length = 10 / n_cell_y\n",
    "    total_score = 0\n",
    "    score_count = 0\n",
    "    for x_index in range(0, n_cell_x):\n",
    "        start_time = time.time()\n",
    "        for y_index in range(0, n_cell_y):\n",
    "            min_x = x_index * x_length\n",
    "            max_x = (x_index + 1) * x_length\n",
    "            min_y = y_index * y_length\n",
    "            max_y = (y_index + 1) * y_length\n",
    "            \n",
    "            # include the edge\n",
    "            if(y_index + 1 == n_cell_y):\n",
    "                max_y += 0.1\n",
    "            if(x_index + 1 == n_cell_x):\n",
    "                max_x += 0.1\n",
    "\n",
    "            df_train_cell = df[(df.time <= 786239 * 0.875) & \\\n",
    "                               (df.x >= min_x - 0.1) & \\\n",
    "                               (df.x < max_x + 0.1) & \\\n",
    "                               (df.y >= min_y - 0.1) & \\\n",
    "                               (df.y < max_y + 0.1)].copy()\n",
    "            \n",
    "            df_validation_cell = df[(df.time > 786239 * 0.875) & \\\n",
    "                                    (df.x >= min_x) & \\\n",
    "                                    (df.x < max_x) & \\\n",
    "                                    (df.y >= min_y) & \\\n",
    "                                    (df.y < max_y)].copy()\n",
    "            \n",
    "            prediction_result = run_prediction(df_train_cell, df_validation_cell)\n",
    "            \n",
    "            # Calculate score\n",
    "            prediction_result.sort_index(inplace=True)\n",
    "            prediction_result['score'] = (prediction_result.p1 == df_validation_cell.place_id) * 1\n",
    "            prediction_result['score'] += (prediction_result.p2 == df_validation_cell.place_id) * 0.5\n",
    "            prediction_result['score'] += (prediction_result.p3 == df_validation_cell.place_id) * 0.33\n",
    "\n",
    "            score = prediction_result.score.mean()\n",
    "            #print('s1:', score, flush=True)\n",
    "            total_score += score\n",
    "            score_count += 1\n",
    "            \n",
    "        print(\"Elapsed time overall: %s seconds\" % (time.time() - start_time), x_index, flush = True)\n",
    "    print(\"Final:\", total_score/score_count, flush=True)\n"
   ]
  },
  {
   "cell_type": "code",
   "execution_count": 8,
   "metadata": {
    "collapsed": false,
    "scrolled": true
   },
   "outputs": [
    {
     "name": "stdout",
     "output_type": "stream",
     "text": [
      "Elapsed time overall: 455.05734372138977 seconds 0\n",
      "Elapsed time overall: 494.8716974258423 seconds 1\n",
      "Elapsed time overall: 558.6822774410248 seconds 2\n",
      "Elapsed time overall: 564.371958732605 seconds 3\n",
      "Elapsed time overall: 604.7028782367706 seconds 4\n",
      "Elapsed time overall: 616.3679990768433 seconds 5\n",
      "Elapsed time overall: 584.9547562599182 seconds 6\n",
      "Elapsed time overall: 604.1633021831512 seconds 7\n",
      "Elapsed time overall: 463.7585711479187 seconds 8\n",
      "Elapsed time overall: 407.9367482662201 seconds 9\n",
      "Final: 0.5483083948027339\n"
     ]
    }
   ],
   "source": [
    "fw = [400, 1000, 1/10.5, 1/2.0, 1./22., 2, 9, 23, 4.5]\n",
    "best_mul = 0.6\n",
    "run_validation()"
   ]
  },
  {
   "cell_type": "code",
   "execution_count": null,
   "metadata": {
    "collapsed": false
   },
   "outputs": [],
   "source": [
    "def run_test():\n",
    "    \n",
    "    # Run test\n",
    "    df = pd.read_csv('../../train.csv',\n",
    "                           usecols=['row_id','x','y','accuracy','time','place_id'])\n",
    "    df_test = pd.read_csv('../../test.csv',\n",
    "                           usecols=['row_id','x','y','accuracy','time'])\n",
    "    \n",
    "    n_cell_x = 10\n",
    "    n_cell_y = 20\n",
    "    x_length = 10 / n_cell_x\n",
    "    y_length = 10 / n_cell_y\n",
    "    total_score = 0\n",
    "    score_count = 0\n",
    "    total_result = pd.DataFrame()\n",
    "    for x_index in range(0, n_cell_x):\n",
    "        start_time = time.time()\n",
    "        for y_index in range(0, n_cell_y):\n",
    "            min_x = x_index * x_length\n",
    "            max_x = (x_index + 1) * x_length\n",
    "            min_y = y_index * y_length\n",
    "            max_y = (y_index + 1) * y_length\n",
    "            \n",
    "            # include the edge\n",
    "            if(y_index + 1 == n_cell_y):\n",
    "                max_y += 0.1\n",
    "            if(x_index + 1 == n_cell_x):\n",
    "                max_x += 0.1\n",
    "\n",
    "            df_train_cell = df[(df.x >= min_x - 0.1) & \\\n",
    "                               (df.x < max_x + 0.1) & \\\n",
    "                               (df.y >= min_y - 0.1) & \\\n",
    "                               (df.y < max_y + 0.1)].copy()\n",
    "            \n",
    "            df_test_cell = df_test[(df_test.x >= min_x) & \\\n",
    "                                   (df_test.x < max_x) & \\\n",
    "                                   (df_test.y >= min_y) & \\\n",
    "                                   (df_test.y < max_y)].copy()\n",
    "            \n",
    "            prediction_result = run_prediction(df_train_cell, df_test_cell)\n",
    "            total_result = total_result.append(prediction_result)\n",
    "        print(\"Elapsed time overall: %s seconds\" % (time.time() - start_time), x_index, flush = True)\n",
    "            \n",
    "    \n",
    "    total_result.sort_index(inplace=True)\n",
    "    total_result['place_id'] = total_result.p1.astype(str) + \" \" + \\\n",
    "                               total_result.p2.astype(str) + \" \" + \\\n",
    "                               total_result.p3.astype(str)\n",
    "    total_result[['row_id', 'place_id']].to_csv('Baseline620.csv', index=False)"
   ]
  },
  {
   "cell_type": "code",
   "execution_count": null,
   "metadata": {
    "collapsed": false
   },
   "outputs": [],
   "source": [
    "fw = [400, 1000, 1/10.5, 1/2.0, 1./22., 2, 9, 23, 4.5]\n",
    "best_mul = 0.6\n",
    "run_test()"
   ]
  },
  {
   "cell_type": "code",
   "execution_count": null,
   "metadata": {
    "collapsed": false
   },
   "outputs": [],
   "source": [
    "0.58065"
   ]
  }
 ],
 "metadata": {
  "kernelspec": {
   "display_name": "Python 3",
   "language": "python",
   "name": "python3"
  },
  "language_info": {
   "codemirror_mode": {
    "name": "ipython",
    "version": 3
   },
   "file_extension": ".py",
   "mimetype": "text/x-python",
   "name": "python",
   "nbconvert_exporter": "python",
   "pygments_lexer": "ipython3",
   "version": "3.5.1"
  }
 },
 "nbformat": 4,
 "nbformat_minor": 0
}
