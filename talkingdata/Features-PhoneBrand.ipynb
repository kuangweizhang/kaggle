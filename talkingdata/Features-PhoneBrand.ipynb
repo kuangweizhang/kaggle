{
 "cells": [
  {
   "cell_type": "code",
   "execution_count": 29,
   "metadata": {
    "collapsed": true
   },
   "outputs": [],
   "source": [
    "%matplotlib inline\n",
    "\n",
    "import matplotlib\n",
    "import matplotlib.pyplot as plt\n",
    "import numpy as np\n",
    "import pandas as pd\n",
    "\n",
    "gender_age_test = pd.read_csv('./input/gender_age_test.csv', index_col='device_id')\n",
    "gender_age_train = pd.read_csv('./input/gender_age_train.csv', index_col='device_id')\n",
    "phone_brand_device_model = pd.read_csv('./input/phone_brand_device_model.csv')\n",
    "phone_brand_device_model = phone_brand_device_model.drop_duplicates('device_id', keep='first').set_index('device_id')"
   ]
  },
  {
   "cell_type": "code",
   "execution_count": 38,
   "metadata": {
    "collapsed": false
   },
   "outputs": [
    {
     "data": {
      "text/html": [
       "<div>\n",
       "<table border=\"1\" class=\"dataframe\">\n",
       "  <thead>\n",
       "    <tr style=\"text-align: right;\">\n",
       "      <th></th>\n",
       "      <th>phone_brand</th>\n",
       "      <th>device_model</th>\n",
       "    </tr>\n",
       "    <tr>\n",
       "      <th>device_id</th>\n",
       "      <th></th>\n",
       "      <th></th>\n",
       "    </tr>\n",
       "  </thead>\n",
       "  <tbody>\n",
       "    <tr>\n",
       "      <th>-8890648629457979026</th>\n",
       "      <td>小米</td>\n",
       "      <td>红米</td>\n",
       "    </tr>\n",
       "    <tr>\n",
       "      <th>1277779817574759137</th>\n",
       "      <td>小米</td>\n",
       "      <td>MI 2</td>\n",
       "    </tr>\n",
       "    <tr>\n",
       "      <th>5137427614288105724</th>\n",
       "      <td>三星</td>\n",
       "      <td>Galaxy S4</td>\n",
       "    </tr>\n",
       "    <tr>\n",
       "      <th>3669464369358936369</th>\n",
       "      <td>SUGAR</td>\n",
       "      <td>时尚手机</td>\n",
       "    </tr>\n",
       "    <tr>\n",
       "      <th>-5019277647504317457</th>\n",
       "      <td>三星</td>\n",
       "      <td>Galaxy Note 2</td>\n",
       "    </tr>\n",
       "  </tbody>\n",
       "</table>\n",
       "</div>"
      ],
      "text/plain": [
       "                     phone_brand   device_model\n",
       "device_id                                      \n",
       "-8890648629457979026          小米             红米\n",
       " 1277779817574759137          小米           MI 2\n",
       " 5137427614288105724          三星      Galaxy S4\n",
       " 3669464369358936369       SUGAR           时尚手机\n",
       "-5019277647504317457          三星  Galaxy Note 2"
      ]
     },
     "execution_count": 38,
     "metadata": {},
     "output_type": "execute_result"
    }
   ],
   "source": [
    "phone_brand_device_model.head()"
   ]
  },
  {
   "cell_type": "code",
   "execution_count": 7,
   "metadata": {
    "collapsed": false
   },
   "outputs": [
    {
     "data": {
      "text/plain": [
       "array(['小米', '三星', '华为', 'vivo', 'OPPO', '魅族', '酷派', '联想', '金立', 'HTC',\n",
       "       '中兴', '乐视', '索尼', '努比亚', 'LG', '中国移动', 'TCL', '朵唯', '锤子', '优米',\n",
       "       '海信', '一加', '语信', '奇酷', '天语', '摩托罗拉', '酷比', 'ZUK', '酷比魔方', '美图',\n",
       "       '华硕', '艾优尼', '富可视', '梦米', '爱派尔', '黑米', '波导', '纽曼', '米歌', '诺基亚',\n",
       "       '亿通', '贝尔丰', '百立丰', '欧博信', '康佳', 'LOGO', '尼比鲁', '优购', '夏新', '酷珀',\n",
       "       '海尔', '维图', '聆韵', '青橙', '邦华', 'E派', 'Lovme', '至尊宝', '小杨树', '唯米',\n",
       "       '糯米', '易派', '欧新', '诺亚信', '神舟', '基伍', '西米', '米奇', '沃普丰', '百加', '大可乐',\n",
       "       '果米', '乡米', '斐讯', '长虹', '欧奇', '青葱', '昂达', '糖葫芦', '谷歌', '先锋', '台电',\n",
       "       '欧比', 'SUGAR', '蓝魔', '奥克斯', '德赛', '白米', '大Q', '虾米', '瑞米', '金星数码',\n",
       "       '首云', '飞利浦', '普耐尔', '广信', '欧沃', '欧乐迪', '摩乐', '优语', '智镁', '世纪天元',\n",
       "       'PPTV', '天宏时代', '本为', '唯比', '宝捷讯', '惠普', '丰米', '鲜米', '大显', '世纪星',\n",
       "       '戴尔', '恒宇丰', '凯利通', '原点', '飞秒', '赛博宇华', 'MIL', '碟米', '帷幄', '亚马逊',\n",
       "       'E人E本', '宏碁', 'ZOYE', '嘉源', '西门子', '德卡诺', '欧乐酷', '极米', '瑞高'], dtype=object)"
      ]
     },
     "execution_count": 7,
     "metadata": {},
     "output_type": "execute_result"
    }
   ],
   "source": [
    "phone_brand_device_model.phone_brand.value_counts().index.values"
   ]
  },
  {
   "cell_type": "code",
   "execution_count": 9,
   "metadata": {
    "collapsed": false
   },
   "outputs": [
    {
     "data": {
      "text/plain": [
       "Index(['小米', '三星', '华为', 'vivo', 'OPPO', '魅族', '酷派', '联想', '金立', 'HTC',\n",
       "       ...\n",
       "       '亚马逊', 'E人E本', '宏碁', 'ZOYE', '嘉源', '西门子', '德卡诺', '欧乐酷', '极米', '瑞高'],\n",
       "      dtype='object', length=131)"
      ]
     },
     "execution_count": 9,
     "metadata": {},
     "output_type": "execute_result"
    }
   ],
   "source": [
    "phone_brand_device_model.phone_brand.value_counts().index"
   ]
  },
  {
   "cell_type": "code",
   "execution_count": 10,
   "metadata": {
    "collapsed": false
   },
   "outputs": [
    {
     "data": {
      "text/plain": [
       "Index(['红米note', 'MI 3', 'MI 2S', 'Galaxy Note 3', 'MI 4', 'Galaxy S4',\n",
       "       'Galaxy Note 2', '荣耀6', '荣耀畅玩4X', '荣耀3C',\n",
       "       ...\n",
       "       'Z3D 梦想板', 'Galaxy S DUOS 2', 'Z7', 'P589L', 'P21', 'V927', 'HS-U971',\n",
       "       'F4', 'IUSAI US15', 'ivvi 小i Plus'],\n",
       "      dtype='object', length=1599)"
      ]
     },
     "execution_count": 10,
     "metadata": {},
     "output_type": "execute_result"
    }
   ],
   "source": [
    "phone_brand_device_model.device_model.value_counts().index"
   ]
  },
  {
   "cell_type": "code",
   "execution_count": 37,
   "metadata": {
    "collapsed": false,
    "scrolled": true
   },
   "outputs": [
    {
     "data": {
      "text/html": [
       "<div>\n",
       "<table border=\"1\" class=\"dataframe\">\n",
       "  <thead>\n",
       "    <tr style=\"text-align: right;\">\n",
       "      <th></th>\n",
       "      <th>gender</th>\n",
       "      <th>age</th>\n",
       "      <th>group</th>\n",
       "    </tr>\n",
       "    <tr>\n",
       "      <th>device_id</th>\n",
       "      <th></th>\n",
       "      <th></th>\n",
       "      <th></th>\n",
       "    </tr>\n",
       "  </thead>\n",
       "  <tbody>\n",
       "    <tr>\n",
       "      <th>-8076087639492063270</th>\n",
       "      <td>M</td>\n",
       "      <td>35</td>\n",
       "      <td>M32-38</td>\n",
       "    </tr>\n",
       "    <tr>\n",
       "      <th>-2897161552818060146</th>\n",
       "      <td>M</td>\n",
       "      <td>35</td>\n",
       "      <td>M32-38</td>\n",
       "    </tr>\n",
       "    <tr>\n",
       "      <th>-8260683887967679142</th>\n",
       "      <td>M</td>\n",
       "      <td>35</td>\n",
       "      <td>M32-38</td>\n",
       "    </tr>\n",
       "    <tr>\n",
       "      <th>-4938849341048082022</th>\n",
       "      <td>M</td>\n",
       "      <td>30</td>\n",
       "      <td>M29-31</td>\n",
       "    </tr>\n",
       "    <tr>\n",
       "      <th>245133531816851882</th>\n",
       "      <td>M</td>\n",
       "      <td>30</td>\n",
       "      <td>M29-31</td>\n",
       "    </tr>\n",
       "  </tbody>\n",
       "</table>\n",
       "</div>"
      ],
      "text/plain": [
       "                     gender  age   group\n",
       "device_id                               \n",
       "-8076087639492063270      M   35  M32-38\n",
       "-2897161552818060146      M   35  M32-38\n",
       "-8260683887967679142      M   35  M32-38\n",
       "-4938849341048082022      M   30  M29-31\n",
       " 245133531816851882       M   30  M29-31"
      ]
     },
     "execution_count": 37,
     "metadata": {},
     "output_type": "execute_result"
    }
   ],
   "source": [
    "gender_age_train.head()"
   ]
  },
  {
   "cell_type": "code",
   "execution_count": 66,
   "metadata": {
    "collapsed": false
   },
   "outputs": [],
   "source": [
    "phone_train = gender_age_train.merge(phone_brand_device_model, how='left', left_index=True, right_index=True)"
   ]
  },
  {
   "cell_type": "code",
   "execution_count": 82,
   "metadata": {
    "collapsed": false,
    "scrolled": true
   },
   "outputs": [
    {
     "data": {
      "text/html": [
       "<div>\n",
       "<table border=\"1\" class=\"dataframe\">\n",
       "  <thead>\n",
       "    <tr style=\"text-align: right;\">\n",
       "      <th></th>\n",
       "      <th>gender</th>\n",
       "      <th>age</th>\n",
       "      <th>group</th>\n",
       "      <th>phone_brand</th>\n",
       "      <th>device_model</th>\n",
       "    </tr>\n",
       "    <tr>\n",
       "      <th>device_id</th>\n",
       "      <th></th>\n",
       "      <th></th>\n",
       "      <th></th>\n",
       "      <th></th>\n",
       "      <th></th>\n",
       "    </tr>\n",
       "  </thead>\n",
       "  <tbody>\n",
       "    <tr>\n",
       "      <th>-8076087639492063270</th>\n",
       "      <td>M</td>\n",
       "      <td>35</td>\n",
       "      <td>M32-38</td>\n",
       "      <td>小米</td>\n",
       "      <td>MI 2</td>\n",
       "    </tr>\n",
       "    <tr>\n",
       "      <th>-2897161552818060146</th>\n",
       "      <td>M</td>\n",
       "      <td>35</td>\n",
       "      <td>M32-38</td>\n",
       "      <td>小米</td>\n",
       "      <td>MI 2</td>\n",
       "    </tr>\n",
       "    <tr>\n",
       "      <th>-8260683887967679142</th>\n",
       "      <td>M</td>\n",
       "      <td>35</td>\n",
       "      <td>M32-38</td>\n",
       "      <td>小米</td>\n",
       "      <td>MI 2</td>\n",
       "    </tr>\n",
       "    <tr>\n",
       "      <th>-4938849341048082022</th>\n",
       "      <td>M</td>\n",
       "      <td>30</td>\n",
       "      <td>M29-31</td>\n",
       "      <td>小米</td>\n",
       "      <td>红米note</td>\n",
       "    </tr>\n",
       "    <tr>\n",
       "      <th>245133531816851882</th>\n",
       "      <td>M</td>\n",
       "      <td>30</td>\n",
       "      <td>M29-31</td>\n",
       "      <td>小米</td>\n",
       "      <td>MI 3</td>\n",
       "    </tr>\n",
       "  </tbody>\n",
       "</table>\n",
       "</div>"
      ],
      "text/plain": [
       "                     gender  age   group phone_brand device_model\n",
       "device_id                                                        \n",
       "-8076087639492063270      M   35  M32-38          小米         MI 2\n",
       "-2897161552818060146      M   35  M32-38          小米         MI 2\n",
       "-8260683887967679142      M   35  M32-38          小米         MI 2\n",
       "-4938849341048082022      M   30  M29-31          小米       红米note\n",
       " 245133531816851882       M   30  M29-31          小米         MI 3"
      ]
     },
     "execution_count": 82,
     "metadata": {},
     "output_type": "execute_result"
    }
   ],
   "source": [
    "phone_train.head()"
   ]
  },
  {
   "cell_type": "code",
   "execution_count": 83,
   "metadata": {
    "collapsed": false,
    "scrolled": true
   },
   "outputs": [],
   "source": [
    "brand_onehot = pd.get_dummies(phone_train.phone_brand)\n",
    "model_onehot = pd.get_dummies(phone_train.device_model)"
   ]
  },
  {
   "cell_type": "code",
   "execution_count": 84,
   "metadata": {
    "collapsed": false
   },
   "outputs": [],
   "source": [
    "phone_train = phone_train.merge(brand_onehot, how='left', left_index=True, right_index=True)\n",
    "phone_train = phone_train.merge(model_onehot, how='left', left_index=True, right_index=True)"
   ]
  },
  {
   "cell_type": "code",
   "execution_count": 88,
   "metadata": {
    "collapsed": false
   },
   "outputs": [
    {
     "data": {
      "text/plain": [
       "Index(['gender', 'age', 'group', 'phone_brand', 'device_model', 'E派', 'HTC',\n",
       "       'LG', 'LOGO', 'Lovme',\n",
       "       ...\n",
       "       '魅蓝Note3', '魅蓝metal', '魔镜 X5', '麦芒3', '麦芒3S', '麦芒4', '黄金斗士A8',\n",
       "       '黄金斗士Note8', '黄金斗士S8畅玩版', '黄金斗士青春版'],\n",
       "      dtype='object', length=1563)"
      ]
     },
     "execution_count": 88,
     "metadata": {},
     "output_type": "execute_result"
    }
   ],
   "source": [
    "phone_train.columns"
   ]
  }
 ],
 "metadata": {
  "kernelspec": {
   "display_name": "Python 3",
   "language": "python",
   "name": "python3"
  },
  "language_info": {
   "codemirror_mode": {
    "name": "ipython",
    "version": 3
   },
   "file_extension": ".py",
   "mimetype": "text/x-python",
   "name": "python",
   "nbconvert_exporter": "python",
   "pygments_lexer": "ipython3",
   "version": "3.5.2"
  }
 },
 "nbformat": 4,
 "nbformat_minor": 0
}
