{
 "cells": [
  {
   "cell_type": "code",
   "execution_count": 1,
   "metadata": {
    "collapsed": true
   },
   "outputs": [],
   "source": [
    "#Create one hot sparse matrix for phone brand and device model"
   ]
  },
  {
   "cell_type": "code",
   "execution_count": 2,
   "metadata": {
    "collapsed": true
   },
   "outputs": [],
   "source": [
    "%matplotlib inline\n",
    "\n",
    "import matplotlib\n",
    "import matplotlib.pyplot as plt\n",
    "import numpy as np\n",
    "import pandas as pd\n",
    "\n",
    "gender_age_test = pd.read_csv('./input/gender_age_test.csv', index_col='device_id')\n",
    "gender_age_train = pd.read_csv('./input/gender_age_train.csv', index_col='device_id')\n",
    "phone_brand_device_model = pd.read_csv('./input/phone_brand_device_model.csv')\n",
    "phone_brand_device_model = phone_brand_device_model.drop_duplicates('device_id', keep='first').set_index('device_id')"
   ]
  },
  {
   "cell_type": "code",
   "execution_count": 3,
   "metadata": {
    "collapsed": false
   },
   "outputs": [
    {
     "data": {
      "text/html": [
       "<div>\n",
       "<table border=\"1\" class=\"dataframe\">\n",
       "  <thead>\n",
       "    <tr style=\"text-align: right;\">\n",
       "      <th></th>\n",
       "      <th>phone_brand</th>\n",
       "      <th>device_model</th>\n",
       "    </tr>\n",
       "    <tr>\n",
       "      <th>device_id</th>\n",
       "      <th></th>\n",
       "      <th></th>\n",
       "    </tr>\n",
       "  </thead>\n",
       "  <tbody>\n",
       "    <tr>\n",
       "      <th>-8890648629457979026</th>\n",
       "      <td>小米</td>\n",
       "      <td>红米</td>\n",
       "    </tr>\n",
       "    <tr>\n",
       "      <th>1277779817574759137</th>\n",
       "      <td>小米</td>\n",
       "      <td>MI 2</td>\n",
       "    </tr>\n",
       "    <tr>\n",
       "      <th>5137427614288105724</th>\n",
       "      <td>三星</td>\n",
       "      <td>Galaxy S4</td>\n",
       "    </tr>\n",
       "    <tr>\n",
       "      <th>3669464369358936369</th>\n",
       "      <td>SUGAR</td>\n",
       "      <td>时尚手机</td>\n",
       "    </tr>\n",
       "    <tr>\n",
       "      <th>-5019277647504317457</th>\n",
       "      <td>三星</td>\n",
       "      <td>Galaxy Note 2</td>\n",
       "    </tr>\n",
       "  </tbody>\n",
       "</table>\n",
       "</div>"
      ],
      "text/plain": [
       "                     phone_brand   device_model\n",
       "device_id                                      \n",
       "-8890648629457979026          小米             红米\n",
       " 1277779817574759137          小米           MI 2\n",
       " 5137427614288105724          三星      Galaxy S4\n",
       " 3669464369358936369       SUGAR           时尚手机\n",
       "-5019277647504317457          三星  Galaxy Note 2"
      ]
     },
     "execution_count": 3,
     "metadata": {},
     "output_type": "execute_result"
    }
   ],
   "source": [
    "phone_brand_device_model.head()"
   ]
  },
  {
   "cell_type": "code",
   "execution_count": 4,
   "metadata": {
    "collapsed": false
   },
   "outputs": [],
   "source": [
    "from sklearn.preprocessing import LabelEncoder\n",
    "brand_encoder = LabelEncoder().fit(phone_brand_device_model.phone_brand)\n",
    "phone_brand_device_model['brand_encode'] = brand_encoder.transform(phone_brand_device_model.phone_brand)\n",
    "\n",
    "device_encoder = LabelEncoder().fit(phone_brand_device_model.device_model)\n",
    "phone_brand_device_model['device_encode'] = device_encoder.transform(phone_brand_device_model.device_model)"
   ]
  },
  {
   "cell_type": "code",
   "execution_count": 5,
   "metadata": {
    "collapsed": false
   },
   "outputs": [
    {
     "name": "stdout",
     "output_type": "stream",
     "text": [
      "131\n",
      "1599\n"
     ]
    }
   ],
   "source": [
    "print(len(brand_encoder.classes_))\n",
    "print(len(device_encoder.classes_))"
   ]
  },
  {
   "cell_type": "code",
   "execution_count": 6,
   "metadata": {
    "collapsed": true
   },
   "outputs": [],
   "source": [
    "gender_age_train['trainrow'] = np.arange(gender_age_train.shape[0])"
   ]
  },
  {
   "cell_type": "code",
   "execution_count": 7,
   "metadata": {
    "collapsed": true
   },
   "outputs": [],
   "source": [
    "result = phone_brand_device_model.merge(gender_age_train[['trainrow']], left_index=True, right_index=True, how='left')\n",
    "result.dropna(subset=['trainrow'], inplace=True)"
   ]
  },
  {
   "cell_type": "code",
   "execution_count": 8,
   "metadata": {
    "collapsed": false
   },
   "outputs": [
    {
     "data": {
      "text/html": [
       "<div>\n",
       "<table border=\"1\" class=\"dataframe\">\n",
       "  <thead>\n",
       "    <tr style=\"text-align: right;\">\n",
       "      <th></th>\n",
       "      <th>phone_brand</th>\n",
       "      <th>device_model</th>\n",
       "      <th>brand_encode</th>\n",
       "      <th>device_encode</th>\n",
       "      <th>trainrow</th>\n",
       "    </tr>\n",
       "    <tr>\n",
       "      <th>device_id</th>\n",
       "      <th></th>\n",
       "      <th></th>\n",
       "      <th></th>\n",
       "      <th></th>\n",
       "      <th></th>\n",
       "    </tr>\n",
       "  </thead>\n",
       "  <tbody>\n",
       "    <tr>\n",
       "      <th>-8890648629457979026</th>\n",
       "      <td>小米</td>\n",
       "      <td>红米</td>\n",
       "      <td>51</td>\n",
       "      <td>1517</td>\n",
       "      <td>16873.0</td>\n",
       "    </tr>\n",
       "    <tr>\n",
       "      <th>1277779817574759137</th>\n",
       "      <td>小米</td>\n",
       "      <td>MI 2</td>\n",
       "      <td>51</td>\n",
       "      <td>749</td>\n",
       "      <td>72877.0</td>\n",
       "    </tr>\n",
       "    <tr>\n",
       "      <th>-5019277647504317457</th>\n",
       "      <td>三星</td>\n",
       "      <td>Galaxy Note 2</td>\n",
       "      <td>15</td>\n",
       "      <td>536</td>\n",
       "      <td>11537.0</td>\n",
       "    </tr>\n",
       "    <tr>\n",
       "      <th>3238009352149731868</th>\n",
       "      <td>华为</td>\n",
       "      <td>Mate</td>\n",
       "      <td>31</td>\n",
       "      <td>774</td>\n",
       "      <td>29664.0</td>\n",
       "    </tr>\n",
       "    <tr>\n",
       "      <th>-5827952925479472594</th>\n",
       "      <td>小米</td>\n",
       "      <td>MI One Plus</td>\n",
       "      <td>51</td>\n",
       "      <td>758</td>\n",
       "      <td>8233.0</td>\n",
       "    </tr>\n",
       "  </tbody>\n",
       "</table>\n",
       "</div>"
      ],
      "text/plain": [
       "                     phone_brand   device_model  brand_encode  device_encode  \\\n",
       "device_id                                                                      \n",
       "-8890648629457979026          小米             红米            51           1517   \n",
       " 1277779817574759137          小米           MI 2            51            749   \n",
       "-5019277647504317457          三星  Galaxy Note 2            15            536   \n",
       " 3238009352149731868          华为           Mate            31            774   \n",
       "-5827952925479472594          小米    MI One Plus            51            758   \n",
       "\n",
       "                      trainrow  \n",
       "device_id                       \n",
       "-8890648629457979026   16873.0  \n",
       " 1277779817574759137   72877.0  \n",
       "-5019277647504317457   11537.0  \n",
       " 3238009352149731868   29664.0  \n",
       "-5827952925479472594    8233.0  "
      ]
     },
     "execution_count": 8,
     "metadata": {},
     "output_type": "execute_result"
    }
   ],
   "source": [
    "result.head()"
   ]
  },
  {
   "cell_type": "code",
   "execution_count": 9,
   "metadata": {
    "collapsed": false
   },
   "outputs": [],
   "source": [
    "from scipy.sparse import csr_matrix, hstack\n",
    "brand_train = csr_matrix((\n",
    "        np.ones(result.shape[0]), \n",
    "        (result.trainrow, result.brand_encode)), \n",
    "        shape=(gender_age_train.shape[0], len(brand_encoder.classes_)))"
   ]
  },
  {
   "cell_type": "code",
   "execution_count": 10,
   "metadata": {
    "collapsed": true
   },
   "outputs": [],
   "source": [
    "device_train = csr_matrix((\n",
    "        np.ones(result.shape[0]),\n",
    "        (result.trainrow, result.device_encode)),\n",
    "        shape=(gender_age_train.shape[0], len(device_encoder.classes_)))"
   ]
  },
  {
   "cell_type": "code",
   "execution_count": 32,
   "metadata": {
    "collapsed": false
   },
   "outputs": [],
   "source": [
    "np.savez('intermediates/brand_train', \\\n",
    "         data = brand_train.data, \\\n",
    "         indices = brand_train.indices, \\\n",
    "         indptr = brand_train.indptr,)"
   ]
  },
  {
   "cell_type": "code",
   "execution_count": 33,
   "metadata": {
    "collapsed": false,
    "scrolled": true
   },
   "outputs": [],
   "source": [
    "np.savez('intermediates/device_train', \\\n",
    "         data=device_train.data, \\\n",
    "         indices=device_train.indices, \\\n",
    "         indptr=device_train.indptr)"
   ]
  }
 ],
 "metadata": {
  "kernelspec": {
   "display_name": "Python 3",
   "language": "python",
   "name": "python3"
  },
  "language_info": {
   "codemirror_mode": {
    "name": "ipython",
    "version": 3
   },
   "file_extension": ".py",
   "mimetype": "text/x-python",
   "name": "python",
   "nbconvert_exporter": "python",
   "pygments_lexer": "ipython3",
   "version": "3.5.2"
  }
 },
 "nbformat": 4,
 "nbformat_minor": 0
}
