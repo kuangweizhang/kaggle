{
 "cells": [
  {
   "cell_type": "code",
   "execution_count": 2,
   "metadata": {
    "collapsed": true
   },
   "outputs": [],
   "source": [
    "#Create one hot sparse matrix for app installed and app label"
   ]
  },
  {
   "cell_type": "code",
   "execution_count": 3,
   "metadata": {
    "collapsed": false
   },
   "outputs": [],
   "source": [
    "%matplotlib inline\n",
    "\n",
    "import matplotlib\n",
    "import matplotlib.pyplot as plt\n",
    "import numpy as np\n",
    "import pandas as pd\n",
    "\n",
    "app_events = pd.read_csv('./input/app_events.csv', \\\n",
    "                         usecols=['event_id', 'app_id', 'is_active'], \\\n",
    "                         dtype={'is_active':bool})\n",
    "app_labels = pd.read_csv('./input/app_labels.csv', index_col='app_id')\n",
    "events = pd.read_csv('./input/events.csv', index_col='event_id')\n",
    "#gender_age_test = pd.read_csv('./input/gender_age_test.csv', index_col='device_id')\n",
    "gender_age_train = pd.read_csv('./input/gender_age_train.csv', index_col='device_id')\n",
    "#label_categories = pd.read_csv('./input/label_categories.csv', index_col='label_id')"
   ]
  },
  {
   "cell_type": "code",
   "execution_count": 4,
   "metadata": {
    "collapsed": false
   },
   "outputs": [
    {
     "name": "stdout",
     "output_type": "stream",
     "text": [
      "Number of apps 19237\n"
     ]
    }
   ],
   "source": [
    "from sklearn.preprocessing import LabelEncoder\n",
    "\n",
    "app_encoder = LabelEncoder().fit(app_events.app_id)\n",
    "app_events['app_id_encode'] = app_encoder.transform(app_events.app_id)\n",
    "print(\"Number of apps\", len(app_encoder.classes_))"
   ]
  },
  {
   "cell_type": "code",
   "execution_count": 5,
   "metadata": {
    "collapsed": false
   },
   "outputs": [],
   "source": [
    "gender_age_train['trainrow'] = np.arange(len(gender_age_train.index))"
   ]
  },
  {
   "cell_type": "code",
   "execution_count": 6,
   "metadata": {
    "collapsed": false
   },
   "outputs": [
    {
     "data": {
      "text/html": [
       "<div>\n",
       "<table border=\"1\" class=\"dataframe\">\n",
       "  <thead>\n",
       "    <tr style=\"text-align: right;\">\n",
       "      <th></th>\n",
       "      <th>gender</th>\n",
       "      <th>age</th>\n",
       "      <th>group</th>\n",
       "      <th>trainrow</th>\n",
       "    </tr>\n",
       "    <tr>\n",
       "      <th>device_id</th>\n",
       "      <th></th>\n",
       "      <th></th>\n",
       "      <th></th>\n",
       "      <th></th>\n",
       "    </tr>\n",
       "  </thead>\n",
       "  <tbody>\n",
       "    <tr>\n",
       "      <th>-8076087639492063270</th>\n",
       "      <td>M</td>\n",
       "      <td>35</td>\n",
       "      <td>M32-38</td>\n",
       "      <td>0</td>\n",
       "    </tr>\n",
       "    <tr>\n",
       "      <th>-2897161552818060146</th>\n",
       "      <td>M</td>\n",
       "      <td>35</td>\n",
       "      <td>M32-38</td>\n",
       "      <td>1</td>\n",
       "    </tr>\n",
       "    <tr>\n",
       "      <th>-8260683887967679142</th>\n",
       "      <td>M</td>\n",
       "      <td>35</td>\n",
       "      <td>M32-38</td>\n",
       "      <td>2</td>\n",
       "    </tr>\n",
       "    <tr>\n",
       "      <th>-4938849341048082022</th>\n",
       "      <td>M</td>\n",
       "      <td>30</td>\n",
       "      <td>M29-31</td>\n",
       "      <td>3</td>\n",
       "    </tr>\n",
       "    <tr>\n",
       "      <th>245133531816851882</th>\n",
       "      <td>M</td>\n",
       "      <td>30</td>\n",
       "      <td>M29-31</td>\n",
       "      <td>4</td>\n",
       "    </tr>\n",
       "  </tbody>\n",
       "</table>\n",
       "</div>"
      ],
      "text/plain": [
       "                     gender  age   group  trainrow\n",
       "device_id                                         \n",
       "-8076087639492063270      M   35  M32-38         0\n",
       "-2897161552818060146      M   35  M32-38         1\n",
       "-8260683887967679142      M   35  M32-38         2\n",
       "-4938849341048082022      M   30  M29-31         3\n",
       " 245133531816851882       M   30  M29-31         4"
      ]
     },
     "execution_count": 6,
     "metadata": {},
     "output_type": "execute_result"
    }
   ],
   "source": [
    "gender_age_train.head()"
   ]
  },
  {
   "cell_type": "code",
   "execution_count": 7,
   "metadata": {
    "collapsed": false
   },
   "outputs": [],
   "source": [
    "result = app_events\\\n",
    "        .merge(events[['device_id']], \\\n",
    "                 how='left', \\\n",
    "                 left_on=\"event_id\", \\\n",
    "                 right_index=True) \\\n",
    "        .merge(gender_age_train[['trainrow']],\\\n",
    "               how=\"right\",\\\n",
    "               left_on='device_id',\\\n",
    "               right_index=True) \\\n",
    "        .groupby(['trainrow','app_id_encode'])['app_id_encode'].agg(['size']) \\\n",
    "        .reset_index()"
   ]
  },
  {
   "cell_type": "code",
   "execution_count": 8,
   "metadata": {
    "collapsed": false
   },
   "outputs": [],
   "source": [
    "result.app_id_encode = result.app_id_encode.astype(np.int64)"
   ]
  },
  {
   "cell_type": "code",
   "execution_count": 9,
   "metadata": {
    "collapsed": false,
    "scrolled": true
   },
   "outputs": [
    {
     "data": {
      "text/html": [
       "<div>\n",
       "<table border=\"1\" class=\"dataframe\">\n",
       "  <thead>\n",
       "    <tr style=\"text-align: right;\">\n",
       "      <th></th>\n",
       "      <th>trainrow</th>\n",
       "      <th>app_id_encode</th>\n",
       "      <th>size</th>\n",
       "    </tr>\n",
       "  </thead>\n",
       "  <tbody>\n",
       "    <tr>\n",
       "      <th>0</th>\n",
       "      <td>2</td>\n",
       "      <td>135</td>\n",
       "      <td>1</td>\n",
       "    </tr>\n",
       "    <tr>\n",
       "      <th>1</th>\n",
       "      <td>2</td>\n",
       "      <td>267</td>\n",
       "      <td>1</td>\n",
       "    </tr>\n",
       "    <tr>\n",
       "      <th>2</th>\n",
       "      <td>2</td>\n",
       "      <td>317</td>\n",
       "      <td>1</td>\n",
       "    </tr>\n",
       "    <tr>\n",
       "      <th>3</th>\n",
       "      <td>2</td>\n",
       "      <td>526</td>\n",
       "      <td>1</td>\n",
       "    </tr>\n",
       "    <tr>\n",
       "      <th>4</th>\n",
       "      <td>2</td>\n",
       "      <td>974</td>\n",
       "      <td>1</td>\n",
       "    </tr>\n",
       "  </tbody>\n",
       "</table>\n",
       "</div>"
      ],
      "text/plain": [
       "   trainrow  app_id_encode  size\n",
       "0         2            135     1\n",
       "1         2            267     1\n",
       "2         2            317     1\n",
       "3         2            526     1\n",
       "4         2            974     1"
      ]
     },
     "execution_count": 9,
     "metadata": {},
     "output_type": "execute_result"
    }
   ],
   "source": [
    "result.head()"
   ]
  },
  {
   "cell_type": "code",
   "execution_count": 10,
   "metadata": {
    "collapsed": false
   },
   "outputs": [],
   "source": [
    "from scipy.sparse import csr_matrix, hstack\n",
    "apps_train = csr_matrix((\n",
    "        np.ones(result.shape[0]), \n",
    "        (result.trainrow, result.app_id_encode)), \n",
    "        shape=(gender_age_train.shape[0],len(app_encoder.classes_)))"
   ]
  },
  {
   "cell_type": "code",
   "execution_count": 11,
   "metadata": {
    "collapsed": false
   },
   "outputs": [],
   "source": [
    "np.savez('intermediates/apps_train', \\\n",
    "         data = apps_train.data, \\\n",
    "         indices = apps_train.indices, \\\n",
    "         indptr = apps_train.indptr,)"
   ]
  },
  {
   "cell_type": "code",
   "execution_count": 12,
   "metadata": {
    "collapsed": true
   },
   "outputs": [],
   "source": [
    "### Process app labels here"
   ]
  },
  {
   "cell_type": "code",
   "execution_count": 13,
   "metadata": {
    "collapsed": false
   },
   "outputs": [
    {
     "data": {
      "text/html": [
       "<div>\n",
       "<table border=\"1\" class=\"dataframe\">\n",
       "  <thead>\n",
       "    <tr style=\"text-align: right;\">\n",
       "      <th></th>\n",
       "      <th>label_id</th>\n",
       "    </tr>\n",
       "    <tr>\n",
       "      <th>app_id</th>\n",
       "      <th></th>\n",
       "    </tr>\n",
       "  </thead>\n",
       "  <tbody>\n",
       "    <tr>\n",
       "      <th>7324884708820027918</th>\n",
       "      <td>251</td>\n",
       "    </tr>\n",
       "    <tr>\n",
       "      <th>-4494216993218550286</th>\n",
       "      <td>251</td>\n",
       "    </tr>\n",
       "    <tr>\n",
       "      <th>6058196446775239644</th>\n",
       "      <td>406</td>\n",
       "    </tr>\n",
       "    <tr>\n",
       "      <th>6058196446775239644</th>\n",
       "      <td>407</td>\n",
       "    </tr>\n",
       "    <tr>\n",
       "      <th>8694625920731541625</th>\n",
       "      <td>406</td>\n",
       "    </tr>\n",
       "  </tbody>\n",
       "</table>\n",
       "</div>"
      ],
      "text/plain": [
       "                      label_id\n",
       "app_id                        \n",
       " 7324884708820027918       251\n",
       "-4494216993218550286       251\n",
       " 6058196446775239644       406\n",
       " 6058196446775239644       407\n",
       " 8694625920731541625       406"
      ]
     },
     "execution_count": 13,
     "metadata": {},
     "output_type": "execute_result"
    }
   ],
   "source": [
    "app_labels.head()"
   ]
  },
  {
   "cell_type": "code",
   "execution_count": 14,
   "metadata": {
    "collapsed": false
   },
   "outputs": [
    {
     "name": "stdout",
     "output_type": "stream",
     "text": [
      "Numbers of label id 492\n"
     ]
    }
   ],
   "source": [
    "# Some of the app ids in app_labels are not in app_event\n",
    "app_labels = app_labels.loc[app_labels.index.isin(app_events.app_id.unique())]\n",
    "label_id_encoder = LabelEncoder().fit(app_labels.label_id)\n",
    "app_labels['label_id_encode'] = label_id_encoder.transform(app_labels.label_id)\n",
    "app_labels['app_id_encode'] = app_encoder.transform(app_labels.index)\n",
    "print(\"Numbers of label id\", len(label_id_encoder.classes_))"
   ]
  },
  {
   "cell_type": "code",
   "execution_count": 15,
   "metadata": {
    "collapsed": false
   },
   "outputs": [
    {
     "data": {
      "text/html": [
       "<div>\n",
       "<table border=\"1\" class=\"dataframe\">\n",
       "  <thead>\n",
       "    <tr style=\"text-align: right;\">\n",
       "      <th></th>\n",
       "      <th>label_id</th>\n",
       "      <th>label_id_encode</th>\n",
       "      <th>app_id_encode</th>\n",
       "    </tr>\n",
       "    <tr>\n",
       "      <th>app_id</th>\n",
       "      <th></th>\n",
       "      <th></th>\n",
       "      <th></th>\n",
       "    </tr>\n",
       "  </thead>\n",
       "  <tbody>\n",
       "    <tr>\n",
       "      <th>7324884708820027918</th>\n",
       "      <td>251</td>\n",
       "      <td>207</td>\n",
       "      <td>17355</td>\n",
       "    </tr>\n",
       "    <tr>\n",
       "      <th>-4494216993218550286</th>\n",
       "      <td>251</td>\n",
       "      <td>207</td>\n",
       "      <td>4618</td>\n",
       "    </tr>\n",
       "    <tr>\n",
       "      <th>6058196446775239644</th>\n",
       "      <td>406</td>\n",
       "      <td>247</td>\n",
       "      <td>15548</td>\n",
       "    </tr>\n",
       "    <tr>\n",
       "      <th>6058196446775239644</th>\n",
       "      <td>407</td>\n",
       "      <td>248</td>\n",
       "      <td>15548</td>\n",
       "    </tr>\n",
       "    <tr>\n",
       "      <th>8694625920731541625</th>\n",
       "      <td>406</td>\n",
       "      <td>247</td>\n",
       "      <td>18689</td>\n",
       "    </tr>\n",
       "  </tbody>\n",
       "</table>\n",
       "</div>"
      ],
      "text/plain": [
       "                      label_id  label_id_encode  app_id_encode\n",
       "app_id                                                        \n",
       " 7324884708820027918       251              207          17355\n",
       "-4494216993218550286       251              207           4618\n",
       " 6058196446775239644       406              247          15548\n",
       " 6058196446775239644       407              248          15548\n",
       " 8694625920731541625       406              247          18689"
      ]
     },
     "execution_count": 15,
     "metadata": {},
     "output_type": "execute_result"
    }
   ],
   "source": [
    "app_labels.head()"
   ]
  },
  {
   "cell_type": "code",
   "execution_count": 16,
   "metadata": {
    "collapsed": false,
    "scrolled": true
   },
   "outputs": [],
   "source": [
    "app_label_result = result.merge(app_labels[['label_id_encode','app_id_encode']], \\\n",
    "                                how='left',\\\n",
    "                                left_on='app_id_encode',\\\n",
    "                                right_on='app_id_encode')\\\n",
    "                        .groupby(['trainrow','label_id_encode'])['label_id_encode'].agg(['size'])\\\n",
    "                        .reset_index()\n",
    "    "
   ]
  },
  {
   "cell_type": "code",
   "execution_count": 17,
   "metadata": {
    "collapsed": false
   },
   "outputs": [
    {
     "data": {
      "text/html": [
       "<div>\n",
       "<table border=\"1\" class=\"dataframe\">\n",
       "  <thead>\n",
       "    <tr style=\"text-align: right;\">\n",
       "      <th></th>\n",
       "      <th>trainrow</th>\n",
       "      <th>label_id_encode</th>\n",
       "      <th>size</th>\n",
       "    </tr>\n",
       "  </thead>\n",
       "  <tbody>\n",
       "    <tr>\n",
       "      <th>0</th>\n",
       "      <td>2</td>\n",
       "      <td>10</td>\n",
       "      <td>1</td>\n",
       "    </tr>\n",
       "    <tr>\n",
       "      <th>1</th>\n",
       "      <td>2</td>\n",
       "      <td>63</td>\n",
       "      <td>1</td>\n",
       "    </tr>\n",
       "    <tr>\n",
       "      <th>2</th>\n",
       "      <td>2</td>\n",
       "      <td>100</td>\n",
       "      <td>3</td>\n",
       "    </tr>\n",
       "    <tr>\n",
       "      <th>3</th>\n",
       "      <td>2</td>\n",
       "      <td>101</td>\n",
       "      <td>2</td>\n",
       "    </tr>\n",
       "    <tr>\n",
       "      <th>4</th>\n",
       "      <td>2</td>\n",
       "      <td>102</td>\n",
       "      <td>1</td>\n",
       "    </tr>\n",
       "  </tbody>\n",
       "</table>\n",
       "</div>"
      ],
      "text/plain": [
       "   trainrow  label_id_encode  size\n",
       "0         2               10     1\n",
       "1         2               63     1\n",
       "2         2              100     3\n",
       "3         2              101     2\n",
       "4         2              102     1"
      ]
     },
     "execution_count": 17,
     "metadata": {},
     "output_type": "execute_result"
    }
   ],
   "source": [
    "app_label_result.head()"
   ]
  },
  {
   "cell_type": "code",
   "execution_count": 18,
   "metadata": {
    "collapsed": true
   },
   "outputs": [],
   "source": [
    "apps_label_train = csr_matrix((\n",
    "        np.ones(app_label_result.shape[0]), \n",
    "        (app_label_result.trainrow, app_label_result.label_id_encode)), \n",
    "        shape=(gender_age_train.shape[0],len(label_id_encoder.classes_)))"
   ]
  },
  {
   "cell_type": "code",
   "execution_count": 19,
   "metadata": {
    "collapsed": true
   },
   "outputs": [],
   "source": [
    "np.savez('intermediates/label_train', \\\n",
    "         data = apps_label_train.data, \\\n",
    "         indices = apps_label_train.indices, \\\n",
    "         indptr = apps_label_train.indptr,)"
   ]
  }
 ],
 "metadata": {
  "anaconda-cloud": {},
  "kernelspec": {
   "display_name": "Python 3",
   "language": "python",
   "name": "python3"
  },
  "language_info": {
   "codemirror_mode": {
    "name": "ipython",
    "version": 3
   },
   "file_extension": ".py",
   "mimetype": "text/x-python",
   "name": "python",
   "nbconvert_exporter": "python",
   "pygments_lexer": "ipython3",
   "version": "3.5.2"
  }
 },
 "nbformat": 4,
 "nbformat_minor": 0
}
