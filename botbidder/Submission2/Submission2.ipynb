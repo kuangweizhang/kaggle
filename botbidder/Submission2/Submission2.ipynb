{
 "cells": [
  {
   "cell_type": "code",
   "execution_count": 1,
   "metadata": {
    "collapsed": true
   },
   "outputs": [],
   "source": [
    "import matplotlib\n",
    "import matplotlib.pyplot as plt\n",
    "import numpy as np\n",
    "import pandas as pd\n",
    "bids = pd.read_csv('./../data/bids.csv')\n",
    "train = pd.read_csv('./../data/train.csv')\n",
    "test = pd.read_csv('./../data/test.csv')\n",
    "sample_submission = pd.read_csv('./../sampleSubmission.csv')"
   ]
  },
  {
   "cell_type": "code",
   "execution_count": 2,
   "metadata": {
    "collapsed": false
   },
   "outputs": [
    {
     "data": {
      "text/html": [
       "<div>\n",
       "<table border=\"1\" class=\"dataframe\">\n",
       "  <thead>\n",
       "    <tr style=\"text-align: right;\">\n",
       "      <th></th>\n",
       "      <th>bid_id</th>\n",
       "      <th>bidder_id</th>\n",
       "      <th>auction</th>\n",
       "      <th>merchandise</th>\n",
       "      <th>device</th>\n",
       "      <th>time</th>\n",
       "      <th>country</th>\n",
       "      <th>ip</th>\n",
       "      <th>url</th>\n",
       "    </tr>\n",
       "  </thead>\n",
       "  <tbody>\n",
       "    <tr>\n",
       "      <th>0</th>\n",
       "      <td>0</td>\n",
       "      <td>8dac2b259fd1c6d1120e519fb1ac14fbqvax8</td>\n",
       "      <td>ewmzr</td>\n",
       "      <td>jewelry</td>\n",
       "      <td>phone0</td>\n",
       "      <td>9759243157894736</td>\n",
       "      <td>us</td>\n",
       "      <td>69.166.231.58</td>\n",
       "      <td>vasstdc27m7nks3</td>\n",
       "    </tr>\n",
       "    <tr>\n",
       "      <th>1</th>\n",
       "      <td>1</td>\n",
       "      <td>668d393e858e8126275433046bbd35c6tywop</td>\n",
       "      <td>aeqok</td>\n",
       "      <td>furniture</td>\n",
       "      <td>phone1</td>\n",
       "      <td>9759243157894736</td>\n",
       "      <td>in</td>\n",
       "      <td>50.201.125.84</td>\n",
       "      <td>jmqlhflrzwuay9c</td>\n",
       "    </tr>\n",
       "    <tr>\n",
       "      <th>2</th>\n",
       "      <td>2</td>\n",
       "      <td>aa5f360084278b35d746fa6af3a7a1a5ra3xe</td>\n",
       "      <td>wa00e</td>\n",
       "      <td>home goods</td>\n",
       "      <td>phone2</td>\n",
       "      <td>9759243157894736</td>\n",
       "      <td>py</td>\n",
       "      <td>112.54.208.157</td>\n",
       "      <td>vasstdc27m7nks3</td>\n",
       "    </tr>\n",
       "    <tr>\n",
       "      <th>3</th>\n",
       "      <td>3</td>\n",
       "      <td>3939ac3ef7d472a59a9c5f893dd3e39fh9ofi</td>\n",
       "      <td>jefix</td>\n",
       "      <td>jewelry</td>\n",
       "      <td>phone4</td>\n",
       "      <td>9759243157894736</td>\n",
       "      <td>in</td>\n",
       "      <td>18.99.175.133</td>\n",
       "      <td>vasstdc27m7nks3</td>\n",
       "    </tr>\n",
       "    <tr>\n",
       "      <th>4</th>\n",
       "      <td>4</td>\n",
       "      <td>8393c48eaf4b8fa96886edc7cf27b372dsibi</td>\n",
       "      <td>jefix</td>\n",
       "      <td>jewelry</td>\n",
       "      <td>phone5</td>\n",
       "      <td>9759243157894736</td>\n",
       "      <td>in</td>\n",
       "      <td>145.138.5.37</td>\n",
       "      <td>vasstdc27m7nks3</td>\n",
       "    </tr>\n",
       "  </tbody>\n",
       "</table>\n",
       "</div>"
      ],
      "text/plain": [
       "   bid_id                              bidder_id auction merchandise  device  \\\n",
       "0       0  8dac2b259fd1c6d1120e519fb1ac14fbqvax8   ewmzr     jewelry  phone0   \n",
       "1       1  668d393e858e8126275433046bbd35c6tywop   aeqok   furniture  phone1   \n",
       "2       2  aa5f360084278b35d746fa6af3a7a1a5ra3xe   wa00e  home goods  phone2   \n",
       "3       3  3939ac3ef7d472a59a9c5f893dd3e39fh9ofi   jefix     jewelry  phone4   \n",
       "4       4  8393c48eaf4b8fa96886edc7cf27b372dsibi   jefix     jewelry  phone5   \n",
       "\n",
       "               time country              ip              url  \n",
       "0  9759243157894736      us   69.166.231.58  vasstdc27m7nks3  \n",
       "1  9759243157894736      in   50.201.125.84  jmqlhflrzwuay9c  \n",
       "2  9759243157894736      py  112.54.208.157  vasstdc27m7nks3  \n",
       "3  9759243157894736      in   18.99.175.133  vasstdc27m7nks3  \n",
       "4  9759243157894736      in    145.138.5.37  vasstdc27m7nks3  "
      ]
     },
     "execution_count": 2,
     "metadata": {},
     "output_type": "execute_result"
    }
   ],
   "source": [
    "bids.head()"
   ]
  },
  {
   "cell_type": "code",
   "execution_count": 3,
   "metadata": {
    "collapsed": true
   },
   "outputs": [],
   "source": [
    "#Existing features\n",
    "\n",
    "# N bids\n",
    "bidder_df = pd.DataFrame(bids.bidder_id.unique(), columns=['bidder_id'])\n",
    "bidder_df = bidder_df.merge(bids.groupby(['bidder_id'])['bid_id'].count().to_frame(), how='left', \\\n",
    "                            right_index=True, left_on='bidder_id')\n",
    "bidder_df=bidder_df.rename(columns = {'bid_id':'n_bids'})\n",
    "\n",
    "# N device\n",
    "bidder_df = bidder_df.merge(bids.groupby(['bidder_id'])['device'].nunique().to_frame(), how='left', right_index=True, left_on='bidder_id')\n",
    "bidder_df=bidder_df.rename(columns = {'device':'n_device'})\n",
    "\n",
    "# N auctions\n",
    "bidder_df = bidder_df.merge(bids.groupby(['bidder_id'])['auction'].nunique().to_frame(), how='left', right_index=True, left_on='bidder_id')\n",
    "bidder_df=bidder_df.rename(columns = {'auction':'n_auction'})\n",
    "\n",
    "# N countries\n",
    "bidder_df = bidder_df.merge(bids.groupby(['bidder_id'])['country'].nunique().to_frame(), how='left', right_index=True, left_on='bidder_id')\n",
    "bidder_df=bidder_df.rename(columns = {'country':'n_country'})\n",
    "\n",
    "# N ips\n",
    "bidder_df = bidder_df.merge(bids.groupby(['bidder_id'])['ip'].nunique().to_frame(), how='left', right_index=True, left_on='bidder_id')\n",
    "bidder_df=bidder_df.rename(columns = {'ip':'n_ip'})"
   ]
  },
  {
   "cell_type": "code",
   "execution_count": 4,
   "metadata": {
    "collapsed": false,
    "scrolled": true
   },
   "outputs": [],
   "source": [
    "# New features\n",
    "\n",
    "# Average N bids per auction and Std of N bids per auction\n",
    "def value_counts_avg(x):\n",
    "    return x.value_counts().mean()\n",
    "\n",
    "def value_counts_std(x):\n",
    "    return x.value_counts().std()\n",
    "\n",
    "bidder_df = bidder_df.merge(bids.groupby(['bidder_id'])['auction'].agg([value_counts_avg, value_counts_std]), \\\n",
    "                                         how='left', right_index=True, left_on='bidder_id')\n",
    "bidder_df = bidder_df.rename(columns = {'value_counts_avg':'auction_value_counts_avg'})\n",
    "bidder_df = bidder_df.rename(columns = {'value_counts_std':'auction_value_counts_std'})\n"
   ]
  },
  {
   "cell_type": "code",
   "execution_count": 5,
   "metadata": {
    "collapsed": false,
    "scrolled": true
   },
   "outputs": [],
   "source": [
    "# Average N device per auction and Std of N device per auction\n",
    "\n",
    "df_tmp = bids.groupby(['bidder_id','auction'])['device'].nunique().to_frame().reset_index(level=0).groupby(['bidder_id']).mean()\n",
    "bidder_df = bidder_df.merge(df_tmp, how='left', right_index=True, left_on='bidder_id')\n",
    "bidder_df=bidder_df.rename(columns = {'device':'n_device_per_auction'})\n",
    "\n",
    "df_tmp = bids.groupby(['bidder_id','auction'])['device'].nunique().to_frame().reset_index(level=0).groupby(['bidder_id']).std()\n",
    "bidder_df = bidder_df.merge(df_tmp, how='left', right_index=True, left_on='bidder_id')\n",
    "bidder_df=bidder_df.rename(columns = {'device':'std_device_per_auction'})\n",
    "\n",
    "df_tmp = None"
   ]
  },
  {
   "cell_type": "code",
   "execution_count": 6,
   "metadata": {
    "collapsed": true
   },
   "outputs": [],
   "source": [
    "# Average N country per auction and Std of N country per auction\n",
    "\n",
    "df_tmp = bids.groupby(['bidder_id','auction'])['country'].nunique().to_frame().reset_index(level=0).groupby(['bidder_id']).mean()\n",
    "bidder_df = bidder_df.merge(df_tmp, how='left', right_index=True, left_on='bidder_id')\n",
    "bidder_df=bidder_df.rename(columns = {'country':'n_country_per_auction'})\n",
    "\n",
    "df_tmp = bids.groupby(['bidder_id','auction'])['country'].nunique().to_frame().reset_index(level=0).groupby(['bidder_id']).std()\n",
    "bidder_df = bidder_df.merge(df_tmp, how='left', right_index=True, left_on='bidder_id')\n",
    "bidder_df=bidder_df.rename(columns = {'country':'std_country_per_auction'})\n",
    "\n",
    "df_tmp = None"
   ]
  },
  {
   "cell_type": "code",
   "execution_count": 7,
   "metadata": {
    "collapsed": true
   },
   "outputs": [],
   "source": [
    "# Average N ip per auction and Std of N ip per auction\n",
    "\n",
    "df_tmp = bids.groupby(['bidder_id','auction'])['ip'].nunique().to_frame().reset_index(level=0).groupby(['bidder_id']).mean()\n",
    "bidder_df = bidder_df.merge(df_tmp, how='left', right_index=True, left_on='bidder_id')\n",
    "bidder_df=bidder_df.rename(columns = {'ip':'n_ip_per_auction'})\n",
    "\n",
    "df_tmp = bids.groupby(['bidder_id','auction'])['ip'].nunique().to_frame().reset_index(level=0).groupby(['bidder_id']).std()\n",
    "bidder_df = bidder_df.merge(df_tmp, how='left', right_index=True, left_on='bidder_id')\n",
    "bidder_df=bidder_df.rename(columns = {'ip':'std_ip_per_auction'})\n",
    "\n",
    "df_tmp = None"
   ]
  },
  {
   "cell_type": "code",
   "execution_count": 8,
   "metadata": {
    "collapsed": true
   },
   "outputs": [],
   "source": [
    "bidder_df.fillna(0, inplace=True)\n",
    "bidder_df = bidder_df.merge(train, how='left', on='bidder_id')\n",
    "from sklearn.model_selection import train_test_split\n",
    "bidder_df_train, bidder_df_validation = train_test_split(bidder_df[bidder_df.bidder_id.isin(train.bidder_id)],\\\n",
    "                                                         test_size=0.33, random_state=42)"
   ]
  },
  {
   "cell_type": "code",
   "execution_count": 9,
   "metadata": {
    "collapsed": true
   },
   "outputs": [],
   "source": [
    "from sklearn.svm import SVC\n",
    "feature_list = ['n_bids', 'n_device', 'n_auction', 'n_country', 'n_ip', 'auction_value_counts_avg', 'auction_value_counts_std', \\\n",
    "               'n_device_per_auction', 'std_device_per_auction', 'n_country_per_auction', 'std_country_per_auction', \\\n",
    "               'n_ip_per_auction', 'std_ip_per_auction']"
   ]
  },
  {
   "cell_type": "code",
   "execution_count": 10,
   "metadata": {
    "collapsed": false
   },
   "outputs": [
    {
     "name": "stdout",
     "output_type": "stream",
     "text": [
      "Adding feature:  auction_value_counts_avg\n",
      "0.829061289588\n",
      "Adding feature:  auction_value_counts_std\n",
      "0.828092959672\n",
      "Adding feature:  n_device_per_auction\n",
      "0.828434723172\n",
      "Adding feature:  std_device_per_auction\n",
      "0.828377762588\n",
      "Adding feature:  n_country_per_auction\n",
      "0.828320802005\n",
      "Adding feature:  std_country_per_auction\n",
      "0.828092959672\n",
      "Adding feature:  n_ip_per_auction\n",
      "0.829403053087\n",
      "Adding feature:  std_ip_per_auction\n",
      "0.827124629756\n"
     ]
    }
   ],
   "source": [
    "feature_list = ['n_bids', 'n_device', 'n_auction', 'n_country', 'n_ip']\n",
    "new_feature_list = ['auction_value_counts_avg', 'auction_value_counts_std', \\\n",
    "               'n_device_per_auction', 'std_device_per_auction', 'n_country_per_auction', 'std_country_per_auction', \\\n",
    "               'n_ip_per_auction', 'std_ip_per_auction']\n",
    "\n",
    "for feature in new_feature_list:\n",
    "    feature_select_list = feature_list.copy()\n",
    "    feature_select_list.append(feature)\n",
    "    print(\"Adding feature: \", feature)\n",
    "    clf = SVC(class_weight = 'balanced', probability=True)\n",
    "    clf.fit(bidder_df_train[feature_select_list], bidder_df_train.outcome)\n",
    "    from sklearn.metrics import roc_auc_score\n",
    "    result = clf.predict_proba(bidder_df_validation[feature_select_list])\n",
    "    print(roc_auc_score(bidder_df_validation.outcome, result[:, 1]))"
   ]
  },
  {
   "cell_type": "code",
   "execution_count": 11,
   "metadata": {
    "collapsed": false
   },
   "outputs": [
    {
     "name": "stdout",
     "output_type": "stream",
     "text": [
      "Base line: \n",
      "0.827238550923\n"
     ]
    }
   ],
   "source": [
    "print(\"Base line: \")\n",
    "clf = SVC(class_weight = 'balanced', probability=True)\n",
    "clf.fit(bidder_df_train[feature_list], bidder_df_train.outcome)\n",
    "\n",
    "result = clf.predict_proba(bidder_df_validation[feature_list])\n",
    "print(roc_auc_score(bidder_df_validation.outcome, result[:, 1]))"
   ]
  },
  {
   "cell_type": "code",
   "execution_count": 15,
   "metadata": {
    "collapsed": false
   },
   "outputs": [
    {
     "name": "stdout",
     "output_type": "stream",
     "text": [
      "0.822254499886\n"
     ]
    }
   ],
   "source": [
    "new_good_feature_list = ['auction_value_counts_avg', 'auction_value_counts_std', \\\n",
    "               'n_device_per_auction', 'std_device_per_auction', 'n_country_per_auction', 'std_country_per_auction', \\\n",
    "               'n_ip_per_auction']\n",
    "\n",
    "feature_select_list = feature_list.copy()\n",
    "feature_select_list.extend(new_good_feature_list)\n",
    "\n",
    "clf.fit(bidder_df_train[feature_select_list], bidder_df_train.outcome)\n",
    "\n",
    "result = clf.predict_proba(bidder_df_validation[feature_select_list])\n",
    "print(roc_auc_score(bidder_df_validation.outcome, result[:, 1]))"
   ]
  },
  {
   "cell_type": "code",
   "execution_count": 14,
   "metadata": {
    "collapsed": false
   },
   "outputs": [
    {
     "name": "stdout",
     "output_type": "stream",
     "text": [
      "0.830257461836\n"
     ]
    }
   ],
   "source": [
    "new_good_feature_list = ['auction_value_counts_avg', 'n_ip_per_auction']\n",
    "\n",
    "feature_select_list = feature_list.copy()\n",
    "feature_select_list.extend(new_good_feature_list)\n",
    "\n",
    "clf.fit(bidder_df_train[feature_select_list], bidder_df_train.outcome)\n",
    "\n",
    "result = clf.predict_proba(bidder_df_validation[feature_select_list])\n",
    "print(roc_auc_score(bidder_df_validation.outcome, result[:, 1]))"
   ]
  }
 ],
 "metadata": {
  "anaconda-cloud": {},
  "kernelspec": {
   "display_name": "Python [Root]",
   "language": "python",
   "name": "Python [Root]"
  },
  "language_info": {
   "codemirror_mode": {
    "name": "ipython",
    "version": 3
   },
   "file_extension": ".py",
   "mimetype": "text/x-python",
   "name": "python",
   "nbconvert_exporter": "python",
   "pygments_lexer": "ipython3",
   "version": "3.5.2"
  }
 },
 "nbformat": 4,
 "nbformat_minor": 0
}
